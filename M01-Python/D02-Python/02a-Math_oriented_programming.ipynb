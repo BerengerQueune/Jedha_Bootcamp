{
  "cells": [
    {
      "cell_type": "markdown",
      "metadata": {
        "colab_type": "text",
        "id": "ARXMbV_Vp5qc"
      },
      "source": [
        "# Mathematically Oriented Programming"
      ]
    },
    {
      "cell_type": "markdown",
      "metadata": {
        "colab_type": "text",
        "id": "1JYqlALqp73y"
      },
      "source": [
        "_Mathematics, in general, we don't like to do it. Especially when it involves repeating operations, over and over again. Let's be real lazy and create a class that will do the operations we want for us._"
      ]
    },
    {
      "cell_type": "markdown",
      "metadata": {
        "colab_type": "text",
        "id": "Lc3ol0PSp98l"
      },
      "source": [
        "1. _Create a class to be called \"math.\"_\n",
        "2. _This class will have no internal attributes, so you don't need to define an init() _\n",
        "3. _Create a method that will compute the square root of any number._\n",
        "4. _Create a method that will calculate the average of any list of numbers._\n",
        "5. _Create a method to find out if a number is even or odd_.\n",
        "6. _Finally, create a method that will give the total sum of a list of numbers._\n"
      ]
    },
    {
      "cell_type": "code",
      "execution_count": 1,
      "metadata": {
        "colab": {
          "base_uri": "https://localhost:8080/",
          "height": 104
        },
        "colab_type": "code",
        "id": "xFLBlgj1pndw",
        "outputId": "44506b62-75cb-416a-895e-848ef632a530"
      },
      "outputs": [],
      "source": [
        "class Math():\n",
        "  \n",
        "    def square_root(self, number):\n",
        "        print (\"the square root of\", number, \"is\", number ** 0.5)\n",
        "    \n",
        "    def average_list(self, lst):\n",
        "        print (\"the average of \", end =\"\")\n",
        "        for i, item in enumerate(lst):          \n",
        "            if i == (len(lst)-2):\n",
        "                print (item, end=\"\")\n",
        "                print (\" and \", end =\"\")\n",
        "            elif i == (len(lst)-1):\n",
        "                print (item, end=\" \")\n",
        "            else:\n",
        "                print (item, end=\"\")\n",
        "                print (\", \", end=\"\")\n",
        "        print (\"is\", (sum(lst) / len(lst)))\n",
        "\n",
        "    \n",
        "    def odd_or_not(self, oddOrNot):\n",
        "        if (oddOrNot % 2) == 0:\n",
        "            return f\"{oddOrNot} is even\"\n",
        "        else:\n",
        "            return f\"{oddOrNot} is odd\"\n",
        "    \n",
        "    def sum_list(self, lst):\n",
        "        return f\"the sum of {', '.join([str(i) for i in lst])} is {sum(lst)}\"   "
      ]
    },
    {
      "cell_type": "code",
      "execution_count": 4,
      "metadata": {},
      "outputs": [
        {
          "name": "stdout",
          "output_type": "stream",
          "text": [
            "the square root of 9 is 3.0\n",
            "the average of 10, 30, 20 and 10 is 17.5\n",
            "4 is even\n",
            "11 is odd\n",
            "the sum of 10, 30, 10, 40, 20 is 110\n"
          ]
        }
      ],
      "source": [
        "my_math = Math()\n",
        "\n",
        "my_math.square_root(9)\n",
        "\n",
        "lst1 = [10, 30, 20, 10]\n",
        "\n",
        "my_math.average_list(lst1)\n",
        "\n",
        "print (my_math.odd_or_not(4))\n",
        "\n",
        "print (my_math.odd_or_not(11))\n",
        "\n",
        "lst2 = [10, 30, 10, 40, 20]\n",
        "\n",
        "print (my_math.sum_list(lst2))"
      ]
    }
  ],
  "metadata": {
    "colab": {
      "name": "Programmation Orientée Mathématiques - Exercice S1-3.ipynb",
      "provenance": [],
      "version": "0.3.2"
    },
    "kernelspec": {
      "display_name": "Python 3",
      "name": "python3"
    },
    "language_info": {
      "codemirror_mode": {
        "name": "ipython",
        "version": 3
      },
      "file_extension": ".py",
      "mimetype": "text/x-python",
      "name": "python",
      "nbconvert_exporter": "python",
      "pygments_lexer": "ipython3",
      "version": "3.8.12"
    }
  },
  "nbformat": 4,
  "nbformat_minor": 0
}
