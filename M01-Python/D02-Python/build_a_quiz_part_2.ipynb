{
 "cells": [
  {
   "cell_type": "markdown",
   "metadata": {},
   "source": [
    "# Build a quiz - Part 2\n",
    "\n",
    "Below is the code we wrote yesterday, that asks three questions to the user and allows up to 3 wrong answers :"
   ]
  },
  {
   "cell_type": "code",
   "execution_count": null,
   "metadata": {},
   "outputs": [],
   "source": [
    "nb_de_chances = 3\n",
    "\n",
    "print(\"Voici notre quiz, tu as trois chances !\")\n",
    "\n",
    "if nb_de_chances > 0:\n",
    "    question1= input(\"Combien de fois la France a gagné la coupe du monde ? \")\n",
    "    while question1 != \"2\":\n",
    "        nb_de_chances -= 1\n",
    "        print(\"Dommage ! Il te reste {} chances\".format(nb_de_chances))\n",
    "        if nb_de_chances == 0:\n",
    "            print(\"Oh non ! Tu as perdu le jeu...\")\n",
    "            break\n",
    "        question1 = input(\"Combien de fois la France a gagné la coupe du monde ? \")\n",
    "\n",
    "if nb_de_chances > 0:\n",
    "    question2 = input(\"Quand a été fondé Apple ? \")\n",
    "    while question2 != \"1976\":\n",
    "        nb_de_chances -=1\n",
    "        print(\"Dommage ! Il te reste {} chances\".format(nb_de_chances))\n",
    "        if nb_de_chances == 0:\n",
    "            print(\"Oh non ! Tu as perdu le jeu...\")\n",
    "            break\n",
    "        question2 = input(\"Quand a été fondé Apple ? \")\n",
    "\n",
    "\n",
    "if nb_de_chances > 0:\n",
    "    question3 = input(\"Qui a fondé SpaceX ? \")\n",
    "    question3 = question3.lower()\n",
    "    while question3 != \"elon musk\":\n",
    "        nb_de_chances -=1\n",
    "        print(\"Dommage ! Il te reste {} chances\".format(nb_de_chances))\n",
    "        if nb_de_chances == 0:\n",
    "            print(\"Oh non ! Tu as perdu le jeu...\")\n",
    "            break\n",
    "        question3 = input(\"Qui a fondé SpaceX ? \")\n",
    "        question3 = question3.lower()\n",
    "\n",
    "if nb_de_chances > 0:\n",
    "    print(\"Bravo ! Tu as gagné le quiz !\")"
   ]
  },
  {
   "cell_type": "markdown",
   "metadata": {},
   "source": [
    "Let's refactor our quiz now that we know how to be dry.\n",
    "\n",
    "SPECs:\n",
    "\n",
    "Your code should be DRY\n",
    "You should use functions"
   ]
  },
  {
   "cell_type": "code",
   "execution_count": 1,
   "metadata": {},
   "outputs": [],
   "source": [
    "def quizz(lst):\n",
    "    currentQuestion = 0\n",
    "    currentAnswer = 1 \n",
    "    attempt = (len(lst)/2)\n",
    "    score = 0\n",
    "    while attempt > 0:\n",
    "        answer = input(lst[currentQuestion]).lower()\n",
    "        if answer == lst[currentAnswer]:\n",
    "            score += 1\n",
    "            if score == (len(lst)/2):\n",
    "                return print(f'Bravo ! Ta réponse \"{answer}\" est la bonne. Tu as gagné le quiz !')\n",
    "            currentQuestion +=2\n",
    "            currentAnswer +=2\n",
    "            print (f'You answered \"{answer}\" and this is correct. Good luck with the next question.')\n",
    "        else:\n",
    "            attempt -=1\n",
    "            print (f\"You answered {answer} but this is incorrect. Please try again. You have {attempt} attempts left.\")\n",
    "    return \"Oh non ! Tu as perdu le jeu...\"\n"
   ]
  },
  {
   "cell_type": "code",
   "execution_count": 2,
   "metadata": {},
   "outputs": [
    {
     "name": "stdout",
     "output_type": "stream",
     "text": [
      "You answered \"2\" and this is correct. Good luck with the next question.\n",
      "You answered 5 but this is incorrect. Please try again. You have 2.0 attempts left.\n",
      "You answered 6 but this is incorrect. Please try again. You have 1.0 attempts left.\n",
      "You answered 7 but this is incorrect. Please try again. You have 0.0 attempts left.\n"
     ]
    },
    {
     "data": {
      "text/plain": [
       "'Oh non ! Tu as perdu le jeu...'"
      ]
     },
     "execution_count": 2,
     "metadata": {},
     "output_type": "execute_result"
    }
   ],
   "source": [
    "questions = [\"Combien de fois la France a gagné la coupe du monde ?\", \"2\", \"Quand a été fondé Apple ?\", \"1976\", \"Qui a fondé SpaceX ?\", \"elon musk\"]\n",
    "\n",
    "quizz(questions)"
   ]
  }
 ],
 "metadata": {
  "interpreter": {
   "hash": "78b7e305d27bf9bc60ca6e97d3f20268b064d9f5fcf2d23d574a1486a0310c34"
  },
  "kernelspec": {
   "display_name": "Python 3.8.12 ('base')",
   "language": "python",
   "name": "python3"
  },
  "language_info": {
   "codemirror_mode": {
    "name": "ipython",
    "version": 3
   },
   "file_extension": ".py",
   "mimetype": "text/x-python",
   "name": "python",
   "nbconvert_exporter": "python",
   "pygments_lexer": "ipython3",
   "version": "3.8.12"
  },
  "orig_nbformat": 4
 },
 "nbformat": 4,
 "nbformat_minor": 2
}
