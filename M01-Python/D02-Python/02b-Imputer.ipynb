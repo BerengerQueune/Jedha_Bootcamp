{
  "cells": [
    {
      "cell_type": "markdown",
      "metadata": {
        "colab_type": "text",
        "id": "6cqYL_Y0rfoH"
      },
      "source": [
        "# Imputer"
      ]
    },
    {
      "cell_type": "markdown",
      "metadata": {
        "colab_type": "text",
        "id": "sB61JRG-rj6v"
      },
      "source": [
        "_In data science, it's common for there to be missing values in a dataset. Let's see how we can create a class that will allow us to replace this missing value by the average of the values in the list_"
      ]
    },
    {
      "cell_type": "markdown",
      "metadata": {
        "colab_type": "text",
        "id": "nvclKDGOrlV3"
      },
      "source": [
        "1. _Create a class that we will call Imputer_.\n",
        "2. _To simplify the exercise, we will only deal with lists for the moment._\n",
        "3. _Our class will take an attribute that we will call list_.\n",
        "4. _Create an avg() function that will first remove the missing value and then replace it with the average of the list._"
      ]
    },
    {
      "cell_type": "markdown",
      "metadata": {
        "colab_type": "text",
        "id": "bc7K3aMYr9uH"
      },
      "source": [
        "# OPTIONAL - Improve Imputer\n",
        "\n",
        "_We have created our Imputer class which works very well for replacing missing values with averages. But, couldn't we also use this class to replace with a median? Try to add a method in Imputer that will allow us to replace the list with either the average or the median._"
      ]
    },
    {
      "cell_type": "code",
      "execution_count": 1,
      "metadata": {
        "colab": {
          "base_uri": "https://localhost:8080/",
          "height": 86
        },
        "colab_type": "code",
        "id": "vWlNZ5nDrqPa",
        "outputId": "b80570c6-7d61-4ee6-8da0-deefadcf6f3e"
      },
      "outputs": [],
      "source": [
        "class Imputer():\n",
        "  \n",
        "    def __init__(self, this_list):\n",
        "        self.list = this_list\n",
        "    \n",
        "    def avg(self):\n",
        "        list_2 = [num for num in self.list if isinstance(num, (int,float))]\n",
        "        final_list = []\n",
        "        average = (sum(list_2) / len(list_2))\n",
        "        for i in self.list:\n",
        "            if i == None:\n",
        "                final_list.append(average)\n",
        "            else:\n",
        "                final_list.append(i)\n",
        "        \n",
        "        print (\"Here is a list :\", self.list)\n",
        "        print (\"Here is the list with the empty values replaced by the average value :\", final_list)\n",
        "\n",
        "    def median(self):\n",
        "        list_2 = [num for num in self.list if isinstance(num, (int,float))]\n",
        "        list_2.sort()\n",
        "        middle1 = (len(list_2) - 1) // 2\n",
        "        middle2 = len(list_2) // 2\n",
        "        middle3 = (list_2[middle1] + list_2[middle2]) / 2\n",
        "        final_list = []\n",
        "        for i in self.list:\n",
        "            if i == None:\n",
        "                final_list.append(middle3)\n",
        "            else:\n",
        "                final_list.append(i)\n",
        "        \n",
        "        print (\"Here is a list :\", self.list)\n",
        "        print (\"Here is the list with the empty values replaced by the median :\", final_list)\n",
        "\n"
      ]
    },
    {
      "cell_type": "code",
      "execution_count": 2,
      "metadata": {},
      "outputs": [
        {
          "name": "stdout",
          "output_type": "stream",
          "text": [
            "Here is a list : [None, 2, 4, 6, None]\n",
            "Here is the list with the empty values replaced by the average value : [4.0, 2, 4, 6, 4.0]\n",
            "Here is a list : [None, 2, 3, 12, 5, 6, None]\n",
            "Here is the list with the empty values replaced by the average value : [5.6, 2, 3, 12, 5, 6, 5.6]\n",
            "Here is a list : [None, 2, 3, 12, 5, 6, None]\n",
            "Here is the list with the empty values replaced by the median : [5.0, 2, 3, 12, 5, 6, 5.0]\n"
          ]
        }
      ],
      "source": [
        "my_imputer = Imputer([None, 2, 4, 6, None])\n",
        "my_imputer.avg()\n",
        "\n",
        "my_imputer2 = Imputer([None, 2, 3, 12, 5, 6, None])\n",
        "my_imputer2.avg()\n",
        "my_imputer2.median()"
      ]
    }
  ],
  "metadata": {
    "colab": {
      "collapsed_sections": [],
      "name": "Imputer - Exercice S1-3.ipynb",
      "provenance": [],
      "version": "0.3.2"
    },
    "kernelspec": {
      "display_name": "Python 3",
      "name": "python3"
    },
    "language_info": {
      "codemirror_mode": {
        "name": "ipython",
        "version": 3
      },
      "file_extension": ".py",
      "mimetype": "text/x-python",
      "name": "python",
      "nbconvert_exporter": "python",
      "pygments_lexer": "ipython3",
      "version": "3.8.12"
    }
  },
  "nbformat": 4,
  "nbformat_minor": 0
}
