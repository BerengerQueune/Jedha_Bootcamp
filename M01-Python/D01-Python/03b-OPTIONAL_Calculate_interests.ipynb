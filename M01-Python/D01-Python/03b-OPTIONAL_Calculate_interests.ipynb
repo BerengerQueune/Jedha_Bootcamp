{
  "cells": [
    {
      "cell_type": "markdown",
      "metadata": {
        "colab_type": "text",
        "id": "1NCGks54kp_n"
      },
      "source": [
        "# How much do you get for your savings ?"
      ]
    },
    {
      "cell_type": "markdown",
      "metadata": {
        "colab_type": "text",
        "id": "75Xe4f7vksGZ"
      },
      "source": [
        "It is said that if Christopher Columbus had set aside €1 that he had left at 2% interest per year, today his heirs would no longer need to work to live their lives. Let's try to calculate the same thing for our savings. "
      ]
    },
    {
      "cell_type": "markdown",
      "metadata": {
        "colab_type": "text",
        "id": "v4ugjwIakv2c"
      },
      "source": [
        "1. So let's create a function that will allow us to know how much money a user will have in total after a certain number of years.\n",
        "\n",
        "2. The user should be able to call the function which will then ask for :\n",
        "\n",
        "    1. The total amount he wishes to place\n",
        "    2. The number of years he wants to invest his money for\n",
        "    3. The rate of interest to which he is entitled\n",
        "    \n",
        "3. Pay attention to the errors that the user may enter.\n",
        "\n",
        "    4. If he enters a string of characters rather than a number, an error should be displayed.\n",
        "    5. If the user enters negative numbers, an error should also be output.\n",
        "    6. Finally, it is very likely that the user will write the interest rate as a percentage (e.g. 10%). Raise an error if this is the case, to prevent him from inputting a percentage.\n",
        "    \n",
        "4. Finally, the program should only show one number with a maximum of two digits after the decimal point.\n"
      ]
    },
    {
      "cell_type": "code",
      "execution_count": 1,
      "metadata": {
        "colab": {
          "base_uri": "https://localhost:8080/",
          "height": 173
        },
        "colab_type": "code",
        "id": "ovkcocqXkp2k",
        "outputId": "c6b46d9b-3503-4490-f19a-4a7e35194eea"
      },
      "outputs": [
        {
          "data": {
            "text/plain": [
              "'2593.74'"
            ]
          },
          "execution_count": 1,
          "metadata": {},
          "output_type": "execute_result"
        }
      ],
      "source": [
        "def interest(total_amount, number_of_years, interest_rate):\n",
        "    try:\n",
        "        if interest_rate.find(\"%\") != -1:\n",
        "            return (\"Dont use '%' symbol, only numbers please\")\n",
        "        elif total_amount < 0 or number_of_years < 0 or float(interest_rate) < 0:\n",
        "            return (\"Don't use negative number\")\n",
        "        else:      \n",
        "            for i in range(int(number_of_years)):\n",
        "                total_amount += total_amount * float(interest_rate)\n",
        "            return \"{:.2f}\".format(total_amount)\n",
        "    except ValueError:\n",
        "        return (\"You cannot use a string, please use a number instead.\")\n",
        "\n",
        "\n",
        "interest(1000.0, 10.0, input(\"What is the interest rate?:\"))"
      ]
    }
  ],
  "metadata": {
    "colab": {
      "name": "Fondamentaux Python - Mini Projets S1-2B.ipynb",
      "provenance": [],
      "version": "0.3.2"
    },
    "kernelspec": {
      "display_name": "Python 3",
      "name": "python3"
    },
    "language_info": {
      "codemirror_mode": {
        "name": "ipython",
        "version": 3
      },
      "file_extension": ".py",
      "mimetype": "text/x-python",
      "name": "python",
      "nbconvert_exporter": "python",
      "pygments_lexer": "ipython3",
      "version": "3.8.12"
    }
  },
  "nbformat": 4,
  "nbformat_minor": 0
}
