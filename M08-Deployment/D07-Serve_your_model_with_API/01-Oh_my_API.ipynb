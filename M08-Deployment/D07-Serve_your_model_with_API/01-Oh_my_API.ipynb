{
 "cells": [
  {
   "cell_type": "markdown",
   "metadata": {},
   "source": [
    "# Oh my API!\n",
    "\n",
    "We use this term extensively, but do you understand what is an API? It is the acronym for _Application Programming Interface_. Not much, huh? In this module, we are going to discover and implement our own API.\n",
    "\n",
    "You may wonder why. Because we have plenty of cool solutions out there, like MLFlow 😉, to serve our model and even more. Why would you bother with this _thing_? Because it is important for you to understand what _is_ actually an API: how it works, how you can request one and, above all, how to create your own.\n",
    "\n",
    "API is not only useful to serve your model, it is a way to share data across servers. Sooner or later, you will face one of these beasts and it is better to be prepared. Right?\n",
    "\n",
    "## What you will learn in this course? 🧐🧐\n",
    "\n",
    "- API definition\n",
    "- Requesting an API\n",
    "- Introduction to FastAPI"
   ]
  },
  {
   "cell_type": "markdown",
   "metadata": {},
   "source": [
    "## What is an API?\n",
    "\n",
    "APIs are interfaces. For example each time you are interacting with a library in Python you are using its API. An API is the exposed – or public – part of an application. What is behind this interface is none your concerns. You just call something, with some parameters, and get something back in return.\n",
    "\n",
    "We broadly use API in the sense of interfaces with web applications. It is a set of URLs that return data responses when requested. Most of the time, the data responses fit a format like <a href=\"https://www.json.org/json-en.html\" target=\"_blank\">JSON</a> or <a href=\"https://en.wikipedia.org/wiki/XML\" target=\"_blank\">XML</a> so you can parse responses easily.\n",
    "\n",
    "This is the main difference between API and websites: when your browser requests a website's page to a server, the server returns data in HTML format. This format embeds everything the browser should know to display the page, whereas APIs will return those formatted datas in JSON – mostly.\n",
    "\n",
    "Some APIs are public, others are private. It is up to you to build one API that fits your requirements: what kind of data do you want to share, how, with who, and so on. Pretty much everything is possible.\n",
    "\n",
    "Most APIs rely on HTTP protocol to communicate. Several standards exists in order to unify the way we use APIs. One of the most popular standards is the  <a href=\"https://www.ics.uci.edu/~fielding/pubs/dissertation/rest_arch_style.htm\" target=\"_blank\">REST standard</a> for example.\n",
    "\n",
    "Remember those <a href=\"https://tools.ietf.org/html/rfc7231#section-4.1\" target=\"_blank\">HTTP methods</a>: GET, POST, PUT, DELETE? We use them to build requests. Each of them illustrates a type of action: \n",
    "\n",
    "- GET retrieves resources,\n",
    "- POST submits new data to the server,\n",
    "- PUT updates existing data,\n",
    "- DELETE removes data.\n",
    "\n",
    "These methods map to the CRUD, _Create Read Update Delete_, operations. Almost every API respects this pattern."
   ]
  },
  {
   "cell_type": "markdown",
   "metadata": {},
   "source": [
    "## How to request an API?\n",
    "\n",
    "Now we know what APIs are, let's practice how to call an API. We will use <a href=\"https://docs.coinranking.com/\" target=\"_blank\">Coinranking</a> which returns data about various cryptocurrencies.\n",
    "\n",
    "First of all, most API have documentation to start with. API documentations are essential because they list all _endpoints_ you can request, and their parameters. Without these pieces of informations the API is impossible to use. Endpoints are adresses we request to get certain data. Spending some time reading the documentation will help you save time later on.\n",
    "\n",
    "We are using <a href=\"https://requests.readthedocs.io/en/master/\" target=\"_blank\">requests</a> which is a library used to call API. Let's use it to request <a href=\"https://docs.coinranking.com/#getcoin\" target=\"_blank\">`/coin/:coin_id` endpoint</a>:"
   ]
  },
  {
   "cell_type": "code",
   "execution_count": 1,
   "metadata": {},
   "outputs": [
    {
     "data": {
      "text/plain": [
       "{'status': 'success',\n",
       " 'data': {'base': {'symbol': 'USD', 'sign': '$'},\n",
       "  'coin': {'id': 1,\n",
       "   'uuid': 'Qwsogvtv82FCd',\n",
       "   'slug': 'bitcoin-btc',\n",
       "   'symbol': 'BTC',\n",
       "   'name': 'Bitcoin',\n",
       "   'description': '<p>Bitcoin (BTC) is the first decentralized digital currency that can be sent through the internet globally, without using an intermediary; such as financial institutions, like a (central) bank or agency. The Bitcoin transactions are controlled by many of its users, instead of a few entities. The processing of these transactions is called ‘mining’; new Bitcoin transactions, known as blocks, are added to the record of past transactions on the blockchain. In return, they get awarded with Bitcoin.</p>\\n<h3>The goal of Bitcoin</h3>\\n<p>Bitcoin was invented as a new electronic cash system that’s fully peer-to-peer, with no third party as an intermediary. Bitcoin was created because of a few main concerns of the inventor, like manipulation of the money supply, with inflation as result; profitable monopolies and oligopolies in financial services, such as the high fees for international money transfers; and tracking the money used by people.</p>\\n<h3>Who built Bitcoin</h3>\\n<p>In 2008, Bitcoin was invented by an anonymous person or group named Satoshi Nakamoto. In 2009, Bitcoin was released as open-source software. Nakamoto’s real identity is still unknown, although there are many theories about who it might be. Decentralization is one of Bitcoin’s most important principles, and that’s why this anonymity is perfectly in line.</p>\\n<h3>The technology of Bitcoin</h3>\\n<p>The Bitcoin blockchain is a database, the so-called ‘ledger’, that consists of Bitcoin transaction records. For new transactions to be added to the ledger, the nodes must agree that the transaction is real and valid. The blockchain is public and contains records of all the transactions taking place.</p>',\n",
       "   'color': '#f7931A',\n",
       "   'iconType': 'vector',\n",
       "   'iconUrl': 'https://cdn.coinranking.com/bOabBYkcX/bitcoin_btc.svg',\n",
       "   'websiteUrl': 'https://bitcoin.org',\n",
       "   'socials': [{'name': 'r/bitcoin',\n",
       "     'url': 'https://www.reddit.com/r/bitcoin/',\n",
       "     'type': 'reddit'},\n",
       "    {'name': 'bitcoin/bitcoin',\n",
       "     'url': 'https://github.com/bitcoin/bitcoin',\n",
       "     'type': 'github'}],\n",
       "   'links': [{'name': 'bitcoin.org',\n",
       "     'type': 'website',\n",
       "     'url': 'https://bitcoin.org'},\n",
       "    {'name': 'r/bitcoin',\n",
       "     'url': 'https://www.reddit.com/r/bitcoin/',\n",
       "     'type': 'reddit'},\n",
       "    {'name': 'bitcoin/bitcoin',\n",
       "     'url': 'https://github.com/bitcoin/bitcoin',\n",
       "     'type': 'github'},\n",
       "    {'name': 'blockchain.com',\n",
       "     'url': 'https://www.blockchain.com/explorer',\n",
       "     'type': 'explorer'}],\n",
       "   'confirmedSupply': True,\n",
       "   'numberOfMarkets': 20107,\n",
       "   'numberOfExchanges': 334,\n",
       "   'type': 'coin',\n",
       "   'volume': 90408526709,\n",
       "   'marketCap': 661425942758,\n",
       "   'price': '35565.7336552807',\n",
       "   'circulatingSupply': 18597281,\n",
       "   'totalSupply': 18597281,\n",
       "   'approvedSupply': True,\n",
       "   'firstSeen': 1330214400000,\n",
       "   'listedAt': 1330214400,\n",
       "   'change': -12.04,\n",
       "   'rank': 1,\n",
       "   'history': ['40435.7364953465',\n",
       "    '40145.0745125232',\n",
       "    '39468.2399119819',\n",
       "    '39755.3794155695',\n",
       "    '39792.428826195',\n",
       "    '39529.4259760283',\n",
       "    '39737.9054933304',\n",
       "    '39267.9929124278',\n",
       "    '38356.9383502999',\n",
       "    '38209.0699403915',\n",
       "    '37813.3908122734',\n",
       "    '37183.2806950216',\n",
       "    '38001.8218243071',\n",
       "    '38729.0121467348',\n",
       "    '38326.1271876525',\n",
       "    '37509.903221816',\n",
       "    '37459.3450330722',\n",
       "    '36733.6233678907',\n",
       "    '35364.0244221576',\n",
       "    '35291.9421716494',\n",
       "    '35425.5625909803',\n",
       "    '34175.019207954',\n",
       "    '33459.9651894136',\n",
       "    '35003.3846239206',\n",
       "    '35418.3903992095',\n",
       "    '35752.0112845455',\n",
       "    '35565.7336552807'],\n",
       "   'allTimeHigh': {'price': '40351.1035241799', 'timestamp': 1610150400000},\n",
       "   'penalty': False}}}"
      ]
     },
     "execution_count": 1,
     "metadata": {},
     "output_type": "execute_result"
    }
   ],
   "source": [
    "import requests\n",
    "\n",
    "response_btc = requests.get(\"https://api.coinranking.com/v1/public/coin/1\")\n",
    "response_btc.json()"
   ]
  },
  {
   "cell_type": "markdown",
   "metadata": {},
   "source": [
    "What happened here? We requested `\"https://api.coinranking.com/v1/public/coin/1\"` with the method GET thanks to `.get()`. It returns a response object and we use `.json()` to display the JSON content as dictionnary. You are free to access specifics keys like in any dictionnary, for example let's get `history`:"
   ]
  },
  {
   "cell_type": "code",
   "execution_count": 2,
   "metadata": {},
   "outputs": [
    {
     "data": {
      "text/plain": [
       "['40435.7364953465',\n",
       " '40145.0745125232',\n",
       " '39468.2399119819',\n",
       " '39755.3794155695',\n",
       " '39792.428826195',\n",
       " '39529.4259760283',\n",
       " '39737.9054933304',\n",
       " '39267.9929124278',\n",
       " '38356.9383502999',\n",
       " '38209.0699403915',\n",
       " '37813.3908122734',\n",
       " '37183.2806950216',\n",
       " '38001.8218243071',\n",
       " '38729.0121467348',\n",
       " '38326.1271876525',\n",
       " '37509.903221816',\n",
       " '37459.3450330722',\n",
       " '36733.6233678907',\n",
       " '35364.0244221576',\n",
       " '35291.9421716494',\n",
       " '35425.5625909803',\n",
       " '34175.019207954',\n",
       " '33459.9651894136',\n",
       " '35003.3846239206',\n",
       " '35418.3903992095',\n",
       " '35752.0112845455',\n",
       " '35565.7336552807']"
      ]
     },
     "execution_count": 2,
     "metadata": {},
     "output_type": "execute_result"
    }
   ],
   "source": [
    "response_btc.json()[\"data\"][\"coin\"][\"history\"]"
   ]
  },
  {
   "cell_type": "markdown",
   "metadata": {},
   "source": [
    "You can play with the endpoints to get familiar with `requests`.\n",
    "\n",
    "It is possible to request an URL in the command line using the `curl` command. In your terminal, copy and paste:\n",
    "\n",
    "```shell\n",
    "$ curl -i -X GET https://api.coinranking.com/v1/public/coin/1\n",
    "```\n",
    "\n",
    "It returns our JSON with the header on top:\n",
    "\n",
    "```shell\n",
    "HTTP/2 200\n",
    "content-type: application/json; charset=utf-8\n",
    "content-length: 3431\n",
    "access-control-allow-headers: DNT,User-Agent,X-Requested-With,If-Modified-Since,Cache-Control,Content-Type,Range,X-Access-Token\n",
    "access-control-allow-methods: GET, POST, OPTIONS, PATCH, DELETE\n",
    "access-control-allow-origin: *\n",
    "cache-control: max-age=60\n",
    "date: Tue, 08 Dec 2020 13:10:33 GMT\n",
    "etag: W/\"d67-9z6mrvk5chKalAdKbHd1/iIt5Ek\"\n",
    "x-rate-score: 20.177ms\n",
    "vary: Accept-Encoding\n",
    "x-cache: Hit from cloudfront\n",
    "via: 1.1 bfb83f89a06636844c21e465f3ea5acf.cloudfront.net (CloudFront)\n",
    "x-amz-cf-pop: CDG3-C2\n",
    "x-amz-cf-id: j4EyAci1cAjPscYLzYEpOjUugfzDUPEZSx6JMkS_p_txBcJVuOJ0Pg==\n",
    "age: 25\n",
    "\n",
    "{\"status\":\"success\",\"data\":{\"base\":{\"symbol\":\"USD\",\"sign\":\"$\"},\"coin\":{\"id\":1,\"uuid\":\"Qwsogvtv82FCd\",\"slug\":\"bitcoin-btc\",\"symbol\":\"BTC\",\"name\":\"Bitcoin\",\"description\":\"<p>Bitcoin (BTC) is the first decentralized digital currency that can be sent through the internet globally, without using an intermediary; such as financial institutions, like a (central) bank or agency. The Bitcoin transactions are controlled by many of its users, instead of a few entities. The processing of these transactions is called ‘mining’; new Bitcoin transactions, known as blocks, are added to the record of past transactions on the blockchain. In return, they get awarded with Bitcoin.</p>\\n<h3>The goal of Bitcoin</h3>\\n<p>Bitcoin was invented as a new electronic cash system that’s fully peer-to-peer, with no third party as an intermediary. Bitcoin was created because of a few main concerns of the inventor, like manipulation of the money supply, with inflation as result; profitable monopolies and oligopolies in financial services, such as the high fees for international money transfers; and tracking the money used by people.</p>\\n<h3>Who built Bitcoin</h3>\\n<p>In 2008, Bitcoin was invented by an anonymous person or group named Satoshi Nakamoto. In 2009, Bitcoin was released as open-source software. Nakamoto’s real identity is still unknown, although there are many theories about who it might be. Decentralization is one of Bitcoin’s most important principles, and that’s why this anonymity is perfectly in line.</p>\\n<h3>The technology of Bitcoin</h3>\\n<p>The Bitcoin blockchain is a database, the so-called ‘ledger’, that consists of Bitcoin transaction records. For new transactions to be added to the ledger, the nodes must agree that the transaction is real and valid. The blockchain is public and contains records of all the transactions taking place.</p>\",\"color\":\"#f7931A\",\"iconType\":\"vector\",\"iconUrl\":\"https://cdn.coinranking.com/bOabBYkcX/bitcoin_btc.svg\",\"websiteUrl\":\"https://bitcoin.org\",\"socials\":[{\"name\":\"r/bitcoin\",\"url\":\"https://www.reddit.com/r/bitcoin/\",\"type\":\"reddit\"},{\"name\":\"bitcoin/bitcoin\",\"url\":\"https://github.com/bitcoin/bitcoin\",\"type\":\"github\"}],\"links\":[{\"name\":\"bitcoin.org\",\"type\":\"website\",\"url\":\"https://bitcoin.org\"},{\"name\":\"r/bitcoin\",\"url\":\"https://www.reddit.com/r/bitcoin/\",\"type\":\"reddit\"},{\"name\":\"bitcoin/bitcoin\",\"url\":\"https://github.com/bitcoin/bitcoin\",\"type\":\"github\"},{\"name\":\"blockchain.com\",\"url\":\"https://www.blockchain.com/explorer\",\"type\":\"explorer\"}],\"confirmedSupply\":true,\"numberOfMarkets\":19864,\"numberOfExchanges\":330,\"type\":\"coin\",\"volume\":20686547035,\"marketCap\":349134574615,\"price\":\"18805.4752832653\",\"circulatingSupply\":18565581,\"totalSupply\":18565581,\"approvedSupply\":true,\"firstSeen\":1330214400000,\"listedAt\":1330214400,\"change\":-2,\"rank\":1,\"history\":[\"19190.1780582525\",\"19179.525686313\",\"19153.6238598598\",\"19194.324025226\",\"19176.6428693728\",\"19135.6470814103\",\"19011.0163410686\",\"18946.8461902266\",\"18958.3054876141\",\"19033.140361081\",\"19058.4665172776\",\"19092.4823594075\",\"19141.557179345\",\"19168.9758540681\",\"19159.7143803909\",\"19141.6104243011\",\"19145.6374543406\",\"19160.2652899378\",\"19191.8049089854\",\"19167.8511396066\",\"19156.790683103\",\"19090.8513604868\",\"18898.9948327243\",\"18830.1746519215\",\"18816.4337317984\",\"18742.5364510466\",\"18805.4752832653\"],\"allTimeHigh\":{\"price\":\"19500.47124838819\",\"timestamp\":1513555200000},\"penalty\":false}}}\n",
    "```\n",
    "\n",
    "Command line is sometimes useful to quickly test your API. Also most documentations encourage you to test the API using this command. This is why we presented you `curl`.\n",
    "\n",
    "But it exists a new cool kid called <a href=\"https://httpie.io/\" target=\"_blank\">HTTPie</a>, available on any platform, which also fullfills this mission 😉."
   ]
  },
  {
   "cell_type": "markdown",
   "metadata": {},
   "source": [
    "## How to build APIs - FastAPI \n",
    "\n",
    "\n",
    "Now, using `requests` only helps you use APIs but what if you want to build your own API?. This is where <a href=\"\" target=\"_blank\">FastAPI</a> comes in. It is one the best frameworks to build great APIs. As stated in their documentation:  \n",
    "\n",
    "> The key features are:\n",
    ">\n",
    ">* **Fast**: Very high performance, on par with NodeJS and Go (thanks to Starlette and Pydantic). One of the fastest Python frameworks available.\n",
    ">* **Fast to code**: Increase the speed to develop features by about 200% to 300%. \n",
    ">* **Fewer bugs**: Reduce about 40% of human (developer) induced errors. \n",
    ">* **Intuitive**: Great editor support. Completion everywhere. Less time debugging.\n",
    ">* **Easy**: Designed to be easy to use and learn. Less time reading docs.\n",
    ">* **Short**: Minimize code duplication. Multiple features from each parameter declaration. Fewer bugs.\n",
    ">* **Robust**: Get production-ready code. With automatic interactive documentation.\n",
    ">* **Standards-based**: Based on (and fully compatible with) the open standards for APIs: OpenAPI (previously known as Swagger) and JSON Schema.\n",
    "\n",
    "In short, FastAPI is now a *go-to* for building robust APIs. "
   ]
  },
  {
   "cell_type": "markdown",
   "metadata": {},
   "source": [
    "### Is there only FastAPI?\n",
    "\n",
    "Of course not. In your career, you might encounter other kinds of frameworks like:\n",
    "\n",
    "* <a href=\"https://flask.palletsprojects.com/en/2.0.x/\" target=\"_blank\">Flask</a>\n",
    "* <a href=\"https://www.djangoproject.com/\" target=\"_blank\">Django</a> \n",
    "\n",
    "Both solutions are great for a certain type of application. Flask and Django were mostly used to build full websites and not only APIs. Even though you can actually build websites with FastAPI as well, this is not really why the framework has been built for. \n"
   ]
  },
  {
   "cell_type": "markdown",
   "metadata": {},
   "source": [
    "### FastAPI Basics \n",
    "\n",
    "Now why choose a framework to build an API? Well this is because it comes with a lot of great features that you don't have to build yourself, like: \n",
    "\n",
    "* **A server**: When you are building APIs, you need to have a web server with specific configurations to be able to serve web apps. FastAPI uses something called [`uvicorn`](https://www.uvicorn.org/) that takes care of building a web server for you. \n",
    "\n",
    "* **Data Validation**: Usually when dealing with APIs, your main problem is to receive and serve correctly formatted data. FastAPI provides a way to ensure this using `Pydantic`\n",
    "\n",
    "* **Automatic Documentation**: Documenting APIs is important so that others can use it! Documentation can be a hassle to create, but FastAPI provides an automatic way of creating it. "
   ]
  },
  {
   "cell_type": "markdown",
   "metadata": {},
   "source": [
    "## Resources 📚📚\n",
    "\n",
    "- <a href=\"https://www.freecodecamp.org/news/what-is-an-api-in-english-please-b880a3214a82/\" target=\"_blank\">What is an API? A good article</a>\n",
    "- <a href=\"https://github.com/public-apis/public-apis\" target=\"_blank\">A list of public API to play with</a>"
   ]
  }
 ],
 "metadata": {
  "kernelspec": {
   "display_name": "Python 3",
   "language": "python",
   "name": "python3"
  },
  "language_info": {
   "codemirror_mode": {
    "name": "ipython",
    "version": 3
   },
   "file_extension": ".py",
   "mimetype": "text/x-python",
   "name": "python",
   "nbconvert_exporter": "python",
   "pygments_lexer": "ipython3",
   "version": "3.7.6"
  }
 },
 "nbformat": 4,
 "nbformat_minor": 4
}
