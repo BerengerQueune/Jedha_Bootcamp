{
 "cells": [
  {
   "cell_type": "markdown",
   "metadata": {},
   "source": [
    "# Deep Learning Advanced\n",
    "\n",
    "## Project - Object Detection with YoloV3\n",
    "\n",
    "\n",
    "The detection of objects in an image is one of the major application areas of Deep Learning.\n",
    "\n",
    "The principle is simple: in addition to training an algorithm to detect and tell what is in an image, it will be trained to tell where the object is in the image:\n",
    "\n",
    "![Object Detection](https://drive.google.com/uc?export=view&id=1G-mbb6drlUlXsMdg8Xld4p4EGYo8einf)\n",
    "\n",
    "To do so, we will implement an algorithm called YoloV3.\n",
    "\n",
    "However, it is very difficult to set up the whole training process of the algorithm. That's why we will learn how to use it thanks to this Github repository:\n",
    "\n",
    "[Implement YoloV3](https://github.com/zzh8829/yolov3-tf2)\n",
    "\n",
    "So your goal is to:\n",
    "\n",
    "  1. Clone this repository on your local file\n",
    "  2. Use it for image detection.\n",
    "  3. Then try to do the same thing with video detection.\n",
    "\n",
    "\n",
    "Check out this video to have the intuition behind this algorithm: \n"
   ]
  },
  {
   "cell_type": "markdown",
   "metadata": {},
   "source": [
    "!(https://www.youtube.com/watch?v=7WwT3C844Jc)"
   ]
  }
 ],
 "metadata": {
  "kernelspec": {
   "display_name": "Python 3",
   "language": "python",
   "name": "python3"
  },
  "language_info": {
   "codemirror_mode": {
    "name": "ipython",
    "version": 3
   },
   "file_extension": ".py",
   "mimetype": "text/x-python",
   "name": "python",
   "nbconvert_exporter": "python",
   "pygments_lexer": "ipython3",
   "version": "3.8.5"
  }
 },
 "nbformat": 4,
 "nbformat_minor": 2
}
