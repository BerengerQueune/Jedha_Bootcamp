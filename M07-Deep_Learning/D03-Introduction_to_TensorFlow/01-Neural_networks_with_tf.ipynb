{
 "cells": [
  {
   "cell_type": "markdown",
   "metadata": {
    "id": "Y1eR59soVXMU"
   },
   "source": [
    "# Neural Networks with Tensorflow 🧠🧠\n",
    "\n",
    "Now that we have learned some theory and code free practical intuition about neural networks as well as the basics of data manipulation with tensorflow, it is time to startbuild models ourselves with its deep learning module: Keras!\n",
    "\n",
    "## What will you lean in this course?\n",
    "\n",
    "This course will focus on building our first neural networks using python code with the help of tensorflow and keras.\n",
    "\n",
    "* The layer class\n",
    "  * Dense layer\n",
    "  * BatchNormalization layer\n",
    "  * DropOut layer\n",
    "* Activation functions  \n",
    "* Regularizers\n",
    "* The Model class\n",
    "  * The sequential class\n",
    "  * Input class / Make model from input and output\n",
    "  * Make a forward pass with the model\n",
    "  * Manipulations on model objects\n",
    "    * Extract outputs with get_layer()\n",
    "    * Extract weights with .tranaible_variables attribute\n",
    "    * Manually change weights\n",
    "* Prepare the model for training\n",
    "  * Loss functions\n",
    "  * Optimizers\n",
    "    * ADAM\n",
    "    * Learning rate schedule\n",
    "  * Compile\n",
    "* Model training\n",
    "* Make predictions\n",
    "* Load and save models\n",
    "  * Checkpoints\n",
    "  * Save \n",
    "  * Load\n",
    "\n",
    "Everything in Keras is organized by `Class`, each building block of a deep learning model will require objects from a specific class, let's explore them one by one!\n"
   ]
  },
  {
   "cell_type": "markdown",
   "metadata": {
    "id": "U20gxtmHWLKl"
   },
   "source": [
    "## The Layer class 🚀🚀\n",
    "\n",
    "You can learn everything about the Layer class in the <a href=\"https://www.tensorflow.org/api_docs/python/tf/keras/layers/Layer\">documentation</a>. It is a class of objects that represent different types of neuron layers to be added to neural network achitectures."
   ]
  },
  {
   "cell_type": "markdown",
   "metadata": {
    "id": "cuPVQgjQdffq"
   },
   "source": [
    "### The Dense layer 💃\n",
    "\n",
    "The Dense layer is your standard fully connected (or densely connected) neuron layer.\n",
    "\n",
    "<img src=\"https://full-stack-assets.s3.eu-west-3.amazonaws.com/images/M08-DeepLearning/Dense2.png\" />\n",
    "\n",
    " It is a neuron that has a parameter assigned for each input value that is given to it, combines them before applying an activation function, let's see how to use it :"
   ]
  },
  {
   "cell_type": "code",
   "execution_count": 1,
   "metadata": {
    "id": "iDM-J6ABVV_E"
   },
   "outputs": [],
   "source": [
    "color_chart = [\"#4B9AC7\", \"#4BE8E0\", \"#9DD4F3\", \"#97FBF6\", \"#2A7FAF\", \"#23B1AB\", \"#0E3449\", \"#015955\"]\n",
    "import tensorflow as tf\n",
    "from tensorflow.keras.layers import Dense # all the layers are in tf.keras.layers\n",
    "\n",
    "dense = Dense(units=2, activation=\"relu\", input_shape=[3,])\n",
    "# units: the number of neurons on the layer\n",
    "# activation: the choice of activation function, the most common activation\n",
    "#    functions can be named with strings, but you can use keras functions\n",
    "#    or custom functions instead!\n",
    "# input_shape: is optional, it can be either a list or tuple indicating the shape\n",
    "#    of what will be entering the layer, we'll learn more about this later in the \n",
    "#    lecture"
   ]
  },
  {
   "cell_type": "markdown",
   "metadata": {
    "id": "OHfYzvSgjNxf"
   },
   "source": [
    "### BatchNormalization Layer 📊\n",
    "\n",
    "This we have not seen yet during the demo with tensorflow playground, it is a special layer whose role is not to learn patterns in the data but rather as its name indicates, to normalize the output of the preceeding layer in order for its values to be scaled accross one batch of data.\n",
    "\n",
    "<img src=\"https://full-stack-assets.s3.eu-west-3.amazonaws.com/images/M08-DeepLearning/BatchNorm3.png\" />\n",
    "\n",
    "As you see in the figure, each of the outputs from the previous layer is normalized independently so each of them has a mean of $0$ and a standard deviaition of $1$.\n",
    "\n",
    "Of course for each new batch passing forward the normalization will be fitted again on the batch of outputs preceeding the BatchNormalization layer and scaled accordingly.\n",
    "\n",
    "Now let's see how we can create such a layer with keras!"
   ]
  },
  {
   "cell_type": "code",
   "execution_count": 2,
   "metadata": {
    "id": "qLsK1KrpAJk1"
   },
   "outputs": [],
   "source": [
    "from tensorflow.keras.layers import BatchNormalization\n",
    "bn = BatchNormalization()\n",
    "# That's it you usually will not need anything else in order to instanciate\n",
    "# a batch normalization layer, but feel free to check the documentation\n",
    "# for additional information!"
   ]
  },
  {
   "cell_type": "markdown",
   "metadata": {
    "id": "O7qxBiUzAveu"
   },
   "source": [
    "One last thing you need to know about batch normalization, since we are basing the normalization on batches that the networks sees throughout the training, and as those change all the time, this layer will work differently during training and inference (the moment you ask the model to make a prediction after the training is done).\n",
    "\n",
    "During inference, this layer will use a moving average (that you have studied during the lecture on time series) of the mean and standard deviation calculated during the training process so that the normalization parameters are adapted to all the training data as best as possible. You won't have to worry so much about this in practice, but feel free to check the documentation for more details on how this layer works during inference."
   ]
  },
  {
   "cell_type": "markdown",
   "metadata": {
    "id": "u-xAi40JByon"
   },
   "source": [
    "### DropOut ♻️\n",
    "\n",
    "The DropOut layer is also not a trainable layer, it does not help the model detect patterns in the data, rather it helps prevent overfitting.\n",
    "\n",
    "In works in the following way, you can place the DropOut layer between two other layers, what it does is at each bach of data passing forward in the network it will **randomly** pick a portion of the outputs from the previous layer and set them to 0. This means the next layer will only be able to see a portion of the information that the DropOut layer has not touched, and this available portion changes at every nex batch!\n",
    "\n",
    "<img src=\"https://full-stack-assets.s3.eu-west-3.amazonaws.com/images/M08-DeepLearning/DropOut3.png\" />\n",
    "\n",
    "Let's explain how this prevents overfitting. Overfitting is what happens whenever your model fits the training data so close it's as if it learned by heart each and every example thatwas fed to it, and therefore becomes incampable of performing well on any data it has not seen before. Specifically for neural networks, it means that the neurons in the network over specialized in detecting some feature that does not describe well the data but rather very example specific characteristics.\n",
    "\n",
    "The DropOut layer prevents that by not allowing the network to access all the available information all the time, forcing the neurons not to specialize so much so that they can compensate for the neurons which outputs will be missing after the DropOut deactivates them. To make an analogy, if you take a shoe making workshop where all employees know how to build only one specific element of the shoe an no others, if one employee goes missing, it becomes impossible to make a single shoe, but if the employees have one main task they do well, and know enough about the other tasks, then they can compensate for others being absent and keep on making shoes. The same goes with neurons and their predictions.\n",
    "\n",
    "Let's now discover how to create a DropOut layer with code!"
   ]
  },
  {
   "cell_type": "code",
   "execution_count": 3,
   "metadata": {
    "id": "MrQr9J7HGWi1"
   },
   "outputs": [],
   "source": [
    "from tensorflow.keras.layers import Dropout\n",
    "do = Dropout(rate=0.2)\n",
    "# The important parameter when instanciating the DropOut layer is rate, it \n",
    "# indicates the proportion of outputs from the previous that will randomly\n",
    "# be set to zero at each batch passing forward.\n",
    "# The closer to one, the higher proportion of outputs set to zero and harder\n",
    "# it will be for the model to overfit, but also to train\n",
    "# The closer to zero, the lower proportion of outputs set to zero and the easier\n",
    "# it will be for the model to train, but also overfit"
   ]
  },
  {
   "cell_type": "markdown",
   "metadata": {
    "id": "dILCMhcDIdXg"
   },
   "source": [
    "## Activation functions 💡💡\n",
    "\n",
    "An exhaustive list of all pre-implemented activation functions in tensorflow may be found at <a href=\"https://www.tensorflow.org/api_docs/python/tf/keras/activations\">this link</a>. \n",
    "\n",
    "Activation functions can be used in different forms in tensorflow, they maybe added as an argument of layer objects and therefore take the form of character strings or functions:"
   ]
  },
  {
   "cell_type": "code",
   "execution_count": 4,
   "metadata": {
    "colab": {
     "base_uri": "https://localhost:8080/",
     "height": 542
    },
    "id": "cuMAXeElJsok",
    "outputId": "f3ac4d2e-cfa5-4f9c-a85e-b3a0ba0b03ca"
   },
   "outputs": [
    {
     "data": {
      "image/svg+xml": "<svg class=\"main-svg\" xmlns=\"http://www.w3.org/2000/svg\" xmlns:xlink=\"http://www.w3.org/1999/xlink\" width=\"700\" height=\"500\" style=\"\" viewBox=\"0 0 700 500\"><rect x=\"0\" y=\"0\" width=\"700\" height=\"500\" style=\"fill: rgb(255, 255, 255); fill-opacity: 1;\"/><defs id=\"defs-86ff2e\"><g class=\"clips\"><clipPath id=\"clip86ff2exyplot\" class=\"plotclip\"><rect width=\"504\" height=\"320\"/></clipPath><clipPath class=\"axesclip\" id=\"clip86ff2ex\"><rect x=\"80\" y=\"0\" width=\"504\" height=\"500\"/></clipPath><clipPath class=\"axesclip\" id=\"clip86ff2ey\"><rect x=\"0\" y=\"100\" width=\"700\" height=\"320\"/></clipPath><clipPath class=\"axesclip\" id=\"clip86ff2exy\"><rect x=\"80\" y=\"100\" width=\"504\" height=\"320\"/></clipPath></g><g class=\"gradients\"/><g class=\"patterns\"/></defs><g class=\"bglayer\"><rect class=\"bg\" x=\"80\" y=\"100\" width=\"504\" height=\"320\" style=\"fill: rgb(229, 236, 246); fill-opacity: 1; stroke-width: 0;\"/></g><g class=\"layer-below\"><g class=\"imagelayer\"/><g class=\"shapelayer\"/></g><g class=\"cartesianlayer\"><g class=\"subplot xy\"><g class=\"layer-subplot\"><g class=\"shapelayer\"/><g class=\"imagelayer\"/></g><g class=\"gridlayer\"><g class=\"x\"><path class=\"xgrid crisp\" transform=\"translate(130.4,0)\" d=\"M0,100v320\" style=\"stroke: rgb(255, 255, 255); stroke-opacity: 1; stroke-width: 1px;\"/><path class=\"xgrid crisp\" transform=\"translate(231.2,0)\" d=\"M0,100v320\" style=\"stroke: rgb(255, 255, 255); stroke-opacity: 1; stroke-width: 1px;\"/><path class=\"xgrid crisp\" transform=\"translate(432.8,0)\" d=\"M0,100v320\" style=\"stroke: rgb(255, 255, 255); stroke-opacity: 1; stroke-width: 1px;\"/><path class=\"xgrid crisp\" transform=\"translate(533.6,0)\" d=\"M0,100v320\" style=\"stroke: rgb(255, 255, 255); stroke-opacity: 1; stroke-width: 1px;\"/></g><g class=\"y\"><path class=\"ygrid crisp\" transform=\"translate(0,414.44)\" d=\"M80,0h504\" style=\"stroke: rgb(255, 255, 255); stroke-opacity: 1; stroke-width: 1px;\"/><path class=\"ygrid crisp\" transform=\"translate(0,373.3)\" d=\"M80,0h504\" style=\"stroke: rgb(255, 255, 255); stroke-opacity: 1; stroke-width: 1px;\"/><path class=\"ygrid crisp\" transform=\"translate(0,291.01)\" d=\"M80,0h504\" style=\"stroke: rgb(255, 255, 255); stroke-opacity: 1; stroke-width: 1px;\"/><path class=\"ygrid crisp\" transform=\"translate(0,249.86)\" d=\"M80,0h504\" style=\"stroke: rgb(255, 255, 255); stroke-opacity: 1; stroke-width: 1px;\"/><path class=\"ygrid crisp\" transform=\"translate(0,208.72)\" d=\"M80,0h504\" style=\"stroke: rgb(255, 255, 255); stroke-opacity: 1; stroke-width: 1px;\"/><path class=\"ygrid crisp\" transform=\"translate(0,167.57)\" d=\"M80,0h504\" style=\"stroke: rgb(255, 255, 255); stroke-opacity: 1; stroke-width: 1px;\"/><path class=\"ygrid crisp\" transform=\"translate(0,126.43)\" d=\"M80,0h504\" style=\"stroke: rgb(255, 255, 255); stroke-opacity: 1; stroke-width: 1px;\"/></g></g><g class=\"zerolinelayer\"><path class=\"xzl zl crisp\" transform=\"translate(332,0)\" d=\"M0,100v320\" style=\"stroke: rgb(255, 255, 255); stroke-opacity: 1; stroke-width: 2px;\"/><path class=\"yzl zl crisp\" transform=\"translate(0,332.15)\" d=\"M80,0h504\" style=\"stroke: rgb(255, 255, 255); stroke-opacity: 1; stroke-width: 2px;\"/></g><path class=\"xlines-below\"/><path class=\"ylines-below\"/><g class=\"overlines-below\"/><g class=\"xaxislayer-below\"/><g class=\"yaxislayer-below\"/><g class=\"overaxes-below\"/><g class=\"plot\" transform=\"translate(80,100)\" clip-path=\"url(#clip86ff2exyplot)\"><g class=\"scatterlayer mlayer\"><g class=\"trace scatter tracee212cf\" style=\"stroke-miterlimit: 2; opacity: 1;\"><g class=\"fills\"/><g class=\"errorbars\"/><g class=\"lines\"><path class=\"js-line\" d=\"M0,232.15L252.51,231.74L253.52,230.91L468.65,55.29L469.66,54.46L504,26.43\" style=\"vector-effect: non-scaling-stroke; fill: none; stroke: rgb(75, 154, 199); stroke-opacity: 1; stroke-width: 2px; opacity: 1;\"/></g><g class=\"points\"/><g class=\"text\"/></g><g class=\"trace scatter trace047ab0\" style=\"stroke-miterlimit: 2; opacity: 1;\"><g class=\"fills\"/><g class=\"errorbars\"/><g class=\"lines\"><path class=\"js-line\" d=\"M0,231.88L99.99,230.23L101,230.19L135.34,228.45L136.35,228.38L171.7,225.2L172.71,225.08L198.97,221.5L199.98,221.34L234.32,215.15L235.33,214.95L307.05,201.34L308.06,201.19L341.39,196.98L342.4,196.88L376.74,194.2L377.75,194.14L433.3,192.1L434.31,192.08L504,191.28\" style=\"vector-effect: non-scaling-stroke; fill: none; stroke: rgb(75, 232, 224); stroke-opacity: 1; stroke-width: 2px; opacity: 1;\"/></g><g class=\"points\"/><g class=\"text\"/></g><g class=\"trace scatter traceb00cc9\" style=\"stroke-miterlimit: 2; opacity: 1;\"><g class=\"fills\"/><g class=\"errorbars\"/><g class=\"lines\"><path class=\"js-line\" d=\"M0,273.29L133.32,272.56L134.33,272.53L162.61,270.99L163.62,270.9L180.79,268.69L181.8,268.51L195.94,265.27L196.95,264.97L209.07,260.62L210.08,260.19L222.2,253.99L223.21,253.39L235.33,245.28L236.34,244.54L257.56,227.64L258.57,226.82L274.73,214.76L275.74,214.09L287.86,206.99L288.87,206.48L300.99,201.31L302,200.96L314.12,197.45L315.13,197.22L330.28,194.53L331.29,194.4L350.48,192.63L351.49,192.57L382.8,191.46L383.81,191.45L441.38,191.05L442.39,191.05L504,191.01\" style=\"vector-effect: non-scaling-stroke; fill: none; stroke: rgb(157, 212, 243); stroke-opacity: 1; stroke-width: 2px; opacity: 1;\"/></g><g class=\"points\"/><g class=\"text\"/></g><g class=\"trace scatter tracee15e50\" style=\"stroke-miterlimit: 2; opacity: 1;\"><g class=\"fills\"/><g class=\"errorbars\"/><g class=\"lines\"><path class=\"js-line\" d=\"M0,233.53L56.56,235.39L57.57,235.43L113.12,238.93L114.13,239.01L179.78,243.51L180.79,243.53L200.99,243.25L202,243.19L218.16,241.49L219.17,241.34L234.32,238.11L235.33,237.84L249.47,233.16L250.48,232.76L264.63,226.36L265.64,225.84L280.79,217.14L281.8,216.5L298.97,204.64L299.98,203.89L319.17,188.76L320.18,187.93L349.47,162.64L350.48,161.74L457.54,67.15L458.55,66.29L504,27.81\" style=\"vector-effect: non-scaling-stroke; fill: none; stroke: rgb(151, 251, 246); stroke-opacity: 1; stroke-width: 2px; opacity: 1;\"/></g><g class=\"points\"/><g class=\"text\"/></g><g class=\"trace scatter trace35814f\" style=\"stroke-miterlimit: 2; opacity: 1;\"><g class=\"fills\"/><g class=\"errorbars\"/><g class=\"lines\"><path class=\"js-line\" d=\"M0,273.02L96.96,271.4L97.97,271.36L137.36,269.06L138.37,268.98L166.65,265.73L167.66,265.58L188.87,261.54L189.88,261.3L206.04,256.76L207.05,256.43L221.19,250.97L222.2,250.52L236.34,243.14L237.35,242.53L249.47,234.16L250.48,233.37L318.16,178.14L319.17,177.32L504,26.43\" style=\"vector-effect: non-scaling-stroke; fill: none; stroke: rgb(35, 177, 171); stroke-opacity: 1; stroke-width: 2px; opacity: 1;\"/></g><g class=\"points\"/><g class=\"text\"/></g><g class=\"trace scatter tracec7c7a8\" style=\"stroke-miterlimit: 2; opacity: 1;\"><g class=\"fills\"/><g class=\"errorbars\"/><g class=\"lines\"><path class=\"js-line\" d=\"M0,304L68.68,302.58L69.69,302.54L101,300.87L102.01,300.8L133.32,297.62L134.33,297.48L155.54,293.82L156.55,293.6L173.72,289.18L174.73,288.87L188.87,283.81L189.88,283.4L204.02,276.57L205.03,276L217.15,268.26L218.16,267.52L229.27,258.41L230.28,257.47L240.38,247.04L241.39,245.88L255.54,229.12L256.55,228.25L413.1,93.97L414.11,93.1L504,16\" style=\"vector-effect: non-scaling-stroke; fill: none; stroke: rgb(42, 127, 175); stroke-opacity: 1; stroke-width: 2px; opacity: 1;\"/></g><g class=\"points\"/><g class=\"text\"/></g></g></g><g class=\"overplot\"/><path class=\"xlines-above crisp\" d=\"M0,0\" style=\"fill: none;\"/><path class=\"ylines-above crisp\" d=\"M0,0\" style=\"fill: none;\"/><g class=\"overlines-above\"/><g class=\"xaxislayer-above\"><g class=\"xtick\"><text text-anchor=\"middle\" x=\"0\" y=\"433\" transform=\"translate(130.4,0)\" style=\"font-family: 'Open Sans', verdana, arial, sans-serif; font-size: 12px; fill: rgb(42, 63, 95); fill-opacity: 1; white-space: pre; opacity: 1;\">−4</text></g><g class=\"xtick\"><text text-anchor=\"middle\" x=\"0\" y=\"433\" style=\"font-family: 'Open Sans', verdana, arial, sans-serif; font-size: 12px; fill: rgb(42, 63, 95); fill-opacity: 1; white-space: pre; opacity: 1;\" transform=\"translate(231.2,0)\">−2</text></g><g class=\"xtick\"><text text-anchor=\"middle\" x=\"0\" y=\"433\" style=\"font-family: 'Open Sans', verdana, arial, sans-serif; font-size: 12px; fill: rgb(42, 63, 95); fill-opacity: 1; white-space: pre; opacity: 1;\" transform=\"translate(332,0)\">0</text></g><g class=\"xtick\"><text text-anchor=\"middle\" x=\"0\" y=\"433\" style=\"font-family: 'Open Sans', verdana, arial, sans-serif; font-size: 12px; fill: rgb(42, 63, 95); fill-opacity: 1; white-space: pre; opacity: 1;\" transform=\"translate(432.8,0)\">2</text></g><g class=\"xtick\"><text text-anchor=\"middle\" x=\"0\" y=\"433\" style=\"font-family: 'Open Sans', verdana, arial, sans-serif; font-size: 12px; fill: rgb(42, 63, 95); fill-opacity: 1; white-space: pre; opacity: 1;\" transform=\"translate(533.6,0)\">4</text></g></g><g class=\"yaxislayer-above\"><g class=\"ytick\"><text text-anchor=\"end\" x=\"79\" y=\"4.199999999999999\" transform=\"translate(0,414.44)\" style=\"font-family: 'Open Sans', verdana, arial, sans-serif; font-size: 12px; fill: rgb(42, 63, 95); fill-opacity: 1; white-space: pre; opacity: 1;\">−2</text></g><g class=\"ytick\"><text text-anchor=\"end\" x=\"79\" y=\"4.199999999999999\" style=\"font-family: 'Open Sans', verdana, arial, sans-serif; font-size: 12px; fill: rgb(42, 63, 95); fill-opacity: 1; white-space: pre; opacity: 1;\" transform=\"translate(0,373.3)\">−1</text></g><g class=\"ytick\"><text text-anchor=\"end\" x=\"79\" y=\"4.199999999999999\" style=\"font-family: 'Open Sans', verdana, arial, sans-serif; font-size: 12px; fill: rgb(42, 63, 95); fill-opacity: 1; white-space: pre; opacity: 1;\" transform=\"translate(0,332.15)\">0</text></g><g class=\"ytick\"><text text-anchor=\"end\" x=\"79\" y=\"4.199999999999999\" style=\"font-family: 'Open Sans', verdana, arial, sans-serif; font-size: 12px; fill: rgb(42, 63, 95); fill-opacity: 1; white-space: pre; opacity: 1;\" transform=\"translate(0,291.01)\">1</text></g><g class=\"ytick\"><text text-anchor=\"end\" x=\"79\" y=\"4.199999999999999\" style=\"font-family: 'Open Sans', verdana, arial, sans-serif; font-size: 12px; fill: rgb(42, 63, 95); fill-opacity: 1; white-space: pre; opacity: 1;\" transform=\"translate(0,249.86)\">2</text></g><g class=\"ytick\"><text text-anchor=\"end\" x=\"79\" y=\"4.199999999999999\" style=\"font-family: 'Open Sans', verdana, arial, sans-serif; font-size: 12px; fill: rgb(42, 63, 95); fill-opacity: 1; white-space: pre; opacity: 1;\" transform=\"translate(0,208.72)\">3</text></g><g class=\"ytick\"><text text-anchor=\"end\" x=\"79\" y=\"4.199999999999999\" style=\"font-family: 'Open Sans', verdana, arial, sans-serif; font-size: 12px; fill: rgb(42, 63, 95); fill-opacity: 1; white-space: pre; opacity: 1;\" transform=\"translate(0,167.57)\">4</text></g><g class=\"ytick\"><text text-anchor=\"end\" x=\"79\" y=\"4.199999999999999\" style=\"font-family: 'Open Sans', verdana, arial, sans-serif; font-size: 12px; fill: rgb(42, 63, 95); fill-opacity: 1; white-space: pre; opacity: 1;\" transform=\"translate(0,126.43)\">5</text></g></g><g class=\"overaxes-above\"/></g></g><g class=\"polarlayer\"/><g class=\"ternarylayer\"/><g class=\"geolayer\"/><g class=\"funnelarealayer\"/><g class=\"pielayer\"/><g class=\"iciclelayer\"/><g class=\"treemaplayer\"/><g class=\"sunburstlayer\"/><g class=\"glimages\"/><defs id=\"topdefs-86ff2e\"><g class=\"clips\"/><clipPath id=\"legend86ff2e\"><rect width=\"94\" height=\"124\" x=\"0\" y=\"0\"/></clipPath></defs><g class=\"layer-above\"><g class=\"imagelayer\"/><g class=\"shapelayer\"/></g><g class=\"infolayer\"><g class=\"legend\" pointer-events=\"all\" transform=\"translate(594.08,100)\"><rect class=\"bg\" shape-rendering=\"crispEdges\" style=\"stroke: rgb(68, 68, 68); stroke-opacity: 1; fill: rgb(255, 255, 255); fill-opacity: 1; stroke-width: 0px;\" width=\"94\" height=\"124\" x=\"0\" y=\"0\"/><g class=\"scrollbox\" transform=\"\" clip-path=\"url(#legend86ff2e)\"><g class=\"groups\"><g class=\"traces\" transform=\"translate(0,14.5)\" style=\"opacity: 1;\"><text class=\"legendtext\" text-anchor=\"start\" x=\"40\" y=\"4.680000000000001\" style=\"font-family: 'Open Sans', verdana, arial, sans-serif; font-size: 12px; fill: rgb(42, 63, 95); fill-opacity: 1; white-space: pre;\">ReLu</text><g class=\"layers\" style=\"opacity: 1;\"><g class=\"legendfill\"/><g class=\"legendlines\"><path class=\"js-line\" d=\"M5,0h30\" style=\"fill: none; stroke: rgb(75, 154, 199); stroke-opacity: 1; stroke-width: 2px;\"/></g><g class=\"legendsymbols\"><g class=\"legendpoints\"/></g></g><rect class=\"legendtoggle\" x=\"0\" y=\"-9.5\" width=\"88.703125\" height=\"19\" style=\"fill: rgb(0, 0, 0); fill-opacity: 0;\"/></g><g class=\"traces\" transform=\"translate(0,33.5)\" style=\"opacity: 1;\"><text class=\"legendtext\" text-anchor=\"start\" x=\"40\" y=\"4.680000000000001\" style=\"font-family: 'Open Sans', verdana, arial, sans-serif; font-size: 12px; fill: rgb(42, 63, 95); fill-opacity: 1; white-space: pre;\">Sigmoid</text><g class=\"layers\" style=\"opacity: 1;\"><g class=\"legendfill\"/><g class=\"legendlines\"><path class=\"js-line\" d=\"M5,0h30\" style=\"fill: none; stroke: rgb(75, 232, 224); stroke-opacity: 1; stroke-width: 2px;\"/></g><g class=\"legendsymbols\"><g class=\"legendpoints\"/></g></g><rect class=\"legendtoggle\" x=\"0\" y=\"-9.5\" width=\"88.703125\" height=\"19\" style=\"fill: rgb(0, 0, 0); fill-opacity: 0;\"/></g><g class=\"traces\" transform=\"translate(0,52.5)\" style=\"opacity: 1;\"><text class=\"legendtext\" text-anchor=\"start\" x=\"40\" y=\"4.680000000000001\" style=\"font-family: 'Open Sans', verdana, arial, sans-serif; font-size: 12px; fill: rgb(42, 63, 95); fill-opacity: 1; white-space: pre;\">TanH</text><g class=\"layers\" style=\"opacity: 1;\"><g class=\"legendfill\"/><g class=\"legendlines\"><path class=\"js-line\" d=\"M5,0h30\" style=\"fill: none; stroke: rgb(157, 212, 243); stroke-opacity: 1; stroke-width: 2px;\"/></g><g class=\"legendsymbols\"><g class=\"legendpoints\"/></g></g><rect class=\"legendtoggle\" x=\"0\" y=\"-9.5\" width=\"88.703125\" height=\"19\" style=\"fill: rgb(0, 0, 0); fill-opacity: 0;\"/></g><g class=\"traces\" transform=\"translate(0,71.5)\" style=\"opacity: 1;\"><text class=\"legendtext\" text-anchor=\"start\" x=\"40\" y=\"4.680000000000001\" style=\"font-family: 'Open Sans', verdana, arial, sans-serif; font-size: 12px; fill: rgb(42, 63, 95); fill-opacity: 1; white-space: pre;\">Swish</text><g class=\"layers\" style=\"opacity: 1;\"><g class=\"legendfill\"/><g class=\"legendlines\"><path class=\"js-line\" d=\"M5,0h30\" style=\"fill: none; stroke: rgb(151, 251, 246); stroke-opacity: 1; stroke-width: 2px;\"/></g><g class=\"legendsymbols\"><g class=\"legendpoints\"/></g></g><rect class=\"legendtoggle\" x=\"0\" y=\"-9.5\" width=\"88.703125\" height=\"19\" style=\"fill: rgb(0, 0, 0); fill-opacity: 0;\"/></g><g class=\"traces\" transform=\"translate(0,90.5)\" style=\"opacity: 1;\"><text class=\"legendtext\" text-anchor=\"start\" x=\"40\" y=\"4.680000000000001\" style=\"font-family: 'Open Sans', verdana, arial, sans-serif; font-size: 12px; fill: rgb(42, 63, 95); fill-opacity: 1; white-space: pre;\">Elu</text><g class=\"layers\" style=\"opacity: 1;\"><g class=\"legendfill\"/><g class=\"legendlines\"><path class=\"js-line\" d=\"M5,0h30\" style=\"fill: none; stroke: rgb(35, 177, 171); stroke-opacity: 1; stroke-width: 2px;\"/></g><g class=\"legendsymbols\"><g class=\"legendpoints\"/></g></g><rect class=\"legendtoggle\" x=\"0\" y=\"-9.5\" width=\"88.703125\" height=\"19\" style=\"fill: rgb(0, 0, 0); fill-opacity: 0;\"/></g><g class=\"traces\" transform=\"translate(0,109.5)\" style=\"opacity: 1;\"><text class=\"legendtext\" text-anchor=\"start\" x=\"40\" y=\"4.680000000000001\" style=\"font-family: 'Open Sans', verdana, arial, sans-serif; font-size: 12px; fill: rgb(42, 63, 95); fill-opacity: 1; white-space: pre;\">Selu</text><g class=\"layers\" style=\"opacity: 1;\"><g class=\"legendfill\"/><g class=\"legendlines\"><path class=\"js-line\" d=\"M5,0h30\" style=\"fill: none; stroke: rgb(42, 127, 175); stroke-opacity: 1; stroke-width: 2px;\"/></g><g class=\"legendsymbols\"><g class=\"legendpoints\"/></g></g><rect class=\"legendtoggle\" x=\"0\" y=\"-9.5\" width=\"88.703125\" height=\"19\" style=\"fill: rgb(0, 0, 0); fill-opacity: 0;\"/></g></g></g><rect class=\"scrollbar\" rx=\"20\" ry=\"3\" width=\"0\" height=\"0\" style=\"fill: rgb(128, 139, 164); fill-opacity: 1;\" x=\"0\" y=\"0\"/></g><g class=\"g-gtitle\"/><g class=\"g-xtitle\"/><g class=\"g-ytitle\"/></g></svg>"
     },
     "metadata": {},
     "output_type": "display_data"
    }
   ],
   "source": [
    "from tensorflow.keras.activations import * # contains all the ativation functions\n",
    "# in the form of python functions\n",
    "import numpy as np\n",
    "from plotly import graph_objects as go\n",
    "\n",
    "x = np.linspace(-5,5,500)\n",
    "\n",
    "fig = go.Figure(data=[\n",
    "                      go.Scatter(x=x,\n",
    "                                 y=relu(x), # relu activation function\n",
    "                                 mode = \"lines\",\n",
    "                                 name = \"ReLu\",\n",
    "                                 line=dict(\n",
    "                                     color=color_chart[0]\n",
    "                                 )),\n",
    "                      go.Scatter(x=x,\n",
    "                                 y=sigmoid(x), # sigmoid activation function\n",
    "                                 mode = \"lines\",\n",
    "                                 name = \"Sigmoid\",\n",
    "                                 line=dict(\n",
    "                                     color=color_chart[1]\n",
    "                                 )),\n",
    "                      go.Scatter(x=x,\n",
    "                                 y=tanh(x), # tanh activation function\n",
    "                                 mode = \"lines\",\n",
    "                                 name = \"TanH\",\n",
    "                                 line=dict(\n",
    "                                     color=color_chart[2]\n",
    "                                 )),\n",
    "                      go.Scatter(x=x,\n",
    "                                 y=swish(x), # swish activation function\n",
    "                                 mode = \"lines\",\n",
    "                                 name = \"Swish\",\n",
    "                                 line=dict(\n",
    "                                     color=color_chart[3]\n",
    "                                 )),\n",
    "                      go.Scatter(x=x,\n",
    "                                 y=elu(x), # elu activation function, mix of tanh and relu\n",
    "                                 mode = \"lines\",\n",
    "                                 name = \"Elu\",\n",
    "                                 line=dict(\n",
    "                                     color=color_chart[5]\n",
    "                                 )),\n",
    "                      go.Scatter(x=x,\n",
    "                                 y=selu(x), # same as elu but converges to lower for negative values\n",
    "                                 mode = \"lines\",\n",
    "                                 name = \"Selu\",\n",
    "                                 line=dict(\n",
    "                                     color=color_chart[4]\n",
    "                                 ))\n",
    "])\n",
    "\n",
    "fig.show(\"svg\")\n",
    "\n",
    "# another activation function we have'nt yet talked about although it will come\n",
    "# in handy for multi classification problems is \"softmax\" we'll have many\n",
    "# occasions to use it in practice."
   ]
  },
  {
   "cell_type": "markdown",
   "metadata": {
    "id": "203NZmQSPJmw"
   },
   "source": [
    "These can all be referred to as their name as character strings: \"relu\", \"sigmoid, \"tanh\" etc...\n",
    "\n",
    "Another way of adding activation functions in a network is to use their layer form and add them as components of the network, it will simply apply the activation functions to all the outputs coming from the previous layer.\n",
    "\n",
    "Let's see how that works with code:"
   ]
  },
  {
   "cell_type": "code",
   "execution_count": 5,
   "metadata": {
    "id": "UEVMzO4gP75W"
   },
   "outputs": [],
   "source": [
    "from tensorflow.keras.layers import ReLU, LeakyReLU, ELU # not all activation\n",
    "# are available in this form we are selecting three examples here\n",
    "\n",
    "relu_ = ReLU()\n",
    "lrelu = LeakyReLU(alpha=0.1) # alpha is the slope for negative input values\n",
    "elu_ = ELU()"
   ]
  },
  {
   "cell_type": "markdown",
   "metadata": {
    "id": "zy3MLZg5iuvH"
   },
   "source": [
    "## Regularizers 📐📐\n",
    "\n",
    "Regularizers are a class of objects that help up add regularization inside our network layers, they can be found <a href=\"https://www.tensorflow.org/api_docs/python/tf/keras/regularizers\"> here </a>.\n",
    "\n",
    "With them we will be able to add L1 (Lasso) regularization, L2 (Ridge), or both at the same time manually in each layer of our neural network model. Let's see how this works with code:"
   ]
  },
  {
   "cell_type": "code",
   "execution_count": 6,
   "metadata": {
    "id": "xGlft9i2gd30"
   },
   "outputs": [],
   "source": [
    "from tensorflow.keras.regularizers import L1, L2, L1L2\n",
    "\n",
    "l1 = L1(l1=0.01) # the l1 parameter sets the strength of the regularization, the\n",
    "# higher l1 is, the more parameters in the layer will be set to zero\n",
    "\n",
    "l2 = L2(l2=0.01) # the l2 parameter indicates the strength of the regularization,\n",
    "# the higher l2 is, the smaller absolut values the parameters on the lay will be\n",
    "\n",
    "l1l2 = L1L2(l1=0.01, l2=0.1) # l1 sets the strengthof the Lasso penalty while\n",
    "# l2 sets the strength of the Ridge penalty\n",
    "\n",
    "# In order to include these in a specific layer you should proceed as follows:\n",
    "dense_L2 = Dense(units=4, activation=\"relu\", kernel_regularizer=l2)\n",
    "dense_L2 = Dense(units=4, activation=\"relu\", kernel_regularizer=\"l2\") # applies \n",
    "# L2 regularization with default values\n",
    "\n",
    "# This technique forces you to manually add regularization to specific layers\n",
    "# as opposed to the whole model."
   ]
  },
  {
   "cell_type": "markdown",
   "metadata": {
    "id": "UwvgYEceYf8C"
   },
   "source": [
    "## The Model class 🔮🔮\n",
    "\n",
    "The class `Model` will represent the objects containing the neural networks so that we can easily train them, make predictions very much like we did using sklearn. The only difference here is that we have many more possibilities when it comes to the way we can build different types of models.\n",
    "  "
   ]
  },
  {
   "cell_type": "markdown",
   "metadata": {
    "id": "MEuvObRbdc5h"
   },
   "source": [
    "### Sequential models ✈️\n",
    "\n",
    "The easiest to build a neural network model in tensorflow is by using the subclass `Sequential`, this will let you create neural network models with layers stacked on top of each other, where the input travels from the bottom layer all the way to the top layer sequentially.\n",
    "\n",
    "Let's see how we can build a super simple neural network model using code:"
   ]
  },
  {
   "cell_type": "code",
   "execution_count": 7,
   "metadata": {
    "colab": {
     "base_uri": "https://localhost:8080/"
    },
    "id": "4YCQB1OCartv",
    "outputId": "78e00ce9-773b-477e-ab25-f6521e35cb08"
   },
   "outputs": [
    {
     "name": "stdout",
     "output_type": "stream",
     "text": [
      "Model: \"sequential\"\n",
      "_________________________________________________________________\n",
      " Layer (type)                Output Shape              Param #   \n",
      "=================================================================\n",
      " dense_3 (Dense)             (None, 8)                 24        \n",
      "                                                                 \n",
      " batch_normalization_1 (Batc  (None, 8)                32        \n",
      " hNormalization)                                                 \n",
      "                                                                 \n",
      " dense_4 (Dense)             (None, 4)                 36        \n",
      "                                                                 \n",
      " dense_5 (Dense)             (None, 1)                 5         \n",
      "                                                                 \n",
      "=================================================================\n",
      "Total params: 97\n",
      "Trainable params: 81\n",
      "Non-trainable params: 16\n",
      "_________________________________________________________________\n"
     ]
    }
   ],
   "source": [
    "from tensorflow.keras.models import Sequential\n",
    "\n",
    "# let's how we can create a model with three Dense layers by using the .add method\n",
    "sequential_model = Sequential()\n",
    "sequential_model.add(Dense(8,\"relu\", input_shape=[2])) # indicate in the first layer\n",
    "# the shape of the input you will feed it\n",
    "# for example tabular data with 2 columns -> input_shape = [2]\n",
    "sequential_model.add(BatchNormalization())\n",
    "sequential_model.add(Dense(4,\"relu\"))\n",
    "sequential_model.add(Dense(1,\"sigmoid\"))\n",
    "\n",
    "# In order to get a sense of what the model looks like, use the .summary() method\n",
    "sequential_model.summary()\n",
    "# Layer (type): indicates the name of the layer and its type\n",
    "# Output Shape: indicates the shape of the output from the layer\n",
    "# Param #: indicates the number of parameters on this layer, for example on the\n",
    "#   first layer, there are 8 neurons that receive 2 variables, each neuron has\n",
    "#   a weight for each incoming input, thats 2x8=16, plus one bias per neuron\n",
    "#   that's 8, 16+8=24 parameters in total.\n",
    "\n",
    "# Note on shapes: in (None,8) the None represents the batch size, but since the\n",
    "# model can work with batches of any sizes it will always say None \n",
    "\n",
    "# Total params: Indicates the number of parameters in total in the model.\n",
    "# Trainable params: Indicates the number of parameters that will be updated by\n",
    "#   gradient descent during training.\n",
    "# Non-trainable params: Indicates the numberof parameters that will not be updated\n",
    "#   by gradient descent during training. It is the case for batchnormalization\n",
    "#   parameters for example, or parameters that we expecitally chose not to train,\n",
    "#   but more on that in further lectures."
   ]
  },
  {
   "cell_type": "code",
   "execution_count": 8,
   "metadata": {
    "colab": {
     "base_uri": "https://localhost:8080/"
    },
    "id": "KlyZmosVd48A",
    "outputId": "8d6bf76d-5458-40e4-e541-95cf8243ada6"
   },
   "outputs": [
    {
     "name": "stdout",
     "output_type": "stream",
     "text": [
      "Model: \"sequential_1\"\n",
      "_________________________________________________________________\n",
      " Layer (type)                Output Shape              Param #   \n",
      "=================================================================\n",
      " dense_6 (Dense)             (None, 8)                 24        \n",
      "                                                                 \n",
      " batch_normalization_2 (Batc  (None, 8)                32        \n",
      " hNormalization)                                                 \n",
      "                                                                 \n",
      " dense_7 (Dense)             (None, 4)                 36        \n",
      "                                                                 \n",
      " dense_8 (Dense)             (None, 1)                 5         \n",
      "                                                                 \n",
      "=================================================================\n",
      "Total params: 97\n",
      "Trainable params: 81\n",
      "Non-trainable params: 16\n",
      "_________________________________________________________________\n"
     ]
    }
   ],
   "source": [
    "# another way of building a sequential model is to directly feed a list of layers\n",
    "# during instanciation:\n",
    "\n",
    "sequential_model2 = Sequential([\n",
    "                                Dense(8, \"relu\", input_shape=[2]),\n",
    "                                BatchNormalization(),\n",
    "                                Dense(4,\"relu\"),\n",
    "                                Dense(1, \"sigmoid\")\n",
    "])\n",
    "\n",
    "sequential_model2.summary()\n",
    "\n",
    "# the model is identical to the one created before even though we built them in\n",
    "# different ways."
   ]
  },
  {
   "cell_type": "code",
   "execution_count": 9,
   "metadata": {
    "colab": {
     "base_uri": "https://localhost:8080/",
     "height": 533
    },
    "id": "27SLep8Ne9fN",
    "outputId": "b6d04b29-fe14-4129-f821-384326e1acea"
   },
   "outputs": [
    {
     "name": "stdout",
     "output_type": "stream",
     "text": [
      "You must install pydot (`pip install pydot`) and install graphviz (see instructions at https://graphviz.gitlab.io/download/) for plot_model/model_to_dot to work.\n"
     ]
    }
   ],
   "source": [
    "# Here is another way of visualizing your model that is especially convenient\n",
    "# with more complicated architecture:\n",
    "tf.keras.utils.plot_model(\n",
    "    sequential_model,\n",
    "    show_shapes=True, \n",
    "    show_dtype=True\n",
    ")"
   ]
  },
  {
   "cell_type": "markdown",
   "metadata": {
    "id": "OFMoYcVlgvgp"
   },
   "source": [
    "### Input class / Make model from inputs and outputs 🚀\n",
    "\n",
    "In case you want to make more complicated architectures, you will need to use inputs object, that allow you to set the shape of what needs to go into the model and then build the model layer by layer in a way we will show you in the code! \n"
   ]
  },
  {
   "cell_type": "code",
   "execution_count": 10,
   "metadata": {
    "colab": {
     "base_uri": "https://localhost:8080/",
     "height": 903
    },
    "id": "6-fhlmxu0Zdv",
    "outputId": "df2dbc05-efd5-46cc-f9ac-2a25ae8c8228"
   },
   "outputs": [
    {
     "name": "stdout",
     "output_type": "stream",
     "text": [
      "output: KerasTensor(type_spec=TensorSpec(shape=(None, 1), dtype=tf.float32, name=None), name='dense_13/Sigmoid:0', description=\"created by layer 'dense_13'\")\n",
      "You must install pydot (`pip install pydot`) and install graphviz (see instructions at https://graphviz.gitlab.io/download/) for plot_model/model_to_dot to work.\n"
     ]
    }
   ],
   "source": [
    "from tensorflow.keras import Input\n",
    "\n",
    "input = Input(shape=[2]) # all you need to do is to indicate the shape of the\n",
    "# input data that will come in the model\n",
    "\n",
    "# we can than instanciate the layers we will use in the model\n",
    "dense1 = Dense(8,\"relu\")\n",
    "dense2a = Dense(4,\"relu\")\n",
    "dense2b = Dense(4,\"relu\")\n",
    "dense2c = Dense(4,\"relu\")\n",
    "dense3 = Dense(1,\"sigmoid\")\n",
    "bn = BatchNormalization()\n",
    "do = Dropout(0.2)\n",
    "\n",
    "# then let's start building the model by feeding the input to the first layer\n",
    "# then to all the other layers\n",
    "x = dense1(input)\n",
    "x = bn(x)\n",
    "x = do(x)\n",
    "xa = dense2a(x)\n",
    "xb = dense2b(x)\n",
    "xc = dense2c(xb)\n",
    "x = tf.keras.layers.concatenate([xa,xc])\n",
    "output = dense3(x)\n",
    "\n",
    "print('output:',output)\n",
    "\n",
    "model = tf.keras.Model(inputs=input, outputs=output) # we now can form the model\n",
    "# by using the class Model and passing it two arguments, the argument inputs \n",
    "# that needs to be of the class Input or a list of Input, and outputs that needs to be a tensor\n",
    "# or list of tensors\n",
    "\n",
    "tf.keras.utils.plot_model(model, show_shapes=True, show_dtype=True)"
   ]
  },
  {
   "cell_type": "markdown",
   "metadata": {
    "id": "AFUo20ru3WJJ"
   },
   "source": [
    "This technique is extremely useful because it makes it possible to deviate from the sequential architecture and make models with much more original ways or transforming inputs into outputs.\n",
    "\n",
    "### The last layer 🔚\n",
    "\n",
    "Before we move on with the lecture, we would like to insist on a very important aspect of building models with Keras. We saw that it was important to specify the input shape on the first layer of the model in order to be able to visualize our model with the methods `.summary()` and `tf.utils.plot_model()`. It is just as important to choose the final layer for the model according to the target variable we are trying to predict.\n",
    "\n",
    "For example, if we are dealing with a regression problem and $y$ can take any value in $\\mathbb{R}$, then the last layer should be a `Dense` layer with one neuron on it and a linear activation function so the output value is not limited in its range. If we are dealing with a classification problem with 10 classes, we need a `Dense` layer with 10 neurons on it and a `softmax` activation function, so the output represents the probability distribution accross the 10 classes of the target variable."
   ]
  },
  {
   "cell_type": "markdown",
   "metadata": {
    "id": "pnEVAWj34g_t"
   },
   "source": [
    "### Make a forward pass with the model ➡️\n",
    "\n",
    "Remember the forward pass from yesterday's lecture? Well now that we know how to build models with tensorflow and Keras, we are now going to learn how to transform the inputs into outputs with our models.\n",
    "\n",
    "Let's see how using code!"
   ]
  },
  {
   "cell_type": "code",
   "execution_count": 11,
   "metadata": {
    "colab": {
     "base_uri": "https://localhost:8080/"
    },
    "id": "ZcXvCzUF5AbH",
    "outputId": "1d4f570b-dceb-4ef9-98e7-b88f35d53128"
   },
   "outputs": [
    {
     "name": "stdout",
     "output_type": "stream",
     "text": [
      "Model: \"sequential\"\n",
      "_________________________________________________________________\n",
      " Layer (type)                Output Shape              Param #   \n",
      "=================================================================\n",
      " dense_3 (Dense)             (None, 8)                 24        \n",
      "                                                                 \n",
      " batch_normalization_1 (Batc  (None, 8)                32        \n",
      " hNormalization)                                                 \n",
      "                                                                 \n",
      " dense_4 (Dense)             (None, 4)                 36        \n",
      "                                                                 \n",
      " dense_5 (Dense)             (None, 1)                 5         \n",
      "                                                                 \n",
      "=================================================================\n",
      "Total params: 97\n",
      "Trainable params: 81\n",
      "Non-trainable params: 16\n",
      "_________________________________________________________________\n"
     ]
    }
   ],
   "source": [
    "# Let's reuse the sequential model we used before\n",
    "sequential_model.summary()"
   ]
  },
  {
   "cell_type": "code",
   "execution_count": 12,
   "metadata": {
    "colab": {
     "base_uri": "https://localhost:8080/"
    },
    "id": "ezC1mMSM5Lpw",
    "outputId": "5dd538a2-a83a-42e9-c634-2951cee70c8a"
   },
   "outputs": [
    {
     "name": "stdout",
     "output_type": "stream",
     "text": [
      "model output: tf.Tensor([[0.5086808]], shape=(1, 1), dtype=float32)\n"
     ]
    }
   ],
   "source": [
    "# Let's now create some input data in order to feed to the model\n",
    "data = np.array([[1,2]]) # we have to make a two dimensional array\n",
    "# with a number of rows and two columns because the input_shape is [2] which\n",
    "# translates to (None, 2) when you add the batch size.\n",
    "\n",
    "# Let's now feed this data to the model\n",
    "# The model class has a __call__ method so we can simply it as a function\n",
    "print(\"model output:\",sequential_model(data))\n",
    "\n",
    "# The model is not trained yet but this is actually what predictions will look\n",
    "# like when it will be"
   ]
  },
  {
   "cell_type": "markdown",
   "metadata": {
    "id": "aYk6T6K180zU"
   },
   "source": [
    "### Manipulations on model objects 👈\n",
    "\n",
    "Now that we know how to build models and make a forward pass, let's dig a little deeper and explore some other attributes and methods associated with model objects.\n",
    "\n",
    "#### Extract weights/parameters\n",
    "\n",
    "It can be difficult to interpret what deep learning models do and how they do it, and sometimes being able to see the weights inside the network make it possible to clarify what's going on. Let's discover how we can get the weights from the neural network model with code!"
   ]
  },
  {
   "cell_type": "code",
   "execution_count": 13,
   "metadata": {
    "colab": {
     "base_uri": "https://localhost:8080/"
    },
    "id": "emP2L5QH9kpx",
    "outputId": "6ac6c38d-f8c1-4f6e-defd-d9cc82909935"
   },
   "outputs": [
    {
     "name": "stdout",
     "output_type": "stream",
     "text": [
      "You must install pydot (`pip install pydot`) and install graphviz (see instructions at https://graphviz.gitlab.io/download/) for plot_model/model_to_dot to work.\n",
      "Model parameters: [<tf.Variable 'dense_9/kernel:0' shape=(2, 8) dtype=float32, numpy=\n",
      "array([[ 0.45200205, -0.4637978 ,  0.1242637 ,  0.5664414 ,  0.15863508,\n",
      "        -0.59253013, -0.02723211,  0.04544967],\n",
      "       [ 0.65081716, -0.40743935,  0.16907328, -0.23423076,  0.08467698,\n",
      "         0.6470487 , -0.18658096, -0.6583109 ]], dtype=float32)>, <tf.Variable 'dense_9/bias:0' shape=(8,) dtype=float32, numpy=array([0., 0., 0., 0., 0., 0., 0., 0.], dtype=float32)>, <tf.Variable 'batch_normalization_3/gamma:0' shape=(8,) dtype=float32, numpy=array([1., 1., 1., 1., 1., 1., 1., 1.], dtype=float32)>, <tf.Variable 'batch_normalization_3/beta:0' shape=(8,) dtype=float32, numpy=array([0., 0., 0., 0., 0., 0., 0., 0.], dtype=float32)>, <tf.Variable 'batch_normalization_3/moving_mean:0' shape=(8,) dtype=float32, numpy=array([0., 0., 0., 0., 0., 0., 0., 0.], dtype=float32)>, <tf.Variable 'batch_normalization_3/moving_variance:0' shape=(8,) dtype=float32, numpy=array([1., 1., 1., 1., 1., 1., 1., 1.], dtype=float32)>, <tf.Variable 'dense_11/kernel:0' shape=(8, 4) dtype=float32, numpy=\n",
      "array([[ 0.38384062, -0.23752025,  0.07838047, -0.18526357],\n",
      "       [-0.5740628 ,  0.17309642, -0.09986138,  0.22356373],\n",
      "       [-0.3783182 , -0.5114515 , -0.23589507, -0.10999465],\n",
      "       [ 0.5136356 , -0.58571357,  0.23782778,  0.14069194],\n",
      "       [-0.4587145 ,  0.5435857 , -0.1904586 ,  0.11393559],\n",
      "       [-0.6506467 , -0.2557309 ,  0.3506598 , -0.06125724],\n",
      "       [ 0.1280551 , -0.20565653,  0.56167346, -0.22874326],\n",
      "       [-0.3291797 ,  0.60336226,  0.17526025,  0.03178126]],\n",
      "      dtype=float32)>, <tf.Variable 'dense_11/bias:0' shape=(4,) dtype=float32, numpy=array([0., 0., 0., 0.], dtype=float32)>, <tf.Variable 'dense_10/kernel:0' shape=(8, 4) dtype=float32, numpy=\n",
      "array([[-0.18727714,  0.64230984,  0.06337708,  0.47196513],\n",
      "       [-0.03304213, -0.6334078 , -0.20346528, -0.0937919 ],\n",
      "       [ 0.33261985, -0.5730083 , -0.41343108, -0.5894294 ],\n",
      "       [-0.00550622,  0.43256074,  0.37526387,  0.25023812],\n",
      "       [ 0.5323259 , -0.243658  , -0.28846332, -0.70151454],\n",
      "       [ 0.6958739 ,  0.24381393,  0.09624267,  0.61192304],\n",
      "       [-0.7064363 , -0.20199531,  0.69465977, -0.21298066],\n",
      "       [ 0.4580447 , -0.17091507, -0.30835274,  0.32749516]],\n",
      "      dtype=float32)>, <tf.Variable 'dense_10/bias:0' shape=(4,) dtype=float32, numpy=array([0., 0., 0., 0.], dtype=float32)>, <tf.Variable 'dense_12/kernel:0' shape=(4, 4) dtype=float32, numpy=\n",
      "array([[ 0.6400655 ,  0.59733933, -0.24322194, -0.3098486 ],\n",
      "       [-0.44719702,  0.3681535 ,  0.10621709, -0.5609846 ],\n",
      "       [ 0.5031833 , -0.76501274, -0.27566642, -0.5693661 ],\n",
      "       [ 0.0922209 ,  0.09496766, -0.2534669 , -0.42703354]],\n",
      "      dtype=float32)>, <tf.Variable 'dense_12/bias:0' shape=(4,) dtype=float32, numpy=array([0., 0., 0., 0.], dtype=float32)>, <tf.Variable 'dense_13/kernel:0' shape=(8, 1) dtype=float32, numpy=\n",
      "array([[-0.34520042],\n",
      "       [-0.45459467],\n",
      "       [ 0.5205598 ],\n",
      "       [ 0.17993939],\n",
      "       [ 0.01644653],\n",
      "       [-0.25293308],\n",
      "       [-0.16413993],\n",
      "       [-0.45692658]], dtype=float32)>, <tf.Variable 'dense_13/bias:0' shape=(1,) dtype=float32, numpy=array([0.], dtype=float32)>]\n",
      "\n",
      " ----------------------------------------------------------- \n",
      "\n",
      "Model trainable parameters: [<tf.Variable 'dense_9/kernel:0' shape=(2, 8) dtype=float32, numpy=\n",
      "array([[ 0.45200205, -0.4637978 ,  0.1242637 ,  0.5664414 ,  0.15863508,\n",
      "        -0.59253013, -0.02723211,  0.04544967],\n",
      "       [ 0.65081716, -0.40743935,  0.16907328, -0.23423076,  0.08467698,\n",
      "         0.6470487 , -0.18658096, -0.6583109 ]], dtype=float32)>, <tf.Variable 'dense_9/bias:0' shape=(8,) dtype=float32, numpy=array([0., 0., 0., 0., 0., 0., 0., 0.], dtype=float32)>, <tf.Variable 'batch_normalization_3/gamma:0' shape=(8,) dtype=float32, numpy=array([1., 1., 1., 1., 1., 1., 1., 1.], dtype=float32)>, <tf.Variable 'batch_normalization_3/beta:0' shape=(8,) dtype=float32, numpy=array([0., 0., 0., 0., 0., 0., 0., 0.], dtype=float32)>, <tf.Variable 'dense_11/kernel:0' shape=(8, 4) dtype=float32, numpy=\n",
      "array([[ 0.38384062, -0.23752025,  0.07838047, -0.18526357],\n",
      "       [-0.5740628 ,  0.17309642, -0.09986138,  0.22356373],\n",
      "       [-0.3783182 , -0.5114515 , -0.23589507, -0.10999465],\n",
      "       [ 0.5136356 , -0.58571357,  0.23782778,  0.14069194],\n",
      "       [-0.4587145 ,  0.5435857 , -0.1904586 ,  0.11393559],\n",
      "       [-0.6506467 , -0.2557309 ,  0.3506598 , -0.06125724],\n",
      "       [ 0.1280551 , -0.20565653,  0.56167346, -0.22874326],\n",
      "       [-0.3291797 ,  0.60336226,  0.17526025,  0.03178126]],\n",
      "      dtype=float32)>, <tf.Variable 'dense_11/bias:0' shape=(4,) dtype=float32, numpy=array([0., 0., 0., 0.], dtype=float32)>, <tf.Variable 'dense_10/kernel:0' shape=(8, 4) dtype=float32, numpy=\n",
      "array([[-0.18727714,  0.64230984,  0.06337708,  0.47196513],\n",
      "       [-0.03304213, -0.6334078 , -0.20346528, -0.0937919 ],\n",
      "       [ 0.33261985, -0.5730083 , -0.41343108, -0.5894294 ],\n",
      "       [-0.00550622,  0.43256074,  0.37526387,  0.25023812],\n",
      "       [ 0.5323259 , -0.243658  , -0.28846332, -0.70151454],\n",
      "       [ 0.6958739 ,  0.24381393,  0.09624267,  0.61192304],\n",
      "       [-0.7064363 , -0.20199531,  0.69465977, -0.21298066],\n",
      "       [ 0.4580447 , -0.17091507, -0.30835274,  0.32749516]],\n",
      "      dtype=float32)>, <tf.Variable 'dense_10/bias:0' shape=(4,) dtype=float32, numpy=array([0., 0., 0., 0.], dtype=float32)>, <tf.Variable 'dense_12/kernel:0' shape=(4, 4) dtype=float32, numpy=\n",
      "array([[ 0.6400655 ,  0.59733933, -0.24322194, -0.3098486 ],\n",
      "       [-0.44719702,  0.3681535 ,  0.10621709, -0.5609846 ],\n",
      "       [ 0.5031833 , -0.76501274, -0.27566642, -0.5693661 ],\n",
      "       [ 0.0922209 ,  0.09496766, -0.2534669 , -0.42703354]],\n",
      "      dtype=float32)>, <tf.Variable 'dense_12/bias:0' shape=(4,) dtype=float32, numpy=array([0., 0., 0., 0.], dtype=float32)>, <tf.Variable 'dense_13/kernel:0' shape=(8, 1) dtype=float32, numpy=\n",
      "array([[-0.34520042],\n",
      "       [-0.45459467],\n",
      "       [ 0.5205598 ],\n",
      "       [ 0.17993939],\n",
      "       [ 0.01644653],\n",
      "       [-0.25293308],\n",
      "       [-0.16413993],\n",
      "       [-0.45692658]], dtype=float32)>, <tf.Variable 'dense_13/bias:0' shape=(1,) dtype=float32, numpy=array([0.], dtype=float32)>]\n"
     ]
    }
   ],
   "source": [
    "# Let's use the non-sequential model for a change, although this technique works\n",
    "# on any objectof class Model\n",
    "tf.keras.utils.plot_model(model, show_shapes=True, show_dtype=True)\n",
    "\n",
    "print(\"Model parameters:\", model.variables)\n",
    "\n",
    "# The attribute variables gives you access to all the parameters of the model\n",
    "# trainable and non-trainable, you see here that this attribute is a list of\n",
    "# variable tensor objects with names corresponding to the names of the layers\n",
    "# they are attached to\n",
    "print(\"\\n ----------------------------------------------------------- \\n\")\n",
    "print(\"Model trainable parameters:\", model.trainable_variables)\n",
    "\n",
    "# If you wish to retrieve only the trainable weights of the model (and this will\n",
    "# come in handy when we learn more about tf) you may use the trainable_variables\n",
    "# attribute."
   ]
  },
  {
   "cell_type": "markdown",
   "metadata": {
    "id": "E5tHenUJ_GAX"
   },
   "source": [
    "#### Extract layer specific content\n",
    "\n",
    "It is also possible to see exactly what's happening in a specific layer using some methods associated with model objects, let's see how:"
   ]
  },
  {
   "cell_type": "code",
   "execution_count": 14,
   "metadata": {
    "colab": {
     "base_uri": "https://localhost:8080/"
    },
    "id": "k5kGtj_U_Wd_",
    "outputId": "5a660e97-ee72-4942-9ab4-dca1b7ff7606"
   },
   "outputs": [
    {
     "name": "stdout",
     "output_type": "stream",
     "text": [
      "input_1\n",
      "dense_9\n",
      "batch_normalization_3\n",
      "dropout_1\n",
      "dense_11\n",
      "dense_10\n",
      "dense_12\n",
      "concatenate\n",
      "dense_13\n"
     ]
    }
   ],
   "source": [
    "# Let's display the names of all the layers in the model:\n",
    "for layer in model.layers:\n",
    "  print(layer.name)"
   ]
  },
  {
   "cell_type": "code",
   "execution_count": 15,
   "metadata": {
    "colab": {
     "base_uri": "https://localhost:8080/"
    },
    "id": "Uz1fRHVs_wio",
    "outputId": "2ad8019e-0210-4ce4-8f04-e5db1343e1e9"
   },
   "outputs": [
    {
     "data": {
      "text/plain": [
       "[<tf.Variable 'dense_9/kernel:0' shape=(2, 8) dtype=float32, numpy=\n",
       " array([[ 0.45200205, -0.4637978 ,  0.1242637 ,  0.5664414 ,  0.15863508,\n",
       "         -0.59253013, -0.02723211,  0.04544967],\n",
       "        [ 0.65081716, -0.40743935,  0.16907328, -0.23423076,  0.08467698,\n",
       "          0.6470487 , -0.18658096, -0.6583109 ]], dtype=float32)>,\n",
       " <tf.Variable 'dense_9/bias:0' shape=(8,) dtype=float32, numpy=array([0., 0., 0., 0., 0., 0., 0., 0.], dtype=float32)>]"
      ]
     },
     "execution_count": 15,
     "metadata": {},
     "output_type": "execute_result"
    }
   ],
   "source": [
    "# Let's for example get the specific content of layer dense_31\n",
    "specific_layer = model.layers[1]\n",
    "specific_layer = model.get_layer(name=model.layers[1].name)\n",
    "\n",
    "# we can extract the weights from this specific layer\n",
    "specific_layer.trainable_variables"
   ]
  },
  {
   "cell_type": "code",
   "execution_count": 16,
   "metadata": {
    "colab": {
     "base_uri": "https://localhost:8080/"
    },
    "id": "UJVZBaHxBFB0",
    "outputId": "76393099-500e-4e1a-929e-08fd8b171878"
   },
   "outputs": [
    {
     "name": "stdout",
     "output_type": "stream",
     "text": [
      "Bias: <tf.Variable 'dense_9/bias:0' shape=(8,) dtype=float32, numpy=array([1., 2., 3., 4., 5., 6., 7., 8.], dtype=float32)>\n",
      "\n",
      " --------------------------------- \n",
      "\n",
      "Kernel/parameters: <tf.Variable 'dense_9/kernel:0' shape=(2, 8) dtype=float32, numpy=\n",
      "array([[0., 0., 0., 0., 0., 0., 0., 0.],\n",
      "       [0., 0., 0., 0., 0., 0., 0., 0.]], dtype=float32)>\n"
     ]
    }
   ],
   "source": [
    "# Because the weights are variable tensors we may assing new values to them\n",
    "specific_layer.bias.assign([1,2,3,4,5,6,7,8])\n",
    "print(\"Bias:\",specific_layer.bias) # accesses the bias\n",
    "# the values in the layer are now changedin place, which means the model was \n",
    "# affected as well\n",
    "print(\"\\n --------------------------------- \\n\")\n",
    "\n",
    "# we will assign the value zero to each weight in the layer's kernel, aka the \n",
    "# weights that are not part of the bias\n",
    "specific_layer.kernel.assign(tf.zeros_like(specific_layer.kernel))\n",
    "print(\"Kernel/parameters:\",specific_layer.kernel)"
   ]
  },
  {
   "cell_type": "code",
   "execution_count": 17,
   "metadata": {
    "colab": {
     "base_uri": "https://localhost:8080/"
    },
    "id": "UftbbCxLCmvr",
    "outputId": "98346d06-91a5-4bec-d02a-242d6f686ebd"
   },
   "outputs": [
    {
     "data": {
      "text/plain": [
       "<tf.Tensor: shape=(1, 8), dtype=float32, numpy=array([[1., 2., 3., 4., 5., 6., 7., 8.]], dtype=float32)>"
      ]
     },
     "execution_count": 17,
     "metadata": {},
     "output_type": "execute_result"
    }
   ],
   "source": [
    "# We can also extract the output of that layer, which can be very useful if you\n",
    "# wish to see what is coming out of a specific layer\n",
    "specific_layer.output\n",
    "\n",
    "# we can now create a new model\n",
    "model_intermediate = tf.keras.Model(inputs=model.input, outputs=specific_layer.output)\n",
    "model_intermediate(data)"
   ]
  },
  {
   "cell_type": "markdown",
   "metadata": {
    "id": "inaATUxZE005"
   },
   "source": [
    "## Prepare the model for training 🏃🏃\n",
    "\n",
    "We are almost ready to train our model, we are still missing a few steps, we will need to choose the loss function that we wish to optimize, the specific implementation of the gradient descent we wish to use (there are several) and also choose a learning rate. Let's see how we can do all that with code!"
   ]
  },
  {
   "cell_type": "markdown",
   "metadata": {
    "id": "057eNOvQIP4G"
   },
   "source": [
    "### Loss functions 💰\n",
    "\n",
    "They are many loss functions already implemented in tensorflow which you may consult <a href=\"https://www.tensorflow.org/api_docs/python/tf/keras/losses\"> here </a>. \n",
    "\n",
    "In this section we will do a quick overview of the various loss functions in tensorflow and the specific problems they help solve."
   ]
  },
  {
   "cell_type": "code",
   "execution_count": 18,
   "metadata": {
    "colab": {
     "base_uri": "https://localhost:8080/"
    },
    "id": "XMqY9ToqI3Z5",
    "outputId": "ca229eb3-0875-4717-8a18-7aef66072a60"
   },
   "outputs": [
    {
     "name": "stdout",
     "output_type": "stream",
     "text": [
      "mse: tf.Tensor(1, shape=(), dtype=int32)\n",
      "Binary cross entropy: tf.Tensor(0.12783325, shape=(), dtype=float32)\n",
      "Categorical cross entropy: tf.Tensor(0.597837, shape=(), dtype=float32)\n",
      "Sparse categorical cross entropy: tf.Tensor(0.597837, shape=(), dtype=float32)\n"
     ]
    }
   ],
   "source": [
    "from tensorflow.keras.losses import MeanSquaredError, BinaryCrossentropy, CategoricalCrossentropy, SparseCategoricalCrossentropy\n",
    "\n",
    "# MSE\n",
    "# ideal for most regression problems\n",
    "mse = MeanSquaredError()\n",
    "print(\"mse:\",mse([[1]],[[2]]))\n",
    "\n",
    "# Binary Cross Entropy : - log(P(y=1))\n",
    "# ideal for binary classification problems\n",
    "bce = BinaryCrossentropy()\n",
    "print(\"Binary cross entropy:\", bce([[0]], [[0.12]]))\n",
    "\n",
    "# Categorical cross entropy : - sum y==i x log(P(y==i))\n",
    "# Ideal for multi class classification problems\n",
    "# non Sparse for problems where the target variable is in dummy form\n",
    "cce = CategoricalCrossentropy()\n",
    "print(\"Categorical cross entropy:\", cce([[0,0,0,1]],[[0.2,0.1,0.15,0.55]]))\n",
    "# Sparse for problems where the target is in index form\n",
    "scce = SparseCategoricalCrossentropy()\n",
    "print(\"Sparse categorical cross entropy:\", scce([[3]],[[0.2,0.1,0.15,0.55]]))"
   ]
  },
  {
   "cell_type": "markdown",
   "metadata": {
    "id": "C36VFxiNLkbN"
   },
   "source": [
    "### Optimizers 📈\n",
    "\n",
    "Optimizers is a module of Keras that gives you access to different variants of the gradient descent algorithm which you may find more detail about <a href=\"https://www.tensorflow.org/api_docs/python/tf/keras/optimizers\"> here </a>.\n",
    "\n",
    "Here we will mostly focus on two things, the Adam optimizer on the one hand, and how to build a learning rate schedule on the other hand.\n",
    "\n"
   ]
  },
  {
   "cell_type": "markdown",
   "metadata": {
    "id": "8Dknpveedqw8"
   },
   "source": [
    "#### Adam\n",
    "\n",
    "Adam is an adaptive implementation of the stochastic gradient descent algorithm, it is adaptive in the sense that the learning rate will marginally adapt itself according to the value of the gradient. Roughly speaking it increases the learning rate when the gradient gets smaller to accelerate training and decreases the learning rate when the gradient get bigger in order to prevent the training steps to go over a potential minimum."
   ]
  },
  {
   "cell_type": "code",
   "execution_count": 19,
   "metadata": {
    "id": "E5eH2wGGIN7B"
   },
   "outputs": [],
   "source": [
    "from tensorflow.keras.optimizers import Adam\n",
    "\n",
    "opt = Adam(learning_rate=0.001) # For this optimizer we can define the base\n",
    "# learning rate that the algorithm will use and adapt during training"
   ]
  },
  {
   "cell_type": "markdown",
   "metadata": {
    "id": "1-CUiMy7Y42s"
   },
   "source": [
    "#### Learning rate schedules\n",
    "\n",
    "In adition to the choice of algorithm, it is also possible to define what we call a learning rate schedule that will influence the base learning rate throughout the training. You may find ressources on all the available learning rate schedules following <a href=\"https://www.tensorflow.org/api_docs/python/tf/keras/optimizers/schedules\"> this link </a>. In this lecture and the examples and exercises of this course we will only use one of them which is the `ExponentialDecay`.\n",
    "\n",
    "This learning rate schedule will cause the learning rate to exponentially decrease to zero during training, this is useful for models that tend to learn and overfit very quickly so the training process slows down after a few epochs.\n",
    "\n",
    "Let's how it works with code!"
   ]
  },
  {
   "cell_type": "code",
   "execution_count": 20,
   "metadata": {
    "colab": {
     "base_uri": "https://localhost:8080/",
     "height": 542
    },
    "id": "r6R0KqCpam7W",
    "outputId": "f36f0fb5-c68a-4bf4-ce5a-f4b3a89f44f1"
   },
   "outputs": [
    {
     "data": {
      "image/svg+xml": "<svg class=\"main-svg\" xmlns=\"http://www.w3.org/2000/svg\" xmlns:xlink=\"http://www.w3.org/1999/xlink\" width=\"700\" height=\"500\" style=\"\" viewBox=\"0 0 700 500\"><rect x=\"0\" y=\"0\" width=\"700\" height=\"500\" style=\"fill: rgb(255, 255, 255); fill-opacity: 1;\"/><defs id=\"defs-1334b6\"><g class=\"clips\"><clipPath id=\"clip1334b6xyplot\" class=\"plotclip\"><rect width=\"540\" height=\"320\"/></clipPath><clipPath class=\"axesclip\" id=\"clip1334b6x\"><rect x=\"80\" y=\"0\" width=\"540\" height=\"500\"/></clipPath><clipPath class=\"axesclip\" id=\"clip1334b6y\"><rect x=\"0\" y=\"100\" width=\"700\" height=\"320\"/></clipPath><clipPath class=\"axesclip\" id=\"clip1334b6xy\"><rect x=\"80\" y=\"100\" width=\"540\" height=\"320\"/></clipPath></g><g class=\"gradients\"/><g class=\"patterns\"/></defs><g class=\"bglayer\"><rect class=\"bg\" x=\"80\" y=\"100\" width=\"540\" height=\"320\" style=\"fill: rgb(229, 236, 246); fill-opacity: 1; stroke-width: 0;\"/></g><g class=\"layer-below\"><g class=\"imagelayer\"/><g class=\"shapelayer\"/></g><g class=\"cartesianlayer\"><g class=\"subplot xy\"><g class=\"layer-subplot\"><g class=\"shapelayer\"/><g class=\"imagelayer\"/></g><g class=\"gridlayer\"><g class=\"x\"><path class=\"xgrid crisp\" transform=\"translate(188,0)\" d=\"M0,100v320\" style=\"stroke: rgb(255, 255, 255); stroke-opacity: 1; stroke-width: 1px;\"/><path class=\"xgrid crisp\" transform=\"translate(296,0)\" d=\"M0,100v320\" style=\"stroke: rgb(255, 255, 255); stroke-opacity: 1; stroke-width: 1px;\"/><path class=\"xgrid crisp\" transform=\"translate(404,0)\" d=\"M0,100v320\" style=\"stroke: rgb(255, 255, 255); stroke-opacity: 1; stroke-width: 1px;\"/><path class=\"xgrid crisp\" transform=\"translate(512,0)\" d=\"M0,100v320\" style=\"stroke: rgb(255, 255, 255); stroke-opacity: 1; stroke-width: 1px;\"/></g><g class=\"y\"><path class=\"ygrid crisp\" transform=\"translate(0,350.35)\" d=\"M80,0h540\" style=\"stroke: rgb(255, 255, 255); stroke-opacity: 1; stroke-width: 1px;\"/><path class=\"ygrid crisp\" transform=\"translate(0,291.77)\" d=\"M80,0h540\" style=\"stroke: rgb(255, 255, 255); stroke-opacity: 1; stroke-width: 1px;\"/><path class=\"ygrid crisp\" transform=\"translate(0,233.18)\" d=\"M80,0h540\" style=\"stroke: rgb(255, 255, 255); stroke-opacity: 1; stroke-width: 1px;\"/><path class=\"ygrid crisp\" transform=\"translate(0,174.59)\" d=\"M80,0h540\" style=\"stroke: rgb(255, 255, 255); stroke-opacity: 1; stroke-width: 1px;\"/><path class=\"ygrid crisp\" transform=\"translate(0,116)\" d=\"M80,0h540\" style=\"stroke: rgb(255, 255, 255); stroke-opacity: 1; stroke-width: 1px;\"/></g></g><g class=\"zerolinelayer\"><path class=\"xzl zl crisp\" transform=\"translate(80,0)\" d=\"M0,100v320\" style=\"stroke: rgb(255, 255, 255); stroke-opacity: 1; stroke-width: 2px;\"/><path class=\"yzl zl crisp\" transform=\"translate(0,408.94)\" d=\"M80,0h540\" style=\"stroke: rgb(255, 255, 255); stroke-opacity: 1; stroke-width: 2px;\"/></g><path class=\"xlines-below\"/><path class=\"ylines-below\"/><g class=\"overlines-below\"/><g class=\"xaxislayer-below\"/><g class=\"yaxislayer-below\"/><g class=\"overaxes-below\"/><g class=\"plot\" transform=\"translate(80,100)\" clip-path=\"url(#clip1334b6xyplot)\"><g class=\"scatterlayer mlayer\"><g class=\"trace scatter tracee5f5a3\" style=\"stroke-miterlimit: 2; opacity: 1;\"><g class=\"fills\"/><g class=\"errorbars\"/><g class=\"lines\"><path class=\"js-line\" d=\"M0,16L15.68,48.74L16.22,49.8L32.43,79.7L32.97,80.63L48.11,105.31L48.65,106.14L63.78,128.07L64.32,128.81L81.08,150.24L81.62,150.89L98.92,170.26L99.46,170.83L116.76,187.75L117.3,188.25L135.14,203.47L135.68,203.9L153.51,217.16L154.05,217.53L174.05,230.36L174.59,230.68L196.76,242.75L197.3,243.02L218.38,252.73L218.92,252.96L241.08,261.6L241.62,261.79L268.11,270.34L268.65,270.5L293.51,277.09L294.05,277.22L323.24,283.5L323.78,283.6L349.19,288.03L349.73,288.12L396.22,294.29L396.76,294.35L440.54,298.46L441.08,298.5L474.05,300.81L474.59,300.84L540,304\" style=\"vector-effect: non-scaling-stroke; fill: none; stroke: rgb(75, 154, 199); stroke-opacity: 1; stroke-width: 2px; opacity: 1;\"/></g><g class=\"points\"/><g class=\"text\"/></g></g></g><g class=\"overplot\"/><path class=\"xlines-above crisp\" d=\"M0,0\" style=\"fill: none;\"/><path class=\"ylines-above crisp\" d=\"M0,0\" style=\"fill: none;\"/><g class=\"overlines-above\"/><g class=\"xaxislayer-above\"><g class=\"xtick\"><text text-anchor=\"middle\" x=\"0\" y=\"433\" transform=\"translate(80,0)\" style=\"font-family: 'Open Sans', verdana, arial, sans-serif; font-size: 12px; fill: rgb(42, 63, 95); fill-opacity: 1; white-space: pre; opacity: 1;\">0</text></g><g class=\"xtick\"><text text-anchor=\"middle\" x=\"0\" y=\"433\" style=\"font-family: 'Open Sans', verdana, arial, sans-serif; font-size: 12px; fill: rgb(42, 63, 95); fill-opacity: 1; white-space: pre; opacity: 1;\" transform=\"translate(188,0)\">200</text></g><g class=\"xtick\"><text text-anchor=\"middle\" x=\"0\" y=\"433\" style=\"font-family: 'Open Sans', verdana, arial, sans-serif; font-size: 12px; fill: rgb(42, 63, 95); fill-opacity: 1; white-space: pre; opacity: 1;\" transform=\"translate(296,0)\">400</text></g><g class=\"xtick\"><text text-anchor=\"middle\" x=\"0\" y=\"433\" style=\"font-family: 'Open Sans', verdana, arial, sans-serif; font-size: 12px; fill: rgb(42, 63, 95); fill-opacity: 1; white-space: pre; opacity: 1;\" transform=\"translate(404,0)\">600</text></g><g class=\"xtick\"><text text-anchor=\"middle\" x=\"0\" y=\"433\" style=\"font-family: 'Open Sans', verdana, arial, sans-serif; font-size: 12px; fill: rgb(42, 63, 95); fill-opacity: 1; white-space: pre; opacity: 1;\" transform=\"translate(512,0)\">800</text></g><g class=\"xtick\"><text text-anchor=\"middle\" x=\"0\" y=\"433\" style=\"font-family: 'Open Sans', verdana, arial, sans-serif; font-size: 12px; fill: rgb(42, 63, 95); fill-opacity: 1; white-space: pre; opacity: 1;\" transform=\"translate(620,0)\">1000</text></g></g><g class=\"yaxislayer-above\"><g class=\"ytick\"><text text-anchor=\"end\" x=\"79\" y=\"4.199999999999999\" transform=\"translate(0,408.94)\" style=\"font-family: 'Open Sans', verdana, arial, sans-serif; font-size: 12px; fill: rgb(42, 63, 95); fill-opacity: 1; white-space: pre; opacity: 1;\">0</text></g><g class=\"ytick\"><text text-anchor=\"end\" x=\"79\" y=\"4.199999999999999\" style=\"font-family: 'Open Sans', verdana, arial, sans-serif; font-size: 12px; fill: rgb(42, 63, 95); fill-opacity: 1; white-space: pre; opacity: 1;\" transform=\"translate(0,350.35)\">0.0002</text></g><g class=\"ytick\"><text text-anchor=\"end\" x=\"79\" y=\"4.199999999999999\" style=\"font-family: 'Open Sans', verdana, arial, sans-serif; font-size: 12px; fill: rgb(42, 63, 95); fill-opacity: 1; white-space: pre; opacity: 1;\" transform=\"translate(0,291.77)\">0.0004</text></g><g class=\"ytick\"><text text-anchor=\"end\" x=\"79\" y=\"4.199999999999999\" style=\"font-family: 'Open Sans', verdana, arial, sans-serif; font-size: 12px; fill: rgb(42, 63, 95); fill-opacity: 1; white-space: pre; opacity: 1;\" transform=\"translate(0,233.18)\">0.0006</text></g><g class=\"ytick\"><text text-anchor=\"end\" x=\"79\" y=\"4.199999999999999\" style=\"font-family: 'Open Sans', verdana, arial, sans-serif; font-size: 12px; fill: rgb(42, 63, 95); fill-opacity: 1; white-space: pre; opacity: 1;\" transform=\"translate(0,174.59)\">0.0008</text></g><g class=\"ytick\"><text text-anchor=\"end\" x=\"79\" y=\"4.199999999999999\" style=\"font-family: 'Open Sans', verdana, arial, sans-serif; font-size: 12px; fill: rgb(42, 63, 95); fill-opacity: 1; white-space: pre; opacity: 1;\" transform=\"translate(0,116)\">0.001</text></g></g><g class=\"overaxes-above\"/></g></g><g class=\"polarlayer\"/><g class=\"ternarylayer\"/><g class=\"geolayer\"/><g class=\"funnelarealayer\"/><g class=\"pielayer\"/><g class=\"iciclelayer\"/><g class=\"treemaplayer\"/><g class=\"sunburstlayer\"/><g class=\"glimages\"/><defs id=\"topdefs-1334b6\"><g class=\"clips\"/></defs><g class=\"layer-above\"><g class=\"imagelayer\"/><g class=\"shapelayer\"/></g><g class=\"infolayer\"><g class=\"g-gtitle\"><text class=\"gtitle\" x=\"35\" y=\"50\" text-anchor=\"start\" dy=\"0em\" style=\"font-family: 'Open Sans', verdana, arial, sans-serif; font-size: 17px; fill: rgb(42, 63, 95); opacity: 1; font-weight: normal; white-space: pre;\">Learning rate schedule</text></g><g class=\"g-xtitle\"><text class=\"xtitle\" x=\"350\" y=\"460.8\" text-anchor=\"middle\" style=\"font-family: 'Open Sans', verdana, arial, sans-serif; font-size: 14px; fill: rgb(42, 63, 95); opacity: 1; font-weight: normal; white-space: pre;\">Step</text></g><g class=\"g-ytitle\" transform=\"translate(2.3154296875,0)\"><text class=\"ytitle\" transform=\"rotate(-90,11.684375000000003,260)\" x=\"11.684375000000003\" y=\"260\" text-anchor=\"middle\" style=\"font-family: 'Open Sans', verdana, arial, sans-serif; font-size: 14px; fill: rgb(42, 63, 95); opacity: 1; font-weight: normal; white-space: pre;\">Learning rate</text></g></g></svg>"
     },
     "metadata": {},
     "output_type": "display_data"
    }
   ],
   "source": [
    "from tensorflow.keras.optimizers.schedules import ExponentialDecay\n",
    "\n",
    "# We need to define the initial learning rate, decay_steps indicates the number\n",
    "# of steps before the learning rate decreases of one time the decay_rate.\n",
    "ed = ExponentialDecay(\n",
    "    initial_learning_rate = 0.001, decay_steps = 100, decay_rate = 0.96\n",
    ")\n",
    "\n",
    "# The call of the Exponential decay instance works in the following way\n",
    "initial_learning_rate = 0.001\n",
    "decay_steps = 10\n",
    "decay_rate = 0.96\n",
    "def decayed_learning_rate(step):\n",
    "    return initial_learning_rate * decay_rate ** (step / decay_steps)\n",
    "x = np.linspace(0,1000,1000)\n",
    "\n",
    "# Let's see how this works visually\n",
    "fig = go.Figure(data=[\n",
    "                      go.Scatter(\n",
    "                          x = x,\n",
    "                          y = decayed_learning_rate(x),\n",
    "                          mode = \"lines\",\n",
    "                          line=dict(\n",
    "                              color = color_chart[0]\n",
    "                            ),\n",
    "                          name = \"learning rate\"\n",
    "                          )\n",
    "])\n",
    "\n",
    "fig.update_layout(\n",
    "    title=\"Learning rate schedule\",\n",
    "    xaxis_title=\"Step\",\n",
    "    yaxis_title=\"Learning rate\"\n",
    "    )\n",
    "\n",
    "fig.show(\"svg\")\n",
    "\n",
    "# If you wish to add this learning rate schedule to your optimizer you can do it\n",
    "# as follows\n",
    "opt_schedule = Adam(learning_rate=ed)"
   ]
  },
  {
   "cell_type": "markdown",
   "metadata": {
    "id": "2kLM3utOf7uW"
   },
   "source": [
    "### Compile 🎁\n",
    "\n",
    "Once you have built the model, chose the loss function, defined an optimizer with a learning rate or learning rate schedule you need to bring it all together with a final method called `.compile`. This operation will assign the optimizer and the loss function to the model.\n",
    "\n",
    "Let's do it with code!"
   ]
  },
  {
   "cell_type": "code",
   "execution_count": 21,
   "metadata": {
    "id": "U8DUzrzKkGBr"
   },
   "outputs": [],
   "source": [
    "# Let's compile our model\n",
    "model.compile(optimizer=opt,\n",
    "              loss=bce)"
   ]
  },
  {
   "cell_type": "markdown",
   "metadata": {
    "id": "z7iEKvGykpC5"
   },
   "source": [
    "This is the minimal version of the compiling operation, but you may also wish to monitor some performance metrics during training. All the available performance metrics can be found <a href=\"https://www.tensorflow.org/api_docs/python/tf/keras/metrics\"> here </a>.\n",
    "\n",
    "Let's add a metric to the compile operation."
   ]
  },
  {
   "cell_type": "code",
   "execution_count": 22,
   "metadata": {
    "id": "QMk-l6cilB_m"
   },
   "outputs": [],
   "source": [
    "from tensorflow.keras.metrics import BinaryAccuracy\n",
    "\n",
    "model.compile(optimizer=opt,\n",
    "              loss=bce,\n",
    "              metrics=[BinaryAccuracy()])\n",
    "# the argument metrics takes a list of metrics from keras"
   ]
  },
  {
   "cell_type": "markdown",
   "metadata": {
    "id": "6tWbXHRrlXi5"
   },
   "source": [
    "We are now ready to train our model!"
   ]
  },
  {
   "cell_type": "markdown",
   "metadata": {
    "id": "dpar4Ojvljkk"
   },
   "source": [
    "## Model training 💦💦\n",
    "\n",
    "The model training step is actually very easy now that we have done all this, let's show a full example with an easy dataset."
   ]
  },
  {
   "cell_type": "code",
   "execution_count": 23,
   "metadata": {
    "colab": {
     "base_uri": "https://localhost:8080/",
     "height": 564
    },
    "id": "Sbk_9jGjmXj5",
    "outputId": "d9b33d55-7c6d-435d-c70e-5cb593195aaf"
   },
   "outputs": [
    {
     "name": "stdout",
     "output_type": "stream",
     "text": [
      "You must install pydot (`pip install pydot`) and install graphviz (see instructions at https://graphviz.gitlab.io/download/) for plot_model/model_to_dot to work.\n"
     ]
    }
   ],
   "source": [
    "from sklearn.datasets import load_iris\n",
    "\n",
    "iris = load_iris() # load the data\n",
    "\n",
    "data = iris.data # store training variables in data\n",
    "target = iris.target # store target variable in target\n",
    "\n",
    "from sklearn.model_selection import train_test_split\n",
    "# Split 60% in train 20% in val 20% in test\n",
    "X_train, X_valtest, y_train, y_valtest = train_test_split(data,\n",
    "                                                          target,\n",
    "                                                          test_size=0.4,\n",
    "                                                          stratify=target)\n",
    "X_val, X_test, y_val, y_test = train_test_split(X_valtest, y_valtest,\n",
    "                                                test_size=0.5,\n",
    "                                                stratify=y_valtest)\n",
    "\n",
    "# Normalize the data\n",
    "from sklearn.preprocessing import StandardScaler\n",
    "sc = StandardScaler()\n",
    "X_train = sc.fit_transform(X_train)\n",
    "X_val = sc.transform(X_val)\n",
    "X_test = sc.transform(X_test)\n",
    "\n",
    "# Create the tensor slice datasets\n",
    "train = tf.data.Dataset.from_tensor_slices((X_train,y_train))\n",
    "val = tf.data.Dataset.from_tensor_slices((X_val,y_val))\n",
    "test = tf.data.Dataset.from_tensor_slices((X_test,y_test))\n",
    "\n",
    "# shuffle and batch\n",
    "train_batch = train.shuffle(len(X_train)).batch(4)\n",
    "val_batch = val.shuffle(len(X_val)).batch(4)\n",
    "test_batch = test.shuffle(len(X_test)).batch(4)\n",
    "\n",
    "# Create the model\n",
    "model = Sequential([\n",
    "                    # input shape equals to the number of training variables\n",
    "                    Dense(8,\"relu\",input_shape=[data.shape[1]]), \n",
    "                    BatchNormalization(),\n",
    "                    Dropout(0.2),\n",
    "                    Dense(4,\"relu\"),\n",
    "                    # number of neurons on last layer equal to number of classes \n",
    "                    # with softmax activation for mutli class classification\n",
    "                    Dense(len(np.unique(target)), \"softmax\") \n",
    "])\n",
    "\n",
    "# display the model\n",
    "tf.keras.utils.plot_model(model)"
   ]
  },
  {
   "cell_type": "code",
   "execution_count": 24,
   "metadata": {
    "id": "cBr72IJ1onis"
   },
   "outputs": [],
   "source": [
    "# Set up the optimizer\n",
    "opt = Adam(0.001)\n",
    "# define the loss function\n",
    "loss = SparseCategoricalCrossentropy()\n",
    "# define the performance metric\n",
    "metric = tf.keras.metrics.SparseCategoricalAccuracy()\n",
    "\n",
    "# Compile the model\n",
    "model.compile(optimizer=opt,\n",
    "              loss=loss,\n",
    "              metrics=[metric])"
   ]
  },
  {
   "cell_type": "code",
   "execution_count": 25,
   "metadata": {
    "colab": {
     "base_uri": "https://localhost:8080/"
    },
    "id": "ZYs8Vfx1osNx",
    "outputId": "e4b22871-385b-440f-b410-79629e5e12e1"
   },
   "outputs": [
    {
     "name": "stdout",
     "output_type": "stream",
     "text": [
      "Epoch 1/10\n",
      "23/23 [==============================] - 1s 9ms/step - loss: 1.0386 - sparse_categorical_accuracy: 0.3778 - val_loss: 1.0984 - val_sparse_categorical_accuracy: 0.2667\n",
      "Epoch 2/10\n",
      "23/23 [==============================] - 0s 3ms/step - loss: 1.0092 - sparse_categorical_accuracy: 0.4778 - val_loss: 1.0624 - val_sparse_categorical_accuracy: 0.3333\n",
      "Epoch 3/10\n",
      "23/23 [==============================] - 0s 2ms/step - loss: 0.9598 - sparse_categorical_accuracy: 0.5111 - val_loss: 1.0243 - val_sparse_categorical_accuracy: 0.4000\n",
      "Epoch 4/10\n",
      "23/23 [==============================] - 0s 2ms/step - loss: 1.0025 - sparse_categorical_accuracy: 0.5000 - val_loss: 0.9860 - val_sparse_categorical_accuracy: 0.4667\n",
      "Epoch 5/10\n",
      "23/23 [==============================] - 0s 2ms/step - loss: 0.9188 - sparse_categorical_accuracy: 0.4778 - val_loss: 0.9477 - val_sparse_categorical_accuracy: 0.5000\n",
      "Epoch 6/10\n",
      "23/23 [==============================] - 0s 3ms/step - loss: 0.9513 - sparse_categorical_accuracy: 0.5444 - val_loss: 0.9106 - val_sparse_categorical_accuracy: 0.5333\n",
      "Epoch 7/10\n",
      "23/23 [==============================] - 0s 3ms/step - loss: 0.9118 - sparse_categorical_accuracy: 0.5889 - val_loss: 0.8797 - val_sparse_categorical_accuracy: 0.5333\n",
      "Epoch 8/10\n",
      "23/23 [==============================] - 0s 3ms/step - loss: 0.8876 - sparse_categorical_accuracy: 0.6556 - val_loss: 0.8432 - val_sparse_categorical_accuracy: 0.6000\n",
      "Epoch 9/10\n",
      "23/23 [==============================] - 0s 3ms/step - loss: 0.8397 - sparse_categorical_accuracy: 0.6667 - val_loss: 0.8065 - val_sparse_categorical_accuracy: 0.7333\n",
      "Epoch 10/10\n",
      "23/23 [==============================] - 0s 3ms/step - loss: 0.7984 - sparse_categorical_accuracy: 0.6778 - val_loss: 0.7742 - val_sparse_categorical_accuracy: 0.7667\n",
      "\n",
      " ------ \n",
      " training history: {'loss': [1.0385582447052002, 1.0091789960861206, 0.9598487019538879, 1.0024981498718262, 0.9188439846038818, 0.9513210654258728, 0.9118248224258423, 0.8876113891601562, 0.8396969437599182, 0.798382580280304], 'sparse_categorical_accuracy': [0.3777777850627899, 0.47777777910232544, 0.5111111402511597, 0.5, 0.47777777910232544, 0.5444444417953491, 0.5888888835906982, 0.6555555462837219, 0.6666666865348816, 0.6777777671813965], 'val_loss': [1.098392128944397, 1.06241774559021, 1.0243031978607178, 0.9859998226165771, 0.9477493166923523, 0.910600483417511, 0.8797076940536499, 0.8432300686836243, 0.8064518570899963, 0.7741817235946655], 'val_sparse_categorical_accuracy': [0.2666666805744171, 0.3333333432674408, 0.4000000059604645, 0.46666666865348816, 0.5, 0.5333333611488342, 0.5333333611488342, 0.6000000238418579, 0.7333333492279053, 0.7666666507720947]}\n"
     ]
    }
   ],
   "source": [
    "# We use .fit in order to start training the model\n",
    "# the first argument is the the batch dataset containing the training data\n",
    "# epochs indicates the number of epochs (the number of times each batch is going\n",
    "# to be used for training) to train for\n",
    "# validation_data is the data we use to measure overfitting during training, the \n",
    "# model will not train on this data but compute the performance metrics on it at\n",
    "# the end of each epoch\n",
    "history = model.fit(train_batch, epochs=10, validation_data=val_batch)\n",
    "\n",
    "# We save the training in an object history so we can retreive the training\n",
    "# information later on.\n",
    "\n",
    "print(\"\\n ------ \\n\",\"training history:\",history.history)"
   ]
  },
  {
   "cell_type": "code",
   "execution_count": 26,
   "metadata": {
    "colab": {
     "base_uri": "https://localhost:8080/",
     "height": 542
    },
    "id": "zu6JmNr8NOTn",
    "outputId": "b63e3734-708f-4a61-94e3-b78878a1b745"
   },
   "outputs": [
    {
     "data": {
      "application/vnd.plotly.v1+json": {
       "config": {
        "plotlyServerURL": "https://plot.ly"
       },
       "data": [
        {
         "marker": {
          "color": "#4B9AC7"
         },
         "mode": "lines",
         "name": "Training loss",
         "type": "scatter",
         "y": [
          1.0385582447052002,
          1.0091789960861206,
          0.9598487019538879,
          1.0024981498718262,
          0.9188439846038818,
          0.9513210654258728,
          0.9118248224258423,
          0.8876113891601562,
          0.8396969437599182,
          0.798382580280304
         ]
        },
        {
         "marker": {
          "color": "#4BE8E0"
         },
         "mode": "lines",
         "name": "Validation loss",
         "type": "scatter",
         "y": [
          1.098392128944397,
          1.06241774559021,
          1.0243031978607178,
          0.9859998226165771,
          0.9477493166923523,
          0.910600483417511,
          0.8797076940536499,
          0.8432300686836243,
          0.8064518570899963,
          0.7741817235946655
         ]
        }
       ],
       "layout": {
        "template": {
         "data": {
          "bar": [
           {
            "error_x": {
             "color": "#2a3f5f"
            },
            "error_y": {
             "color": "#2a3f5f"
            },
            "marker": {
             "line": {
              "color": "#E5ECF6",
              "width": 0.5
             },
             "pattern": {
              "fillmode": "overlay",
              "size": 10,
              "solidity": 0.2
             }
            },
            "type": "bar"
           }
          ],
          "barpolar": [
           {
            "marker": {
             "line": {
              "color": "#E5ECF6",
              "width": 0.5
             },
             "pattern": {
              "fillmode": "overlay",
              "size": 10,
              "solidity": 0.2
             }
            },
            "type": "barpolar"
           }
          ],
          "carpet": [
           {
            "aaxis": {
             "endlinecolor": "#2a3f5f",
             "gridcolor": "white",
             "linecolor": "white",
             "minorgridcolor": "white",
             "startlinecolor": "#2a3f5f"
            },
            "baxis": {
             "endlinecolor": "#2a3f5f",
             "gridcolor": "white",
             "linecolor": "white",
             "minorgridcolor": "white",
             "startlinecolor": "#2a3f5f"
            },
            "type": "carpet"
           }
          ],
          "choropleth": [
           {
            "colorbar": {
             "outlinewidth": 0,
             "ticks": ""
            },
            "type": "choropleth"
           }
          ],
          "contour": [
           {
            "colorbar": {
             "outlinewidth": 0,
             "ticks": ""
            },
            "colorscale": [
             [
              0,
              "#0d0887"
             ],
             [
              0.1111111111111111,
              "#46039f"
             ],
             [
              0.2222222222222222,
              "#7201a8"
             ],
             [
              0.3333333333333333,
              "#9c179e"
             ],
             [
              0.4444444444444444,
              "#bd3786"
             ],
             [
              0.5555555555555556,
              "#d8576b"
             ],
             [
              0.6666666666666666,
              "#ed7953"
             ],
             [
              0.7777777777777778,
              "#fb9f3a"
             ],
             [
              0.8888888888888888,
              "#fdca26"
             ],
             [
              1,
              "#f0f921"
             ]
            ],
            "type": "contour"
           }
          ],
          "contourcarpet": [
           {
            "colorbar": {
             "outlinewidth": 0,
             "ticks": ""
            },
            "type": "contourcarpet"
           }
          ],
          "heatmap": [
           {
            "colorbar": {
             "outlinewidth": 0,
             "ticks": ""
            },
            "colorscale": [
             [
              0,
              "#0d0887"
             ],
             [
              0.1111111111111111,
              "#46039f"
             ],
             [
              0.2222222222222222,
              "#7201a8"
             ],
             [
              0.3333333333333333,
              "#9c179e"
             ],
             [
              0.4444444444444444,
              "#bd3786"
             ],
             [
              0.5555555555555556,
              "#d8576b"
             ],
             [
              0.6666666666666666,
              "#ed7953"
             ],
             [
              0.7777777777777778,
              "#fb9f3a"
             ],
             [
              0.8888888888888888,
              "#fdca26"
             ],
             [
              1,
              "#f0f921"
             ]
            ],
            "type": "heatmap"
           }
          ],
          "heatmapgl": [
           {
            "colorbar": {
             "outlinewidth": 0,
             "ticks": ""
            },
            "colorscale": [
             [
              0,
              "#0d0887"
             ],
             [
              0.1111111111111111,
              "#46039f"
             ],
             [
              0.2222222222222222,
              "#7201a8"
             ],
             [
              0.3333333333333333,
              "#9c179e"
             ],
             [
              0.4444444444444444,
              "#bd3786"
             ],
             [
              0.5555555555555556,
              "#d8576b"
             ],
             [
              0.6666666666666666,
              "#ed7953"
             ],
             [
              0.7777777777777778,
              "#fb9f3a"
             ],
             [
              0.8888888888888888,
              "#fdca26"
             ],
             [
              1,
              "#f0f921"
             ]
            ],
            "type": "heatmapgl"
           }
          ],
          "histogram": [
           {
            "marker": {
             "pattern": {
              "fillmode": "overlay",
              "size": 10,
              "solidity": 0.2
             }
            },
            "type": "histogram"
           }
          ],
          "histogram2d": [
           {
            "colorbar": {
             "outlinewidth": 0,
             "ticks": ""
            },
            "colorscale": [
             [
              0,
              "#0d0887"
             ],
             [
              0.1111111111111111,
              "#46039f"
             ],
             [
              0.2222222222222222,
              "#7201a8"
             ],
             [
              0.3333333333333333,
              "#9c179e"
             ],
             [
              0.4444444444444444,
              "#bd3786"
             ],
             [
              0.5555555555555556,
              "#d8576b"
             ],
             [
              0.6666666666666666,
              "#ed7953"
             ],
             [
              0.7777777777777778,
              "#fb9f3a"
             ],
             [
              0.8888888888888888,
              "#fdca26"
             ],
             [
              1,
              "#f0f921"
             ]
            ],
            "type": "histogram2d"
           }
          ],
          "histogram2dcontour": [
           {
            "colorbar": {
             "outlinewidth": 0,
             "ticks": ""
            },
            "colorscale": [
             [
              0,
              "#0d0887"
             ],
             [
              0.1111111111111111,
              "#46039f"
             ],
             [
              0.2222222222222222,
              "#7201a8"
             ],
             [
              0.3333333333333333,
              "#9c179e"
             ],
             [
              0.4444444444444444,
              "#bd3786"
             ],
             [
              0.5555555555555556,
              "#d8576b"
             ],
             [
              0.6666666666666666,
              "#ed7953"
             ],
             [
              0.7777777777777778,
              "#fb9f3a"
             ],
             [
              0.8888888888888888,
              "#fdca26"
             ],
             [
              1,
              "#f0f921"
             ]
            ],
            "type": "histogram2dcontour"
           }
          ],
          "mesh3d": [
           {
            "colorbar": {
             "outlinewidth": 0,
             "ticks": ""
            },
            "type": "mesh3d"
           }
          ],
          "parcoords": [
           {
            "line": {
             "colorbar": {
              "outlinewidth": 0,
              "ticks": ""
             }
            },
            "type": "parcoords"
           }
          ],
          "pie": [
           {
            "automargin": true,
            "type": "pie"
           }
          ],
          "scatter": [
           {
            "marker": {
             "colorbar": {
              "outlinewidth": 0,
              "ticks": ""
             }
            },
            "type": "scatter"
           }
          ],
          "scatter3d": [
           {
            "line": {
             "colorbar": {
              "outlinewidth": 0,
              "ticks": ""
             }
            },
            "marker": {
             "colorbar": {
              "outlinewidth": 0,
              "ticks": ""
             }
            },
            "type": "scatter3d"
           }
          ],
          "scattercarpet": [
           {
            "marker": {
             "colorbar": {
              "outlinewidth": 0,
              "ticks": ""
             }
            },
            "type": "scattercarpet"
           }
          ],
          "scattergeo": [
           {
            "marker": {
             "colorbar": {
              "outlinewidth": 0,
              "ticks": ""
             }
            },
            "type": "scattergeo"
           }
          ],
          "scattergl": [
           {
            "marker": {
             "colorbar": {
              "outlinewidth": 0,
              "ticks": ""
             }
            },
            "type": "scattergl"
           }
          ],
          "scattermapbox": [
           {
            "marker": {
             "colorbar": {
              "outlinewidth": 0,
              "ticks": ""
             }
            },
            "type": "scattermapbox"
           }
          ],
          "scatterpolar": [
           {
            "marker": {
             "colorbar": {
              "outlinewidth": 0,
              "ticks": ""
             }
            },
            "type": "scatterpolar"
           }
          ],
          "scatterpolargl": [
           {
            "marker": {
             "colorbar": {
              "outlinewidth": 0,
              "ticks": ""
             }
            },
            "type": "scatterpolargl"
           }
          ],
          "scatterternary": [
           {
            "marker": {
             "colorbar": {
              "outlinewidth": 0,
              "ticks": ""
             }
            },
            "type": "scatterternary"
           }
          ],
          "surface": [
           {
            "colorbar": {
             "outlinewidth": 0,
             "ticks": ""
            },
            "colorscale": [
             [
              0,
              "#0d0887"
             ],
             [
              0.1111111111111111,
              "#46039f"
             ],
             [
              0.2222222222222222,
              "#7201a8"
             ],
             [
              0.3333333333333333,
              "#9c179e"
             ],
             [
              0.4444444444444444,
              "#bd3786"
             ],
             [
              0.5555555555555556,
              "#d8576b"
             ],
             [
              0.6666666666666666,
              "#ed7953"
             ],
             [
              0.7777777777777778,
              "#fb9f3a"
             ],
             [
              0.8888888888888888,
              "#fdca26"
             ],
             [
              1,
              "#f0f921"
             ]
            ],
            "type": "surface"
           }
          ],
          "table": [
           {
            "cells": {
             "fill": {
              "color": "#EBF0F8"
             },
             "line": {
              "color": "white"
             }
            },
            "header": {
             "fill": {
              "color": "#C8D4E3"
             },
             "line": {
              "color": "white"
             }
            },
            "type": "table"
           }
          ]
         },
         "layout": {
          "annotationdefaults": {
           "arrowcolor": "#2a3f5f",
           "arrowhead": 0,
           "arrowwidth": 1
          },
          "autotypenumbers": "strict",
          "coloraxis": {
           "colorbar": {
            "outlinewidth": 0,
            "ticks": ""
           }
          },
          "colorscale": {
           "diverging": [
            [
             0,
             "#8e0152"
            ],
            [
             0.1,
             "#c51b7d"
            ],
            [
             0.2,
             "#de77ae"
            ],
            [
             0.3,
             "#f1b6da"
            ],
            [
             0.4,
             "#fde0ef"
            ],
            [
             0.5,
             "#f7f7f7"
            ],
            [
             0.6,
             "#e6f5d0"
            ],
            [
             0.7,
             "#b8e186"
            ],
            [
             0.8,
             "#7fbc41"
            ],
            [
             0.9,
             "#4d9221"
            ],
            [
             1,
             "#276419"
            ]
           ],
           "sequential": [
            [
             0,
             "#0d0887"
            ],
            [
             0.1111111111111111,
             "#46039f"
            ],
            [
             0.2222222222222222,
             "#7201a8"
            ],
            [
             0.3333333333333333,
             "#9c179e"
            ],
            [
             0.4444444444444444,
             "#bd3786"
            ],
            [
             0.5555555555555556,
             "#d8576b"
            ],
            [
             0.6666666666666666,
             "#ed7953"
            ],
            [
             0.7777777777777778,
             "#fb9f3a"
            ],
            [
             0.8888888888888888,
             "#fdca26"
            ],
            [
             1,
             "#f0f921"
            ]
           ],
           "sequentialminus": [
            [
             0,
             "#0d0887"
            ],
            [
             0.1111111111111111,
             "#46039f"
            ],
            [
             0.2222222222222222,
             "#7201a8"
            ],
            [
             0.3333333333333333,
             "#9c179e"
            ],
            [
             0.4444444444444444,
             "#bd3786"
            ],
            [
             0.5555555555555556,
             "#d8576b"
            ],
            [
             0.6666666666666666,
             "#ed7953"
            ],
            [
             0.7777777777777778,
             "#fb9f3a"
            ],
            [
             0.8888888888888888,
             "#fdca26"
            ],
            [
             1,
             "#f0f921"
            ]
           ]
          },
          "colorway": [
           "#636efa",
           "#EF553B",
           "#00cc96",
           "#ab63fa",
           "#FFA15A",
           "#19d3f3",
           "#FF6692",
           "#B6E880",
           "#FF97FF",
           "#FECB52"
          ],
          "font": {
           "color": "#2a3f5f"
          },
          "geo": {
           "bgcolor": "white",
           "lakecolor": "white",
           "landcolor": "#E5ECF6",
           "showlakes": true,
           "showland": true,
           "subunitcolor": "white"
          },
          "hoverlabel": {
           "align": "left"
          },
          "hovermode": "closest",
          "mapbox": {
           "style": "light"
          },
          "paper_bgcolor": "white",
          "plot_bgcolor": "#E5ECF6",
          "polar": {
           "angularaxis": {
            "gridcolor": "white",
            "linecolor": "white",
            "ticks": ""
           },
           "bgcolor": "#E5ECF6",
           "radialaxis": {
            "gridcolor": "white",
            "linecolor": "white",
            "ticks": ""
           }
          },
          "scene": {
           "xaxis": {
            "backgroundcolor": "#E5ECF6",
            "gridcolor": "white",
            "gridwidth": 2,
            "linecolor": "white",
            "showbackground": true,
            "ticks": "",
            "zerolinecolor": "white"
           },
           "yaxis": {
            "backgroundcolor": "#E5ECF6",
            "gridcolor": "white",
            "gridwidth": 2,
            "linecolor": "white",
            "showbackground": true,
            "ticks": "",
            "zerolinecolor": "white"
           },
           "zaxis": {
            "backgroundcolor": "#E5ECF6",
            "gridcolor": "white",
            "gridwidth": 2,
            "linecolor": "white",
            "showbackground": true,
            "ticks": "",
            "zerolinecolor": "white"
           }
          },
          "shapedefaults": {
           "line": {
            "color": "#2a3f5f"
           }
          },
          "ternary": {
           "aaxis": {
            "gridcolor": "white",
            "linecolor": "white",
            "ticks": ""
           },
           "baxis": {
            "gridcolor": "white",
            "linecolor": "white",
            "ticks": ""
           },
           "bgcolor": "#E5ECF6",
           "caxis": {
            "gridcolor": "white",
            "linecolor": "white",
            "ticks": ""
           }
          },
          "title": {
           "x": 0.05
          },
          "xaxis": {
           "automargin": true,
           "gridcolor": "white",
           "linecolor": "white",
           "ticks": "",
           "title": {
            "standoff": 15
           },
           "zerolinecolor": "white",
           "zerolinewidth": 2
          },
          "yaxis": {
           "automargin": true,
           "gridcolor": "white",
           "linecolor": "white",
           "ticks": "",
           "title": {
            "standoff": 15
           },
           "zerolinecolor": "white",
           "zerolinewidth": 2
          }
         }
        },
        "title": {
         "text": "Training and val loss across epochs"
        },
        "xaxis": {
         "title": {
          "text": "epochs"
         }
        },
        "yaxis": {
         "title": {
          "text": "Cross Entropy"
         }
        }
       }
      }
     },
     "metadata": {},
     "output_type": "display_data"
    }
   ],
   "source": [
    "from plotly import graph_objects as go\n",
    "fig = go.Figure(data=[\n",
    "                      go.Scatter(\n",
    "                          y=history.history[\"loss\"],\n",
    "                          name=\"Training loss\",\n",
    "                          mode=\"lines\",\n",
    "                          marker=dict(\n",
    "                              color=color_chart[0]\n",
    "                          )),\n",
    "                      go.Scatter(\n",
    "                          y=history.history[\"val_loss\"],\n",
    "                          name=\"Validation loss\",\n",
    "                          mode=\"lines\",\n",
    "                          marker=dict(\n",
    "                              color=color_chart[1]\n",
    "                          ))\n",
    "])\n",
    "fig.update_layout(\n",
    "    title='Training and val loss across epochs',\n",
    "    xaxis_title='epochs',\n",
    "    yaxis_title='Cross Entropy'    \n",
    ")\n",
    "fig.show()"
   ]
  },
  {
   "cell_type": "code",
   "execution_count": 27,
   "metadata": {
    "colab": {
     "base_uri": "https://localhost:8080/",
     "height": 542
    },
    "id": "vrTq5fKSOtqD",
    "outputId": "e237707d-f221-41a1-8473-58128734bcc0"
   },
   "outputs": [
    {
     "data": {
      "application/vnd.plotly.v1+json": {
       "config": {
        "plotlyServerURL": "https://plot.ly"
       },
       "data": [
        {
         "marker": {
          "color": "#2A7FAF"
         },
         "mode": "lines",
         "name": "Training accuracy",
         "type": "scatter",
         "y": [
          0.3777777850627899,
          0.47777777910232544,
          0.5111111402511597,
          0.5,
          0.47777777910232544,
          0.5444444417953491,
          0.5888888835906982,
          0.6555555462837219,
          0.6666666865348816,
          0.6777777671813965
         ]
        },
        {
         "marker": {
          "color": "#23B1AB"
         },
         "mode": "lines",
         "name": "Validation accruracy",
         "type": "scatter",
         "y": [
          0.2666666805744171,
          0.3333333432674408,
          0.4000000059604645,
          0.46666666865348816,
          0.5,
          0.5333333611488342,
          0.5333333611488342,
          0.6000000238418579,
          0.7333333492279053,
          0.7666666507720947
         ]
        }
       ],
       "layout": {
        "template": {
         "data": {
          "bar": [
           {
            "error_x": {
             "color": "#2a3f5f"
            },
            "error_y": {
             "color": "#2a3f5f"
            },
            "marker": {
             "line": {
              "color": "#E5ECF6",
              "width": 0.5
             },
             "pattern": {
              "fillmode": "overlay",
              "size": 10,
              "solidity": 0.2
             }
            },
            "type": "bar"
           }
          ],
          "barpolar": [
           {
            "marker": {
             "line": {
              "color": "#E5ECF6",
              "width": 0.5
             },
             "pattern": {
              "fillmode": "overlay",
              "size": 10,
              "solidity": 0.2
             }
            },
            "type": "barpolar"
           }
          ],
          "carpet": [
           {
            "aaxis": {
             "endlinecolor": "#2a3f5f",
             "gridcolor": "white",
             "linecolor": "white",
             "minorgridcolor": "white",
             "startlinecolor": "#2a3f5f"
            },
            "baxis": {
             "endlinecolor": "#2a3f5f",
             "gridcolor": "white",
             "linecolor": "white",
             "minorgridcolor": "white",
             "startlinecolor": "#2a3f5f"
            },
            "type": "carpet"
           }
          ],
          "choropleth": [
           {
            "colorbar": {
             "outlinewidth": 0,
             "ticks": ""
            },
            "type": "choropleth"
           }
          ],
          "contour": [
           {
            "colorbar": {
             "outlinewidth": 0,
             "ticks": ""
            },
            "colorscale": [
             [
              0,
              "#0d0887"
             ],
             [
              0.1111111111111111,
              "#46039f"
             ],
             [
              0.2222222222222222,
              "#7201a8"
             ],
             [
              0.3333333333333333,
              "#9c179e"
             ],
             [
              0.4444444444444444,
              "#bd3786"
             ],
             [
              0.5555555555555556,
              "#d8576b"
             ],
             [
              0.6666666666666666,
              "#ed7953"
             ],
             [
              0.7777777777777778,
              "#fb9f3a"
             ],
             [
              0.8888888888888888,
              "#fdca26"
             ],
             [
              1,
              "#f0f921"
             ]
            ],
            "type": "contour"
           }
          ],
          "contourcarpet": [
           {
            "colorbar": {
             "outlinewidth": 0,
             "ticks": ""
            },
            "type": "contourcarpet"
           }
          ],
          "heatmap": [
           {
            "colorbar": {
             "outlinewidth": 0,
             "ticks": ""
            },
            "colorscale": [
             [
              0,
              "#0d0887"
             ],
             [
              0.1111111111111111,
              "#46039f"
             ],
             [
              0.2222222222222222,
              "#7201a8"
             ],
             [
              0.3333333333333333,
              "#9c179e"
             ],
             [
              0.4444444444444444,
              "#bd3786"
             ],
             [
              0.5555555555555556,
              "#d8576b"
             ],
             [
              0.6666666666666666,
              "#ed7953"
             ],
             [
              0.7777777777777778,
              "#fb9f3a"
             ],
             [
              0.8888888888888888,
              "#fdca26"
             ],
             [
              1,
              "#f0f921"
             ]
            ],
            "type": "heatmap"
           }
          ],
          "heatmapgl": [
           {
            "colorbar": {
             "outlinewidth": 0,
             "ticks": ""
            },
            "colorscale": [
             [
              0,
              "#0d0887"
             ],
             [
              0.1111111111111111,
              "#46039f"
             ],
             [
              0.2222222222222222,
              "#7201a8"
             ],
             [
              0.3333333333333333,
              "#9c179e"
             ],
             [
              0.4444444444444444,
              "#bd3786"
             ],
             [
              0.5555555555555556,
              "#d8576b"
             ],
             [
              0.6666666666666666,
              "#ed7953"
             ],
             [
              0.7777777777777778,
              "#fb9f3a"
             ],
             [
              0.8888888888888888,
              "#fdca26"
             ],
             [
              1,
              "#f0f921"
             ]
            ],
            "type": "heatmapgl"
           }
          ],
          "histogram": [
           {
            "marker": {
             "pattern": {
              "fillmode": "overlay",
              "size": 10,
              "solidity": 0.2
             }
            },
            "type": "histogram"
           }
          ],
          "histogram2d": [
           {
            "colorbar": {
             "outlinewidth": 0,
             "ticks": ""
            },
            "colorscale": [
             [
              0,
              "#0d0887"
             ],
             [
              0.1111111111111111,
              "#46039f"
             ],
             [
              0.2222222222222222,
              "#7201a8"
             ],
             [
              0.3333333333333333,
              "#9c179e"
             ],
             [
              0.4444444444444444,
              "#bd3786"
             ],
             [
              0.5555555555555556,
              "#d8576b"
             ],
             [
              0.6666666666666666,
              "#ed7953"
             ],
             [
              0.7777777777777778,
              "#fb9f3a"
             ],
             [
              0.8888888888888888,
              "#fdca26"
             ],
             [
              1,
              "#f0f921"
             ]
            ],
            "type": "histogram2d"
           }
          ],
          "histogram2dcontour": [
           {
            "colorbar": {
             "outlinewidth": 0,
             "ticks": ""
            },
            "colorscale": [
             [
              0,
              "#0d0887"
             ],
             [
              0.1111111111111111,
              "#46039f"
             ],
             [
              0.2222222222222222,
              "#7201a8"
             ],
             [
              0.3333333333333333,
              "#9c179e"
             ],
             [
              0.4444444444444444,
              "#bd3786"
             ],
             [
              0.5555555555555556,
              "#d8576b"
             ],
             [
              0.6666666666666666,
              "#ed7953"
             ],
             [
              0.7777777777777778,
              "#fb9f3a"
             ],
             [
              0.8888888888888888,
              "#fdca26"
             ],
             [
              1,
              "#f0f921"
             ]
            ],
            "type": "histogram2dcontour"
           }
          ],
          "mesh3d": [
           {
            "colorbar": {
             "outlinewidth": 0,
             "ticks": ""
            },
            "type": "mesh3d"
           }
          ],
          "parcoords": [
           {
            "line": {
             "colorbar": {
              "outlinewidth": 0,
              "ticks": ""
             }
            },
            "type": "parcoords"
           }
          ],
          "pie": [
           {
            "automargin": true,
            "type": "pie"
           }
          ],
          "scatter": [
           {
            "marker": {
             "colorbar": {
              "outlinewidth": 0,
              "ticks": ""
             }
            },
            "type": "scatter"
           }
          ],
          "scatter3d": [
           {
            "line": {
             "colorbar": {
              "outlinewidth": 0,
              "ticks": ""
             }
            },
            "marker": {
             "colorbar": {
              "outlinewidth": 0,
              "ticks": ""
             }
            },
            "type": "scatter3d"
           }
          ],
          "scattercarpet": [
           {
            "marker": {
             "colorbar": {
              "outlinewidth": 0,
              "ticks": ""
             }
            },
            "type": "scattercarpet"
           }
          ],
          "scattergeo": [
           {
            "marker": {
             "colorbar": {
              "outlinewidth": 0,
              "ticks": ""
             }
            },
            "type": "scattergeo"
           }
          ],
          "scattergl": [
           {
            "marker": {
             "colorbar": {
              "outlinewidth": 0,
              "ticks": ""
             }
            },
            "type": "scattergl"
           }
          ],
          "scattermapbox": [
           {
            "marker": {
             "colorbar": {
              "outlinewidth": 0,
              "ticks": ""
             }
            },
            "type": "scattermapbox"
           }
          ],
          "scatterpolar": [
           {
            "marker": {
             "colorbar": {
              "outlinewidth": 0,
              "ticks": ""
             }
            },
            "type": "scatterpolar"
           }
          ],
          "scatterpolargl": [
           {
            "marker": {
             "colorbar": {
              "outlinewidth": 0,
              "ticks": ""
             }
            },
            "type": "scatterpolargl"
           }
          ],
          "scatterternary": [
           {
            "marker": {
             "colorbar": {
              "outlinewidth": 0,
              "ticks": ""
             }
            },
            "type": "scatterternary"
           }
          ],
          "surface": [
           {
            "colorbar": {
             "outlinewidth": 0,
             "ticks": ""
            },
            "colorscale": [
             [
              0,
              "#0d0887"
             ],
             [
              0.1111111111111111,
              "#46039f"
             ],
             [
              0.2222222222222222,
              "#7201a8"
             ],
             [
              0.3333333333333333,
              "#9c179e"
             ],
             [
              0.4444444444444444,
              "#bd3786"
             ],
             [
              0.5555555555555556,
              "#d8576b"
             ],
             [
              0.6666666666666666,
              "#ed7953"
             ],
             [
              0.7777777777777778,
              "#fb9f3a"
             ],
             [
              0.8888888888888888,
              "#fdca26"
             ],
             [
              1,
              "#f0f921"
             ]
            ],
            "type": "surface"
           }
          ],
          "table": [
           {
            "cells": {
             "fill": {
              "color": "#EBF0F8"
             },
             "line": {
              "color": "white"
             }
            },
            "header": {
             "fill": {
              "color": "#C8D4E3"
             },
             "line": {
              "color": "white"
             }
            },
            "type": "table"
           }
          ]
         },
         "layout": {
          "annotationdefaults": {
           "arrowcolor": "#2a3f5f",
           "arrowhead": 0,
           "arrowwidth": 1
          },
          "autotypenumbers": "strict",
          "coloraxis": {
           "colorbar": {
            "outlinewidth": 0,
            "ticks": ""
           }
          },
          "colorscale": {
           "diverging": [
            [
             0,
             "#8e0152"
            ],
            [
             0.1,
             "#c51b7d"
            ],
            [
             0.2,
             "#de77ae"
            ],
            [
             0.3,
             "#f1b6da"
            ],
            [
             0.4,
             "#fde0ef"
            ],
            [
             0.5,
             "#f7f7f7"
            ],
            [
             0.6,
             "#e6f5d0"
            ],
            [
             0.7,
             "#b8e186"
            ],
            [
             0.8,
             "#7fbc41"
            ],
            [
             0.9,
             "#4d9221"
            ],
            [
             1,
             "#276419"
            ]
           ],
           "sequential": [
            [
             0,
             "#0d0887"
            ],
            [
             0.1111111111111111,
             "#46039f"
            ],
            [
             0.2222222222222222,
             "#7201a8"
            ],
            [
             0.3333333333333333,
             "#9c179e"
            ],
            [
             0.4444444444444444,
             "#bd3786"
            ],
            [
             0.5555555555555556,
             "#d8576b"
            ],
            [
             0.6666666666666666,
             "#ed7953"
            ],
            [
             0.7777777777777778,
             "#fb9f3a"
            ],
            [
             0.8888888888888888,
             "#fdca26"
            ],
            [
             1,
             "#f0f921"
            ]
           ],
           "sequentialminus": [
            [
             0,
             "#0d0887"
            ],
            [
             0.1111111111111111,
             "#46039f"
            ],
            [
             0.2222222222222222,
             "#7201a8"
            ],
            [
             0.3333333333333333,
             "#9c179e"
            ],
            [
             0.4444444444444444,
             "#bd3786"
            ],
            [
             0.5555555555555556,
             "#d8576b"
            ],
            [
             0.6666666666666666,
             "#ed7953"
            ],
            [
             0.7777777777777778,
             "#fb9f3a"
            ],
            [
             0.8888888888888888,
             "#fdca26"
            ],
            [
             1,
             "#f0f921"
            ]
           ]
          },
          "colorway": [
           "#636efa",
           "#EF553B",
           "#00cc96",
           "#ab63fa",
           "#FFA15A",
           "#19d3f3",
           "#FF6692",
           "#B6E880",
           "#FF97FF",
           "#FECB52"
          ],
          "font": {
           "color": "#2a3f5f"
          },
          "geo": {
           "bgcolor": "white",
           "lakecolor": "white",
           "landcolor": "#E5ECF6",
           "showlakes": true,
           "showland": true,
           "subunitcolor": "white"
          },
          "hoverlabel": {
           "align": "left"
          },
          "hovermode": "closest",
          "mapbox": {
           "style": "light"
          },
          "paper_bgcolor": "white",
          "plot_bgcolor": "#E5ECF6",
          "polar": {
           "angularaxis": {
            "gridcolor": "white",
            "linecolor": "white",
            "ticks": ""
           },
           "bgcolor": "#E5ECF6",
           "radialaxis": {
            "gridcolor": "white",
            "linecolor": "white",
            "ticks": ""
           }
          },
          "scene": {
           "xaxis": {
            "backgroundcolor": "#E5ECF6",
            "gridcolor": "white",
            "gridwidth": 2,
            "linecolor": "white",
            "showbackground": true,
            "ticks": "",
            "zerolinecolor": "white"
           },
           "yaxis": {
            "backgroundcolor": "#E5ECF6",
            "gridcolor": "white",
            "gridwidth": 2,
            "linecolor": "white",
            "showbackground": true,
            "ticks": "",
            "zerolinecolor": "white"
           },
           "zaxis": {
            "backgroundcolor": "#E5ECF6",
            "gridcolor": "white",
            "gridwidth": 2,
            "linecolor": "white",
            "showbackground": true,
            "ticks": "",
            "zerolinecolor": "white"
           }
          },
          "shapedefaults": {
           "line": {
            "color": "#2a3f5f"
           }
          },
          "ternary": {
           "aaxis": {
            "gridcolor": "white",
            "linecolor": "white",
            "ticks": ""
           },
           "baxis": {
            "gridcolor": "white",
            "linecolor": "white",
            "ticks": ""
           },
           "bgcolor": "#E5ECF6",
           "caxis": {
            "gridcolor": "white",
            "linecolor": "white",
            "ticks": ""
           }
          },
          "title": {
           "x": 0.05
          },
          "xaxis": {
           "automargin": true,
           "gridcolor": "white",
           "linecolor": "white",
           "ticks": "",
           "title": {
            "standoff": 15
           },
           "zerolinecolor": "white",
           "zerolinewidth": 2
          },
          "yaxis": {
           "automargin": true,
           "gridcolor": "white",
           "linecolor": "white",
           "ticks": "",
           "title": {
            "standoff": 15
           },
           "zerolinecolor": "white",
           "zerolinewidth": 2
          }
         }
        },
        "title": {
         "text": "Training and val accuracy across epochs"
        },
        "xaxis": {
         "title": {
          "text": "epochs"
         }
        },
        "yaxis": {
         "title": {
          "text": "Accuracy"
         }
        }
       }
      }
     },
     "metadata": {},
     "output_type": "display_data"
    }
   ],
   "source": [
    "from plotly import graph_objects as go\n",
    "fig = go.Figure(data=[\n",
    "                      go.Scatter(\n",
    "                          y=history.history[\"sparse_categorical_accuracy\"],\n",
    "                          name=\"Training accuracy\",\n",
    "                          mode=\"lines\",\n",
    "                          marker=dict(\n",
    "                              color=color_chart[4]\n",
    "                          )),\n",
    "                      go.Scatter(\n",
    "                          y=history.history[\"val_sparse_categorical_accuracy\"],\n",
    "                          name=\"Validation accruracy\",\n",
    "                          mode=\"lines\",\n",
    "                          marker=dict(\n",
    "                              color=color_chart[5]\n",
    "                          ))\n",
    "])\n",
    "fig.update_layout(\n",
    "    title='Training and val accuracy across epochs',\n",
    "    xaxis_title='epochs',\n",
    "    yaxis_title='Accuracy'    \n",
    ")\n",
    "fig.show()"
   ]
  },
  {
   "cell_type": "markdown",
   "metadata": {
    "id": "hbHgUYtuPVQ8"
   },
   "source": [
    "We are able to visualize the evolution of the loss and the metrics during training on both the training set and the validation set. The validation set is not helpful for the training per se but makes it easy to see if the model starts over fitting. Let's give an example where the model overfits after a while."
   ]
  },
  {
   "cell_type": "code",
   "execution_count": 28,
   "metadata": {
    "colab": {
     "base_uri": "https://localhost:8080/"
    },
    "id": "jkm9tACFPvAd",
    "outputId": "26c46b34-1b25-4beb-8eb1-66fec85a2e0a"
   },
   "outputs": [
    {
     "name": "stdout",
     "output_type": "stream",
     "text": [
      "Epoch 1/40\n",
      "86/86 [==============================] - 1s 3ms/step - loss: 0.3353 - sparse_categorical_accuracy: 0.8768 - val_loss: 0.1504 - val_sparse_categorical_accuracy: 0.9649\n",
      "Epoch 2/40\n",
      "86/86 [==============================] - 0s 2ms/step - loss: 0.0865 - sparse_categorical_accuracy: 0.9795 - val_loss: 0.0737 - val_sparse_categorical_accuracy: 0.9912\n",
      "Epoch 3/40\n",
      "86/86 [==============================] - 0s 2ms/step - loss: 0.0525 - sparse_categorical_accuracy: 0.9853 - val_loss: 0.0705 - val_sparse_categorical_accuracy: 0.9912\n",
      "Epoch 4/40\n",
      "86/86 [==============================] - 0s 2ms/step - loss: 0.0418 - sparse_categorical_accuracy: 0.9883 - val_loss: 0.0596 - val_sparse_categorical_accuracy: 0.9912\n",
      "Epoch 5/40\n",
      "86/86 [==============================] - 0s 2ms/step - loss: 0.0372 - sparse_categorical_accuracy: 0.9883 - val_loss: 0.0649 - val_sparse_categorical_accuracy: 0.9825\n",
      "Epoch 6/40\n",
      "86/86 [==============================] - 0s 2ms/step - loss: 0.0295 - sparse_categorical_accuracy: 0.9912 - val_loss: 0.0640 - val_sparse_categorical_accuracy: 0.9825\n",
      "Epoch 7/40\n",
      "86/86 [==============================] - 0s 2ms/step - loss: 0.0191 - sparse_categorical_accuracy: 0.9941 - val_loss: 0.0667 - val_sparse_categorical_accuracy: 0.9825\n",
      "Epoch 8/40\n",
      "86/86 [==============================] - 0s 2ms/step - loss: 0.0136 - sparse_categorical_accuracy: 0.9941 - val_loss: 0.0709 - val_sparse_categorical_accuracy: 0.9825\n",
      "Epoch 9/40\n",
      "86/86 [==============================] - 0s 2ms/step - loss: 0.0120 - sparse_categorical_accuracy: 0.9941 - val_loss: 0.0797 - val_sparse_categorical_accuracy: 0.9825\n",
      "Epoch 10/40\n",
      "86/86 [==============================] - 0s 2ms/step - loss: 0.0069 - sparse_categorical_accuracy: 0.9971 - val_loss: 0.0822 - val_sparse_categorical_accuracy: 0.9825\n",
      "Epoch 11/40\n",
      "86/86 [==============================] - 0s 2ms/step - loss: 0.0050 - sparse_categorical_accuracy: 1.0000 - val_loss: 0.0909 - val_sparse_categorical_accuracy: 0.9825\n",
      "Epoch 12/40\n",
      "86/86 [==============================] - 0s 2ms/step - loss: 0.0033 - sparse_categorical_accuracy: 1.0000 - val_loss: 0.0949 - val_sparse_categorical_accuracy: 0.9825\n",
      "Epoch 13/40\n",
      "86/86 [==============================] - 0s 3ms/step - loss: 0.0024 - sparse_categorical_accuracy: 1.0000 - val_loss: 0.0982 - val_sparse_categorical_accuracy: 0.9825\n",
      "Epoch 14/40\n",
      "86/86 [==============================] - 0s 2ms/step - loss: 0.0017 - sparse_categorical_accuracy: 1.0000 - val_loss: 0.1020 - val_sparse_categorical_accuracy: 0.9825\n",
      "Epoch 15/40\n",
      "86/86 [==============================] - 0s 2ms/step - loss: 0.0015 - sparse_categorical_accuracy: 1.0000 - val_loss: 0.1049 - val_sparse_categorical_accuracy: 0.9825\n",
      "Epoch 16/40\n",
      "86/86 [==============================] - 0s 2ms/step - loss: 0.0011 - sparse_categorical_accuracy: 1.0000 - val_loss: 0.1076 - val_sparse_categorical_accuracy: 0.9825\n",
      "Epoch 17/40\n",
      "86/86 [==============================] - 0s 2ms/step - loss: 8.4181e-04 - sparse_categorical_accuracy: 1.0000 - val_loss: 0.1106 - val_sparse_categorical_accuracy: 0.9825\n",
      "Epoch 18/40\n",
      "86/86 [==============================] - 0s 2ms/step - loss: 7.0211e-04 - sparse_categorical_accuracy: 1.0000 - val_loss: 0.1117 - val_sparse_categorical_accuracy: 0.9825\n",
      "Epoch 19/40\n",
      "86/86 [==============================] - 0s 2ms/step - loss: 5.9167e-04 - sparse_categorical_accuracy: 1.0000 - val_loss: 0.1159 - val_sparse_categorical_accuracy: 0.9825\n",
      "Epoch 20/40\n",
      "86/86 [==============================] - 0s 2ms/step - loss: 4.9651e-04 - sparse_categorical_accuracy: 1.0000 - val_loss: 0.1179 - val_sparse_categorical_accuracy: 0.9825\n",
      "Epoch 21/40\n",
      "86/86 [==============================] - 0s 2ms/step - loss: 4.5169e-04 - sparse_categorical_accuracy: 1.0000 - val_loss: 0.1194 - val_sparse_categorical_accuracy: 0.9825\n",
      "Epoch 22/40\n",
      "86/86 [==============================] - 0s 2ms/step - loss: 3.6097e-04 - sparse_categorical_accuracy: 1.0000 - val_loss: 0.1213 - val_sparse_categorical_accuracy: 0.9825\n",
      "Epoch 23/40\n",
      "86/86 [==============================] - 0s 2ms/step - loss: 3.2340e-04 - sparse_categorical_accuracy: 1.0000 - val_loss: 0.1239 - val_sparse_categorical_accuracy: 0.9825\n",
      "Epoch 24/40\n",
      "86/86 [==============================] - 0s 2ms/step - loss: 2.7113e-04 - sparse_categorical_accuracy: 1.0000 - val_loss: 0.1263 - val_sparse_categorical_accuracy: 0.9825\n",
      "Epoch 25/40\n",
      "86/86 [==============================] - 0s 2ms/step - loss: 2.6023e-04 - sparse_categorical_accuracy: 1.0000 - val_loss: 0.1279 - val_sparse_categorical_accuracy: 0.9825\n",
      "Epoch 26/40\n",
      "86/86 [==============================] - 0s 2ms/step - loss: 2.2408e-04 - sparse_categorical_accuracy: 1.0000 - val_loss: 0.1301 - val_sparse_categorical_accuracy: 0.9825\n",
      "Epoch 27/40\n",
      "86/86 [==============================] - 0s 2ms/step - loss: 1.9132e-04 - sparse_categorical_accuracy: 1.0000 - val_loss: 0.1304 - val_sparse_categorical_accuracy: 0.9825\n",
      "Epoch 28/40\n",
      "86/86 [==============================] - 0s 2ms/step - loss: 1.6874e-04 - sparse_categorical_accuracy: 1.0000 - val_loss: 0.1326 - val_sparse_categorical_accuracy: 0.9825\n",
      "Epoch 29/40\n",
      "86/86 [==============================] - 0s 2ms/step - loss: 1.5358e-04 - sparse_categorical_accuracy: 1.0000 - val_loss: 0.1325 - val_sparse_categorical_accuracy: 0.9825\n",
      "Epoch 30/40\n",
      "86/86 [==============================] - 0s 3ms/step - loss: 1.3576e-04 - sparse_categorical_accuracy: 1.0000 - val_loss: 0.1358 - val_sparse_categorical_accuracy: 0.9825\n",
      "Epoch 31/40\n",
      "86/86 [==============================] - 0s 2ms/step - loss: 1.2556e-04 - sparse_categorical_accuracy: 1.0000 - val_loss: 0.1372 - val_sparse_categorical_accuracy: 0.9825\n",
      "Epoch 32/40\n",
      "86/86 [==============================] - 0s 3ms/step - loss: 1.1089e-04 - sparse_categorical_accuracy: 1.0000 - val_loss: 0.1383 - val_sparse_categorical_accuracy: 0.9825\n",
      "Epoch 33/40\n",
      "86/86 [==============================] - 0s 2ms/step - loss: 1.0402e-04 - sparse_categorical_accuracy: 1.0000 - val_loss: 0.1393 - val_sparse_categorical_accuracy: 0.9825\n",
      "Epoch 34/40\n",
      "86/86 [==============================] - 0s 2ms/step - loss: 9.0451e-05 - sparse_categorical_accuracy: 1.0000 - val_loss: 0.1403 - val_sparse_categorical_accuracy: 0.9825\n",
      "Epoch 35/40\n",
      "86/86 [==============================] - 0s 2ms/step - loss: 8.3380e-05 - sparse_categorical_accuracy: 1.0000 - val_loss: 0.1411 - val_sparse_categorical_accuracy: 0.9825\n",
      "Epoch 36/40\n",
      "86/86 [==============================] - 0s 2ms/step - loss: 7.5263e-05 - sparse_categorical_accuracy: 1.0000 - val_loss: 0.1431 - val_sparse_categorical_accuracy: 0.9825\n",
      "Epoch 37/40\n",
      "86/86 [==============================] - 0s 2ms/step - loss: 6.9813e-05 - sparse_categorical_accuracy: 1.0000 - val_loss: 0.1438 - val_sparse_categorical_accuracy: 0.9825\n",
      "Epoch 38/40\n",
      "86/86 [==============================] - 0s 2ms/step - loss: 6.5987e-05 - sparse_categorical_accuracy: 1.0000 - val_loss: 0.1450 - val_sparse_categorical_accuracy: 0.9825\n",
      "Epoch 39/40\n",
      "86/86 [==============================] - 0s 2ms/step - loss: 5.9097e-05 - sparse_categorical_accuracy: 1.0000 - val_loss: 0.1461 - val_sparse_categorical_accuracy: 0.9825\n",
      "Epoch 40/40\n",
      "86/86 [==============================] - 0s 2ms/step - loss: 5.6322e-05 - sparse_categorical_accuracy: 1.0000 - val_loss: 0.1466 - val_sparse_categorical_accuracy: 0.9825\n"
     ]
    }
   ],
   "source": [
    "from sklearn.datasets import load_breast_cancer\n",
    "\n",
    "cancer = load_breast_cancer() # load the data\n",
    "\n",
    "data = cancer.data # store training variables in data\n",
    "target = cancer.target # store target variable in target\n",
    "\n",
    "from sklearn.model_selection import train_test_split\n",
    "# Split 60% in train 20% in val 20% in test\n",
    "X_train, X_valtest, y_train, y_valtest = train_test_split(data,\n",
    "                                                          target,\n",
    "                                                          test_size=0.4,\n",
    "                                                          stratify=target)\n",
    "X_val, X_test, y_val, y_test = train_test_split(X_valtest, y_valtest,\n",
    "                                                test_size=0.5,\n",
    "                                                stratify=y_valtest)\n",
    "\n",
    "# Normalize the data\n",
    "from sklearn.preprocessing import StandardScaler\n",
    "sc = StandardScaler()\n",
    "X_train = sc.fit_transform(X_train)\n",
    "X_val = sc.transform(X_val)\n",
    "X_test = sc.transform(X_test)\n",
    "\n",
    "# Create the tensor slice datasets\n",
    "train = tf.data.Dataset.from_tensor_slices((X_train,y_train))\n",
    "val = tf.data.Dataset.from_tensor_slices((X_val,y_val))\n",
    "test = tf.data.Dataset.from_tensor_slices((X_test,y_test))\n",
    "\n",
    "# shuffle and batch\n",
    "train_batch = train.shuffle(len(X_train)).batch(4)\n",
    "val_batch = val.shuffle(len(X_val)).batch(4)\n",
    "test_batch = test.shuffle(len(X_test)).batch(4)\n",
    "\n",
    "model = Sequential([\n",
    "                    Dense(64,\"relu\",input_shape=[data.shape[1]]),\n",
    "                    Dense(32,\"relu\"),\n",
    "                    Dense(16,\"relu\"),\n",
    "                    Dense(8,\"relu\"),\n",
    "                    Dense(len(np.unique(target)), \"softmax\") \n",
    "])\n",
    "\n",
    "# Set up the optimizer\n",
    "opt = Adam(0.001)\n",
    "# define the loss function\n",
    "loss = SparseCategoricalCrossentropy()\n",
    "# define the performance metric\n",
    "metric = tf.keras.metrics.SparseCategoricalAccuracy()\n",
    "\n",
    "# Compile the model\n",
    "model.compile(optimizer=opt,\n",
    "              loss=loss,\n",
    "              metrics=[metric])\n",
    "\n",
    "history = model.fit(train_batch, epochs=40, validation_data=val_batch)"
   ]
  },
  {
   "cell_type": "code",
   "execution_count": 29,
   "metadata": {
    "colab": {
     "base_uri": "https://localhost:8080/",
     "height": 542
    },
    "id": "v0Y0N-OLSIy_",
    "outputId": "a316a08b-fe15-48aa-9570-132bd673e3e1"
   },
   "outputs": [
    {
     "data": {
      "application/vnd.plotly.v1+json": {
       "config": {
        "plotlyServerURL": "https://plot.ly"
       },
       "data": [
        {
         "marker": {
          "color": "#4B9AC7"
         },
         "mode": "lines",
         "name": "Training loss",
         "type": "scatter",
         "y": [
          0.33530309796333313,
          0.08654811978340149,
          0.052495576441287994,
          0.041848670691251755,
          0.03719339892268181,
          0.029456451535224915,
          0.019064676016569138,
          0.013637547381222248,
          0.01204802468419075,
          0.006904267705976963,
          0.004998927470296621,
          0.0033040610142052174,
          0.002392417751252651,
          0.0017198139103129506,
          0.0014723095810040832,
          0.0010824199998751283,
          0.0008418112411163747,
          0.0007021059864200652,
          0.0005916661466471851,
          0.0004965117550455034,
          0.0004516877233982086,
          0.00036096980329602957,
          0.0003233957977499813,
          0.0002711254346650094,
          0.00026022864039987326,
          0.00022408005315810442,
          0.00019131779845338315,
          0.00016873904678504914,
          0.00015357941447291523,
          0.00013576148194260895,
          0.00012556086585391313,
          0.00011088539758929983,
          0.00010401580948382616,
          0.00009045111801242456,
          0.0000833800295367837,
          0.00007526279659941792,
          0.00006981278420425951,
          0.00006598745676456019,
          0.000059097103076055646,
          0.00005632191459881142
         ]
        },
        {
         "marker": {
          "color": "#4BE8E0"
         },
         "mode": "lines",
         "name": "Validation loss",
         "type": "scatter",
         "y": [
          0.150395929813385,
          0.07366536557674408,
          0.07051044702529907,
          0.05955533683300018,
          0.06493980437517166,
          0.06400863081216812,
          0.06672368198633194,
          0.07090423256158829,
          0.07970992475748062,
          0.08215702325105667,
          0.09089787304401398,
          0.09491094201803207,
          0.09823963791131973,
          0.10199999064207077,
          0.10486698895692825,
          0.10761621594429016,
          0.11056645214557648,
          0.11166520416736603,
          0.1159176155924797,
          0.117938332259655,
          0.11942945420742035,
          0.12127744406461716,
          0.12386259436607361,
          0.12626630067825317,
          0.12791304290294647,
          0.1301429271697998,
          0.13036927580833435,
          0.13255231082439423,
          0.13245393335819244,
          0.13584190607070923,
          0.1371961534023285,
          0.1382715106010437,
          0.13932844996452332,
          0.14034417271614075,
          0.14111816883087158,
          0.14313454926013947,
          0.14382289350032806,
          0.14496207237243652,
          0.14609284698963165,
          0.14660629630088806
         ]
        }
       ],
       "layout": {
        "shapes": [
         {
          "line": {
           "color": "red",
           "dash": "dot",
           "width": 3
          },
          "name": "overfitting limit",
          "type": "line",
          "x0": 3,
          "x1": 3,
          "y0": 0.00005632191459881142,
          "y1": 0.33530309796333313
         }
        ],
        "template": {
         "data": {
          "bar": [
           {
            "error_x": {
             "color": "#2a3f5f"
            },
            "error_y": {
             "color": "#2a3f5f"
            },
            "marker": {
             "line": {
              "color": "#E5ECF6",
              "width": 0.5
             },
             "pattern": {
              "fillmode": "overlay",
              "size": 10,
              "solidity": 0.2
             }
            },
            "type": "bar"
           }
          ],
          "barpolar": [
           {
            "marker": {
             "line": {
              "color": "#E5ECF6",
              "width": 0.5
             },
             "pattern": {
              "fillmode": "overlay",
              "size": 10,
              "solidity": 0.2
             }
            },
            "type": "barpolar"
           }
          ],
          "carpet": [
           {
            "aaxis": {
             "endlinecolor": "#2a3f5f",
             "gridcolor": "white",
             "linecolor": "white",
             "minorgridcolor": "white",
             "startlinecolor": "#2a3f5f"
            },
            "baxis": {
             "endlinecolor": "#2a3f5f",
             "gridcolor": "white",
             "linecolor": "white",
             "minorgridcolor": "white",
             "startlinecolor": "#2a3f5f"
            },
            "type": "carpet"
           }
          ],
          "choropleth": [
           {
            "colorbar": {
             "outlinewidth": 0,
             "ticks": ""
            },
            "type": "choropleth"
           }
          ],
          "contour": [
           {
            "colorbar": {
             "outlinewidth": 0,
             "ticks": ""
            },
            "colorscale": [
             [
              0,
              "#0d0887"
             ],
             [
              0.1111111111111111,
              "#46039f"
             ],
             [
              0.2222222222222222,
              "#7201a8"
             ],
             [
              0.3333333333333333,
              "#9c179e"
             ],
             [
              0.4444444444444444,
              "#bd3786"
             ],
             [
              0.5555555555555556,
              "#d8576b"
             ],
             [
              0.6666666666666666,
              "#ed7953"
             ],
             [
              0.7777777777777778,
              "#fb9f3a"
             ],
             [
              0.8888888888888888,
              "#fdca26"
             ],
             [
              1,
              "#f0f921"
             ]
            ],
            "type": "contour"
           }
          ],
          "contourcarpet": [
           {
            "colorbar": {
             "outlinewidth": 0,
             "ticks": ""
            },
            "type": "contourcarpet"
           }
          ],
          "heatmap": [
           {
            "colorbar": {
             "outlinewidth": 0,
             "ticks": ""
            },
            "colorscale": [
             [
              0,
              "#0d0887"
             ],
             [
              0.1111111111111111,
              "#46039f"
             ],
             [
              0.2222222222222222,
              "#7201a8"
             ],
             [
              0.3333333333333333,
              "#9c179e"
             ],
             [
              0.4444444444444444,
              "#bd3786"
             ],
             [
              0.5555555555555556,
              "#d8576b"
             ],
             [
              0.6666666666666666,
              "#ed7953"
             ],
             [
              0.7777777777777778,
              "#fb9f3a"
             ],
             [
              0.8888888888888888,
              "#fdca26"
             ],
             [
              1,
              "#f0f921"
             ]
            ],
            "type": "heatmap"
           }
          ],
          "heatmapgl": [
           {
            "colorbar": {
             "outlinewidth": 0,
             "ticks": ""
            },
            "colorscale": [
             [
              0,
              "#0d0887"
             ],
             [
              0.1111111111111111,
              "#46039f"
             ],
             [
              0.2222222222222222,
              "#7201a8"
             ],
             [
              0.3333333333333333,
              "#9c179e"
             ],
             [
              0.4444444444444444,
              "#bd3786"
             ],
             [
              0.5555555555555556,
              "#d8576b"
             ],
             [
              0.6666666666666666,
              "#ed7953"
             ],
             [
              0.7777777777777778,
              "#fb9f3a"
             ],
             [
              0.8888888888888888,
              "#fdca26"
             ],
             [
              1,
              "#f0f921"
             ]
            ],
            "type": "heatmapgl"
           }
          ],
          "histogram": [
           {
            "marker": {
             "pattern": {
              "fillmode": "overlay",
              "size": 10,
              "solidity": 0.2
             }
            },
            "type": "histogram"
           }
          ],
          "histogram2d": [
           {
            "colorbar": {
             "outlinewidth": 0,
             "ticks": ""
            },
            "colorscale": [
             [
              0,
              "#0d0887"
             ],
             [
              0.1111111111111111,
              "#46039f"
             ],
             [
              0.2222222222222222,
              "#7201a8"
             ],
             [
              0.3333333333333333,
              "#9c179e"
             ],
             [
              0.4444444444444444,
              "#bd3786"
             ],
             [
              0.5555555555555556,
              "#d8576b"
             ],
             [
              0.6666666666666666,
              "#ed7953"
             ],
             [
              0.7777777777777778,
              "#fb9f3a"
             ],
             [
              0.8888888888888888,
              "#fdca26"
             ],
             [
              1,
              "#f0f921"
             ]
            ],
            "type": "histogram2d"
           }
          ],
          "histogram2dcontour": [
           {
            "colorbar": {
             "outlinewidth": 0,
             "ticks": ""
            },
            "colorscale": [
             [
              0,
              "#0d0887"
             ],
             [
              0.1111111111111111,
              "#46039f"
             ],
             [
              0.2222222222222222,
              "#7201a8"
             ],
             [
              0.3333333333333333,
              "#9c179e"
             ],
             [
              0.4444444444444444,
              "#bd3786"
             ],
             [
              0.5555555555555556,
              "#d8576b"
             ],
             [
              0.6666666666666666,
              "#ed7953"
             ],
             [
              0.7777777777777778,
              "#fb9f3a"
             ],
             [
              0.8888888888888888,
              "#fdca26"
             ],
             [
              1,
              "#f0f921"
             ]
            ],
            "type": "histogram2dcontour"
           }
          ],
          "mesh3d": [
           {
            "colorbar": {
             "outlinewidth": 0,
             "ticks": ""
            },
            "type": "mesh3d"
           }
          ],
          "parcoords": [
           {
            "line": {
             "colorbar": {
              "outlinewidth": 0,
              "ticks": ""
             }
            },
            "type": "parcoords"
           }
          ],
          "pie": [
           {
            "automargin": true,
            "type": "pie"
           }
          ],
          "scatter": [
           {
            "marker": {
             "colorbar": {
              "outlinewidth": 0,
              "ticks": ""
             }
            },
            "type": "scatter"
           }
          ],
          "scatter3d": [
           {
            "line": {
             "colorbar": {
              "outlinewidth": 0,
              "ticks": ""
             }
            },
            "marker": {
             "colorbar": {
              "outlinewidth": 0,
              "ticks": ""
             }
            },
            "type": "scatter3d"
           }
          ],
          "scattercarpet": [
           {
            "marker": {
             "colorbar": {
              "outlinewidth": 0,
              "ticks": ""
             }
            },
            "type": "scattercarpet"
           }
          ],
          "scattergeo": [
           {
            "marker": {
             "colorbar": {
              "outlinewidth": 0,
              "ticks": ""
             }
            },
            "type": "scattergeo"
           }
          ],
          "scattergl": [
           {
            "marker": {
             "colorbar": {
              "outlinewidth": 0,
              "ticks": ""
             }
            },
            "type": "scattergl"
           }
          ],
          "scattermapbox": [
           {
            "marker": {
             "colorbar": {
              "outlinewidth": 0,
              "ticks": ""
             }
            },
            "type": "scattermapbox"
           }
          ],
          "scatterpolar": [
           {
            "marker": {
             "colorbar": {
              "outlinewidth": 0,
              "ticks": ""
             }
            },
            "type": "scatterpolar"
           }
          ],
          "scatterpolargl": [
           {
            "marker": {
             "colorbar": {
              "outlinewidth": 0,
              "ticks": ""
             }
            },
            "type": "scatterpolargl"
           }
          ],
          "scatterternary": [
           {
            "marker": {
             "colorbar": {
              "outlinewidth": 0,
              "ticks": ""
             }
            },
            "type": "scatterternary"
           }
          ],
          "surface": [
           {
            "colorbar": {
             "outlinewidth": 0,
             "ticks": ""
            },
            "colorscale": [
             [
              0,
              "#0d0887"
             ],
             [
              0.1111111111111111,
              "#46039f"
             ],
             [
              0.2222222222222222,
              "#7201a8"
             ],
             [
              0.3333333333333333,
              "#9c179e"
             ],
             [
              0.4444444444444444,
              "#bd3786"
             ],
             [
              0.5555555555555556,
              "#d8576b"
             ],
             [
              0.6666666666666666,
              "#ed7953"
             ],
             [
              0.7777777777777778,
              "#fb9f3a"
             ],
             [
              0.8888888888888888,
              "#fdca26"
             ],
             [
              1,
              "#f0f921"
             ]
            ],
            "type": "surface"
           }
          ],
          "table": [
           {
            "cells": {
             "fill": {
              "color": "#EBF0F8"
             },
             "line": {
              "color": "white"
             }
            },
            "header": {
             "fill": {
              "color": "#C8D4E3"
             },
             "line": {
              "color": "white"
             }
            },
            "type": "table"
           }
          ]
         },
         "layout": {
          "annotationdefaults": {
           "arrowcolor": "#2a3f5f",
           "arrowhead": 0,
           "arrowwidth": 1
          },
          "autotypenumbers": "strict",
          "coloraxis": {
           "colorbar": {
            "outlinewidth": 0,
            "ticks": ""
           }
          },
          "colorscale": {
           "diverging": [
            [
             0,
             "#8e0152"
            ],
            [
             0.1,
             "#c51b7d"
            ],
            [
             0.2,
             "#de77ae"
            ],
            [
             0.3,
             "#f1b6da"
            ],
            [
             0.4,
             "#fde0ef"
            ],
            [
             0.5,
             "#f7f7f7"
            ],
            [
             0.6,
             "#e6f5d0"
            ],
            [
             0.7,
             "#b8e186"
            ],
            [
             0.8,
             "#7fbc41"
            ],
            [
             0.9,
             "#4d9221"
            ],
            [
             1,
             "#276419"
            ]
           ],
           "sequential": [
            [
             0,
             "#0d0887"
            ],
            [
             0.1111111111111111,
             "#46039f"
            ],
            [
             0.2222222222222222,
             "#7201a8"
            ],
            [
             0.3333333333333333,
             "#9c179e"
            ],
            [
             0.4444444444444444,
             "#bd3786"
            ],
            [
             0.5555555555555556,
             "#d8576b"
            ],
            [
             0.6666666666666666,
             "#ed7953"
            ],
            [
             0.7777777777777778,
             "#fb9f3a"
            ],
            [
             0.8888888888888888,
             "#fdca26"
            ],
            [
             1,
             "#f0f921"
            ]
           ],
           "sequentialminus": [
            [
             0,
             "#0d0887"
            ],
            [
             0.1111111111111111,
             "#46039f"
            ],
            [
             0.2222222222222222,
             "#7201a8"
            ],
            [
             0.3333333333333333,
             "#9c179e"
            ],
            [
             0.4444444444444444,
             "#bd3786"
            ],
            [
             0.5555555555555556,
             "#d8576b"
            ],
            [
             0.6666666666666666,
             "#ed7953"
            ],
            [
             0.7777777777777778,
             "#fb9f3a"
            ],
            [
             0.8888888888888888,
             "#fdca26"
            ],
            [
             1,
             "#f0f921"
            ]
           ]
          },
          "colorway": [
           "#636efa",
           "#EF553B",
           "#00cc96",
           "#ab63fa",
           "#FFA15A",
           "#19d3f3",
           "#FF6692",
           "#B6E880",
           "#FF97FF",
           "#FECB52"
          ],
          "font": {
           "color": "#2a3f5f"
          },
          "geo": {
           "bgcolor": "white",
           "lakecolor": "white",
           "landcolor": "#E5ECF6",
           "showlakes": true,
           "showland": true,
           "subunitcolor": "white"
          },
          "hoverlabel": {
           "align": "left"
          },
          "hovermode": "closest",
          "mapbox": {
           "style": "light"
          },
          "paper_bgcolor": "white",
          "plot_bgcolor": "#E5ECF6",
          "polar": {
           "angularaxis": {
            "gridcolor": "white",
            "linecolor": "white",
            "ticks": ""
           },
           "bgcolor": "#E5ECF6",
           "radialaxis": {
            "gridcolor": "white",
            "linecolor": "white",
            "ticks": ""
           }
          },
          "scene": {
           "xaxis": {
            "backgroundcolor": "#E5ECF6",
            "gridcolor": "white",
            "gridwidth": 2,
            "linecolor": "white",
            "showbackground": true,
            "ticks": "",
            "zerolinecolor": "white"
           },
           "yaxis": {
            "backgroundcolor": "#E5ECF6",
            "gridcolor": "white",
            "gridwidth": 2,
            "linecolor": "white",
            "showbackground": true,
            "ticks": "",
            "zerolinecolor": "white"
           },
           "zaxis": {
            "backgroundcolor": "#E5ECF6",
            "gridcolor": "white",
            "gridwidth": 2,
            "linecolor": "white",
            "showbackground": true,
            "ticks": "",
            "zerolinecolor": "white"
           }
          },
          "shapedefaults": {
           "line": {
            "color": "#2a3f5f"
           }
          },
          "ternary": {
           "aaxis": {
            "gridcolor": "white",
            "linecolor": "white",
            "ticks": ""
           },
           "baxis": {
            "gridcolor": "white",
            "linecolor": "white",
            "ticks": ""
           },
           "bgcolor": "#E5ECF6",
           "caxis": {
            "gridcolor": "white",
            "linecolor": "white",
            "ticks": ""
           }
          },
          "title": {
           "x": 0.05
          },
          "xaxis": {
           "automargin": true,
           "gridcolor": "white",
           "linecolor": "white",
           "ticks": "",
           "title": {
            "standoff": 15
           },
           "zerolinecolor": "white",
           "zerolinewidth": 2
          },
          "yaxis": {
           "automargin": true,
           "gridcolor": "white",
           "linecolor": "white",
           "ticks": "",
           "title": {
            "standoff": 15
           },
           "zerolinecolor": "white",
           "zerolinewidth": 2
          }
         }
        },
        "title": {
         "text": "Training and val loss across epochs"
        },
        "xaxis": {
         "title": {
          "text": "epochs"
         }
        },
        "yaxis": {
         "title": {
          "text": "Cross Entropy"
         }
        }
       }
      }
     },
     "metadata": {},
     "output_type": "display_data"
    }
   ],
   "source": [
    "from plotly import graph_objects as go\n",
    "fig = go.Figure(data=[\n",
    "                      go.Scatter(\n",
    "                          y=history.history[\"loss\"],\n",
    "                          name=\"Training loss\",\n",
    "                          mode=\"lines\",\n",
    "                          marker=dict(\n",
    "                              color=color_chart[0]\n",
    "                          )),\n",
    "                      go.Scatter(\n",
    "                          y=history.history[\"val_loss\"],\n",
    "                          name=\"Validation loss\",\n",
    "                          mode=\"lines\",\n",
    "                          marker=dict(\n",
    "                              color=color_chart[1]\n",
    "                          ))\n",
    "])\n",
    "# Add shapes\n",
    "fig.add_shape(type=\"line\",\n",
    "    x0=np.argmin(history.history[\"val_loss\"]),\n",
    "    y0=np.min(history.history[\"loss\"]),\n",
    "    x1=np.argmin(history.history[\"val_loss\"]),\n",
    "    y1=np.max(history.history[\"loss\"]),\n",
    "    line=dict(color=\"red\",width=3,dash=\"dot\"),\n",
    "    name=\"overfitting limit\"\n",
    ")\n",
    "fig.update_layout(\n",
    "    title='Training and val loss across epochs',\n",
    "    xaxis_title='epochs',\n",
    "    yaxis_title='Cross Entropy'    \n",
    ")\n",
    "fig.show()"
   ]
  },
  {
   "cell_type": "markdown",
   "metadata": {
    "id": "eDGh1lDJWjr1"
   },
   "source": [
    "In terms of the loss function, this model starts over fitting after the red dotted line, unfortunately we continued the training after this point and we do not have access to the parameters of the model before it started overfitting.\n",
    "\n",
    "In what follows we will learn how to tackle that problem, but first, let's learn how to make predictions!"
   ]
  },
  {
   "cell_type": "markdown",
   "metadata": {
    "id": "eRGxcSxY0Uet"
   },
   "source": [
    "## Make predictions 🔮🔮\n",
    "\n",
    "Now that the model is trained, we are ready to make predictions and evaluate the model!"
   ]
  },
  {
   "cell_type": "code",
   "execution_count": 30,
   "metadata": {
    "colab": {
     "base_uri": "https://localhost:8080/"
    },
    "id": "RGL71Q8U1Jmo",
    "outputId": "92ab099f-4c88-457c-f9fc-3f37075e216e"
   },
   "outputs": [
    {
     "data": {
      "text/plain": [
       "array([[1.00000000e+00, 8.10800608e-33],\n",
       "       [9.99987721e-01, 1.22820475e-05],\n",
       "       [1.00000000e+00, 1.81819113e-17],\n",
       "       [4.56481257e-06, 9.99995470e-01]], dtype=float32)"
      ]
     },
     "execution_count": 30,
     "metadata": {},
     "output_type": "execute_result"
    }
   ],
   "source": [
    "# Let's make predictions on the first batch of the test set\n",
    "test_input, test_target = next(iter(test_batch))\n",
    "pred = model.predict(test_input)\n",
    "pred\n",
    "# we get one porbability for each class"
   ]
  },
  {
   "cell_type": "code",
   "execution_count": 31,
   "metadata": {
    "colab": {
     "base_uri": "https://localhost:8080/"
    },
    "id": "Fx6LnRJc2rDu",
    "outputId": "a1e69d40-d3c8-4741-f7fb-10dbed8e7f78"
   },
   "outputs": [
    {
     "data": {
      "text/plain": [
       "<tf.Tensor: shape=(4,), dtype=int64, numpy=array([0, 0, 0, 1], dtype=int64)>"
      ]
     },
     "execution_count": 31,
     "metadata": {},
     "output_type": "execute_result"
    }
   ],
   "source": [
    "# let's convert these predictions into classes\n",
    "tf.argmax(pred, axis = 1)"
   ]
  },
  {
   "cell_type": "code",
   "execution_count": 32,
   "metadata": {
    "colab": {
     "base_uri": "https://localhost:8080/"
    },
    "id": "SFkKcHTb3DRW",
    "outputId": "cccf94a2-0004-43bb-da06-8837326709e5"
   },
   "outputs": [
    {
     "data": {
      "text/plain": [
       "<tf.Tensor: shape=(4,), dtype=int32, numpy=array([0, 0, 0, 1])>"
      ]
     },
     "execution_count": 32,
     "metadata": {},
     "output_type": "execute_result"
    }
   ],
   "source": [
    "# let's take a look at the target values\n",
    "test_target"
   ]
  },
  {
   "cell_type": "markdown",
   "metadata": {
    "id": "27JmBcqjXHjG"
   },
   "source": [
    "## Load and Save models 💾💾\n",
    "\n",
    "We have now learned almost all the basics of tensorflow and keras and you are almost ready to tackle many different problems using deep learning models! But before we let you practice we will teach you one last and very useful set of skills: how to save your models to be able to use them later!\n",
    "\n"
   ]
  },
  {
   "cell_type": "markdown",
   "metadata": {
    "id": "POe9eymad0Pg"
   },
   "source": [
    "### Checkpoints ✔️\n",
    "\n",
    "Checkpoints are versions of the model that we save directly during training, this is very useful because if the model starts overfitting after a while we won't lose the intermediate versions and we will be able to go back to a version of the model before it started overfitting! Is'nt that great?\n",
    "\n",
    "Let's learn how to do it with code!"
   ]
  },
  {
   "cell_type": "code",
   "execution_count": 33,
   "metadata": {
    "colab": {
     "base_uri": "https://localhost:8080/"
    },
    "id": "7t9eFCCHYAP7",
    "outputId": "b886929e-a476-4778-f37f-325076d0bb0b"
   },
   "outputs": [
    {
     "name": "stdout",
     "output_type": "stream",
     "text": [
      "Epoch 1/40\n",
      "83/86 [===========================>..] - ETA: 0s - loss: 0.2863 - sparse_categorical_accuracy: 0.9247\n",
      "Epoch 1: saving model to training\\cp-0001.ckpt\n",
      "86/86 [==============================] - 1s 5ms/step - loss: 0.2812 - sparse_categorical_accuracy: 0.9267 - val_loss: 0.1282 - val_sparse_categorical_accuracy: 0.9737\n",
      "Epoch 2/40\n",
      "67/86 [======================>.......] - ETA: 0s - loss: 0.0781 - sparse_categorical_accuracy: 0.9888\n",
      "Epoch 2: saving model to training\\cp-0002.ckpt\n",
      "86/86 [==============================] - 0s 4ms/step - loss: 0.0747 - sparse_categorical_accuracy: 0.9853 - val_loss: 0.0732 - val_sparse_categorical_accuracy: 0.9912\n",
      "Epoch 3/40\n",
      "79/86 [==========================>...] - ETA: 0s - loss: 0.0366 - sparse_categorical_accuracy: 0.9873\n",
      "Epoch 3: saving model to training\\cp-0003.ckpt\n",
      "86/86 [==============================] - 0s 4ms/step - loss: 0.0514 - sparse_categorical_accuracy: 0.9824 - val_loss: 0.0671 - val_sparse_categorical_accuracy: 0.9912\n",
      "Epoch 4/40\n",
      "77/86 [=========================>....] - ETA: 0s - loss: 0.0495 - sparse_categorical_accuracy: 0.9838\n",
      "Epoch 4: saving model to training\\cp-0004.ckpt\n",
      "86/86 [==============================] - 0s 3ms/step - loss: 0.0452 - sparse_categorical_accuracy: 0.9853 - val_loss: 0.0749 - val_sparse_categorical_accuracy: 0.9825\n",
      "Epoch 5/40\n",
      "61/86 [====================>.........] - ETA: 0s - loss: 0.0383 - sparse_categorical_accuracy: 0.9877\n",
      "Epoch 5: saving model to training\\cp-0005.ckpt\n",
      "86/86 [==============================] - 0s 3ms/step - loss: 0.0309 - sparse_categorical_accuracy: 0.9912 - val_loss: 0.0801 - val_sparse_categorical_accuracy: 0.9825\n",
      "Epoch 6/40\n",
      "82/86 [===========================>..] - ETA: 0s - loss: 0.0223 - sparse_categorical_accuracy: 0.9939\n",
      "Epoch 6: saving model to training\\cp-0006.ckpt\n",
      "86/86 [==============================] - 0s 3ms/step - loss: 0.0217 - sparse_categorical_accuracy: 0.9941 - val_loss: 0.0919 - val_sparse_categorical_accuracy: 0.9825\n",
      "Epoch 7/40\n",
      "67/86 [======================>.......] - ETA: 0s - loss: 0.0192 - sparse_categorical_accuracy: 0.9963\n",
      "Epoch 7: saving model to training\\cp-0007.ckpt\n",
      "86/86 [==============================] - 0s 3ms/step - loss: 0.0164 - sparse_categorical_accuracy: 0.9971 - val_loss: 0.0890 - val_sparse_categorical_accuracy: 0.9825\n",
      "Epoch 8/40\n",
      "69/86 [=======================>......] - ETA: 0s - loss: 0.0134 - sparse_categorical_accuracy: 0.9964\n",
      "Epoch 8: saving model to training\\cp-0008.ckpt\n",
      "86/86 [==============================] - 0s 3ms/step - loss: 0.0120 - sparse_categorical_accuracy: 0.9971 - val_loss: 0.1004 - val_sparse_categorical_accuracy: 0.9825\n",
      "Epoch 9/40\n",
      "83/86 [===========================>..] - ETA: 0s - loss: 0.0089 - sparse_categorical_accuracy: 0.9970\n",
      "Epoch 9: saving model to training\\cp-0009.ckpt\n",
      "86/86 [==============================] - 0s 3ms/step - loss: 0.0087 - sparse_categorical_accuracy: 0.9971 - val_loss: 0.1008 - val_sparse_categorical_accuracy: 0.9825\n",
      "Epoch 10/40\n",
      "84/86 [============================>.] - ETA: 0s - loss: 0.0064 - sparse_categorical_accuracy: 0.9970   \n",
      "Epoch 10: saving model to training\\cp-0010.ckpt\n",
      "86/86 [==============================] - 0s 3ms/step - loss: 0.0063 - sparse_categorical_accuracy: 0.9971 - val_loss: 0.0991 - val_sparse_categorical_accuracy: 0.9825\n",
      "Epoch 11/40\n",
      "79/86 [==========================>...] - ETA: 0s - loss: 0.0051 - sparse_categorical_accuracy: 0.9968  \n",
      "Epoch 11: saving model to training\\cp-0011.ckpt\n",
      "86/86 [==============================] - 0s 3ms/step - loss: 0.0050 - sparse_categorical_accuracy: 0.9971 - val_loss: 0.1155 - val_sparse_categorical_accuracy: 0.9825\n",
      "Epoch 12/40\n",
      "64/86 [=====================>........] - ETA: 0s - loss: 0.0049 - sparse_categorical_accuracy: 0.9961   \n",
      "Epoch 12: saving model to training\\cp-0012.ckpt\n",
      "86/86 [==============================] - 0s 3ms/step - loss: 0.0042 - sparse_categorical_accuracy: 0.9971 - val_loss: 0.1245 - val_sparse_categorical_accuracy: 0.9825\n",
      "Epoch 13/40\n",
      "58/86 [===================>..........] - ETA: 0s - loss: 0.0010 - sparse_categorical_accuracy: 1.0000   \n",
      "Epoch 13: saving model to training\\cp-0013.ckpt\n",
      "86/86 [==============================] - 0s 3ms/step - loss: 0.0026 - sparse_categorical_accuracy: 1.0000 - val_loss: 0.1210 - val_sparse_categorical_accuracy: 0.9825\n",
      "Epoch 14/40\n",
      "76/86 [=========================>....] - ETA: 0s - loss: 0.0021 - sparse_categorical_accuracy: 1.0000  \n",
      "Epoch 14: saving model to training\\cp-0014.ckpt\n",
      "86/86 [==============================] - 0s 4ms/step - loss: 0.0019 - sparse_categorical_accuracy: 1.0000 - val_loss: 0.1213 - val_sparse_categorical_accuracy: 0.9825\n",
      "Epoch 15/40\n",
      "59/86 [===================>..........] - ETA: 0s - loss: 0.0018 - sparse_categorical_accuracy: 1.0000    \n",
      "Epoch 15: saving model to training\\cp-0015.ckpt\n",
      "86/86 [==============================] - 0s 4ms/step - loss: 0.0014 - sparse_categorical_accuracy: 1.0000 - val_loss: 0.1295 - val_sparse_categorical_accuracy: 0.9737\n",
      "Epoch 16/40\n",
      "75/86 [=========================>....] - ETA: 0s - loss: 0.0011 - sparse_categorical_accuracy: 1.0000    \n",
      "Epoch 16: saving model to training\\cp-0016.ckpt\n",
      "86/86 [==============================] - 0s 4ms/step - loss: 0.0011 - sparse_categorical_accuracy: 1.0000 - val_loss: 0.1336 - val_sparse_categorical_accuracy: 0.9737\n",
      "Epoch 17/40\n",
      "82/86 [===========================>..] - ETA: 0s - loss: 8.3553e-04 - sparse_categorical_accuracy: 1.0000\n",
      "Epoch 17: saving model to training\\cp-0017.ckpt\n",
      "86/86 [==============================] - 0s 3ms/step - loss: 8.4010e-04 - sparse_categorical_accuracy: 1.0000 - val_loss: 0.1380 - val_sparse_categorical_accuracy: 0.9737\n",
      "Epoch 18/40\n",
      "61/86 [====================>.........] - ETA: 0s - loss: 3.9549e-04 - sparse_categorical_accuracy: 1.0000\n",
      "Epoch 18: saving model to training\\cp-0018.ckpt\n",
      "86/86 [==============================] - 0s 3ms/step - loss: 6.5880e-04 - sparse_categorical_accuracy: 1.0000 - val_loss: 0.1407 - val_sparse_categorical_accuracy: 0.9737\n",
      "Epoch 19/40\n",
      "62/86 [====================>.........] - ETA: 0s - loss: 3.3418e-04 - sparse_categorical_accuracy: 1.0000\n",
      "Epoch 19: saving model to training\\cp-0019.ckpt\n",
      "86/86 [==============================] - 0s 3ms/step - loss: 5.2016e-04 - sparse_categorical_accuracy: 1.0000 - val_loss: 0.1439 - val_sparse_categorical_accuracy: 0.9737\n",
      "Epoch 20/40\n",
      "66/86 [======================>.......] - ETA: 0s - loss: 2.7429e-04 - sparse_categorical_accuracy: 1.0000\n",
      "Epoch 20: saving model to training\\cp-0020.ckpt\n",
      "86/86 [==============================] - 0s 3ms/step - loss: 4.1984e-04 - sparse_categorical_accuracy: 1.0000 - val_loss: 0.1454 - val_sparse_categorical_accuracy: 0.9737\n",
      "Epoch 21/40\n",
      "76/86 [=========================>....] - ETA: 0s - loss: 3.7901e-04 - sparse_categorical_accuracy: 1.0000\n",
      "Epoch 21: saving model to training\\cp-0021.ckpt\n",
      "86/86 [==============================] - 0s 3ms/step - loss: 3.4897e-04 - sparse_categorical_accuracy: 1.0000 - val_loss: 0.1507 - val_sparse_categorical_accuracy: 0.9737\n",
      "Epoch 22/40\n",
      "64/86 [=====================>........] - ETA: 0s - loss: 3.9915e-04 - sparse_categorical_accuracy: 1.0000\n",
      "Epoch 22: saving model to training\\cp-0022.ckpt\n",
      "86/86 [==============================] - 0s 3ms/step - loss: 3.2033e-04 - sparse_categorical_accuracy: 1.0000 - val_loss: 0.1520 - val_sparse_categorical_accuracy: 0.9737\n",
      "Epoch 23/40\n",
      "68/86 [======================>.......] - ETA: 0s - loss: 2.6114e-04 - sparse_categorical_accuracy: 1.0000\n",
      "Epoch 23: saving model to training\\cp-0023.ckpt\n",
      "86/86 [==============================] - 0s 3ms/step - loss: 2.5196e-04 - sparse_categorical_accuracy: 1.0000 - val_loss: 0.1531 - val_sparse_categorical_accuracy: 0.9737\n",
      "Epoch 24/40\n",
      "64/86 [=====================>........] - ETA: 0s - loss: 2.0354e-04 - sparse_categorical_accuracy: 1.0000\n",
      "Epoch 24: saving model to training\\cp-0024.ckpt\n",
      "86/86 [==============================] - 0s 3ms/step - loss: 2.1168e-04 - sparse_categorical_accuracy: 1.0000 - val_loss: 0.1568 - val_sparse_categorical_accuracy: 0.9737\n",
      "Epoch 25/40\n",
      "70/86 [=======================>......] - ETA: 0s - loss: 1.1217e-04 - sparse_categorical_accuracy: 1.0000\n",
      "Epoch 25: saving model to training\\cp-0025.ckpt\n",
      "86/86 [==============================] - 0s 3ms/step - loss: 1.8198e-04 - sparse_categorical_accuracy: 1.0000 - val_loss: 0.1594 - val_sparse_categorical_accuracy: 0.9737\n",
      "Epoch 26/40\n",
      "59/86 [===================>..........] - ETA: 0s - loss: 1.8230e-04 - sparse_categorical_accuracy: 1.0000\n",
      "Epoch 26: saving model to training\\cp-0026.ckpt\n",
      "86/86 [==============================] - 0s 3ms/step - loss: 1.5983e-04 - sparse_categorical_accuracy: 1.0000 - val_loss: 0.1616 - val_sparse_categorical_accuracy: 0.9737\n",
      "Epoch 27/40\n",
      "68/86 [======================>.......] - ETA: 0s - loss: 7.9966e-05 - sparse_categorical_accuracy: 1.0000\n",
      "Epoch 27: saving model to training\\cp-0027.ckpt\n",
      "86/86 [==============================] - 0s 3ms/step - loss: 1.2962e-04 - sparse_categorical_accuracy: 1.0000 - val_loss: 0.1636 - val_sparse_categorical_accuracy: 0.9737\n",
      "Epoch 28/40\n",
      "68/86 [======================>.......] - ETA: 0s - loss: 6.8805e-05 - sparse_categorical_accuracy: 1.0000\n",
      "Epoch 28: saving model to training\\cp-0028.ckpt\n",
      "86/86 [==============================] - 0s 3ms/step - loss: 1.1015e-04 - sparse_categorical_accuracy: 1.0000 - val_loss: 0.1634 - val_sparse_categorical_accuracy: 0.9737\n",
      "Epoch 29/40\n",
      "72/86 [========================>.....] - ETA: 0s - loss: 1.0136e-04 - sparse_categorical_accuracy: 1.0000\n",
      "Epoch 29: saving model to training\\cp-0029.ckpt\n",
      "86/86 [==============================] - 0s 3ms/step - loss: 9.6213e-05 - sparse_categorical_accuracy: 1.0000 - val_loss: 0.1668 - val_sparse_categorical_accuracy: 0.9737\n",
      "Epoch 30/40\n",
      "71/86 [=======================>......] - ETA: 0s - loss: 9.6132e-05 - sparse_categorical_accuracy: 1.0000\n",
      "Epoch 30: saving model to training\\cp-0030.ckpt\n",
      "86/86 [==============================] - 0s 3ms/step - loss: 8.6508e-05 - sparse_categorical_accuracy: 1.0000 - val_loss: 0.1682 - val_sparse_categorical_accuracy: 0.9737\n",
      "Epoch 31/40\n",
      "73/86 [========================>.....] - ETA: 0s - loss: 7.5553e-05 - sparse_categorical_accuracy: 1.0000\n",
      "Epoch 31: saving model to training\\cp-0031.ckpt\n",
      "86/86 [==============================] - 0s 3ms/step - loss: 7.4372e-05 - sparse_categorical_accuracy: 1.0000 - val_loss: 0.1709 - val_sparse_categorical_accuracy: 0.9737\n",
      "Epoch 32/40\n",
      "69/86 [=======================>......] - ETA: 0s - loss: 6.8600e-05 - sparse_categorical_accuracy: 1.0000\n",
      "Epoch 32: saving model to training\\cp-0032.ckpt\n",
      "86/86 [==============================] - 0s 3ms/step - loss: 6.6068e-05 - sparse_categorical_accuracy: 1.0000 - val_loss: 0.1712 - val_sparse_categorical_accuracy: 0.9737\n",
      "Epoch 33/40\n",
      "71/86 [=======================>......] - ETA: 0s - loss: 5.3104e-05 - sparse_categorical_accuracy: 1.0000\n",
      "Epoch 33: saving model to training\\cp-0033.ckpt\n",
      "86/86 [==============================] - 0s 3ms/step - loss: 5.8889e-05 - sparse_categorical_accuracy: 1.0000 - val_loss: 0.1744 - val_sparse_categorical_accuracy: 0.9737\n",
      "Epoch 34/40\n",
      "75/86 [=========================>....] - ETA: 0s - loss: 5.4484e-05 - sparse_categorical_accuracy: 1.0000\n",
      "Epoch 34: saving model to training\\cp-0034.ckpt\n",
      "86/86 [==============================] - 0s 3ms/step - loss: 5.3511e-05 - sparse_categorical_accuracy: 1.0000 - val_loss: 0.1718 - val_sparse_categorical_accuracy: 0.9737\n",
      "Epoch 35/40\n",
      "68/86 [======================>.......] - ETA: 0s - loss: 3.9867e-05 - sparse_categorical_accuracy: 1.0000\n",
      "Epoch 35: saving model to training\\cp-0035.ckpt\n",
      "86/86 [==============================] - 0s 3ms/step - loss: 4.8258e-05 - sparse_categorical_accuracy: 1.0000 - val_loss: 0.1751 - val_sparse_categorical_accuracy: 0.9737\n",
      "Epoch 36/40\n",
      "67/86 [======================>.......] - ETA: 0s - loss: 4.4303e-05 - sparse_categorical_accuracy: 1.0000\n",
      "Epoch 36: saving model to training\\cp-0036.ckpt\n",
      "86/86 [==============================] - 0s 3ms/step - loss: 4.2903e-05 - sparse_categorical_accuracy: 1.0000 - val_loss: 0.1771 - val_sparse_categorical_accuracy: 0.9737\n",
      "Epoch 37/40\n",
      "78/86 [==========================>...] - ETA: 0s - loss: 4.1567e-05 - sparse_categorical_accuracy: 1.0000\n",
      "Epoch 37: saving model to training\\cp-0037.ckpt\n",
      "86/86 [==============================] - 0s 3ms/step - loss: 3.8410e-05 - sparse_categorical_accuracy: 1.0000 - val_loss: 0.1794 - val_sparse_categorical_accuracy: 0.9737\n",
      "Epoch 38/40\n",
      "68/86 [======================>.......] - ETA: 0s - loss: 3.6229e-05 - sparse_categorical_accuracy: 1.0000\n",
      "Epoch 38: saving model to training\\cp-0038.ckpt\n",
      "86/86 [==============================] - 0s 3ms/step - loss: 3.5607e-05 - sparse_categorical_accuracy: 1.0000 - val_loss: 0.1816 - val_sparse_categorical_accuracy: 0.9737\n",
      "Epoch 39/40\n",
      "67/86 [======================>.......] - ETA: 0s - loss: 2.4538e-05 - sparse_categorical_accuracy: 1.0000\n",
      "Epoch 39: saving model to training\\cp-0039.ckpt\n",
      "86/86 [==============================] - 0s 3ms/step - loss: 3.1931e-05 - sparse_categorical_accuracy: 1.0000 - val_loss: 0.1826 - val_sparse_categorical_accuracy: 0.9737\n",
      "Epoch 40/40\n",
      "72/86 [========================>.....] - ETA: 0s - loss: 2.9815e-05 - sparse_categorical_accuracy: 1.0000\n",
      "Epoch 40: saving model to training\\cp-0040.ckpt\n",
      "86/86 [==============================] - 0s 2ms/step - loss: 2.9771e-05 - sparse_categorical_accuracy: 1.0000 - val_loss: 0.1850 - val_sparse_categorical_accuracy: 0.9737\n"
     ]
    },
    {
     "data": {
      "text/plain": [
       "<keras.callbacks.History at 0x1675e6e5970>"
      ]
     },
     "execution_count": 33,
     "metadata": {},
     "output_type": "execute_result"
    }
   ],
   "source": [
    "# Include the epoch in the file name (uses `str.format`)\n",
    "checkpoint_path = \"training/cp-{epoch:04d}.ckpt\" # the path where checkpoint files\n",
    "# will be stored\n",
    "\n",
    "# Create a callback that saves the model's weights every epochs\n",
    "cp_callback = tf.keras.callbacks.ModelCheckpoint(\n",
    "    filepath=checkpoint_path, \n",
    "    verbose=1,\n",
    "    save_weights_only=True,\n",
    "    save_freq=1*len(train_batch))\n",
    "\n",
    "# Create a new model instance\n",
    "model = Sequential([\n",
    "                    Dense(64,\"relu\",input_shape=[data.shape[1]]),\n",
    "                    Dense(32,\"relu\"),\n",
    "                    Dense(16,\"relu\"),\n",
    "                    Dense(8,\"relu\"),\n",
    "                    Dense(len(np.unique(target)), \"softmax\") \n",
    "])\n",
    "\n",
    "# Set up the optimizer\n",
    "opt = Adam(0.001)\n",
    "# define the loss function\n",
    "loss = SparseCategoricalCrossentropy()\n",
    "# define the performance metric\n",
    "metric = tf.keras.metrics.SparseCategoricalAccuracy()\n",
    "\n",
    "# Compile the model\n",
    "model.compile(optimizer=opt,\n",
    "              loss=loss,\n",
    "              metrics=[metric])\n",
    "\n",
    "# Save the weights using the `checkpoint_path` format\n",
    "model.save_weights(checkpoint_path.format(epoch=0))\n",
    "\n",
    "# Train the model with the new callback\n",
    "model.fit(train_batch,\n",
    "          epochs=40, \n",
    "          callbacks=[cp_callback],\n",
    "          validation_data=val_batch)"
   ]
  },
  {
   "cell_type": "code",
   "execution_count": 37,
   "metadata": {
    "colab": {
     "base_uri": "https://localhost:8080/"
    },
    "id": "K02npW2_aKzY",
    "outputId": "625f5d53-d4b5-499b-a740-a9f12fc2b481"
   },
   "outputs": [
    {
     "name": "stdout",
     "output_type": "stream",
     "text": [
      "29/29 [==============================] - 0s 1ms/step - loss: 0.0749 - sparse_categorical_accuracy: 0.9825\n"
     ]
    },
    {
     "data": {
      "text/plain": [
       "[0.07493504136800766, 0.9824561476707458]"
      ]
     },
     "execution_count": 37,
     "metadata": {},
     "output_type": "execute_result"
    }
   ],
   "source": [
    "# To load a checkpoint \n",
    "model.load_weights(\"training/cp-0004.ckpt\")\n",
    "model.evaluate(val_batch)"
   ]
  },
  {
   "cell_type": "markdown",
   "metadata": {
    "id": "vW-eqDGNZ5hO"
   },
   "source": [
    "### Save 💽\n",
    "\n",
    "You can also save the model after the fact"
   ]
  },
  {
   "cell_type": "code",
   "execution_count": 38,
   "metadata": {
    "id": "LAJGnigMZ-BP"
   },
   "outputs": [],
   "source": [
    "model.save(\"model.h5\")"
   ]
  },
  {
   "cell_type": "markdown",
   "metadata": {
    "id": "EFdw_9pOcnM-"
   },
   "source": [
    "### Load 📀\n",
    "\n",
    "And load it after this even later in a different notebook or script."
   ]
  },
  {
   "cell_type": "code",
   "execution_count": 40,
   "metadata": {
    "colab": {
     "base_uri": "https://localhost:8080/"
    },
    "id": "wlkR-9k_ctYM",
    "outputId": "46072740-1b22-4ddd-b0b6-ab00dc69bd58"
   },
   "outputs": [
    {
     "name": "stdout",
     "output_type": "stream",
     "text": [
      "29/29 [==============================] - 0s 1ms/step - loss: 0.0749 - sparse_categorical_accuracy: 0.9825\n"
     ]
    },
    {
     "data": {
      "text/plain": [
       "[0.07493504136800766, 0.9824561476707458]"
      ]
     },
     "execution_count": 40,
     "metadata": {},
     "output_type": "execute_result"
    }
   ],
   "source": [
    "restored_model = tf.keras.models.load_model(\"model.h5\")\n",
    "restored_model.evaluate(val_batch)"
   ]
  },
  {
   "cell_type": "markdown",
   "metadata": {
    "id": "w0k7lrWSc8X9"
   },
   "source": [
    "That was a long demo, but you are now all equipped to tackle many different problems with tensorflow with deep neural network models. Now let's get to the exercises to start getting some practice!"
   ]
  },
  {
   "cell_type": "markdown",
   "metadata": {
    "id": "r0VKTVwlilO6"
   },
   "source": [
    "## Ressources 📚📚\n",
    "\n",
    "* <a href=\"https://www.tensorflow.org/tutorials/quickstart/beginner\"> An easy tutorial on the MNIST dataset </a>\n",
    "* <a href=\"https://www.tensorflow.org/datasets/catalog/overview\"> Official tensorflow datasets for you to practice on </a>\n",
    "* <a href=\"https://research.google/tools/datasets/\"> Other datasets made available by Google </a>\n",
    "* <a href=\"https://datasetsearch.research.google.com/\"> Google dataset search bard </a>"
   ]
  }
 ],
 "metadata": {
  "colab": {
   "collapsed_sections": [],
   "name": "01-Neural_networks_with_tf.ipynb",
   "provenance": []
  },
  "kernelspec": {
   "display_name": "Python 3",
   "language": "python",
   "name": "python3"
  },
  "language_info": {
   "codemirror_mode": {
    "name": "ipython",
    "version": 3
   },
   "file_extension": ".py",
   "mimetype": "text/x-python",
   "name": "python",
   "nbconvert_exporter": "python",
   "pygments_lexer": "ipython3",
   "version": "3.8.12"
  }
 },
 "nbformat": 4,
 "nbformat_minor": 1
}
