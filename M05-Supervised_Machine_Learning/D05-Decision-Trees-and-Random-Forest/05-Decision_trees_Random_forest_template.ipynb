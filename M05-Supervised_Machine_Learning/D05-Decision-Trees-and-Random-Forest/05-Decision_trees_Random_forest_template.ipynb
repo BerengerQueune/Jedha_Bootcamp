{
 "cells": [
  {
   "cell_type": "markdown",
   "metadata": {},
   "source": [
    "# Decision trees and Random Forest with scikit-learn 📊📊\n",
    "\n",
    "Let's train a decision tree and a random forest on our toy-dataset.\n",
    "\n",
    "## What will you learn in this course? 🧐🧐\n",
    "This lecture is a follow-along demo that will guide you through the steps of building logistic regressions models and evaluate them on actual data.\n",
    "\n",
    "* Preprocessing\n",
    "    * Training pipeline\n",
    "    * Test pipeline\n",
    "* Decision tree\n",
    "    * Training with hyperparameter optimization\n",
    "    * Performances\n",
    "* Random forest\n",
    "    * Training with hyperparameter optimization\n",
    "    * Performances"
   ]
  },
  {
   "cell_type": "code",
   "execution_count": 1,
   "metadata": {},
   "outputs": [],
   "source": [
    "import pandas as pd\n",
    "import numpy as np\n",
    "from sklearn.model_selection import train_test_split\n",
    "from sklearn.pipeline import Pipeline\n",
    "from sklearn.impute import SimpleImputer\n",
    "from sklearn.preprocessing import  OneHotEncoder, StandardScaler, LabelEncoder\n",
    "from sklearn.compose import ColumnTransformer\n",
    "from sklearn.tree import DecisionTreeClassifier\n",
    "from sklearn.ensemble import RandomForestClassifier\n",
    "from sklearn.model_selection import GridSearchCV\n",
    "from sklearn.metrics import accuracy_score, f1_score, confusion_matrix, roc_curve\n",
    "import warnings\n",
    "warnings.filterwarnings(\"ignore\", category=DeprecationWarning) # to avoid deprecation warnings\n",
    "\n",
    "import plotly.express as px\n",
    "import plotly.graph_objects as go\n",
    "import plotly.io as pio\n",
    "# setting Jedha color palette as default\n",
    "pio.templates[\"jedha\"] = go.layout.Template(\n",
    "    layout_colorway=[\"#4B9AC7\", \"#4BE8E0\", \"#9DD4F3\", \"#97FBF6\", \"#2A7FAF\", \"#23B1AB\", \"#0E3449\", \"#015955\"]\n",
    ")\n",
    "pio.templates.default = \"jedha\"\n",
    "pio.renderers.default = \"svg\" # to be replaced by \"iframe\" if working on JULIE"
   ]
  },
  {
   "cell_type": "code",
   "execution_count": 2,
   "metadata": {},
   "outputs": [
    {
     "name": "stdout",
     "output_type": "stream",
     "text": [
      "Loading dataset...\n",
      "...Done.\n",
      "\n"
     ]
    }
   ],
   "source": [
    "# Import dataset\n",
    "print(\"Loading dataset...\")\n",
    "dataset = pd.read_csv(\"src/Data.csv\")\n",
    "print(\"...Done.\")\n",
    "print()"
   ]
  },
  {
   "cell_type": "code",
   "execution_count": 3,
   "metadata": {},
   "outputs": [
    {
     "name": "stdout",
     "output_type": "stream",
     "text": [
      "Number of rows : 10\n",
      "\n",
      "Display of dataset: \n"
     ]
    },
    {
     "data": {
      "text/html": [
       "<div>\n",
       "<style scoped>\n",
       "    .dataframe tbody tr th:only-of-type {\n",
       "        vertical-align: middle;\n",
       "    }\n",
       "\n",
       "    .dataframe tbody tr th {\n",
       "        vertical-align: top;\n",
       "    }\n",
       "\n",
       "    .dataframe thead th {\n",
       "        text-align: right;\n",
       "    }\n",
       "</style>\n",
       "<table border=\"1\" class=\"dataframe\">\n",
       "  <thead>\n",
       "    <tr style=\"text-align: right;\">\n",
       "      <th></th>\n",
       "      <th>Country</th>\n",
       "      <th>Age</th>\n",
       "      <th>Salary</th>\n",
       "      <th>Purchased</th>\n",
       "    </tr>\n",
       "  </thead>\n",
       "  <tbody>\n",
       "    <tr>\n",
       "      <th>0</th>\n",
       "      <td>France</td>\n",
       "      <td>44.0</td>\n",
       "      <td>72000</td>\n",
       "      <td>No</td>\n",
       "    </tr>\n",
       "    <tr>\n",
       "      <th>1</th>\n",
       "      <td>Spain</td>\n",
       "      <td>27.0</td>\n",
       "      <td>48000</td>\n",
       "      <td>Yes</td>\n",
       "    </tr>\n",
       "    <tr>\n",
       "      <th>2</th>\n",
       "      <td>Germany</td>\n",
       "      <td>30.0</td>\n",
       "      <td>54000</td>\n",
       "      <td>No</td>\n",
       "    </tr>\n",
       "    <tr>\n",
       "      <th>3</th>\n",
       "      <td>Spain</td>\n",
       "      <td>38.0</td>\n",
       "      <td>61000</td>\n",
       "      <td>No</td>\n",
       "    </tr>\n",
       "    <tr>\n",
       "      <th>4</th>\n",
       "      <td>Germany</td>\n",
       "      <td>40.0</td>\n",
       "      <td>69000</td>\n",
       "      <td>Yes</td>\n",
       "    </tr>\n",
       "  </tbody>\n",
       "</table>\n",
       "</div>"
      ],
      "text/plain": [
       "   Country   Age  Salary Purchased\n",
       "0   France  44.0   72000        No\n",
       "1    Spain  27.0   48000       Yes\n",
       "2  Germany  30.0   54000        No\n",
       "3    Spain  38.0   61000        No\n",
       "4  Germany  40.0   69000       Yes"
      ]
     },
     "metadata": {},
     "output_type": "display_data"
    },
    {
     "name": "stdout",
     "output_type": "stream",
     "text": [
      "\n",
      "Basics statistics: \n"
     ]
    },
    {
     "data": {
      "text/html": [
       "<div>\n",
       "<style scoped>\n",
       "    .dataframe tbody tr th:only-of-type {\n",
       "        vertical-align: middle;\n",
       "    }\n",
       "\n",
       "    .dataframe tbody tr th {\n",
       "        vertical-align: top;\n",
       "    }\n",
       "\n",
       "    .dataframe thead th {\n",
       "        text-align: right;\n",
       "    }\n",
       "</style>\n",
       "<table border=\"1\" class=\"dataframe\">\n",
       "  <thead>\n",
       "    <tr style=\"text-align: right;\">\n",
       "      <th></th>\n",
       "      <th>Country</th>\n",
       "      <th>Age</th>\n",
       "      <th>Salary</th>\n",
       "      <th>Purchased</th>\n",
       "    </tr>\n",
       "  </thead>\n",
       "  <tbody>\n",
       "    <tr>\n",
       "      <th>count</th>\n",
       "      <td>10</td>\n",
       "      <td>9.000000</td>\n",
       "      <td>10.000000</td>\n",
       "      <td>10</td>\n",
       "    </tr>\n",
       "    <tr>\n",
       "      <th>unique</th>\n",
       "      <td>3</td>\n",
       "      <td>NaN</td>\n",
       "      <td>NaN</td>\n",
       "      <td>2</td>\n",
       "    </tr>\n",
       "    <tr>\n",
       "      <th>top</th>\n",
       "      <td>France</td>\n",
       "      <td>NaN</td>\n",
       "      <td>NaN</td>\n",
       "      <td>No</td>\n",
       "    </tr>\n",
       "    <tr>\n",
       "      <th>freq</th>\n",
       "      <td>4</td>\n",
       "      <td>NaN</td>\n",
       "      <td>NaN</td>\n",
       "      <td>5</td>\n",
       "    </tr>\n",
       "    <tr>\n",
       "      <th>mean</th>\n",
       "      <td>NaN</td>\n",
       "      <td>38.777778</td>\n",
       "      <td>64300.000000</td>\n",
       "      <td>NaN</td>\n",
       "    </tr>\n",
       "    <tr>\n",
       "      <th>std</th>\n",
       "      <td>NaN</td>\n",
       "      <td>7.693793</td>\n",
       "      <td>11681.419244</td>\n",
       "      <td>NaN</td>\n",
       "    </tr>\n",
       "    <tr>\n",
       "      <th>min</th>\n",
       "      <td>NaN</td>\n",
       "      <td>27.000000</td>\n",
       "      <td>48000.000000</td>\n",
       "      <td>NaN</td>\n",
       "    </tr>\n",
       "    <tr>\n",
       "      <th>25%</th>\n",
       "      <td>NaN</td>\n",
       "      <td>35.000000</td>\n",
       "      <td>55000.000000</td>\n",
       "      <td>NaN</td>\n",
       "    </tr>\n",
       "    <tr>\n",
       "      <th>50%</th>\n",
       "      <td>NaN</td>\n",
       "      <td>38.000000</td>\n",
       "      <td>64000.000000</td>\n",
       "      <td>NaN</td>\n",
       "    </tr>\n",
       "    <tr>\n",
       "      <th>75%</th>\n",
       "      <td>NaN</td>\n",
       "      <td>44.000000</td>\n",
       "      <td>71250.000000</td>\n",
       "      <td>NaN</td>\n",
       "    </tr>\n",
       "    <tr>\n",
       "      <th>max</th>\n",
       "      <td>NaN</td>\n",
       "      <td>50.000000</td>\n",
       "      <td>83000.000000</td>\n",
       "      <td>NaN</td>\n",
       "    </tr>\n",
       "  </tbody>\n",
       "</table>\n",
       "</div>"
      ],
      "text/plain": [
       "       Country        Age        Salary Purchased\n",
       "count       10   9.000000     10.000000        10\n",
       "unique       3        NaN           NaN         2\n",
       "top     France        NaN           NaN        No\n",
       "freq         4        NaN           NaN         5\n",
       "mean       NaN  38.777778  64300.000000       NaN\n",
       "std        NaN   7.693793  11681.419244       NaN\n",
       "min        NaN  27.000000  48000.000000       NaN\n",
       "25%        NaN  35.000000  55000.000000       NaN\n",
       "50%        NaN  38.000000  64000.000000       NaN\n",
       "75%        NaN  44.000000  71250.000000       NaN\n",
       "max        NaN  50.000000  83000.000000       NaN"
      ]
     },
     "metadata": {},
     "output_type": "display_data"
    },
    {
     "name": "stdout",
     "output_type": "stream",
     "text": [
      "\n",
      "Percentage of missing values: \n"
     ]
    },
    {
     "data": {
      "text/plain": [
       "Country       0.0\n",
       "Age          10.0\n",
       "Salary        0.0\n",
       "Purchased     0.0\n",
       "dtype: float64"
      ]
     },
     "metadata": {},
     "output_type": "display_data"
    }
   ],
   "source": [
    "# Basic stats\n",
    "print(\"Number of rows : {}\".format(dataset.shape[0]))\n",
    "print()\n",
    "\n",
    "print(\"Display of dataset: \")\n",
    "display(dataset.head())\n",
    "print()\n",
    "\n",
    "print(\"Basics statistics: \")\n",
    "data_desc = dataset.describe(include='all')\n",
    "display(data_desc)\n",
    "print()\n",
    "\n",
    "print(\"Percentage of missing values: \")\n",
    "display(100*dataset.isnull().sum()/dataset.shape[0])\n"
   ]
  },
  {
   "cell_type": "markdown",
   "metadata": {},
   "source": [
    "## Preprocessing\n",
    "### Training pipeline"
   ]
  },
  {
   "cell_type": "code",
   "execution_count": 4,
   "metadata": {
    "colab": {
     "base_uri": "https://localhost:8080/",
     "height": 319
    },
    "colab_type": "code",
    "id": "Zn2MYjTjrfBJ",
    "outputId": "720c974a-fdfd-4544-c188-229008b33351"
   },
   "outputs": [
    {
     "name": "stdout",
     "output_type": "stream",
     "text": [
      "Separating labels from features...\n",
      "...Done.\n",
      "\n",
      "Y : \n",
      "0     No\n",
      "1    Yes\n",
      "2     No\n",
      "3     No\n",
      "4    Yes\n",
      "Name: Purchased, dtype: object\n",
      "\n",
      "X :\n",
      "   Country   Age  Salary\n",
      "0   France  44.0   72000\n",
      "1    Spain  27.0   48000\n",
      "2  Germany  30.0   54000\n",
      "3    Spain  38.0   61000\n",
      "4  Germany  40.0   69000\n"
     ]
    }
   ],
   "source": [
    "# Separate target variable Y from features X\n",
    "print(\"Separating labels from features...\")\n",
    "features_list = [\"Country\", \"Age\", \"Salary\"]\n",
    "target_variable = \"Purchased\"\n",
    "\n",
    "X = dataset.loc[:,features_list]\n",
    "Y = dataset.loc[:,target_variable]\n",
    "\n",
    "print(\"...Done.\")\n",
    "print()\n",
    "\n",
    "print('Y : ')\n",
    "print(Y.head())\n",
    "print()\n",
    "print('X :')\n",
    "print(X.head())"
   ]
  },
  {
   "cell_type": "code",
   "execution_count": 5,
   "metadata": {
    "colab": {
     "base_uri": "https://localhost:8080/",
     "height": 50
    },
    "colab_type": "code",
    "id": "uebQu3V9spss",
    "outputId": "310aa2e2-a9d2-4f84-e9fa-56fb24b3f756"
   },
   "outputs": [
    {
     "name": "stdout",
     "output_type": "stream",
     "text": [
      "Found numeric features  ['Age', 'Salary']  at positions  [1, 2]\n",
      "Found categorical features  ['Country']  at positions  [0]\n"
     ]
    }
   ],
   "source": [
    "# Automatically detect positions of numeric/categorical features\n",
    "idx = 0\n",
    "numeric_features = []\n",
    "numeric_indices = []\n",
    "categorical_features = []\n",
    "categorical_indices = []\n",
    "for i,t in X.dtypes.iteritems():\n",
    "    if ('float' in str(t)) or ('int' in str(t)) :\n",
    "        numeric_features.append(i)\n",
    "        numeric_indices.append(idx)\n",
    "    else :\n",
    "        categorical_features.append(i)\n",
    "        categorical_indices.append(idx)\n",
    "\n",
    "    idx = idx + 1\n",
    "\n",
    "print('Found numeric features ', numeric_features,' at positions ', numeric_indices)\n",
    "print('Found categorical features ', categorical_features,' at positions ', categorical_indices)"
   ]
  },
  {
   "cell_type": "code",
   "execution_count": 6,
   "metadata": {
    "colab": {
     "base_uri": "https://localhost:8080/",
     "height": 67
    },
    "colab_type": "code",
    "id": "Ra8LgBS5s83i",
    "outputId": "6dd938b3-ca4b-4ddb-c55e-f020aed4eca3"
   },
   "outputs": [
    {
     "name": "stdout",
     "output_type": "stream",
     "text": [
      "Dividing into train and test sets...\n",
      "...Done.\n",
      "\n"
     ]
    }
   ],
   "source": [
    "# Divide dataset Train set & Test set \n",
    "print(\"Dividing into train and test sets...\")\n",
    "# WARNING : don't forget stratify=Y for classification problems\n",
    "X_train, X_test, Y_train, Y_test = train_test_split(X, Y, test_size=0.2, random_state=0, stratify = Y)\n",
    "print(\"...Done.\")\n",
    "print()"
   ]
  },
  {
   "cell_type": "code",
   "execution_count": 7,
   "metadata": {
    "colab": {
     "base_uri": "https://localhost:8080/",
     "height": 218
    },
    "colab_type": "code",
    "id": "Mb27McgMuCcH",
    "outputId": "afa07b8f-4849-4da6-d277-03390a4b6090"
   },
   "outputs": [
    {
     "name": "stdout",
     "output_type": "stream",
     "text": [
      "Convert pandas DataFrames to numpy arrays...\n",
      "...Done\n",
      "[['France' 44.0 72000]\n",
      " ['Germany' 40.0 69000]\n",
      " ['Spain' nan 52000]\n",
      " ['France' 37.0 67000]\n",
      " ['Spain' 38.0 61000]]\n",
      "[['Germany' 50.0 83000]\n",
      " ['France' 48.0 79000]]\n",
      "\n",
      "['No', 'Yes', 'No', 'Yes', 'No']\n",
      "['No', 'Yes']\n"
     ]
    }
   ],
   "source": [
    "# Convert pandas DataFrames to numpy arrays before using scikit-learn\n",
    "print(\"Convert pandas DataFrames to numpy arrays...\")\n",
    "X_train = X_train.values\n",
    "X_test = X_test.values\n",
    "Y_train = Y_train.tolist()\n",
    "Y_test = Y_test.tolist()\n",
    "print(\"...Done\")\n",
    "\n",
    "print(X_train[0:5,:])\n",
    "print(X_test[0:2,:])\n",
    "print()\n",
    "print(Y_train[0:5])\n",
    "print(Y_test[0:2])"
   ]
  },
  {
   "cell_type": "markdown",
   "metadata": {
    "colab_type": "text",
    "id": "AORkIJc9vE4X"
   },
   "source": [
    "### Training pipeline"
   ]
  },
  {
   "cell_type": "code",
   "execution_count": 8,
   "metadata": {
    "colab": {
     "base_uri": "https://localhost:8080/",
     "height": 252
    },
    "colab_type": "code",
    "id": "YavdzxGEuxSW",
    "outputId": "9d403ccd-3d88-4fdf-ec97-6ae7a48aa29b"
   },
   "outputs": [
    {
     "name": "stdout",
     "output_type": "stream",
     "text": [
      "Imputing missing values...\n",
      "[['France' 44.0 72000]\n",
      " ['Germany' 40.0 69000]\n",
      " ['Spain' nan 52000]\n",
      " ['France' 37.0 67000]\n",
      " ['Spain' 38.0 61000]]\n",
      "\n",
      "...Done!\n",
      "[['France' 44.0 72000.0]\n",
      " ['Germany' 40.0 69000.0]\n",
      " ['Spain' 35.857142857142854 52000.0]\n",
      " ['France' 37.0 67000.0]\n",
      " ['Spain' 38.0 61000.0]]\n",
      "\n",
      "Encoding categorical features and standardizing numerical features...\n",
      "\n",
      "[['France' 44.0 72000.0]\n",
      " ['Germany' 40.0 69000.0]\n",
      " ['Spain' 35.857142857142854 52000.0]\n",
      " ['France' 37.0 67000.0]\n",
      " ['Spain' 38.0 61000.0]]\n",
      "...Done\n",
      "[[ 0.00000000e+00  0.00000000e+00  1.61706195e+00  1.46885753e+00]\n",
      " [ 1.00000000e+00  0.00000000e+00  8.22715727e-01  1.09777773e+00]\n",
      " [ 0.00000000e+00  1.00000000e+00 -1.41104234e-15 -1.00500778e+00]\n",
      " [ 0.00000000e+00  0.00000000e+00  2.26956063e-01  8.50391200e-01]\n",
      " [ 0.00000000e+00  1.00000000e+00  4.25542617e-01  1.08231607e-01]]\n",
      "Encoding labels...\n",
      "['No', 'Yes', 'No', 'Yes', 'No']\n",
      "...Done\n",
      "[0 1 0 1 0]\n"
     ]
    }
   ],
   "source": [
    "# Missing values\n",
    "print(\"Imputing missing values...\")\n",
    "print(X_train[0:5,:])\n",
    "print()\n",
    "imputer = SimpleImputer(strategy=\"mean\")\n",
    "X_train[:,numeric_indices] = imputer.fit_transform(X_train[:,numeric_indices])\n",
    "print(\"...Done!\")\n",
    "print(X_train[0:5,:]) \n",
    "print() \n",
    "\n",
    "# Encoding categorical features and standardizing numerical features\n",
    "print(\"Encoding categorical features and standardizing numerical features...\")\n",
    "print()\n",
    "print(X_train[0:5,:])\n",
    "\n",
    "# Normalization\n",
    "numeric_transformer = StandardScaler()\n",
    "\n",
    "# OHE / dummyfication\n",
    "categorical_transformer = OneHotEncoder(drop='first')\n",
    "\n",
    "featureencoder = ColumnTransformer(\n",
    "    transformers=[\n",
    "        ('cat', categorical_transformer, categorical_indices),    \n",
    "        ('num', numeric_transformer, numeric_indices)\n",
    "        ]\n",
    "    )\n",
    "\n",
    "X_train = featureencoder.fit_transform(X_train)\n",
    "print(\"...Done\")\n",
    "print(X_train[0:5,:])\n",
    "\n",
    "# Label encoding\n",
    "print(\"Encoding labels...\")\n",
    "print(Y_train[0:5])\n",
    "encoder = LabelEncoder()\n",
    "Y_train = encoder.fit_transform(Y_train)\n",
    "print(\"...Done\")\n",
    "print(Y_train[0:5])"
   ]
  },
  {
   "cell_type": "markdown",
   "metadata": {},
   "source": [
    "### Test pipeline"
   ]
  },
  {
   "cell_type": "code",
   "execution_count": 9,
   "metadata": {},
   "outputs": [
    {
     "name": "stdout",
     "output_type": "stream",
     "text": [
      "Imputing missing values...\n",
      "[['Germany' 50.0 83000]\n",
      " ['France' 48.0 79000]]\n",
      "...Done!\n",
      "[['Germany' 50.0 83000.0]\n",
      " ['France' 48.0 79000.0]]\n",
      "\n",
      "Encoding categorical features and standardizing numerical features...\n",
      "[['Germany' 50.0 83000.0]\n",
      " ['France' 48.0 79000.0]]\n",
      "...Done\n",
      "[[1.         0.         2.80858127 2.82948345]\n",
      " [0.         0.         2.41140816 2.33471038]]\n",
      "Encoding labels...\n",
      "['No', 'Yes']\n",
      "...Done\n",
      "[0 1]\n"
     ]
    }
   ],
   "source": [
    "# Missing values\n",
    "print(\"Imputing missing values...\")\n",
    "print(X_test[0:5,:])\n",
    "X_test[:,numeric_indices] = imputer.transform(X_test[:,numeric_indices])\n",
    "print(\"...Done!\")\n",
    "print(X_test[0:5,:]) \n",
    "print() \n",
    "\n",
    "# Encoding categorical features and standardizing numerical features\n",
    "print(\"Encoding categorical features and standardizing numerical features...\")\n",
    "print(X_test[0:5,:])\n",
    "X_test = featureencoder.transform(X_test)\n",
    "print(\"...Done\")\n",
    "print(X_test[0:5,:])\n",
    "\n",
    "# Label encoding\n",
    "print(\"Encoding labels...\")\n",
    "print(Y_test[0:5])\n",
    "Y_test = encoder.transform(Y_test)\n",
    "print(\"...Done\")\n",
    "print(Y_test[0:5])"
   ]
  },
  {
   "cell_type": "markdown",
   "metadata": {},
   "source": [
    "## Decision tree\n",
    "Let's train a decision tree (with hyperparameter optimization) and evaluate its performances :"
   ]
  },
  {
   "cell_type": "markdown",
   "metadata": {
    "colab_type": "text",
    "id": "AORkIJc9vE4X"
   },
   "source": [
    "### Training with hyperparameter optimization\n",
    "For Decision trees, the hyperparameters that are important for overfitting are :\n",
    "* min_samples_leaf\n",
    "* min_samples_split\n",
    "* max_depth\n",
    "\n",
    "In what follows, you'll see an example of how to tune these hyperparameters with cross-validated grid search :"
   ]
  },
  {
   "cell_type": "code",
   "execution_count": 10,
   "metadata": {},
   "outputs": [
    {
     "name": "stdout",
     "output_type": "stream",
     "text": [
      "Grid search...\n",
      "...Done.\n",
      "Best hyperparameters :  {'max_depth': 4, 'min_samples_leaf': 2, 'min_samples_split': 4}\n",
      "Best validation accuracy :  0.5\n"
     ]
    }
   ],
   "source": [
    "# Perform grid search\n",
    "print(\"Grid search...\")\n",
    "classifier = DecisionTreeClassifier()\n",
    "\n",
    "# Grid of values to be tested\n",
    "params = {\n",
    "    'max_depth': [4, 6, 8, 10],\n",
    "    'min_samples_leaf': [1, 2, 5],\n",
    "    'min_samples_split': [2, 4, 8]\n",
    "}\n",
    "gridsearch = GridSearchCV(classifier, param_grid = params, cv = 3) # cv : the number of folds to be used for CV\n",
    "gridsearch.fit(X_train, Y_train)\n",
    "print(\"...Done.\")\n",
    "print(\"Best hyperparameters : \", gridsearch.best_params_)\n",
    "print(\"Best validation accuracy : \", gridsearch.best_score_)"
   ]
  },
  {
   "cell_type": "markdown",
   "metadata": {},
   "source": [
    "### Performances"
   ]
  },
  {
   "cell_type": "code",
   "execution_count": 11,
   "metadata": {
    "colab": {
     "base_uri": "https://localhost:8080/",
     "height": 101
    },
    "colab_type": "code",
    "id": "3SnwgbTP1nDt",
    "outputId": "69792eef-997d-42a3-8a7d-e07fa99b8735"
   },
   "outputs": [
    {
     "name": "stdout",
     "output_type": "stream",
     "text": [
      "Predictions on training set...\n",
      "...Done.\n",
      "[1 1 0 1 0 1 1 1]\n",
      "\n"
     ]
    }
   ],
   "source": [
    "# Predictions on training set\n",
    "print(\"Predictions on training set...\")\n",
    "Y_train_pred = gridsearch.predict(X_train)\n",
    "print(\"...Done.\")\n",
    "print(Y_train_pred)\n",
    "print()"
   ]
  },
  {
   "cell_type": "code",
   "execution_count": 12,
   "metadata": {
    "colab": {
     "base_uri": "https://localhost:8080/",
     "height": 84
    },
    "colab_type": "code",
    "id": "pheNrbku33Od",
    "outputId": "a0832e59-6238-41f2-dd57-745b7a7e82e9"
   },
   "outputs": [
    {
     "name": "stdout",
     "output_type": "stream",
     "text": [
      "Predictions on test set...\n",
      "...Done.\n",
      "[1 1]\n",
      "\n"
     ]
    }
   ],
   "source": [
    "# Predictions on test set\n",
    "print(\"Predictions on test set...\")\n",
    "Y_test_pred = gridsearch.predict(X_test)\n",
    "print(\"...Done.\")\n",
    "print(Y_test_pred)\n",
    "print()"
   ]
  },
  {
   "cell_type": "code",
   "execution_count": 13,
   "metadata": {},
   "outputs": [
    {
     "name": "stdout",
     "output_type": "stream",
     "text": [
      "accuracy on training set :  0.75\n",
      "accuracy on test set :  0.5\n",
      "\n",
      "f1-score on training set :  0.8\n",
      "f1-score on test set :  0.6666666666666666\n",
      "\n"
     ]
    }
   ],
   "source": [
    "# Print scores\n",
    "print(\"accuracy on training set : \", accuracy_score(Y_train, Y_train_pred))\n",
    "print(\"accuracy on test set : \", accuracy_score(Y_test, Y_test_pred))\n",
    "print()\n",
    "\n",
    "print(\"f1-score on training set : \", f1_score(Y_train, Y_train_pred))\n",
    "print(\"f1-score on test set : \", f1_score(Y_test, Y_test_pred))\n",
    "print()"
   ]
  },
  {
   "cell_type": "code",
   "execution_count": 14,
   "metadata": {},
   "outputs": [
    {
     "data": {
      "image/svg+xml": [
       "<svg class=\"main-svg\" xmlns=\"http://www.w3.org/2000/svg\" xmlns:xlink=\"http://www.w3.org/1999/xlink\" width=\"700\" height=\"450\" style=\"\" viewBox=\"0 0 700 450\"><rect x=\"0\" y=\"0\" width=\"700\" height=\"450\" style=\"fill: rgb(255, 255, 255); fill-opacity: 1;\"/><defs id=\"defs-530e51\"><g class=\"clips\"><clipPath id=\"clip530e51xyplot\" class=\"plotclip\"><rect width=\"242.55\" height=\"270\"/></clipPath><clipPath id=\"clip530e51x2y2plot\" class=\"plotclip\"><rect width=\"242.54999999999998\" height=\"270\"/></clipPath><clipPath class=\"axesclip\" id=\"clip530e51x\"><rect x=\"80\" y=\"0\" width=\"242.55\" height=\"450\"/></clipPath><clipPath class=\"axesclip\" id=\"clip530e51y\"><rect x=\"0\" y=\"100\" width=\"700\" height=\"270\"/></clipPath><clipPath class=\"axesclip\" id=\"clip530e51xy\"><rect x=\"80\" y=\"100\" width=\"242.55\" height=\"270\"/></clipPath><clipPath class=\"axesclip\" id=\"clip530e51y2\"><rect x=\"0\" y=\"100\" width=\"700\" height=\"270\"/></clipPath><clipPath class=\"axesclip\" id=\"clip530e51xy2\"><rect x=\"80\" y=\"100\" width=\"242.55\" height=\"270\"/></clipPath><clipPath class=\"axesclip\" id=\"clip530e51x2\"><rect x=\"376.45000000000005\" y=\"0\" width=\"242.54999999999998\" height=\"450\"/></clipPath><clipPath class=\"axesclip\" id=\"clip530e51x2y\"><rect x=\"376.45000000000005\" y=\"100\" width=\"242.54999999999998\" height=\"270\"/></clipPath><clipPath class=\"axesclip\" id=\"clip530e51x2y2\"><rect x=\"376.45000000000005\" y=\"100\" width=\"242.54999999999998\" height=\"270\"/></clipPath></g><g class=\"gradients\"><linearGradient x1=\"0\" x2=\"0\" y1=\"1\" y2=\"0\" id=\"g530e51-cbdb014b\"><stop offset=\"0%\" stop-color=\"rgb(247, 252, 240)\" stop-opacity=\"1\"/><stop offset=\"12.5%\" stop-color=\"rgb(224, 243, 219)\" stop-opacity=\"1\"/><stop offset=\"25%\" stop-color=\"rgb(204, 235, 197)\" stop-opacity=\"1\"/><stop offset=\"37.5%\" stop-color=\"rgb(168, 221, 181)\" stop-opacity=\"1\"/><stop offset=\"50%\" stop-color=\"rgb(123, 204, 196)\" stop-opacity=\"1\"/><stop offset=\"62.5%\" stop-color=\"rgb(78, 179, 211)\" stop-opacity=\"1\"/><stop offset=\"75%\" stop-color=\"rgb(43, 140, 190)\" stop-opacity=\"1\"/><stop offset=\"87.5%\" stop-color=\"rgb(8, 104, 172)\" stop-opacity=\"1\"/><stop offset=\"100%\" stop-color=\"rgb(8, 64, 129)\" stop-opacity=\"1\"/></linearGradient><linearGradient x1=\"0\" x2=\"0\" y1=\"1\" y2=\"0\" id=\"g530e51-cb6c3d37\"><stop offset=\"0%\" stop-color=\"rgb(247, 252, 240)\" stop-opacity=\"1\"/><stop offset=\"12.5%\" stop-color=\"rgb(224, 243, 219)\" stop-opacity=\"1\"/><stop offset=\"25%\" stop-color=\"rgb(204, 235, 197)\" stop-opacity=\"1\"/><stop offset=\"37.5%\" stop-color=\"rgb(168, 221, 181)\" stop-opacity=\"1\"/><stop offset=\"50%\" stop-color=\"rgb(123, 204, 196)\" stop-opacity=\"1\"/><stop offset=\"62.5%\" stop-color=\"rgb(78, 179, 211)\" stop-opacity=\"1\"/><stop offset=\"75%\" stop-color=\"rgb(43, 140, 190)\" stop-opacity=\"1\"/><stop offset=\"87.5%\" stop-color=\"rgb(8, 104, 172)\" stop-opacity=\"1\"/><stop offset=\"100%\" stop-color=\"rgb(8, 64, 129)\" stop-opacity=\"1\"/></linearGradient></g></defs><g class=\"bglayer\"/><g class=\"layer-below\"><g class=\"imagelayer\"/><g class=\"shapelayer\"/></g><g class=\"cartesianlayer\"><g class=\"subplot xy\"><g class=\"layer-subplot\"><g class=\"shapelayer\"/><g class=\"imagelayer\"/></g><g class=\"gridlayer\"><g class=\"x\"><path class=\"xgrid crisp\" transform=\"translate(201.28,0)\" d=\"M0,100v270\" style=\"stroke: rgb(238, 238, 238); stroke-opacity: 1; stroke-width: 1px;\"/><path class=\"xgrid crisp\" transform=\"translate(261.90999999999997,0)\" d=\"M0,100v270\" style=\"stroke: rgb(238, 238, 238); stroke-opacity: 1; stroke-width: 1px;\"/></g><g class=\"y\"><path class=\"ygrid crisp\" transform=\"translate(0,302.5)\" d=\"M80,0h242.55\" style=\"stroke: rgb(238, 238, 238); stroke-opacity: 1; stroke-width: 1px;\"/><path class=\"ygrid crisp\" transform=\"translate(0,235)\" d=\"M80,0h242.55\" style=\"stroke: rgb(238, 238, 238); stroke-opacity: 1; stroke-width: 1px;\"/></g></g><g class=\"zerolinelayer\"><path class=\"xzl zl crisp\" transform=\"translate(140.64,0)\" d=\"M0,100v270\" style=\"stroke: rgb(68, 68, 68); stroke-opacity: 1; stroke-width: 1px;\"/><path class=\"yzl zl crisp\" transform=\"translate(0,167.5)\" d=\"M80,0h242.55\" style=\"stroke: rgb(68, 68, 68); stroke-opacity: 1; stroke-width: 1px;\"/></g><path class=\"xlines-below\"/><path class=\"ylines-below\"/><g class=\"overlines-below\"/><g class=\"xaxislayer-below\"/><g class=\"yaxislayer-below\"/><g class=\"overaxes-below\"/><g class=\"plot\" transform=\"translate(80,100)\" clip-path=\"url('#clip530e51xyplot')\"><g class=\"heatmaplayer mlayer\"><g class=\"hm\"><image xmlns=\"http://www.w3.org/2000/svg\" preserveAspectRatio=\"none\" height=\"270\" width=\"243\" x=\"0\" y=\"0\" xlink:href=\"data:image/png;base64,iVBORw0KGgoAAAANSUhEUgAAAPMAAAEOCAYAAABcjSFMAAAHRElEQVR4Xu3VwW0CQRQE0d0QnBNZOQrn5CPBcONiCSPuBEDXmwx+1ZT6/L7+Pg4PAQQ+nsAp5o936AAEXgTE7CMgMEJAzCMinYGAmP0BBEYIiHlEpDMQELM/gMAIATGPiHQGAmL2BxAYISDmEZHOQEDM/gACIwTEPCLSGQiI2R9AYISAmEdEOgMBMfsDCIwQEPOISGcgIGZ/AIERAmIeEekMBMTsDyAwQkDMIyKdgYCY/QEERgiIeUSkMxAQsz+AwAgBMY+IdAYCYvYHEBghIOYRkc5AQMz+AAIjBMQ8ItIZCIjZH0BghICYR0Q6AwEx+wMIjBAQ84hIZyAgZn8AgRECYh4R6QwExOwPIDBCQMwjIp2BgJj9AQRGCIh5RKQzEBCzP4DACAExj4h0BgJi9gcQGCEg5hGRzkBAzP4AAiMExDwi0hkIiNkfQGCEgJhHRDoDATH7AwiMEBDziEhnICBmfwCBEQJiHhHpDATE7A8gMEJAzCMinYGAmP0BBEYIiHlEpDMQELM/gMAIATGPiHQGAmL2BxAYISDmEZHOQEDM/gACIwTEPCLSGQiI2R9AYISAmEdEOgMBMfsDCIwQEPOISGcgIGZ/AIERAmIeEekMBMTsDyAwQkDMIyKdgYCY/QEERgiIeUSkMxAQsz+AwAgBMY+IdAYCYvYHEBghIOYRkc5AQMz+AAIjBMQ8ItIZCIjZH0BghICYR0Q6AwEx+wMIjBAQ84hIZyAgZn8AgRECYh4R6QwExOwPIDBCQMwjIp2BgJj9AQRGCIh5RKQzEBCzP4DACAExj4h0BgJi9gcQGCEg5hGRzkBAzP4AAiMExDwi0hkIiNkfQGCEgJhHRDoDATH7AwiMEBDziEhnICBmfwCBEQJiHhHpDATE7A8gMEJAzCMinYGAmP0BBEYIiHlEpDMQELM/gMAIATGPiHQGAmL2BxAYISDmEZHOQEDM/gACIwTEPCLSGQiI2R9AYISAmEdEOgMBMfsDCIwQEPOISGcgIGZ/AIERAmIeEekMBMTsDyAwQkDMIyKdgYCY/QEERgiIeUSkMxAQsz+AwAgBMY+IdAYCYvYHEBghIOYRkc5AQMz+AAIjBMQ8ItIZCIjZH0BghICYR0Q6AwEx+wMIjBAQ84hIZyAgZn8AgRECYh4R6QwExOwPIDBCQMwjIp2BgJj9AQRGCIh5RKQzEBCzP4DACIHz/nd7jNzijDcEvi4/2AQIiDkgWcwBycdxiDngWcwByWJuSBZzw7NlDngWc0CyZW5IFnPDs2UOeBZzQLJlbkgWc8OzZQ54FnNAsmVuSBZzw7NlDngWc0CyZW5IFnPDs2UOeBZzQLJlbkgWc8OzZQ54FnNAsmVuSBZzw7NlDngWc0CyZW5IFnPDs2UOeBZzQLJlbkgWc8OzZQ54FnNAsmVuSBZzw7NlDngWc0CyZW5IFnPDs2UOeBZzQLJlbkgWc8OzZQ54FnNAsmVuSBZzw7NlDngWc0CyZW5IFnPDs2UOeBZzQLJlbkgWc8OzZQ54FnNAsmVuSBZzw7NlDngWc0CyZW5IFnPDs2UOeBZzQLJlbkgWc8OzZQ54FnNAsmVuSBZzw7NlDngWc0CyZW5IFnPDs2UOeBZzQLJlbkgWc8OzZQ54FnNAsmVuSBZzw7NlDngWc0CyZW5IFnPDs2UOeBZzQLJlbkgWc8OzZQ54FnNAsmVuSBZzw7NlDngWc0CyZW5IFnPDs2UOeBZzQLJlbkgWc8OzZQ54FnNAsmVuSBZzw7NlDngWc0CyZW5IFnPDs2UOeBZzQLJlbkgWc8OzZQ54FnNAsmVuSBZzw7NlDngWc0CyZW5IFnPDs2UOeBZzQLJlbkgWc8OzZQ54FnNAsmVuSBZzw7NlDngWc0CyZW5IFnPDs2UOeBZzQLJlbkgWc8OzZQ54FnNAsmVuSBZzw7NlDngWc0CyZW5IFnPDs2UOeBZzQLJlbkgWc8OzZQ54FnNAsmVuSBZzw7NlDngWc0CyZW5IFnPDs2UOeBZzQLJlbkgWc8OzZQ54FnNAsmVuSBZzw7NlDngWc0CyZW5IFnPDs2UOeBZzQLJlbkgWc8OzZQ54FnNAsmVuSBZzw7NlDngWc0CyZW5IFnPDs2UOeBZzQLJlbkgWc8OzZQ54FnNAsmVuSBZzw7NlDngWc0CyZW5IFnPDs2UOeBZzQLJlbkgWc8OzZQ54FnNAsmVuSBZzw7NlDngWc0CyZW5IFnPDs2UOeBZzQLJlbkgWc8OzZQ54FnNAsmVuSBZzw7NlDngWc0CyZW5IFnPDs2UOeBZzQLJlbkgWc8OzZQ54FnNAsmVuSBZzw7NlDngWc0CyZW5IFnPDs2UOeBZzQLJlbkgWc8OzZQ54FnNAsmVuSBZzw7NlDngWc0CyZW5IFnPDs2UOeBZzQLJlbkgWc8OzZQ54FnNAsmVuSBZzw7NlDngWc0CyZW5IFnPDs2UOeBZzQLJlbkgWc8OzZQ54FnNA8vPEf0LQIQlf0pgWAAAAAElFTkSuQmCC\" style=\"opacity: 1;\"/></g></g></g><g class=\"overplot\"/><path class=\"xlines-above crisp\" style=\"fill: none; stroke-width: 1px; stroke: rgb(0, 0, 0); stroke-opacity: 0;\" d=\"\"/><path class=\"ylines-above crisp\" style=\"fill: none; stroke-width: 1px; stroke: rgb(0, 0, 0); stroke-opacity: 0;\" d=\"\"/><g class=\"overlines-above\"/><g class=\"xaxislayer-above\"><path class=\"xtick ticks crisp\" d=\"M0,371v5\" transform=\"translate(80,0)\" style=\"stroke: rgb(68, 68, 68); stroke-opacity: 1; stroke-width: 1px;\"/><path class=\"xtick ticks crisp\" d=\"M0,371v5\" transform=\"translate(140.64,0)\" style=\"stroke: rgb(68, 68, 68); stroke-opacity: 1; stroke-width: 1px;\"/><path class=\"xtick ticks crisp\" d=\"M0,371v5\" transform=\"translate(201.28,0)\" style=\"stroke: rgb(68, 68, 68); stroke-opacity: 1; stroke-width: 1px;\"/><path class=\"xtick ticks crisp\" d=\"M0,371v5\" transform=\"translate(261.90999999999997,0)\" style=\"stroke: rgb(68, 68, 68); stroke-opacity: 1; stroke-width: 1px;\"/><path class=\"xtick ticks crisp\" d=\"M0,371v5\" transform=\"translate(322.55,0)\" style=\"stroke: rgb(68, 68, 68); stroke-opacity: 1; stroke-width: 1px;\"/><g class=\"xtick\"><text text-anchor=\"middle\" x=\"0\" y=\"390.4\" transform=\"translate(80,0)\" style=\"font-family: 'Open Sans', verdana, arial, sans-serif; font-size: 12px; fill: rgb(68, 68, 68); fill-opacity: 1; white-space: pre;\">−0.5</text></g><g class=\"xtick\"><text text-anchor=\"middle\" x=\"0\" y=\"390.4\" transform=\"translate(140.64,0)\" style=\"font-family: 'Open Sans', verdana, arial, sans-serif; font-size: 12px; fill: rgb(68, 68, 68); fill-opacity: 1; white-space: pre;\">0</text></g><g class=\"xtick\"><text text-anchor=\"middle\" x=\"0\" y=\"390.4\" transform=\"translate(201.28,0)\" style=\"font-family: 'Open Sans', verdana, arial, sans-serif; font-size: 12px; fill: rgb(68, 68, 68); fill-opacity: 1; white-space: pre;\">0.5</text></g><g class=\"xtick\"><text text-anchor=\"middle\" x=\"0\" y=\"390.4\" transform=\"translate(261.90999999999997,0)\" style=\"font-family: 'Open Sans', verdana, arial, sans-serif; font-size: 12px; fill: rgb(68, 68, 68); fill-opacity: 1; white-space: pre;\">1</text></g><g class=\"xtick\"><text text-anchor=\"middle\" x=\"0\" y=\"390.4\" transform=\"translate(322.55,0)\" style=\"font-family: 'Open Sans', verdana, arial, sans-serif; font-size: 12px; fill: rgb(68, 68, 68); fill-opacity: 1; white-space: pre;\">1.5</text></g></g><g class=\"yaxislayer-above\"><path class=\"ytick ticks crisp\" d=\"M79,0h-5\" transform=\"translate(0,370)\" style=\"stroke: rgb(68, 68, 68); stroke-opacity: 1; stroke-width: 1px;\"/><path class=\"ytick ticks crisp\" d=\"M79,0h-5\" transform=\"translate(0,302.5)\" style=\"stroke: rgb(68, 68, 68); stroke-opacity: 1; stroke-width: 1px;\"/><path class=\"ytick ticks crisp\" d=\"M79,0h-5\" transform=\"translate(0,235)\" style=\"stroke: rgb(68, 68, 68); stroke-opacity: 1; stroke-width: 1px;\"/><path class=\"ytick ticks crisp\" d=\"M79,0h-5\" transform=\"translate(0,167.5)\" style=\"stroke: rgb(68, 68, 68); stroke-opacity: 1; stroke-width: 1px;\"/><path class=\"ytick ticks crisp\" d=\"M79,0h-5\" transform=\"translate(0,100)\" style=\"stroke: rgb(68, 68, 68); stroke-opacity: 1; stroke-width: 1px;\"/><g class=\"ytick\"><text text-anchor=\"end\" x=\"71.6\" y=\"4.199999999999999\" transform=\"translate(0,370)\" style=\"font-family: 'Open Sans', verdana, arial, sans-serif; font-size: 12px; fill: rgb(68, 68, 68); fill-opacity: 1; white-space: pre;\">1.5</text></g><g class=\"ytick\"><text text-anchor=\"end\" x=\"71.6\" y=\"4.199999999999999\" transform=\"translate(0,302.5)\" style=\"font-family: 'Open Sans', verdana, arial, sans-serif; font-size: 12px; fill: rgb(68, 68, 68); fill-opacity: 1; white-space: pre;\">1</text></g><g class=\"ytick\"><text text-anchor=\"end\" x=\"71.6\" y=\"4.199999999999999\" transform=\"translate(0,235)\" style=\"font-family: 'Open Sans', verdana, arial, sans-serif; font-size: 12px; fill: rgb(68, 68, 68); fill-opacity: 1; white-space: pre;\">0.5</text></g><g class=\"ytick\"><text text-anchor=\"end\" x=\"71.6\" y=\"4.199999999999999\" transform=\"translate(0,167.5)\" style=\"font-family: 'Open Sans', verdana, arial, sans-serif; font-size: 12px; fill: rgb(68, 68, 68); fill-opacity: 1; white-space: pre;\">0</text></g><g class=\"ytick\"><text text-anchor=\"end\" x=\"71.6\" y=\"4.199999999999999\" transform=\"translate(0,100)\" style=\"font-family: 'Open Sans', verdana, arial, sans-serif; font-size: 12px; fill: rgb(68, 68, 68); fill-opacity: 1; white-space: pre;\">−0.5</text></g></g><g class=\"overaxes-above\"/></g><g class=\"subplot x2y2\"><g class=\"layer-subplot\"><g class=\"shapelayer\"/><g class=\"imagelayer\"/></g><g class=\"gridlayer\"><g class=\"x2\"><path class=\"x2grid crisp\" transform=\"translate(497.73,0)\" d=\"M0,100v270\" style=\"stroke: rgb(238, 238, 238); stroke-opacity: 1; stroke-width: 1px;\"/><path class=\"x2grid crisp\" transform=\"translate(558.36,0)\" d=\"M0,100v270\" style=\"stroke: rgb(238, 238, 238); stroke-opacity: 1; stroke-width: 1px;\"/></g><g class=\"y2\"><path class=\"y2grid crisp\" transform=\"translate(0,302.5)\" d=\"M376.45000000000005,0h242.54999999999998\" style=\"stroke: rgb(238, 238, 238); stroke-opacity: 1; stroke-width: 1px;\"/><path class=\"y2grid crisp\" transform=\"translate(0,235)\" d=\"M376.45000000000005,0h242.54999999999998\" style=\"stroke: rgb(238, 238, 238); stroke-opacity: 1; stroke-width: 1px;\"/></g></g><g class=\"zerolinelayer\"><path class=\"x2zl zl crisp\" transform=\"translate(437.09000000000003,0)\" d=\"M0,100v270\" style=\"stroke: rgb(68, 68, 68); stroke-opacity: 1; stroke-width: 1px;\"/><path class=\"y2zl zl crisp\" transform=\"translate(0,167.5)\" d=\"M376.45000000000005,0h242.54999999999998\" style=\"stroke: rgb(68, 68, 68); stroke-opacity: 1; stroke-width: 1px;\"/></g><path class=\"xlines-below\"/><path class=\"ylines-below\"/><g class=\"overlines-below\"/><g class=\"xaxislayer-below\"/><g class=\"yaxislayer-below\"/><g class=\"overaxes-below\"/><g class=\"plot\" transform=\"translate(376.45000000000005,100)\" clip-path=\"url('#clip530e51x2y2plot')\"><g class=\"heatmaplayer mlayer\"><g class=\"hm\"><image xmlns=\"http://www.w3.org/2000/svg\" preserveAspectRatio=\"none\" height=\"270\" width=\"243\" x=\"0\" y=\"0\" xlink:href=\"data:image/png;base64,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\" style=\"opacity: 1;\"/></g></g></g><g class=\"overplot\"/><path class=\"xlines-above crisp\" style=\"fill: none; stroke-width: 1px; stroke: rgb(0, 0, 0); stroke-opacity: 0;\" d=\"\"/><path class=\"ylines-above crisp\" style=\"fill: none; stroke-width: 1px; stroke: rgb(0, 0, 0); stroke-opacity: 0;\" d=\"\"/><g class=\"overlines-above\"/><g class=\"xaxislayer-above\"><path class=\"x2tick ticks crisp\" d=\"M0,371v5\" transform=\"translate(376.45000000000005,0)\" style=\"stroke: rgb(68, 68, 68); stroke-opacity: 1; stroke-width: 1px;\"/><path class=\"x2tick ticks crisp\" d=\"M0,371v5\" transform=\"translate(437.09000000000003,0)\" style=\"stroke: rgb(68, 68, 68); stroke-opacity: 1; stroke-width: 1px;\"/><path class=\"x2tick ticks crisp\" d=\"M0,371v5\" transform=\"translate(497.73,0)\" style=\"stroke: rgb(68, 68, 68); stroke-opacity: 1; stroke-width: 1px;\"/><path class=\"x2tick ticks crisp\" d=\"M0,371v5\" transform=\"translate(558.36,0)\" style=\"stroke: rgb(68, 68, 68); stroke-opacity: 1; stroke-width: 1px;\"/><path class=\"x2tick ticks crisp\" d=\"M0,371v5\" transform=\"translate(619,0)\" style=\"stroke: rgb(68, 68, 68); stroke-opacity: 1; stroke-width: 1px;\"/><g class=\"x2tick\"><text text-anchor=\"middle\" x=\"0\" y=\"390.4\" transform=\"translate(376.45000000000005,0)\" style=\"font-family: 'Open Sans', verdana, arial, sans-serif; font-size: 12px; fill: rgb(68, 68, 68); fill-opacity: 1; white-space: pre;\">−0.5</text></g><g class=\"x2tick\"><text text-anchor=\"middle\" x=\"0\" y=\"390.4\" transform=\"translate(437.09000000000003,0)\" style=\"font-family: 'Open Sans', verdana, arial, sans-serif; font-size: 12px; fill: rgb(68, 68, 68); fill-opacity: 1; white-space: pre;\">0</text></g><g class=\"x2tick\"><text text-anchor=\"middle\" x=\"0\" y=\"390.4\" transform=\"translate(497.73,0)\" style=\"font-family: 'Open Sans', verdana, arial, sans-serif; font-size: 12px; fill: rgb(68, 68, 68); fill-opacity: 1; white-space: pre;\">0.5</text></g><g class=\"x2tick\"><text text-anchor=\"middle\" x=\"0\" y=\"390.4\" transform=\"translate(558.36,0)\" style=\"font-family: 'Open Sans', verdana, arial, sans-serif; font-size: 12px; fill: rgb(68, 68, 68); fill-opacity: 1; white-space: pre;\">1</text></g><g class=\"x2tick\"><text text-anchor=\"middle\" x=\"0\" y=\"390.4\" transform=\"translate(619,0)\" style=\"font-family: 'Open Sans', verdana, arial, sans-serif; font-size: 12px; fill: rgb(68, 68, 68); fill-opacity: 1; white-space: pre;\">1.5</text></g></g><g class=\"yaxislayer-above\"><path class=\"y2tick ticks crisp\" d=\"M375.45000000000005,0h-5\" transform=\"translate(0,370)\" style=\"stroke: rgb(68, 68, 68); stroke-opacity: 1; stroke-width: 1px;\"/><path class=\"y2tick ticks crisp\" d=\"M375.45000000000005,0h-5\" transform=\"translate(0,302.5)\" style=\"stroke: rgb(68, 68, 68); stroke-opacity: 1; stroke-width: 1px;\"/><path class=\"y2tick ticks crisp\" d=\"M375.45000000000005,0h-5\" transform=\"translate(0,235)\" style=\"stroke: rgb(68, 68, 68); stroke-opacity: 1; stroke-width: 1px;\"/><path class=\"y2tick ticks crisp\" d=\"M375.45000000000005,0h-5\" transform=\"translate(0,167.5)\" style=\"stroke: rgb(68, 68, 68); stroke-opacity: 1; stroke-width: 1px;\"/><path class=\"y2tick ticks crisp\" d=\"M375.45000000000005,0h-5\" transform=\"translate(0,100)\" style=\"stroke: rgb(68, 68, 68); stroke-opacity: 1; stroke-width: 1px;\"/><g class=\"y2tick\"><text text-anchor=\"end\" x=\"368.05000000000007\" y=\"4.199999999999999\" transform=\"translate(0,370)\" style=\"font-family: 'Open Sans', verdana, arial, sans-serif; font-size: 12px; fill: rgb(68, 68, 68); fill-opacity: 1; white-space: pre;\">1.5</text></g><g class=\"y2tick\"><text text-anchor=\"end\" x=\"368.05000000000007\" y=\"4.199999999999999\" transform=\"translate(0,302.5)\" style=\"font-family: 'Open Sans', verdana, arial, sans-serif; font-size: 12px; fill: rgb(68, 68, 68); fill-opacity: 1; white-space: pre;\">1</text></g><g class=\"y2tick\"><text text-anchor=\"end\" x=\"368.05000000000007\" y=\"4.199999999999999\" transform=\"translate(0,235)\" style=\"font-family: 'Open Sans', verdana, arial, sans-serif; font-size: 12px; fill: rgb(68, 68, 68); fill-opacity: 1; white-space: pre;\">0.5</text></g><g class=\"y2tick\"><text text-anchor=\"end\" x=\"368.05000000000007\" y=\"4.199999999999999\" transform=\"translate(0,167.5)\" style=\"font-family: 'Open Sans', verdana, arial, sans-serif; font-size: 12px; fill: rgb(68, 68, 68); fill-opacity: 1; white-space: pre;\">0</text></g><g class=\"y2tick\"><text text-anchor=\"end\" x=\"368.05000000000007\" y=\"4.199999999999999\" transform=\"translate(0,100)\" style=\"font-family: 'Open Sans', verdana, arial, sans-serif; font-size: 12px; fill: rgb(68, 68, 68); fill-opacity: 1; white-space: pre;\">−0.5</text></g></g><g class=\"overaxes-above\"/></g></g><g class=\"polarlayer\"/><g class=\"ternarylayer\"/><g class=\"geolayer\"/><g class=\"funnelarealayer\"/><g class=\"pielayer\"/><g class=\"treemaplayer\"/><g class=\"sunburstlayer\"/><g class=\"glimages\"/><defs id=\"topdefs-530e51\"><g class=\"clips\"/></defs><g class=\"layer-above\"><g class=\"imagelayer\"/><g class=\"shapelayer\"/></g><g class=\"infolayer\"><g class=\"cbdb014b colorbar\" transform=\"translate(80,100)\"><rect class=\"cbbg\" x=\"549.5\" y=\"-0.5\" width=\"58.640625\" height=\"271\" style=\"fill: rgb(0, 0, 0); fill-opacity: 0; stroke: rgb(68, 68, 68); stroke-opacity: 1; stroke-width: 0;\"/><g class=\"cbfills\" transform=\"translate(0,10)\"><rect class=\"cbfill\" x=\"560\" width=\"30\" y=\"0\" height=\"250\" style=\"fill: url('#g530e51-cbdb014b');\"/></g><g class=\"cblines\" transform=\"translate(0,10)\"/><g class=\"cbaxis crisp\" transform=\"translate(0,-100)\"><g class=\"ycbdb014btick\"><text text-anchor=\"start\" x=\"593.4\" y=\"4.199999999999999\" transform=\"translate(0,360)\" style=\"font-family: 'Open Sans', verdana, arial, sans-serif; font-size: 12px; fill: rgb(68, 68, 68); fill-opacity: 1; white-space: pre;\">0</text></g><g class=\"ycbdb014btick\"><text text-anchor=\"start\" x=\"593.4\" y=\"4.199999999999999\" transform=\"translate(0,297.5)\" style=\"font-family: 'Open Sans', verdana, arial, sans-serif; font-size: 12px; fill: rgb(68, 68, 68); fill-opacity: 1; white-space: pre;\">1</text></g><g class=\"ycbdb014btick\"><text text-anchor=\"start\" x=\"593.4\" y=\"4.199999999999999\" transform=\"translate(0,235)\" style=\"font-family: 'Open Sans', verdana, arial, sans-serif; font-size: 12px; fill: rgb(68, 68, 68); fill-opacity: 1; white-space: pre;\">2</text></g><g class=\"ycbdb014btick\"><text text-anchor=\"start\" x=\"593.4\" y=\"4.199999999999999\" transform=\"translate(0,172.5)\" style=\"font-family: 'Open Sans', verdana, arial, sans-serif; font-size: 12px; fill: rgb(68, 68, 68); fill-opacity: 1; white-space: pre;\">3</text></g><g class=\"ycbdb014btick\"><text text-anchor=\"start\" x=\"593.4\" y=\"4.199999999999999\" transform=\"translate(0,109.99999999999999)\" style=\"font-family: 'Open Sans', verdana, arial, sans-serif; font-size: 12px; fill: rgb(68, 68, 68); fill-opacity: 1; white-space: pre;\">4</text></g></g><g class=\"cbtitleunshift\" transform=\"translate(-80,-100)\"><g class=\"cbtitle\"/></g><rect class=\"cboutline\" x=\"560\" y=\"10\" width=\"30\" height=\"250\" style=\"stroke: rgb(68, 68, 68); stroke-opacity: 1; fill: none; stroke-width: 1;\"/></g><g class=\"cb6c3d37 colorbar\" transform=\"translate(80,100)\"><rect class=\"cbbg\" x=\"549.5\" y=\"-0.5\" width=\"58.640625\" height=\"271\" style=\"fill: rgb(0, 0, 0); fill-opacity: 0; stroke: rgb(68, 68, 68); stroke-opacity: 1; stroke-width: 0;\"/><g class=\"cbfills\" transform=\"translate(0,10)\"><rect class=\"cbfill\" x=\"560\" width=\"30\" y=\"0\" height=\"250\" style=\"fill: url('#g530e51-cb6c3d37');\"/></g><g class=\"cblines\" transform=\"translate(0,10)\"/><g class=\"cbaxis crisp\" transform=\"translate(0,-100)\"><g class=\"ycb6c3d37tick\"><text text-anchor=\"start\" x=\"593.4\" y=\"4.199999999999999\" transform=\"translate(0,360)\" style=\"font-family: 'Open Sans', verdana, arial, sans-serif; font-size: 12px; fill: rgb(68, 68, 68); fill-opacity: 1; white-space: pre;\">0</text></g><g class=\"ycb6c3d37tick\"><text text-anchor=\"start\" x=\"593.4\" y=\"4.199999999999999\" transform=\"translate(0,297.5)\" style=\"font-family: 'Open Sans', verdana, arial, sans-serif; font-size: 12px; fill: rgb(68, 68, 68); fill-opacity: 1; white-space: pre;\">1</text></g><g class=\"ycb6c3d37tick\"><text text-anchor=\"start\" x=\"593.4\" y=\"4.199999999999999\" transform=\"translate(0,235)\" style=\"font-family: 'Open Sans', verdana, arial, sans-serif; font-size: 12px; fill: rgb(68, 68, 68); fill-opacity: 1; white-space: pre;\">2</text></g><g class=\"ycb6c3d37tick\"><text text-anchor=\"start\" x=\"593.4\" y=\"4.199999999999999\" transform=\"translate(0,172.5)\" style=\"font-family: 'Open Sans', verdana, arial, sans-serif; font-size: 12px; fill: rgb(68, 68, 68); fill-opacity: 1; white-space: pre;\">3</text></g><g class=\"ycb6c3d37tick\"><text text-anchor=\"start\" x=\"593.4\" y=\"4.199999999999999\" transform=\"translate(0,109.99999999999999)\" style=\"font-family: 'Open Sans', verdana, arial, sans-serif; font-size: 12px; fill: rgb(68, 68, 68); fill-opacity: 1; white-space: pre;\">4</text></g></g><g class=\"cbtitleunshift\" transform=\"translate(-80,-100)\"><g class=\"cbtitle\"/></g><rect class=\"cboutline\" x=\"560\" y=\"10\" width=\"30\" height=\"250\" style=\"stroke: rgb(68, 68, 68); stroke-opacity: 1; fill: none; stroke-width: 1;\"/></g><g class=\"g-gtitle\"><text class=\"gtitle\" x=\"350\" y=\"50\" text-anchor=\"middle\" dy=\"0em\" style=\"font-family: 'Open Sans', verdana, arial, sans-serif; font-size: 17px; fill: rgb(68, 68, 68); opacity: 1; font-weight: normal; white-space: pre;\">Confusion matrices</text></g><g class=\"g-xtitle\"/><g class=\"g-x2title\"/><g class=\"g-ytitle\"/><g class=\"g-y2title\"/><g class=\"annotation\" data-index=\"0\" style=\"opacity: 1;\"><g class=\"annotation-text-g\" transform=\"rotate(0,201.275,88.5)\"><g class=\"cursor-pointer\" transform=\"translate(181,77)\"><rect class=\"bg\" x=\"0.5\" y=\"0.5\" width=\"40\" height=\"22\" style=\"stroke-width: 1px; stroke: rgb(0, 0, 0); stroke-opacity: 0; fill: rgb(0, 0, 0); fill-opacity: 0;\"/><text class=\"annotation-text\" text-anchor=\"middle\" x=\"20.640625\" y=\"18\" style=\"font-family: 'Open Sans', verdana, arial, sans-serif; font-size: 16px; fill: rgb(68, 68, 68); fill-opacity: 1; white-space: pre;\">train</text></g></g></g><g class=\"annotation\" data-index=\"1\" style=\"opacity: 1;\"><g class=\"annotation-text-g\" transform=\"rotate(0,497.725,88.5)\"><g class=\"cursor-pointer\" transform=\"translate(480,77)\"><rect class=\"bg\" x=\"0.5\" y=\"0.5\" width=\"34\" height=\"22\" style=\"stroke-width: 1px; stroke: rgb(0, 0, 0); stroke-opacity: 0; fill: rgb(0, 0, 0); fill-opacity: 0;\"/><text class=\"annotation-text\" text-anchor=\"middle\" x=\"17.25\" y=\"18\" style=\"font-family: 'Open Sans', verdana, arial, sans-serif; font-size: 16px; fill: rgb(68, 68, 68); fill-opacity: 1; white-space: pre;\">test</text></g></g></g><g class=\"annotation\" data-index=\"2\" style=\"opacity: 1;\"><g class=\"annotation-text-g\" transform=\"rotate(0,349.5,411.5)\"><g class=\"cursor-pointer\" transform=\"translate(308,400)\"><rect class=\"bg\" x=\"0.5\" y=\"0.5\" width=\"82\" height=\"22\" style=\"stroke-width: 1px; stroke: rgb(0, 0, 0); stroke-opacity: 0; fill: rgb(0, 0, 0); fill-opacity: 0;\"/><text class=\"annotation-text\" text-anchor=\"middle\" x=\"41.625\" y=\"18\" style=\"font-family: 'Open Sans', verdana, arial, sans-serif; font-size: 16px; fill: rgb(68, 68, 68); fill-opacity: 1; white-space: pre;\">Prediction</text></g></g></g><g class=\"annotation\" data-index=\"3\" style=\"opacity: 1;\"><g class=\"annotation-text-g\" transform=\"rotate(-90,28.5,235)\"><g class=\"cursor-pointer\" transform=\"translate(-13,224)\"><rect class=\"bg\" x=\"0.5\" y=\"0.5\" width=\"83\" height=\"22\" style=\"stroke-width: 1px; stroke: rgb(0, 0, 0); stroke-opacity: 0; fill: rgb(0, 0, 0); fill-opacity: 0;\"/><text class=\"annotation-text\" text-anchor=\"middle\" x=\"41.9375\" y=\"18\" style=\"font-family: 'Open Sans', verdana, arial, sans-serif; font-size: 16px; fill: rgb(68, 68, 68); fill-opacity: 1; white-space: pre;\">True label</text></g></g></g></g></svg>"
      ]
     },
     "metadata": {},
     "output_type": "display_data"
    }
   ],
   "source": [
    "# Visualize confusion matrices\n",
    "from plotly.subplots import make_subplots\n",
    "cm_train = confusion_matrix(Y_train, Y_train_pred)\n",
    "cm_test = confusion_matrix(Y_test, Y_test_pred)\n",
    "\n",
    "fig = make_subplots(rows = 1, cols = 2, subplot_titles = (\"train\", \"test\"), \n",
    "                    x_title = 'Prediction', y_title = 'True label')\n",
    "fig.update_layout(\n",
    "        title = go.layout.Title(text = \"Confusion matrices\", x = 0.5))\n",
    "fig.update_yaxes(autorange='reversed')\n",
    "fig.add_trace(\n",
    "    go.Heatmap(\n",
    "        name = 'train',\n",
    "        x = ['0', '1'], \n",
    "        y = ['0', '1'], \n",
    "        z = cm_train,\n",
    "        colorscale = 'gnbu',\n",
    "        zmin = 0,\n",
    "        zmax = max(cm_train.max(), cm_test.max())\n",
    "    ),\n",
    "    row = 1,\n",
    "    col = 1\n",
    ")  \n",
    "fig.add_trace(\n",
    "    go.Heatmap(\n",
    "        name = 'test',\n",
    "        x = ['0', '1'], \n",
    "        y = ['0', '1'], \n",
    "        z = cm_test,\n",
    "        colorscale = 'gnbu',\n",
    "        zmin = 0,\n",
    "        zmax = max(cm_train.max(), cm_test.max())\n",
    "    ),\n",
    "    row = 1,\n",
    "    col = 2\n",
    ")"
   ]
  },
  {
   "cell_type": "code",
   "execution_count": 15,
   "metadata": {},
   "outputs": [
    {
     "data": {
      "image/svg+xml": [
       "<svg class=\"main-svg\" xmlns=\"http://www.w3.org/2000/svg\" xmlns:xlink=\"http://www.w3.org/1999/xlink\" width=\"700\" height=\"450\" style=\"\" viewBox=\"0 0 700 450\"><rect x=\"0\" y=\"0\" width=\"700\" height=\"450\" style=\"fill: rgb(255, 255, 255); fill-opacity: 1;\"/><defs id=\"defs-a40b2c\"><g class=\"clips\"><clipPath id=\"clipa40b2cxyplot\" class=\"plotclip\"><rect width=\"525\" height=\"270\"/></clipPath><clipPath class=\"axesclip\" id=\"clipa40b2cx\"><rect x=\"80\" y=\"0\" width=\"525\" height=\"450\"/></clipPath><clipPath class=\"axesclip\" id=\"clipa40b2cy\"><rect x=\"0\" y=\"100\" width=\"700\" height=\"270\"/></clipPath><clipPath class=\"axesclip\" id=\"clipa40b2cxy\"><rect x=\"80\" y=\"100\" width=\"525\" height=\"270\"/></clipPath></g><g class=\"gradients\"/></defs><g class=\"bglayer\"/><g class=\"layer-below\"><g class=\"imagelayer\"/><g class=\"shapelayer\"/></g><g class=\"cartesianlayer\"><g class=\"subplot xy\"><g class=\"layer-subplot\"><g class=\"shapelayer\"/><g class=\"imagelayer\"/></g><g class=\"gridlayer\"><g class=\"x\"><path class=\"xgrid crisp\" transform=\"translate(185,0)\" d=\"M0,100v270\" style=\"stroke: rgb(238, 238, 238); stroke-opacity: 1; stroke-width: 1px;\"/><path class=\"xgrid crisp\" transform=\"translate(290,0)\" d=\"M0,100v270\" style=\"stroke: rgb(238, 238, 238); stroke-opacity: 1; stroke-width: 1px;\"/><path class=\"xgrid crisp\" transform=\"translate(395,0)\" d=\"M0,100v270\" style=\"stroke: rgb(238, 238, 238); stroke-opacity: 1; stroke-width: 1px;\"/><path class=\"xgrid crisp\" transform=\"translate(500,0)\" d=\"M0,100v270\" style=\"stroke: rgb(238, 238, 238); stroke-opacity: 1; stroke-width: 1px;\"/></g><g class=\"y\"><path class=\"ygrid crisp\" transform=\"translate(0,307.9)\" d=\"M80,0h525\" style=\"stroke: rgb(238, 238, 238); stroke-opacity: 1; stroke-width: 1px;\"/><path class=\"ygrid crisp\" transform=\"translate(0,259.3)\" d=\"M80,0h525\" style=\"stroke: rgb(238, 238, 238); stroke-opacity: 1; stroke-width: 1px;\"/><path class=\"ygrid crisp\" transform=\"translate(0,210.7)\" d=\"M80,0h525\" style=\"stroke: rgb(238, 238, 238); stroke-opacity: 1; stroke-width: 1px;\"/><path class=\"ygrid crisp\" transform=\"translate(0,162.1)\" d=\"M80,0h525\" style=\"stroke: rgb(238, 238, 238); stroke-opacity: 1; stroke-width: 1px;\"/><path class=\"ygrid crisp\" transform=\"translate(0,113.5)\" d=\"M80,0h525\" style=\"stroke: rgb(238, 238, 238); stroke-opacity: 1; stroke-width: 1px;\"/></g></g><g class=\"zerolinelayer\"><path class=\"xzl zl crisp\" transform=\"translate(80,0)\" d=\"M0,100v270\" style=\"stroke: rgb(68, 68, 68); stroke-opacity: 1; stroke-width: 1px;\"/><path class=\"yzl zl crisp\" transform=\"translate(0,356.5)\" d=\"M80,0h525\" style=\"stroke: rgb(68, 68, 68); stroke-opacity: 1; stroke-width: 1px;\"/></g><path class=\"xlines-below\"/><path class=\"ylines-below\"/><g class=\"overlines-below\"/><g class=\"xaxislayer-below\"/><g class=\"yaxislayer-below\"/><g class=\"overaxes-below\"/><g class=\"plot\" transform=\"translate(80,100)\" clip-path=\"url('#clipa40b2cxyplot')\"><g class=\"scatterlayer mlayer\"><g class=\"trace scatter tracecb61d8\" style=\"stroke-miterlimit: 2; opacity: 1;\"><g class=\"fills\"/><g class=\"errorbars\"/><g class=\"lines\"><path class=\"js-line\" d=\"M0,256.5L525,135L525,13.5\" style=\"vector-effect: non-scaling-stroke; fill: none; stroke: rgb(75, 154, 199); stroke-opacity: 1; stroke-width: 2px; opacity: 1;\"/></g><g class=\"points\"/><g class=\"text\"/></g><g class=\"trace scatter trace3aec62\" style=\"stroke-miterlimit: 2; opacity: 1;\"><g class=\"fills\"/><g class=\"errorbars\"/><g class=\"lines\"><path class=\"js-line\" d=\"M0,256.5L525,13.5\" style=\"vector-effect: non-scaling-stroke; fill: none; stroke: rgb(75, 232, 224); stroke-opacity: 1; stroke-width: 2px; opacity: 1;\"/></g><g class=\"points\"/><g class=\"text\"/></g></g></g><g class=\"overplot\"/><path class=\"xlines-above crisp\" style=\"fill: none;\" d=\"M0,0\"/><path class=\"ylines-above crisp\" style=\"fill: none;\" d=\"M0,0\"/><g class=\"overlines-above\"/><g class=\"xaxislayer-above\"><g class=\"xtick\"><text text-anchor=\"middle\" x=\"0\" y=\"383\" transform=\"translate(80,0)\" style=\"font-family: 'Open Sans', verdana, arial, sans-serif; font-size: 12px; fill: rgb(68, 68, 68); fill-opacity: 1; white-space: pre;\">0</text></g><g class=\"xtick\"><text text-anchor=\"middle\" x=\"0\" y=\"383\" transform=\"translate(185,0)\" style=\"font-family: 'Open Sans', verdana, arial, sans-serif; font-size: 12px; fill: rgb(68, 68, 68); fill-opacity: 1; white-space: pre;\">0.2</text></g><g class=\"xtick\"><text text-anchor=\"middle\" x=\"0\" y=\"383\" transform=\"translate(290,0)\" style=\"font-family: 'Open Sans', verdana, arial, sans-serif; font-size: 12px; fill: rgb(68, 68, 68); fill-opacity: 1; white-space: pre;\">0.4</text></g><g class=\"xtick\"><text text-anchor=\"middle\" x=\"0\" y=\"383\" transform=\"translate(395,0)\" style=\"font-family: 'Open Sans', verdana, arial, sans-serif; font-size: 12px; fill: rgb(68, 68, 68); fill-opacity: 1; white-space: pre;\">0.6</text></g><g class=\"xtick\"><text text-anchor=\"middle\" x=\"0\" y=\"383\" transform=\"translate(500,0)\" style=\"font-family: 'Open Sans', verdana, arial, sans-serif; font-size: 12px; fill: rgb(68, 68, 68); fill-opacity: 1; white-space: pre;\">0.8</text></g><g class=\"xtick\"><text text-anchor=\"middle\" x=\"0\" y=\"383\" transform=\"translate(605,0)\" style=\"font-family: 'Open Sans', verdana, arial, sans-serif; font-size: 12px; fill: rgb(68, 68, 68); fill-opacity: 1; white-space: pre;\">1</text></g></g><g class=\"yaxislayer-above\"><g class=\"ytick\"><text text-anchor=\"end\" x=\"79\" y=\"4.199999999999999\" transform=\"translate(0,356.5)\" style=\"font-family: 'Open Sans', verdana, arial, sans-serif; font-size: 12px; fill: rgb(68, 68, 68); fill-opacity: 1; white-space: pre;\">0</text></g><g class=\"ytick\"><text text-anchor=\"end\" x=\"79\" y=\"4.199999999999999\" transform=\"translate(0,307.9)\" style=\"font-family: 'Open Sans', verdana, arial, sans-serif; font-size: 12px; fill: rgb(68, 68, 68); fill-opacity: 1; white-space: pre;\">0.2</text></g><g class=\"ytick\"><text text-anchor=\"end\" x=\"79\" y=\"4.199999999999999\" transform=\"translate(0,259.3)\" style=\"font-family: 'Open Sans', verdana, arial, sans-serif; font-size: 12px; fill: rgb(68, 68, 68); fill-opacity: 1; white-space: pre;\">0.4</text></g><g class=\"ytick\"><text text-anchor=\"end\" x=\"79\" y=\"4.199999999999999\" transform=\"translate(0,210.7)\" style=\"font-family: 'Open Sans', verdana, arial, sans-serif; font-size: 12px; fill: rgb(68, 68, 68); fill-opacity: 1; white-space: pre;\">0.6</text></g><g class=\"ytick\"><text text-anchor=\"end\" x=\"79\" y=\"4.199999999999999\" transform=\"translate(0,162.1)\" style=\"font-family: 'Open Sans', verdana, arial, sans-serif; font-size: 12px; fill: rgb(68, 68, 68); fill-opacity: 1; white-space: pre;\">0.8</text></g><g class=\"ytick\"><text text-anchor=\"end\" x=\"79\" y=\"4.199999999999999\" transform=\"translate(0,113.5)\" style=\"font-family: 'Open Sans', verdana, arial, sans-serif; font-size: 12px; fill: rgb(68, 68, 68); fill-opacity: 1; white-space: pre;\">1</text></g></g><g class=\"overaxes-above\"/></g></g><g class=\"polarlayer\"/><g class=\"ternarylayer\"/><g class=\"geolayer\"/><g class=\"funnelarealayer\"/><g class=\"pielayer\"/><g class=\"treemaplayer\"/><g class=\"sunburstlayer\"/><g class=\"glimages\"/><defs id=\"topdefs-a40b2c\"><g class=\"clips\"/><clipPath id=\"legenda40b2c\"><rect width=\"73\" height=\"48\" x=\"0\" y=\"0\"/></clipPath></defs><g class=\"layer-above\"><g class=\"imagelayer\"/><g class=\"shapelayer\"/></g><g class=\"infolayer\"><g class=\"legend\" pointer-events=\"all\" transform=\"translate(615.5,100)\"><rect class=\"bg\" shape-rendering=\"crispEdges\" style=\"stroke: rgb(68, 68, 68); stroke-opacity: 1; fill: rgb(255, 255, 255); fill-opacity: 1; stroke-width: 0px;\" width=\"73\" height=\"48\" x=\"0\" y=\"0\"/><g class=\"scrollbox\" transform=\"\" clip-path=\"url('#legenda40b2c')\"><g class=\"groups\"><g class=\"traces\" style=\"opacity: 1;\" transform=\"translate(0,14.5)\"><text class=\"legendtext\" text-anchor=\"start\" x=\"40\" y=\"4.680000000000001\" style=\"font-family: 'Open Sans', verdana, arial, sans-serif; font-size: 12px; fill: rgb(68, 68, 68); fill-opacity: 1; white-space: pre;\">train</text><g class=\"layers\" style=\"opacity: 1;\"><g class=\"legendfill\"/><g class=\"legendlines\"><path class=\"js-line\" d=\"M5,0h30\" style=\"fill: none; stroke: rgb(75, 154, 199); stroke-opacity: 1; stroke-width: 2px;\"/></g><g class=\"legendsymbols\"><g class=\"legendpoints\"/></g></g><rect class=\"legendtoggle\" x=\"0\" y=\"-9.5\" width=\"67.953125\" height=\"19\" style=\"fill: rgb(0, 0, 0); fill-opacity: 0;\"/></g><g class=\"traces\" style=\"opacity: 1;\" transform=\"translate(0,33.5)\"><text class=\"legendtext\" text-anchor=\"start\" x=\"40\" y=\"4.680000000000001\" style=\"font-family: 'Open Sans', verdana, arial, sans-serif; font-size: 12px; fill: rgb(68, 68, 68); fill-opacity: 1; white-space: pre;\">test</text><g class=\"layers\" style=\"opacity: 1;\"><g class=\"legendfill\"/><g class=\"legendlines\"><path class=\"js-line\" d=\"M5,0h30\" style=\"fill: none; stroke: rgb(75, 232, 224); stroke-opacity: 1; stroke-width: 2px;\"/></g><g class=\"legendsymbols\"><g class=\"legendpoints\"/></g></g><rect class=\"legendtoggle\" x=\"0\" y=\"-9.5\" width=\"67.953125\" height=\"19\" style=\"fill: rgb(0, 0, 0); fill-opacity: 0;\"/></g></g></g><rect class=\"scrollbar\" rx=\"20\" ry=\"3\" width=\"0\" height=\"0\" style=\"fill: rgb(128, 139, 164); fill-opacity: 1;\" x=\"0\" y=\"0\"/></g><g class=\"g-gtitle\"><text class=\"gtitle\" x=\"350\" y=\"50\" text-anchor=\"middle\" dy=\"0em\" style=\"font-family: 'Open Sans', verdana, arial, sans-serif; font-size: 17px; fill: rgb(68, 68, 68); opacity: 1; font-weight: normal; white-space: pre;\">ROC curve</text></g><g class=\"g-xtitle\"><text class=\"xtitle\" x=\"342.5\" y=\"422\" text-anchor=\"middle\" style=\"font-family: 'Open Sans', verdana, arial, sans-serif; font-size: 14px; fill: rgb(68, 68, 68); opacity: 1; font-weight: normal; white-space: pre;\">False Positive Rate</text></g><g class=\"g-ytitle\"><text class=\"ytitle\" transform=\"rotate(-90,42,235)\" x=\"42\" y=\"235\" text-anchor=\"middle\" style=\"font-family: 'Open Sans', verdana, arial, sans-serif; font-size: 14px; fill: rgb(68, 68, 68); opacity: 1; font-weight: normal; white-space: pre;\">True Positive Rate</text></g></g></svg>"
      ]
     },
     "metadata": {},
     "output_type": "display_data"
    }
   ],
   "source": [
    "# Visualize ROC curves\n",
    "probas_train = gridsearch.predict_proba(X_train)[:,1]\n",
    "precisions, recalls, thresholds = roc_curve(Y_train, probas_train)\n",
    "fig = go.Figure(\n",
    "    data = go.Scatter(\n",
    "        name = 'train',\n",
    "        x = recalls, \n",
    "        y = precisions, \n",
    "        mode = 'lines'\n",
    "    ),\n",
    "    layout = go.Layout(\n",
    "        title = go.layout.Title(text = \"ROC curve\", x = 0.5),\n",
    "        xaxis = go.layout.XAxis(title = 'False Positive Rate'),\n",
    "        yaxis = go.layout.YAxis(title = 'True Positive Rate')\n",
    "    )\n",
    ")\n",
    "\n",
    "probas_test = gridsearch.predict_proba(X_test)[:,1]\n",
    "precisions, recalls, thresholds = roc_curve(Y_test, probas_test)\n",
    "fig.add_trace(go.Scatter(\n",
    "    name = 'test',\n",
    "    x = recalls, \n",
    "    y = precisions, \n",
    "    mode = 'lines'\n",
    "    )\n",
    ")\n",
    "fig.show()"
   ]
  },
  {
   "cell_type": "markdown",
   "metadata": {},
   "source": [
    "## Random Forest\n",
    "Let's train a Random Forest (with hyperparameter optimization) and evaluate its performances :"
   ]
  },
  {
   "cell_type": "markdown",
   "metadata": {
    "colab_type": "text",
    "id": "AORkIJc9vE4X"
   },
   "source": [
    "### Training with hyperparameter optimization\n",
    "For Random Forest, the hyperparameters that are important for overfitting are :\n",
    "* min_samples_leaf\n",
    "* min_samples_split\n",
    "* max_depth\n",
    "* n_estimators\n",
    "\n",
    "In what follows, you'll see an example of how to tune these hyperparameters with cross-validated grid search :"
   ]
  },
  {
   "cell_type": "code",
   "execution_count": 16,
   "metadata": {},
   "outputs": [
    {
     "name": "stdout",
     "output_type": "stream",
     "text": [
      "Grid search...\n",
      "...Done.\n",
      "Best hyperparameters :  {'max_depth': 4, 'min_samples_leaf': 1, 'min_samples_split': 2, 'n_estimators': 10}\n",
      "Best validation accuracy :  0.5\n"
     ]
    }
   ],
   "source": [
    "# Perform grid search\n",
    "print(\"Grid search...\")\n",
    "classifier = RandomForestClassifier()\n",
    "\n",
    "# Grid of values to be tested\n",
    "params = {\n",
    "    'max_depth': [2, 4, 6, 8, 10],\n",
    "    'min_samples_leaf': [1, 2, 5],\n",
    "    'min_samples_split': [2, 4, 8],\n",
    "    'n_estimators': [10, 20, 40, 60, 80, 100]\n",
    "}\n",
    "gridsearch = GridSearchCV(classifier, param_grid = params, cv = 3) # cv : the number of folds to be used for CV\n",
    "gridsearch.fit(X_train, Y_train)\n",
    "print(\"...Done.\")\n",
    "print(\"Best hyperparameters : \", gridsearch.best_params_)\n",
    "print(\"Best validation accuracy : \", gridsearch.best_score_)"
   ]
  },
  {
   "cell_type": "markdown",
   "metadata": {},
   "source": [
    "### Performances"
   ]
  },
  {
   "cell_type": "code",
   "execution_count": 17,
   "metadata": {
    "colab": {
     "base_uri": "https://localhost:8080/",
     "height": 101
    },
    "colab_type": "code",
    "id": "3SnwgbTP1nDt",
    "outputId": "69792eef-997d-42a3-8a7d-e07fa99b8735"
   },
   "outputs": [
    {
     "name": "stdout",
     "output_type": "stream",
     "text": [
      "Predictions on training set...\n",
      "...Done.\n",
      "[0 1 0 1 0 1 0 1]\n",
      "\n"
     ]
    }
   ],
   "source": [
    "# Predictions on training set\n",
    "print(\"Predictions on training set...\")\n",
    "Y_train_pred = gridsearch.predict(X_train)\n",
    "print(\"...Done.\")\n",
    "print(Y_train_pred)\n",
    "print()"
   ]
  },
  {
   "cell_type": "code",
   "execution_count": 18,
   "metadata": {
    "colab": {
     "base_uri": "https://localhost:8080/",
     "height": 84
    },
    "colab_type": "code",
    "id": "pheNrbku33Od",
    "outputId": "a0832e59-6238-41f2-dd57-745b7a7e82e9"
   },
   "outputs": [
    {
     "name": "stdout",
     "output_type": "stream",
     "text": [
      "Predictions on test set...\n",
      "...Done.\n",
      "[0 0]\n",
      "\n"
     ]
    }
   ],
   "source": [
    "# Predictions on test set\n",
    "print(\"Predictions on test set...\")\n",
    "Y_test_pred = gridsearch.predict(X_test)\n",
    "print(\"...Done.\")\n",
    "print(Y_test_pred)\n",
    "print()"
   ]
  },
  {
   "cell_type": "code",
   "execution_count": 19,
   "metadata": {},
   "outputs": [
    {
     "name": "stdout",
     "output_type": "stream",
     "text": [
      "accuracy on training set :  1.0\n",
      "accuracy on test set :  0.5\n",
      "\n",
      "f1-score on training set :  1.0\n",
      "f1-score on test set :  0.0\n",
      "\n"
     ]
    }
   ],
   "source": [
    "# Print scores\n",
    "print(\"accuracy on training set : \", accuracy_score(Y_train, Y_train_pred))\n",
    "print(\"accuracy on test set : \", accuracy_score(Y_test, Y_test_pred))\n",
    "print()\n",
    "\n",
    "print(\"f1-score on training set : \", f1_score(Y_train, Y_train_pred))\n",
    "print(\"f1-score on test set : \", f1_score(Y_test, Y_test_pred))\n",
    "print()"
   ]
  },
  {
   "cell_type": "code",
   "execution_count": 20,
   "metadata": {},
   "outputs": [
    {
     "data": {
      "image/svg+xml": [
       "<svg class=\"main-svg\" xmlns=\"http://www.w3.org/2000/svg\" xmlns:xlink=\"http://www.w3.org/1999/xlink\" width=\"700\" height=\"450\" style=\"\" viewBox=\"0 0 700 450\"><rect x=\"0\" y=\"0\" width=\"700\" height=\"450\" style=\"fill: rgb(255, 255, 255); fill-opacity: 1;\"/><defs id=\"defs-c4e453\"><g class=\"clips\"><clipPath id=\"clipc4e453xyplot\" class=\"plotclip\"><rect width=\"242.55\" height=\"270\"/></clipPath><clipPath id=\"clipc4e453x2y2plot\" class=\"plotclip\"><rect width=\"242.54999999999998\" height=\"270\"/></clipPath><clipPath class=\"axesclip\" id=\"clipc4e453x\"><rect x=\"80\" y=\"0\" width=\"242.55\" height=\"450\"/></clipPath><clipPath class=\"axesclip\" id=\"clipc4e453y\"><rect x=\"0\" y=\"100\" width=\"700\" height=\"270\"/></clipPath><clipPath class=\"axesclip\" id=\"clipc4e453xy\"><rect x=\"80\" y=\"100\" width=\"242.55\" height=\"270\"/></clipPath><clipPath class=\"axesclip\" id=\"clipc4e453y2\"><rect x=\"0\" y=\"100\" width=\"700\" height=\"270\"/></clipPath><clipPath class=\"axesclip\" id=\"clipc4e453xy2\"><rect x=\"80\" y=\"100\" width=\"242.55\" height=\"270\"/></clipPath><clipPath class=\"axesclip\" id=\"clipc4e453x2\"><rect x=\"376.45000000000005\" y=\"0\" width=\"242.54999999999998\" height=\"450\"/></clipPath><clipPath class=\"axesclip\" id=\"clipc4e453x2y\"><rect x=\"376.45000000000005\" y=\"100\" width=\"242.54999999999998\" height=\"270\"/></clipPath><clipPath class=\"axesclip\" id=\"clipc4e453x2y2\"><rect x=\"376.45000000000005\" y=\"100\" width=\"242.54999999999998\" height=\"270\"/></clipPath></g><g class=\"gradients\"><linearGradient x1=\"0\" x2=\"0\" y1=\"1\" y2=\"0\" id=\"gc4e453-cbabab08\"><stop offset=\"0%\" stop-color=\"rgb(247, 252, 240)\" stop-opacity=\"1\"/><stop offset=\"12.5%\" stop-color=\"rgb(224, 243, 219)\" stop-opacity=\"1\"/><stop offset=\"25%\" stop-color=\"rgb(204, 235, 197)\" stop-opacity=\"1\"/><stop offset=\"37.5%\" stop-color=\"rgb(168, 221, 181)\" stop-opacity=\"1\"/><stop offset=\"50%\" stop-color=\"rgb(123, 204, 196)\" stop-opacity=\"1\"/><stop offset=\"62.5%\" stop-color=\"rgb(78, 179, 211)\" stop-opacity=\"1\"/><stop offset=\"75%\" stop-color=\"rgb(43, 140, 190)\" stop-opacity=\"1\"/><stop offset=\"87.5%\" stop-color=\"rgb(8, 104, 172)\" stop-opacity=\"1\"/><stop offset=\"100%\" stop-color=\"rgb(8, 64, 129)\" stop-opacity=\"1\"/></linearGradient><linearGradient x1=\"0\" x2=\"0\" y1=\"1\" y2=\"0\" id=\"gc4e453-cb508c3b\"><stop offset=\"0%\" stop-color=\"rgb(247, 252, 240)\" stop-opacity=\"1\"/><stop offset=\"12.5%\" stop-color=\"rgb(224, 243, 219)\" stop-opacity=\"1\"/><stop offset=\"25%\" stop-color=\"rgb(204, 235, 197)\" stop-opacity=\"1\"/><stop offset=\"37.5%\" stop-color=\"rgb(168, 221, 181)\" stop-opacity=\"1\"/><stop offset=\"50%\" stop-color=\"rgb(123, 204, 196)\" stop-opacity=\"1\"/><stop offset=\"62.5%\" stop-color=\"rgb(78, 179, 211)\" stop-opacity=\"1\"/><stop offset=\"75%\" stop-color=\"rgb(43, 140, 190)\" stop-opacity=\"1\"/><stop offset=\"87.5%\" stop-color=\"rgb(8, 104, 172)\" stop-opacity=\"1\"/><stop offset=\"100%\" stop-color=\"rgb(8, 64, 129)\" stop-opacity=\"1\"/></linearGradient></g></defs><g class=\"bglayer\"/><g class=\"layer-below\"><g class=\"imagelayer\"/><g class=\"shapelayer\"/></g><g class=\"cartesianlayer\"><g class=\"subplot xy\"><g class=\"layer-subplot\"><g class=\"shapelayer\"/><g class=\"imagelayer\"/></g><g class=\"gridlayer\"><g class=\"x\"><path class=\"xgrid crisp\" transform=\"translate(201.28,0)\" d=\"M0,100v270\" style=\"stroke: rgb(238, 238, 238); stroke-opacity: 1; stroke-width: 1px;\"/><path class=\"xgrid crisp\" transform=\"translate(261.90999999999997,0)\" d=\"M0,100v270\" style=\"stroke: rgb(238, 238, 238); stroke-opacity: 1; stroke-width: 1px;\"/></g><g class=\"y\"><path class=\"ygrid crisp\" transform=\"translate(0,302.5)\" d=\"M80,0h242.55\" style=\"stroke: rgb(238, 238, 238); stroke-opacity: 1; stroke-width: 1px;\"/><path class=\"ygrid crisp\" transform=\"translate(0,235)\" d=\"M80,0h242.55\" style=\"stroke: rgb(238, 238, 238); stroke-opacity: 1; stroke-width: 1px;\"/></g></g><g class=\"zerolinelayer\"><path class=\"xzl zl crisp\" transform=\"translate(140.64,0)\" d=\"M0,100v270\" style=\"stroke: rgb(68, 68, 68); stroke-opacity: 1; stroke-width: 1px;\"/><path class=\"yzl zl crisp\" transform=\"translate(0,167.5)\" d=\"M80,0h242.55\" style=\"stroke: rgb(68, 68, 68); stroke-opacity: 1; stroke-width: 1px;\"/></g><path class=\"xlines-below\"/><path class=\"ylines-below\"/><g class=\"overlines-below\"/><g class=\"xaxislayer-below\"/><g class=\"yaxislayer-below\"/><g class=\"overaxes-below\"/><g class=\"plot\" transform=\"translate(80,100)\" clip-path=\"url('#clipc4e453xyplot')\"><g class=\"heatmaplayer mlayer\"><g class=\"hm\"><image xmlns=\"http://www.w3.org/2000/svg\" preserveAspectRatio=\"none\" height=\"270\" width=\"243\" x=\"0\" y=\"0\" xlink:href=\"data:image/png;base64,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\" style=\"opacity: 1;\"/></g></g></g><g class=\"overplot\"/><path class=\"xlines-above crisp\" style=\"fill: none; stroke-width: 1px; stroke: rgb(0, 0, 0); stroke-opacity: 0;\" d=\"\"/><path class=\"ylines-above crisp\" style=\"fill: none; stroke-width: 1px; stroke: rgb(0, 0, 0); stroke-opacity: 0;\" d=\"\"/><g class=\"overlines-above\"/><g class=\"xaxislayer-above\"><path class=\"xtick ticks crisp\" d=\"M0,371v5\" transform=\"translate(80,0)\" style=\"stroke: rgb(68, 68, 68); stroke-opacity: 1; stroke-width: 1px;\"/><path class=\"xtick ticks crisp\" d=\"M0,371v5\" transform=\"translate(140.64,0)\" style=\"stroke: rgb(68, 68, 68); stroke-opacity: 1; stroke-width: 1px;\"/><path class=\"xtick ticks crisp\" d=\"M0,371v5\" transform=\"translate(201.28,0)\" style=\"stroke: rgb(68, 68, 68); stroke-opacity: 1; stroke-width: 1px;\"/><path class=\"xtick ticks crisp\" d=\"M0,371v5\" transform=\"translate(261.90999999999997,0)\" style=\"stroke: rgb(68, 68, 68); stroke-opacity: 1; stroke-width: 1px;\"/><path class=\"xtick ticks crisp\" d=\"M0,371v5\" transform=\"translate(322.55,0)\" style=\"stroke: rgb(68, 68, 68); stroke-opacity: 1; stroke-width: 1px;\"/><g class=\"xtick\"><text text-anchor=\"middle\" x=\"0\" y=\"390.4\" transform=\"translate(80,0)\" style=\"font-family: 'Open Sans', verdana, arial, sans-serif; font-size: 12px; fill: rgb(68, 68, 68); fill-opacity: 1; white-space: pre;\">−0.5</text></g><g class=\"xtick\"><text text-anchor=\"middle\" x=\"0\" y=\"390.4\" transform=\"translate(140.64,0)\" style=\"font-family: 'Open Sans', verdana, arial, sans-serif; font-size: 12px; fill: rgb(68, 68, 68); fill-opacity: 1; white-space: pre;\">0</text></g><g class=\"xtick\"><text text-anchor=\"middle\" x=\"0\" y=\"390.4\" transform=\"translate(201.28,0)\" style=\"font-family: 'Open Sans', verdana, arial, sans-serif; font-size: 12px; fill: rgb(68, 68, 68); fill-opacity: 1; white-space: pre;\">0.5</text></g><g class=\"xtick\"><text text-anchor=\"middle\" x=\"0\" y=\"390.4\" transform=\"translate(261.90999999999997,0)\" style=\"font-family: 'Open Sans', verdana, arial, sans-serif; font-size: 12px; fill: rgb(68, 68, 68); fill-opacity: 1; white-space: pre;\">1</text></g><g class=\"xtick\"><text text-anchor=\"middle\" x=\"0\" y=\"390.4\" transform=\"translate(322.55,0)\" style=\"font-family: 'Open Sans', verdana, arial, sans-serif; font-size: 12px; fill: rgb(68, 68, 68); fill-opacity: 1; white-space: pre;\">1.5</text></g></g><g class=\"yaxislayer-above\"><path class=\"ytick ticks crisp\" d=\"M79,0h-5\" transform=\"translate(0,370)\" style=\"stroke: rgb(68, 68, 68); stroke-opacity: 1; stroke-width: 1px;\"/><path class=\"ytick ticks crisp\" d=\"M79,0h-5\" transform=\"translate(0,302.5)\" style=\"stroke: rgb(68, 68, 68); stroke-opacity: 1; stroke-width: 1px;\"/><path class=\"ytick ticks crisp\" d=\"M79,0h-5\" transform=\"translate(0,235)\" style=\"stroke: rgb(68, 68, 68); stroke-opacity: 1; stroke-width: 1px;\"/><path class=\"ytick ticks crisp\" d=\"M79,0h-5\" transform=\"translate(0,167.5)\" style=\"stroke: rgb(68, 68, 68); stroke-opacity: 1; stroke-width: 1px;\"/><path class=\"ytick ticks crisp\" d=\"M79,0h-5\" transform=\"translate(0,100)\" style=\"stroke: rgb(68, 68, 68); stroke-opacity: 1; stroke-width: 1px;\"/><g class=\"ytick\"><text text-anchor=\"end\" x=\"71.6\" y=\"4.199999999999999\" transform=\"translate(0,370)\" style=\"font-family: 'Open Sans', verdana, arial, sans-serif; font-size: 12px; fill: rgb(68, 68, 68); fill-opacity: 1; white-space: pre;\">1.5</text></g><g class=\"ytick\"><text text-anchor=\"end\" x=\"71.6\" y=\"4.199999999999999\" transform=\"translate(0,302.5)\" style=\"font-family: 'Open Sans', verdana, arial, sans-serif; font-size: 12px; fill: rgb(68, 68, 68); fill-opacity: 1; white-space: pre;\">1</text></g><g class=\"ytick\"><text text-anchor=\"end\" x=\"71.6\" y=\"4.199999999999999\" transform=\"translate(0,235)\" style=\"font-family: 'Open Sans', verdana, arial, sans-serif; font-size: 12px; fill: rgb(68, 68, 68); fill-opacity: 1; white-space: pre;\">0.5</text></g><g class=\"ytick\"><text text-anchor=\"end\" x=\"71.6\" y=\"4.199999999999999\" transform=\"translate(0,167.5)\" style=\"font-family: 'Open Sans', verdana, arial, sans-serif; font-size: 12px; fill: rgb(68, 68, 68); fill-opacity: 1; white-space: pre;\">0</text></g><g class=\"ytick\"><text text-anchor=\"end\" x=\"71.6\" y=\"4.199999999999999\" transform=\"translate(0,100)\" style=\"font-family: 'Open Sans', verdana, arial, sans-serif; font-size: 12px; fill: rgb(68, 68, 68); fill-opacity: 1; white-space: pre;\">−0.5</text></g></g><g class=\"overaxes-above\"/></g><g class=\"subplot x2y2\"><g class=\"layer-subplot\"><g class=\"shapelayer\"/><g class=\"imagelayer\"/></g><g class=\"gridlayer\"><g class=\"x2\"><path class=\"x2grid crisp\" transform=\"translate(497.73,0)\" d=\"M0,100v270\" style=\"stroke: rgb(238, 238, 238); stroke-opacity: 1; stroke-width: 1px;\"/><path class=\"x2grid crisp\" transform=\"translate(558.36,0)\" d=\"M0,100v270\" style=\"stroke: rgb(238, 238, 238); stroke-opacity: 1; stroke-width: 1px;\"/></g><g class=\"y2\"><path class=\"y2grid crisp\" transform=\"translate(0,302.5)\" d=\"M376.45000000000005,0h242.54999999999998\" style=\"stroke: rgb(238, 238, 238); stroke-opacity: 1; stroke-width: 1px;\"/><path class=\"y2grid crisp\" transform=\"translate(0,235)\" d=\"M376.45000000000005,0h242.54999999999998\" style=\"stroke: rgb(238, 238, 238); stroke-opacity: 1; stroke-width: 1px;\"/></g></g><g class=\"zerolinelayer\"><path class=\"x2zl zl crisp\" transform=\"translate(437.09000000000003,0)\" d=\"M0,100v270\" style=\"stroke: rgb(68, 68, 68); stroke-opacity: 1; stroke-width: 1px;\"/><path class=\"y2zl zl crisp\" transform=\"translate(0,167.5)\" d=\"M376.45000000000005,0h242.54999999999998\" style=\"stroke: rgb(68, 68, 68); stroke-opacity: 1; stroke-width: 1px;\"/></g><path class=\"xlines-below\"/><path class=\"ylines-below\"/><g class=\"overlines-below\"/><g class=\"xaxislayer-below\"/><g class=\"yaxislayer-below\"/><g class=\"overaxes-below\"/><g class=\"plot\" transform=\"translate(376.45000000000005,100)\" clip-path=\"url('#clipc4e453x2y2plot')\"><g class=\"heatmaplayer mlayer\"><g class=\"hm\"><image xmlns=\"http://www.w3.org/2000/svg\" preserveAspectRatio=\"none\" height=\"270\" width=\"243\" x=\"0\" y=\"0\" xlink:href=\"data:image/png;base64,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\" style=\"opacity: 1;\"/></g></g></g><g class=\"overplot\"/><path class=\"xlines-above crisp\" style=\"fill: none; stroke-width: 1px; stroke: rgb(0, 0, 0); stroke-opacity: 0;\" d=\"\"/><path class=\"ylines-above crisp\" style=\"fill: none; stroke-width: 1px; stroke: rgb(0, 0, 0); stroke-opacity: 0;\" d=\"\"/><g class=\"overlines-above\"/><g class=\"xaxislayer-above\"><path class=\"x2tick ticks crisp\" d=\"M0,371v5\" transform=\"translate(376.45000000000005,0)\" style=\"stroke: rgb(68, 68, 68); stroke-opacity: 1; stroke-width: 1px;\"/><path class=\"x2tick ticks crisp\" d=\"M0,371v5\" transform=\"translate(437.09000000000003,0)\" style=\"stroke: rgb(68, 68, 68); stroke-opacity: 1; stroke-width: 1px;\"/><path class=\"x2tick ticks crisp\" d=\"M0,371v5\" transform=\"translate(497.73,0)\" style=\"stroke: rgb(68, 68, 68); stroke-opacity: 1; stroke-width: 1px;\"/><path class=\"x2tick ticks crisp\" d=\"M0,371v5\" transform=\"translate(558.36,0)\" style=\"stroke: rgb(68, 68, 68); stroke-opacity: 1; stroke-width: 1px;\"/><path class=\"x2tick ticks crisp\" d=\"M0,371v5\" transform=\"translate(619,0)\" style=\"stroke: rgb(68, 68, 68); stroke-opacity: 1; stroke-width: 1px;\"/><g class=\"x2tick\"><text text-anchor=\"middle\" x=\"0\" y=\"390.4\" transform=\"translate(376.45000000000005,0)\" style=\"font-family: 'Open Sans', verdana, arial, sans-serif; font-size: 12px; fill: rgb(68, 68, 68); fill-opacity: 1; white-space: pre;\">−0.5</text></g><g class=\"x2tick\"><text text-anchor=\"middle\" x=\"0\" y=\"390.4\" transform=\"translate(437.09000000000003,0)\" style=\"font-family: 'Open Sans', verdana, arial, sans-serif; font-size: 12px; fill: rgb(68, 68, 68); fill-opacity: 1; white-space: pre;\">0</text></g><g class=\"x2tick\"><text text-anchor=\"middle\" x=\"0\" y=\"390.4\" transform=\"translate(497.73,0)\" style=\"font-family: 'Open Sans', verdana, arial, sans-serif; font-size: 12px; fill: rgb(68, 68, 68); fill-opacity: 1; white-space: pre;\">0.5</text></g><g class=\"x2tick\"><text text-anchor=\"middle\" x=\"0\" y=\"390.4\" transform=\"translate(558.36,0)\" style=\"font-family: 'Open Sans', verdana, arial, sans-serif; font-size: 12px; fill: rgb(68, 68, 68); fill-opacity: 1; white-space: pre;\">1</text></g><g class=\"x2tick\"><text text-anchor=\"middle\" x=\"0\" y=\"390.4\" transform=\"translate(619,0)\" style=\"font-family: 'Open Sans', verdana, arial, sans-serif; font-size: 12px; fill: rgb(68, 68, 68); fill-opacity: 1; white-space: pre;\">1.5</text></g></g><g class=\"yaxislayer-above\"><path class=\"y2tick ticks crisp\" d=\"M375.45000000000005,0h-5\" transform=\"translate(0,370)\" style=\"stroke: rgb(68, 68, 68); stroke-opacity: 1; stroke-width: 1px;\"/><path class=\"y2tick ticks crisp\" d=\"M375.45000000000005,0h-5\" transform=\"translate(0,302.5)\" style=\"stroke: rgb(68, 68, 68); stroke-opacity: 1; stroke-width: 1px;\"/><path class=\"y2tick ticks crisp\" d=\"M375.45000000000005,0h-5\" transform=\"translate(0,235)\" style=\"stroke: rgb(68, 68, 68); stroke-opacity: 1; stroke-width: 1px;\"/><path class=\"y2tick ticks crisp\" d=\"M375.45000000000005,0h-5\" transform=\"translate(0,167.5)\" style=\"stroke: rgb(68, 68, 68); stroke-opacity: 1; stroke-width: 1px;\"/><path class=\"y2tick ticks crisp\" d=\"M375.45000000000005,0h-5\" transform=\"translate(0,100)\" style=\"stroke: rgb(68, 68, 68); stroke-opacity: 1; stroke-width: 1px;\"/><g class=\"y2tick\"><text text-anchor=\"end\" x=\"368.05000000000007\" y=\"4.199999999999999\" transform=\"translate(0,370)\" style=\"font-family: 'Open Sans', verdana, arial, sans-serif; font-size: 12px; fill: rgb(68, 68, 68); fill-opacity: 1; white-space: pre;\">1.5</text></g><g class=\"y2tick\"><text text-anchor=\"end\" x=\"368.05000000000007\" y=\"4.199999999999999\" transform=\"translate(0,302.5)\" style=\"font-family: 'Open Sans', verdana, arial, sans-serif; font-size: 12px; fill: rgb(68, 68, 68); fill-opacity: 1; white-space: pre;\">1</text></g><g class=\"y2tick\"><text text-anchor=\"end\" x=\"368.05000000000007\" y=\"4.199999999999999\" transform=\"translate(0,235)\" style=\"font-family: 'Open Sans', verdana, arial, sans-serif; font-size: 12px; fill: rgb(68, 68, 68); fill-opacity: 1; white-space: pre;\">0.5</text></g><g class=\"y2tick\"><text text-anchor=\"end\" x=\"368.05000000000007\" y=\"4.199999999999999\" transform=\"translate(0,167.5)\" style=\"font-family: 'Open Sans', verdana, arial, sans-serif; font-size: 12px; fill: rgb(68, 68, 68); fill-opacity: 1; white-space: pre;\">0</text></g><g class=\"y2tick\"><text text-anchor=\"end\" x=\"368.05000000000007\" y=\"4.199999999999999\" transform=\"translate(0,100)\" style=\"font-family: 'Open Sans', verdana, arial, sans-serif; font-size: 12px; fill: rgb(68, 68, 68); fill-opacity: 1; white-space: pre;\">−0.5</text></g></g><g class=\"overaxes-above\"/></g></g><g class=\"polarlayer\"/><g class=\"ternarylayer\"/><g class=\"geolayer\"/><g class=\"funnelarealayer\"/><g class=\"pielayer\"/><g class=\"treemaplayer\"/><g class=\"sunburstlayer\"/><g class=\"glimages\"/><defs id=\"topdefs-c4e453\"><g class=\"clips\"/></defs><g class=\"layer-above\"><g class=\"imagelayer\"/><g class=\"shapelayer\"/></g><g class=\"infolayer\"><g class=\"cbabab08 colorbar\" transform=\"translate(80,100)\"><rect class=\"cbbg\" x=\"549.5\" y=\"-0.5\" width=\"58.640625\" height=\"271\" style=\"fill: rgb(0, 0, 0); fill-opacity: 0; stroke: rgb(68, 68, 68); stroke-opacity: 1; stroke-width: 0;\"/><g class=\"cbfills\" transform=\"translate(0,10)\"><rect class=\"cbfill\" x=\"560\" width=\"30\" y=\"0\" height=\"250\" style=\"fill: url('#gc4e453-cbabab08');\"/></g><g class=\"cblines\" transform=\"translate(0,10)\"/><g class=\"cbaxis crisp\" transform=\"translate(0,-100)\"><g class=\"ycbabab08tick\"><text text-anchor=\"start\" x=\"593.4\" y=\"4.199999999999999\" transform=\"translate(0,360)\" style=\"font-family: 'Open Sans', verdana, arial, sans-serif; font-size: 12px; fill: rgb(68, 68, 68); fill-opacity: 1; white-space: pre;\">0</text></g><g class=\"ycbabab08tick\"><text text-anchor=\"start\" x=\"593.4\" y=\"4.199999999999999\" transform=\"translate(0,297.5)\" style=\"font-family: 'Open Sans', verdana, arial, sans-serif; font-size: 12px; fill: rgb(68, 68, 68); fill-opacity: 1; white-space: pre;\">1</text></g><g class=\"ycbabab08tick\"><text text-anchor=\"start\" x=\"593.4\" y=\"4.199999999999999\" transform=\"translate(0,235)\" style=\"font-family: 'Open Sans', verdana, arial, sans-serif; font-size: 12px; fill: rgb(68, 68, 68); fill-opacity: 1; white-space: pre;\">2</text></g><g class=\"ycbabab08tick\"><text text-anchor=\"start\" x=\"593.4\" y=\"4.199999999999999\" transform=\"translate(0,172.5)\" style=\"font-family: 'Open Sans', verdana, arial, sans-serif; font-size: 12px; fill: rgb(68, 68, 68); fill-opacity: 1; white-space: pre;\">3</text></g><g class=\"ycbabab08tick\"><text text-anchor=\"start\" x=\"593.4\" y=\"4.199999999999999\" transform=\"translate(0,109.99999999999999)\" style=\"font-family: 'Open Sans', verdana, arial, sans-serif; font-size: 12px; fill: rgb(68, 68, 68); fill-opacity: 1; white-space: pre;\">4</text></g></g><g class=\"cbtitleunshift\" transform=\"translate(-80,-100)\"><g class=\"cbtitle\"/></g><rect class=\"cboutline\" x=\"560\" y=\"10\" width=\"30\" height=\"250\" style=\"stroke: rgb(68, 68, 68); stroke-opacity: 1; fill: none; stroke-width: 1;\"/></g><g class=\"cb508c3b colorbar\" transform=\"translate(80,100)\"><rect class=\"cbbg\" x=\"549.5\" y=\"-0.5\" width=\"58.640625\" height=\"271\" style=\"fill: rgb(0, 0, 0); fill-opacity: 0; stroke: rgb(68, 68, 68); stroke-opacity: 1; stroke-width: 0;\"/><g class=\"cbfills\" transform=\"translate(0,10)\"><rect class=\"cbfill\" x=\"560\" width=\"30\" y=\"0\" height=\"250\" style=\"fill: url('#gc4e453-cb508c3b');\"/></g><g class=\"cblines\" transform=\"translate(0,10)\"/><g class=\"cbaxis crisp\" transform=\"translate(0,-100)\"><g class=\"ycb508c3btick\"><text text-anchor=\"start\" x=\"593.4\" y=\"4.199999999999999\" transform=\"translate(0,360)\" style=\"font-family: 'Open Sans', verdana, arial, sans-serif; font-size: 12px; fill: rgb(68, 68, 68); fill-opacity: 1; white-space: pre;\">0</text></g><g class=\"ycb508c3btick\"><text text-anchor=\"start\" x=\"593.4\" y=\"4.199999999999999\" transform=\"translate(0,297.5)\" style=\"font-family: 'Open Sans', verdana, arial, sans-serif; font-size: 12px; fill: rgb(68, 68, 68); fill-opacity: 1; white-space: pre;\">1</text></g><g class=\"ycb508c3btick\"><text text-anchor=\"start\" x=\"593.4\" y=\"4.199999999999999\" transform=\"translate(0,235)\" style=\"font-family: 'Open Sans', verdana, arial, sans-serif; font-size: 12px; fill: rgb(68, 68, 68); fill-opacity: 1; white-space: pre;\">2</text></g><g class=\"ycb508c3btick\"><text text-anchor=\"start\" x=\"593.4\" y=\"4.199999999999999\" transform=\"translate(0,172.5)\" style=\"font-family: 'Open Sans', verdana, arial, sans-serif; font-size: 12px; fill: rgb(68, 68, 68); fill-opacity: 1; white-space: pre;\">3</text></g><g class=\"ycb508c3btick\"><text text-anchor=\"start\" x=\"593.4\" y=\"4.199999999999999\" transform=\"translate(0,109.99999999999999)\" style=\"font-family: 'Open Sans', verdana, arial, sans-serif; font-size: 12px; fill: rgb(68, 68, 68); fill-opacity: 1; white-space: pre;\">4</text></g></g><g class=\"cbtitleunshift\" transform=\"translate(-80,-100)\"><g class=\"cbtitle\"/></g><rect class=\"cboutline\" x=\"560\" y=\"10\" width=\"30\" height=\"250\" style=\"stroke: rgb(68, 68, 68); stroke-opacity: 1; fill: none; stroke-width: 1;\"/></g><g class=\"g-gtitle\"><text class=\"gtitle\" x=\"350\" y=\"50\" text-anchor=\"middle\" dy=\"0em\" style=\"font-family: 'Open Sans', verdana, arial, sans-serif; font-size: 17px; fill: rgb(68, 68, 68); opacity: 1; font-weight: normal; white-space: pre;\">Confusion matrices</text></g><g class=\"g-xtitle\"/><g class=\"g-x2title\"/><g class=\"g-ytitle\"/><g class=\"g-y2title\"/><g class=\"annotation\" data-index=\"0\" style=\"opacity: 1;\"><g class=\"annotation-text-g\" transform=\"rotate(0,201.275,88.5)\"><g class=\"cursor-pointer\" transform=\"translate(181,77)\"><rect class=\"bg\" x=\"0.5\" y=\"0.5\" width=\"40\" height=\"22\" style=\"stroke-width: 1px; stroke: rgb(0, 0, 0); stroke-opacity: 0; fill: rgb(0, 0, 0); fill-opacity: 0;\"/><text class=\"annotation-text\" text-anchor=\"middle\" x=\"20.640625\" y=\"18\" style=\"font-family: 'Open Sans', verdana, arial, sans-serif; font-size: 16px; fill: rgb(68, 68, 68); fill-opacity: 1; white-space: pre;\">train</text></g></g></g><g class=\"annotation\" data-index=\"1\" style=\"opacity: 1;\"><g class=\"annotation-text-g\" transform=\"rotate(0,497.725,88.5)\"><g class=\"cursor-pointer\" transform=\"translate(480,77)\"><rect class=\"bg\" x=\"0.5\" y=\"0.5\" width=\"34\" height=\"22\" style=\"stroke-width: 1px; stroke: rgb(0, 0, 0); stroke-opacity: 0; fill: rgb(0, 0, 0); fill-opacity: 0;\"/><text class=\"annotation-text\" text-anchor=\"middle\" x=\"17.25\" y=\"18\" style=\"font-family: 'Open Sans', verdana, arial, sans-serif; font-size: 16px; fill: rgb(68, 68, 68); fill-opacity: 1; white-space: pre;\">test</text></g></g></g><g class=\"annotation\" data-index=\"2\" style=\"opacity: 1;\"><g class=\"annotation-text-g\" transform=\"rotate(0,349.5,411.5)\"><g class=\"cursor-pointer\" transform=\"translate(308,400)\"><rect class=\"bg\" x=\"0.5\" y=\"0.5\" width=\"82\" height=\"22\" style=\"stroke-width: 1px; stroke: rgb(0, 0, 0); stroke-opacity: 0; fill: rgb(0, 0, 0); fill-opacity: 0;\"/><text class=\"annotation-text\" text-anchor=\"middle\" x=\"41.625\" y=\"18\" style=\"font-family: 'Open Sans', verdana, arial, sans-serif; font-size: 16px; fill: rgb(68, 68, 68); fill-opacity: 1; white-space: pre;\">Prediction</text></g></g></g><g class=\"annotation\" data-index=\"3\" style=\"opacity: 1;\"><g class=\"annotation-text-g\" transform=\"rotate(-90,28.5,235)\"><g class=\"cursor-pointer\" transform=\"translate(-13,224)\"><rect class=\"bg\" x=\"0.5\" y=\"0.5\" width=\"83\" height=\"22\" style=\"stroke-width: 1px; stroke: rgb(0, 0, 0); stroke-opacity: 0; fill: rgb(0, 0, 0); fill-opacity: 0;\"/><text class=\"annotation-text\" text-anchor=\"middle\" x=\"41.9375\" y=\"18\" style=\"font-family: 'Open Sans', verdana, arial, sans-serif; font-size: 16px; fill: rgb(68, 68, 68); fill-opacity: 1; white-space: pre;\">True label</text></g></g></g></g></svg>"
      ]
     },
     "metadata": {},
     "output_type": "display_data"
    }
   ],
   "source": [
    "# Visualize confusion matrices\n",
    "from plotly.subplots import make_subplots\n",
    "cm_train = confusion_matrix(Y_train, Y_train_pred)\n",
    "cm_test = confusion_matrix(Y_test, Y_test_pred)\n",
    "\n",
    "fig = make_subplots(rows = 1, cols = 2, subplot_titles = (\"train\", \"test\"), \n",
    "                    x_title = 'Prediction', y_title = 'True label')\n",
    "fig.update_layout(\n",
    "        title = go.layout.Title(text = \"Confusion matrices\", x = 0.5))\n",
    "fig.update_yaxes(autorange='reversed')\n",
    "fig.add_trace(\n",
    "    go.Heatmap(\n",
    "        name = 'train',\n",
    "        x = ['0', '1'], \n",
    "        y = ['0', '1'], \n",
    "        z = cm_train,\n",
    "        colorscale = 'gnbu',\n",
    "        zmin = 0,\n",
    "        zmax = max(cm_train.max(), cm_test.max())\n",
    "    ),\n",
    "    row = 1,\n",
    "    col = 1\n",
    ")  \n",
    "fig.add_trace(\n",
    "    go.Heatmap(\n",
    "        name = 'test',\n",
    "        x = ['0', '1'], \n",
    "        y = ['0', '1'], \n",
    "        z = cm_test,\n",
    "        colorscale = 'gnbu',\n",
    "        zmin = 0,\n",
    "        zmax = max(cm_train.max(), cm_test.max())\n",
    "    ),\n",
    "    row = 1,\n",
    "    col = 2\n",
    ")"
   ]
  },
  {
   "cell_type": "code",
   "execution_count": 21,
   "metadata": {},
   "outputs": [
    {
     "data": {
      "image/svg+xml": [
       "<svg class=\"main-svg\" xmlns=\"http://www.w3.org/2000/svg\" xmlns:xlink=\"http://www.w3.org/1999/xlink\" width=\"700\" height=\"450\" style=\"\" viewBox=\"0 0 700 450\"><rect x=\"0\" y=\"0\" width=\"700\" height=\"450\" style=\"fill: rgb(255, 255, 255); fill-opacity: 1;\"/><defs id=\"defs-4ba44c\"><g class=\"clips\"><clipPath id=\"clip4ba44cxyplot\" class=\"plotclip\"><rect width=\"525\" height=\"270\"/></clipPath><clipPath class=\"axesclip\" id=\"clip4ba44cx\"><rect x=\"80\" y=\"0\" width=\"525\" height=\"450\"/></clipPath><clipPath class=\"axesclip\" id=\"clip4ba44cy\"><rect x=\"0\" y=\"100\" width=\"700\" height=\"270\"/></clipPath><clipPath class=\"axesclip\" id=\"clip4ba44cxy\"><rect x=\"80\" y=\"100\" width=\"525\" height=\"270\"/></clipPath></g><g class=\"gradients\"/></defs><g class=\"bglayer\"/><g class=\"layer-below\"><g class=\"imagelayer\"/><g class=\"shapelayer\"/></g><g class=\"cartesianlayer\"><g class=\"subplot xy\"><g class=\"layer-subplot\"><g class=\"shapelayer\"/><g class=\"imagelayer\"/></g><g class=\"gridlayer\"><g class=\"x\"><path class=\"xgrid crisp\" transform=\"translate(185,0)\" d=\"M0,100v270\" style=\"stroke: rgb(238, 238, 238); stroke-opacity: 1; stroke-width: 1px;\"/><path class=\"xgrid crisp\" transform=\"translate(290,0)\" d=\"M0,100v270\" style=\"stroke: rgb(238, 238, 238); stroke-opacity: 1; stroke-width: 1px;\"/><path class=\"xgrid crisp\" transform=\"translate(395,0)\" d=\"M0,100v270\" style=\"stroke: rgb(238, 238, 238); stroke-opacity: 1; stroke-width: 1px;\"/><path class=\"xgrid crisp\" transform=\"translate(500,0)\" d=\"M0,100v270\" style=\"stroke: rgb(238, 238, 238); stroke-opacity: 1; stroke-width: 1px;\"/></g><g class=\"y\"><path class=\"ygrid crisp\" transform=\"translate(0,307.9)\" d=\"M80,0h525\" style=\"stroke: rgb(238, 238, 238); stroke-opacity: 1; stroke-width: 1px;\"/><path class=\"ygrid crisp\" transform=\"translate(0,259.3)\" d=\"M80,0h525\" style=\"stroke: rgb(238, 238, 238); stroke-opacity: 1; stroke-width: 1px;\"/><path class=\"ygrid crisp\" transform=\"translate(0,210.7)\" d=\"M80,0h525\" style=\"stroke: rgb(238, 238, 238); stroke-opacity: 1; stroke-width: 1px;\"/><path class=\"ygrid crisp\" transform=\"translate(0,162.1)\" d=\"M80,0h525\" style=\"stroke: rgb(238, 238, 238); stroke-opacity: 1; stroke-width: 1px;\"/><path class=\"ygrid crisp\" transform=\"translate(0,113.5)\" d=\"M80,0h525\" style=\"stroke: rgb(238, 238, 238); stroke-opacity: 1; stroke-width: 1px;\"/></g></g><g class=\"zerolinelayer\"><path class=\"xzl zl crisp\" transform=\"translate(80,0)\" d=\"M0,100v270\" style=\"stroke: rgb(68, 68, 68); stroke-opacity: 1; stroke-width: 1px;\"/><path class=\"yzl zl crisp\" transform=\"translate(0,356.5)\" d=\"M80,0h525\" style=\"stroke: rgb(68, 68, 68); stroke-opacity: 1; stroke-width: 1px;\"/></g><path class=\"xlines-below\"/><path class=\"ylines-below\"/><g class=\"overlines-below\"/><g class=\"xaxislayer-below\"/><g class=\"yaxislayer-below\"/><g class=\"overaxes-below\"/><g class=\"plot\" transform=\"translate(80,100)\" clip-path=\"url('#clip4ba44cxyplot')\"><g class=\"scatterlayer mlayer\"><g class=\"trace scatter traced484c3\" style=\"stroke-miterlimit: 2; opacity: 1;\"><g class=\"fills\"/><g class=\"errorbars\"/><g class=\"lines\"><path class=\"js-line\" d=\"M0,256.5L525,256.5L525,135L525,13.5\" style=\"vector-effect: non-scaling-stroke; fill: none; stroke: rgb(75, 154, 199); stroke-opacity: 1; stroke-width: 2px; opacity: 1;\"/></g><g class=\"points\"/><g class=\"text\"/></g><g class=\"trace scatter trace313eed\" style=\"stroke-miterlimit: 2; opacity: 1;\"><g class=\"fills\"/><g class=\"errorbars\"/><g class=\"lines\"><path class=\"js-line\" d=\"M0,256.5L525,13.5\" style=\"vector-effect: non-scaling-stroke; fill: none; stroke: rgb(75, 232, 224); stroke-opacity: 1; stroke-width: 2px; opacity: 1;\"/></g><g class=\"points\"/><g class=\"text\"/></g></g></g><g class=\"overplot\"/><path class=\"xlines-above crisp\" d=\"M0,0\" style=\"fill: none;\"/><path class=\"ylines-above crisp\" d=\"M0,0\" style=\"fill: none;\"/><g class=\"overlines-above\"/><g class=\"xaxislayer-above\"><g class=\"xtick\"><text text-anchor=\"middle\" x=\"0\" y=\"383\" transform=\"translate(80,0)\" style=\"font-family: 'Open Sans', verdana, arial, sans-serif; font-size: 12px; fill: rgb(68, 68, 68); fill-opacity: 1; white-space: pre;\">0</text></g><g class=\"xtick\"><text text-anchor=\"middle\" x=\"0\" y=\"383\" transform=\"translate(185,0)\" style=\"font-family: 'Open Sans', verdana, arial, sans-serif; font-size: 12px; fill: rgb(68, 68, 68); fill-opacity: 1; white-space: pre;\">0.2</text></g><g class=\"xtick\"><text text-anchor=\"middle\" x=\"0\" y=\"383\" transform=\"translate(290,0)\" style=\"font-family: 'Open Sans', verdana, arial, sans-serif; font-size: 12px; fill: rgb(68, 68, 68); fill-opacity: 1; white-space: pre;\">0.4</text></g><g class=\"xtick\"><text text-anchor=\"middle\" x=\"0\" y=\"383\" transform=\"translate(395,0)\" style=\"font-family: 'Open Sans', verdana, arial, sans-serif; font-size: 12px; fill: rgb(68, 68, 68); fill-opacity: 1; white-space: pre;\">0.6</text></g><g class=\"xtick\"><text text-anchor=\"middle\" x=\"0\" y=\"383\" transform=\"translate(500,0)\" style=\"font-family: 'Open Sans', verdana, arial, sans-serif; font-size: 12px; fill: rgb(68, 68, 68); fill-opacity: 1; white-space: pre;\">0.8</text></g><g class=\"xtick\"><text text-anchor=\"middle\" x=\"0\" y=\"383\" transform=\"translate(605,0)\" style=\"font-family: 'Open Sans', verdana, arial, sans-serif; font-size: 12px; fill: rgb(68, 68, 68); fill-opacity: 1; white-space: pre;\">1</text></g></g><g class=\"yaxislayer-above\"><g class=\"ytick\"><text text-anchor=\"end\" x=\"79\" y=\"4.199999999999999\" transform=\"translate(0,356.5)\" style=\"font-family: 'Open Sans', verdana, arial, sans-serif; font-size: 12px; fill: rgb(68, 68, 68); fill-opacity: 1; white-space: pre;\">0</text></g><g class=\"ytick\"><text text-anchor=\"end\" x=\"79\" y=\"4.199999999999999\" transform=\"translate(0,307.9)\" style=\"font-family: 'Open Sans', verdana, arial, sans-serif; font-size: 12px; fill: rgb(68, 68, 68); fill-opacity: 1; white-space: pre;\">0.2</text></g><g class=\"ytick\"><text text-anchor=\"end\" x=\"79\" y=\"4.199999999999999\" transform=\"translate(0,259.3)\" style=\"font-family: 'Open Sans', verdana, arial, sans-serif; font-size: 12px; fill: rgb(68, 68, 68); fill-opacity: 1; white-space: pre;\">0.4</text></g><g class=\"ytick\"><text text-anchor=\"end\" x=\"79\" y=\"4.199999999999999\" transform=\"translate(0,210.7)\" style=\"font-family: 'Open Sans', verdana, arial, sans-serif; font-size: 12px; fill: rgb(68, 68, 68); fill-opacity: 1; white-space: pre;\">0.6</text></g><g class=\"ytick\"><text text-anchor=\"end\" x=\"79\" y=\"4.199999999999999\" transform=\"translate(0,162.1)\" style=\"font-family: 'Open Sans', verdana, arial, sans-serif; font-size: 12px; fill: rgb(68, 68, 68); fill-opacity: 1; white-space: pre;\">0.8</text></g><g class=\"ytick\"><text text-anchor=\"end\" x=\"79\" y=\"4.199999999999999\" transform=\"translate(0,113.5)\" style=\"font-family: 'Open Sans', verdana, arial, sans-serif; font-size: 12px; fill: rgb(68, 68, 68); fill-opacity: 1; white-space: pre;\">1</text></g></g><g class=\"overaxes-above\"/></g></g><g class=\"polarlayer\"/><g class=\"ternarylayer\"/><g class=\"geolayer\"/><g class=\"funnelarealayer\"/><g class=\"pielayer\"/><g class=\"treemaplayer\"/><g class=\"sunburstlayer\"/><g class=\"glimages\"/><defs id=\"topdefs-4ba44c\"><g class=\"clips\"/><clipPath id=\"legend4ba44c\"><rect width=\"73\" height=\"48\" x=\"0\" y=\"0\"/></clipPath></defs><g class=\"layer-above\"><g class=\"imagelayer\"/><g class=\"shapelayer\"/></g><g class=\"infolayer\"><g class=\"legend\" pointer-events=\"all\" transform=\"translate(615.5,100)\"><rect class=\"bg\" shape-rendering=\"crispEdges\" width=\"73\" height=\"48\" x=\"0\" y=\"0\" style=\"stroke: rgb(68, 68, 68); stroke-opacity: 1; fill: rgb(255, 255, 255); fill-opacity: 1; stroke-width: 0px;\"/><g class=\"scrollbox\" transform=\"\" clip-path=\"url('#legend4ba44c')\"><g class=\"groups\"><g class=\"traces\" transform=\"translate(0,14.5)\" style=\"opacity: 1;\"><text class=\"legendtext\" text-anchor=\"start\" x=\"40\" y=\"4.680000000000001\" style=\"font-family: 'Open Sans', verdana, arial, sans-serif; font-size: 12px; fill: rgb(68, 68, 68); fill-opacity: 1; white-space: pre;\">train</text><g class=\"layers\" style=\"opacity: 1;\"><g class=\"legendfill\"/><g class=\"legendlines\"><path class=\"js-line\" d=\"M5,0h30\" style=\"fill: none; stroke: rgb(75, 154, 199); stroke-opacity: 1; stroke-width: 2px;\"/></g><g class=\"legendsymbols\"><g class=\"legendpoints\"/></g></g><rect class=\"legendtoggle\" x=\"0\" y=\"-9.5\" width=\"67.953125\" height=\"19\" style=\"fill: rgb(0, 0, 0); fill-opacity: 0;\"/></g><g class=\"traces\" transform=\"translate(0,33.5)\" style=\"opacity: 1;\"><text class=\"legendtext\" text-anchor=\"start\" x=\"40\" y=\"4.680000000000001\" style=\"font-family: 'Open Sans', verdana, arial, sans-serif; font-size: 12px; fill: rgb(68, 68, 68); fill-opacity: 1; white-space: pre;\">test</text><g class=\"layers\" style=\"opacity: 1;\"><g class=\"legendfill\"/><g class=\"legendlines\"><path class=\"js-line\" d=\"M5,0h30\" style=\"fill: none; stroke: rgb(75, 232, 224); stroke-opacity: 1; stroke-width: 2px;\"/></g><g class=\"legendsymbols\"><g class=\"legendpoints\"/></g></g><rect class=\"legendtoggle\" x=\"0\" y=\"-9.5\" width=\"67.953125\" height=\"19\" style=\"fill: rgb(0, 0, 0); fill-opacity: 0;\"/></g></g></g><rect class=\"scrollbar\" rx=\"20\" ry=\"3\" width=\"0\" height=\"0\" x=\"0\" y=\"0\" style=\"fill: rgb(128, 139, 164); fill-opacity: 1;\"/></g><g class=\"g-gtitle\"><text class=\"gtitle\" x=\"350\" y=\"50\" text-anchor=\"middle\" dy=\"0em\" style=\"font-family: 'Open Sans', verdana, arial, sans-serif; font-size: 17px; fill: rgb(68, 68, 68); opacity: 1; font-weight: normal; white-space: pre;\">ROC curve</text></g><g class=\"g-xtitle\"><text class=\"xtitle\" x=\"342.5\" y=\"422\" text-anchor=\"middle\" style=\"font-family: 'Open Sans', verdana, arial, sans-serif; font-size: 14px; fill: rgb(68, 68, 68); opacity: 1; font-weight: normal; white-space: pre;\">False Positive Rate</text></g><g class=\"g-ytitle\"><text class=\"ytitle\" transform=\"rotate(-90,42,235)\" x=\"42\" y=\"235\" text-anchor=\"middle\" style=\"font-family: 'Open Sans', verdana, arial, sans-serif; font-size: 14px; fill: rgb(68, 68, 68); opacity: 1; font-weight: normal; white-space: pre;\">True Positive Rate</text></g></g></svg>"
      ]
     },
     "metadata": {},
     "output_type": "display_data"
    }
   ],
   "source": [
    "# Visualize ROC curves\n",
    "probas_train = gridsearch.predict_proba(X_train)[:,1]\n",
    "precisions, recalls, thresholds = roc_curve(Y_train, probas_train)\n",
    "fig = go.Figure(\n",
    "    data = go.Scatter(\n",
    "        name = 'train',\n",
    "        x = recalls, \n",
    "        y = precisions, \n",
    "        mode = 'lines'\n",
    "    ),\n",
    "    layout = go.Layout(\n",
    "        title = go.layout.Title(text = \"ROC curve\", x = 0.5),\n",
    "        xaxis = go.layout.XAxis(title = 'False Positive Rate'),\n",
    "        yaxis = go.layout.YAxis(title = 'True Positive Rate')\n",
    "    )\n",
    ")\n",
    "\n",
    "probas_test = gridsearch.predict_proba(X_test)[:,1]\n",
    "precisions, recalls, thresholds = roc_curve(Y_test, probas_test)\n",
    "fig.add_trace(go.Scatter(\n",
    "    name = 'test',\n",
    "    x = recalls, \n",
    "    y = precisions, \n",
    "    mode = 'lines'\n",
    "    )\n",
    ")\n",
    "fig.show()"
   ]
  }
 ],
 "metadata": {
  "kernelspec": {
   "display_name": "Python 3",
   "language": "python",
   "name": "python3"
  },
  "language_info": {
   "codemirror_mode": {
    "name": "ipython",
    "version": 3
   },
   "file_extension": ".py",
   "mimetype": "text/x-python",
   "name": "python",
   "nbconvert_exporter": "python",
   "pygments_lexer": "ipython3",
   "version": "3.8.5"
  }
 },
 "nbformat": 4,
 "nbformat_minor": 4
}
