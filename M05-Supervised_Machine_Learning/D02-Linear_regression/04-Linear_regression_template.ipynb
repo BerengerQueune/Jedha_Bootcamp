{
 "cells": [
  {
   "cell_type": "markdown",
   "metadata": {},
   "source": [
    "# Linear regression with scikit-learn 📈📈\n",
    "\n",
    "Let's come back to yesterday's dataset and change the objective : we would like to predict the Salary as a function of the other variables.\n",
    "\n",
    "To do so, we'll train a linear regression model and evaluate its performances. You will see that the preprocessings are quite similar to the ones from yesterday's template (except that the label encoding step is skipped here, because our label is already a numeric variable !). We simplified a bit the dataset so you can focus on modelisation and performance evaluation. We also added a few figures, because EDA is an important step before training any model : it allows to understand better the relationship between the different variables in the dataset 🤓\n",
    "\n",
    "## What will you learn in this course? 🧐🧐\n",
    "\n",
    "This lecture is a follow-along demo to walk you through building a linear regression model in practice using sklearn!\n",
    "\n",
    "* EDA\n",
    "* Baseline model : simple linear regression\n",
    "    * Training pipeline\n",
    "    * Test pipeline\n",
    "* Multivariate linear regression\n",
    "    * Training pipeline\n",
    "    * Test pipeline\n"
   ]
  },
  {
   "cell_type": "markdown",
   "metadata": {},
   "source": [
    "## EDA"
   ]
  },
  {
   "cell_type": "code",
   "execution_count": 1,
   "metadata": {
    "colab": {},
    "colab_type": "code",
    "id": "_hl_bmodngdM"
   },
   "outputs": [],
   "source": [
    "import pandas as pd\n",
    "import numpy as np\n",
    "\n",
    "from sklearn.model_selection import train_test_split\n",
    "from sklearn.impute import SimpleImputer\n",
    "from sklearn.preprocessing import  OneHotEncoder, StandardScaler\n",
    "from sklearn.compose import ColumnTransformer\n",
    "from sklearn.linear_model import LinearRegression\n",
    "from sklearn.metrics import r2_score\n",
    "\n",
    "import plotly.express as px\n",
    "import plotly.graph_objects as go\n",
    "import plotly.io as pio\n",
    "# setting Jedha color palette as default\n",
    "pio.templates[\"jedha\"] = go.layout.Template(\n",
    "    layout_colorway=[\"#4B9AC7\", \"#4BE8E0\", \"#9DD4F3\", \"#97FBF6\", \"#2A7FAF\", \"#23B1AB\", \"#0E3449\", \"#015955\"]\n",
    ")\n",
    "pio.templates.default = \"jedha\"\n",
    "pio.renderers.default = \"svg\" # to be replaced by \"iframe\" if working on JULIE"
   ]
  },
  {
   "cell_type": "code",
   "execution_count": 2,
   "metadata": {
    "colab": {
     "base_uri": "https://localhost:8080/",
     "height": 67
    },
    "colab_type": "code",
    "id": "i-teycYon6yK",
    "outputId": "67704847-2d57-40ca-d58e-29c52ae97e90"
   },
   "outputs": [
    {
     "name": "stdout",
     "output_type": "stream",
     "text": [
      "Loading dataset...\n",
      "...Done.\n",
      "\n"
     ]
    }
   ],
   "source": [
    "# Import dataset\n",
    "print(\"Loading dataset...\")\n",
    "dataset = pd.read_csv(\"src/Data.csv\")\n",
    "print(\"...Done.\")\n",
    "print()"
   ]
  },
  {
   "cell_type": "code",
   "execution_count": 3,
   "metadata": {
    "colab": {
     "base_uri": "https://localhost:8080/",
     "height": 235
    },
    "colab_type": "code",
    "id": "snMAcPRtn7XG",
    "outputId": "b3f54bac-24e7-488a-aa1e-99e388f51c57"
   },
   "outputs": [
    {
     "name": "stdout",
     "output_type": "stream",
     "text": [
      "(10, 4)\n"
     ]
    },
    {
     "data": {
      "text/html": [
       "<div>\n",
       "<style scoped>\n",
       "    .dataframe tbody tr th:only-of-type {\n",
       "        vertical-align: middle;\n",
       "    }\n",
       "\n",
       "    .dataframe tbody tr th {\n",
       "        vertical-align: top;\n",
       "    }\n",
       "\n",
       "    .dataframe thead th {\n",
       "        text-align: right;\n",
       "    }\n",
       "</style>\n",
       "<table border=\"1\" class=\"dataframe\">\n",
       "  <thead>\n",
       "    <tr style=\"text-align: right;\">\n",
       "      <th></th>\n",
       "      <th>Country</th>\n",
       "      <th>Age</th>\n",
       "      <th>Salary</th>\n",
       "      <th>Purchased</th>\n",
       "    </tr>\n",
       "  </thead>\n",
       "  <tbody>\n",
       "    <tr>\n",
       "      <th>count</th>\n",
       "      <td>10</td>\n",
       "      <td>9.000000</td>\n",
       "      <td>10.000000</td>\n",
       "      <td>10</td>\n",
       "    </tr>\n",
       "    <tr>\n",
       "      <th>unique</th>\n",
       "      <td>3</td>\n",
       "      <td>NaN</td>\n",
       "      <td>NaN</td>\n",
       "      <td>2</td>\n",
       "    </tr>\n",
       "    <tr>\n",
       "      <th>top</th>\n",
       "      <td>France</td>\n",
       "      <td>NaN</td>\n",
       "      <td>NaN</td>\n",
       "      <td>Yes</td>\n",
       "    </tr>\n",
       "    <tr>\n",
       "      <th>freq</th>\n",
       "      <td>4</td>\n",
       "      <td>NaN</td>\n",
       "      <td>NaN</td>\n",
       "      <td>5</td>\n",
       "    </tr>\n",
       "    <tr>\n",
       "      <th>mean</th>\n",
       "      <td>NaN</td>\n",
       "      <td>38.777778</td>\n",
       "      <td>64300.000000</td>\n",
       "      <td>NaN</td>\n",
       "    </tr>\n",
       "    <tr>\n",
       "      <th>std</th>\n",
       "      <td>NaN</td>\n",
       "      <td>7.693793</td>\n",
       "      <td>11681.419244</td>\n",
       "      <td>NaN</td>\n",
       "    </tr>\n",
       "    <tr>\n",
       "      <th>min</th>\n",
       "      <td>NaN</td>\n",
       "      <td>27.000000</td>\n",
       "      <td>48000.000000</td>\n",
       "      <td>NaN</td>\n",
       "    </tr>\n",
       "    <tr>\n",
       "      <th>25%</th>\n",
       "      <td>NaN</td>\n",
       "      <td>35.000000</td>\n",
       "      <td>55000.000000</td>\n",
       "      <td>NaN</td>\n",
       "    </tr>\n",
       "    <tr>\n",
       "      <th>50%</th>\n",
       "      <td>NaN</td>\n",
       "      <td>38.000000</td>\n",
       "      <td>64000.000000</td>\n",
       "      <td>NaN</td>\n",
       "    </tr>\n",
       "    <tr>\n",
       "      <th>75%</th>\n",
       "      <td>NaN</td>\n",
       "      <td>44.000000</td>\n",
       "      <td>71250.000000</td>\n",
       "      <td>NaN</td>\n",
       "    </tr>\n",
       "    <tr>\n",
       "      <th>max</th>\n",
       "      <td>NaN</td>\n",
       "      <td>50.000000</td>\n",
       "      <td>83000.000000</td>\n",
       "      <td>NaN</td>\n",
       "    </tr>\n",
       "  </tbody>\n",
       "</table>\n",
       "</div>"
      ],
      "text/plain": [
       "       Country        Age        Salary Purchased\n",
       "count       10   9.000000     10.000000        10\n",
       "unique       3        NaN           NaN         2\n",
       "top     France        NaN           NaN       Yes\n",
       "freq         4        NaN           NaN         5\n",
       "mean       NaN  38.777778  64300.000000       NaN\n",
       "std        NaN   7.693793  11681.419244       NaN\n",
       "min        NaN  27.000000  48000.000000       NaN\n",
       "25%        NaN  35.000000  55000.000000       NaN\n",
       "50%        NaN  38.000000  64000.000000       NaN\n",
       "75%        NaN  44.000000  71250.000000       NaN\n",
       "max        NaN  50.000000  83000.000000       NaN"
      ]
     },
     "execution_count": 3,
     "metadata": {},
     "output_type": "execute_result"
    }
   ],
   "source": [
    "# Basic stats\n",
    "data_desc = dataset.describe(include='all')\n",
    "print(dataset.shape)\n",
    "data_desc"
   ]
  },
  {
   "cell_type": "markdown",
   "metadata": {
    "colab_type": "text",
    "id": "gTvqIDG6pRG9"
   },
   "source": [
    "- Taget variable : Y = 'Salary'\n",
    "- Explanatory variables : 'Country', 'Age', 'Purchased'\n",
    "- Number of examples : 12\n",
    "\n",
    "- Imputation of missing values : 'Age'\n",
    "- Normalisation : 'Age'\n",
    "- OHE : 'Country', 'Purchased'"
   ]
  },
  {
   "cell_type": "code",
   "execution_count": 4,
   "metadata": {},
   "outputs": [
    {
     "data": {
      "image/svg+xml": [
       "<svg class=\"main-svg\" xmlns=\"http://www.w3.org/2000/svg\" xmlns:xlink=\"http://www.w3.org/1999/xlink\" width=\"700\" height=\"450\" style=\"\" viewBox=\"0 0 700 450\"><rect x=\"0\" y=\"0\" width=\"700\" height=\"450\" style=\"fill: rgb(255, 255, 255); fill-opacity: 1;\"/><defs id=\"defs-86e10f\"><g class=\"clips\"><clipPath id=\"clip86e10fxyplot\" class=\"plotclip\"><rect width=\"540\" height=\"270\"/></clipPath><clipPath class=\"axesclip\" id=\"clip86e10fx\"><rect x=\"80\" y=\"0\" width=\"540\" height=\"450\"/></clipPath><clipPath class=\"axesclip\" id=\"clip86e10fy\"><rect x=\"0\" y=\"100\" width=\"700\" height=\"270\"/></clipPath><clipPath class=\"axesclip\" id=\"clip86e10fxy\"><rect x=\"80\" y=\"100\" width=\"540\" height=\"270\"/></clipPath></g><g class=\"gradients\"/></defs><g class=\"bglayer\"/><g class=\"layer-below\"><g class=\"imagelayer\"/><g class=\"shapelayer\"/></g><g class=\"cartesianlayer\"><g class=\"subplot xy\"><g class=\"layer-subplot\"><g class=\"shapelayer\"/><g class=\"imagelayer\"/></g><g class=\"gridlayer\"><g class=\"x\"/><g class=\"y\"><path class=\"ygrid crisp\" transform=\"translate(0,305.88)\" d=\"M80,0h540\" style=\"stroke: rgb(238, 238, 238); stroke-opacity: 1; stroke-width: 1px;\"/><path class=\"ygrid crisp\" transform=\"translate(0,241.75)\" d=\"M80,0h540\" style=\"stroke: rgb(238, 238, 238); stroke-opacity: 1; stroke-width: 1px;\"/><path class=\"ygrid crisp\" transform=\"translate(0,177.63)\" d=\"M80,0h540\" style=\"stroke: rgb(238, 238, 238); stroke-opacity: 1; stroke-width: 1px;\"/><path class=\"ygrid crisp\" transform=\"translate(0,113.5)\" d=\"M80,0h540\" style=\"stroke: rgb(238, 238, 238); stroke-opacity: 1; stroke-width: 1px;\"/></g></g><g class=\"zerolinelayer\"><path class=\"yzl zl crisp\" transform=\"translate(0,370)\" d=\"M80,0h540\" style=\"stroke: rgb(68, 68, 68); stroke-opacity: 1; stroke-width: 1px;\"/></g><path class=\"xlines-below\"/><path class=\"ylines-below\"/><g class=\"overlines-below\"/><g class=\"xaxislayer-below\"/><g class=\"yaxislayer-below\"/><g class=\"overaxes-below\"/><g class=\"plot\" transform=\"translate(80,100)\" clip-path=\"url('#clip86e10fxyplot')\"><g class=\"barlayer mlayer\"><g class=\"trace bars\" shape-rendering=\"crispEdges\" style=\"opacity: 1;\"><g class=\"points\"><g class=\"point\"><path d=\"M0,270V205.88H135V270Z\" style=\"vector-effect: non-scaling-stroke; opacity: 1; stroke-width: 0px; fill: rgb(75, 154, 199); fill-opacity: 1;\"/></g><g class=\"point\"><path d=\"M135,270V13.5H270V270Z\" style=\"vector-effect: non-scaling-stroke; opacity: 1; stroke-width: 0px; fill: rgb(75, 154, 199); fill-opacity: 1;\"/></g><g class=\"point\"><path d=\"M270,270V77.63H405V270Z\" style=\"vector-effect: non-scaling-stroke; opacity: 1; stroke-width: 0px; fill: rgb(75, 154, 199); fill-opacity: 1;\"/></g><g class=\"point\"><path d=\"M405,270V205.88H540V270Z\" style=\"vector-effect: non-scaling-stroke; opacity: 1; stroke-width: 0px; fill: rgb(75, 154, 199); fill-opacity: 1;\"/></g></g></g></g></g><g class=\"overplot\"/><path class=\"xlines-above crisp\" style=\"fill: none;\" d=\"M0,0\"/><path class=\"ylines-above crisp\" style=\"fill: none;\" d=\"M0,0\"/><g class=\"overlines-above\"/><g class=\"xaxislayer-above\"><g class=\"xtick\"><text text-anchor=\"middle\" x=\"0\" y=\"383\" transform=\"translate(86.75,0)\" style=\"font-family: 'Open Sans', verdana, arial, sans-serif; font-size: 12px; fill: rgb(68, 68, 68); fill-opacity: 1; white-space: pre;\">20</text></g><g class=\"xtick\"><text text-anchor=\"middle\" x=\"0\" y=\"383\" transform=\"translate(221.75,0)\" style=\"font-family: 'Open Sans', verdana, arial, sans-serif; font-size: 12px; fill: rgb(68, 68, 68); fill-opacity: 1; white-space: pre;\">30</text></g><g class=\"xtick\"><text text-anchor=\"middle\" x=\"0\" y=\"383\" transform=\"translate(356.75,0)\" style=\"font-family: 'Open Sans', verdana, arial, sans-serif; font-size: 12px; fill: rgb(68, 68, 68); fill-opacity: 1; white-space: pre;\">40</text></g><g class=\"xtick\"><text text-anchor=\"middle\" x=\"0\" y=\"383\" transform=\"translate(491.75,0)\" style=\"font-family: 'Open Sans', verdana, arial, sans-serif; font-size: 12px; fill: rgb(68, 68, 68); fill-opacity: 1; white-space: pre;\">50</text></g></g><g class=\"yaxislayer-above\"><g class=\"ytick\"><text text-anchor=\"end\" x=\"79\" y=\"4.199999999999999\" transform=\"translate(0,370)\" style=\"font-family: 'Open Sans', verdana, arial, sans-serif; font-size: 12px; fill: rgb(68, 68, 68); fill-opacity: 1; white-space: pre;\">0</text></g><g class=\"ytick\"><text text-anchor=\"end\" x=\"79\" y=\"4.199999999999999\" transform=\"translate(0,305.88)\" style=\"font-family: 'Open Sans', verdana, arial, sans-serif; font-size: 12px; fill: rgb(68, 68, 68); fill-opacity: 1; white-space: pre;\">1</text></g><g class=\"ytick\"><text text-anchor=\"end\" x=\"79\" y=\"4.199999999999999\" transform=\"translate(0,241.75)\" style=\"font-family: 'Open Sans', verdana, arial, sans-serif; font-size: 12px; fill: rgb(68, 68, 68); fill-opacity: 1; white-space: pre;\">2</text></g><g class=\"ytick\"><text text-anchor=\"end\" x=\"79\" y=\"4.199999999999999\" transform=\"translate(0,177.63)\" style=\"font-family: 'Open Sans', verdana, arial, sans-serif; font-size: 12px; fill: rgb(68, 68, 68); fill-opacity: 1; white-space: pre;\">3</text></g><g class=\"ytick\"><text text-anchor=\"end\" x=\"79\" y=\"4.199999999999999\" transform=\"translate(0,113.5)\" style=\"font-family: 'Open Sans', verdana, arial, sans-serif; font-size: 12px; fill: rgb(68, 68, 68); fill-opacity: 1; white-space: pre;\">4</text></g></g><g class=\"overaxes-above\"/></g></g><g class=\"polarlayer\"/><g class=\"ternarylayer\"/><g class=\"geolayer\"/><g class=\"funnelarealayer\"/><g class=\"pielayer\"/><g class=\"treemaplayer\"/><g class=\"sunburstlayer\"/><g class=\"glimages\"/><defs id=\"topdefs-86e10f\"><g class=\"clips\"/></defs><g class=\"layer-above\"><g class=\"imagelayer\"/><g class=\"shapelayer\"/></g><g class=\"infolayer\"><g class=\"g-gtitle\"><text class=\"gtitle\" x=\"350\" y=\"50\" text-anchor=\"middle\" dy=\"0em\" style=\"font-family: 'Open Sans', verdana, arial, sans-serif; font-size: 17px; fill: rgb(68, 68, 68); opacity: 1; font-weight: normal; white-space: pre;\">Distribution of quantitative variables</text></g><g class=\"g-xtitle\"/><g class=\"g-ytitle\"/><g class=\"annotation\" data-index=\"0\" style=\"opacity: 1;\"><g class=\"annotation-text-g\" transform=\"rotate(0,350,88.5)\"><g class=\"cursor-pointer\" transform=\"translate(333,77)\"><rect class=\"bg\" x=\"0.5\" y=\"0.5\" width=\"33\" height=\"22\" style=\"stroke-width: 1px; stroke: rgb(0, 0, 0); stroke-opacity: 0; fill: rgb(0, 0, 0); fill-opacity: 0;\"/><text class=\"annotation-text\" text-anchor=\"middle\" x=\"17.21875\" y=\"18\" style=\"font-family: 'Open Sans', verdana, arial, sans-serif; font-size: 16px; fill: rgb(68, 68, 68); fill-opacity: 1; white-space: pre;\">Age</text></g></g></g></g></svg>"
      ]
     },
     "metadata": {},
     "output_type": "display_data"
    }
   ],
   "source": [
    "# Univariate analysis\n",
    "from plotly.subplots import make_subplots\n",
    "\n",
    "# Distribution of each numeric variable\n",
    "num_features = ['Age']\n",
    "fig1 = make_subplots(rows = len(num_features), cols = 1, subplot_titles = num_features)\n",
    "for i in range(len(num_features)):\n",
    "    fig1.add_trace(\n",
    "        go.Histogram(\n",
    "            x = dataset[num_features[i]], nbinsx = 4),\n",
    "        row = i + 1,\n",
    "        col = 1)\n",
    "fig1.update_layout(\n",
    "        title = go.layout.Title(text = \"Distribution of quantitative variables\", x = 0.5), showlegend = False, \n",
    "            autosize=False, height=500)\n",
    "fig1.show()"
   ]
  },
  {
   "cell_type": "code",
   "execution_count": 5,
   "metadata": {},
   "outputs": [
    {
     "data": {
      "image/svg+xml": [
       "<svg class=\"main-svg\" xmlns=\"http://www.w3.org/2000/svg\" xmlns:xlink=\"http://www.w3.org/1999/xlink\" width=\"700\" height=\"450\" style=\"\" viewBox=\"0 0 700 450\"><rect x=\"0\" y=\"0\" width=\"700\" height=\"450\" style=\"fill: rgb(255, 255, 255); fill-opacity: 1;\"/><defs id=\"defs-2212d6\"><g class=\"clips\"><clipPath id=\"clip2212d6xyplot\" class=\"plotclip\"><rect width=\"540\" height=\"101.25\"/></clipPath><clipPath id=\"clip2212d6x2y2plot\" class=\"plotclip\"><rect width=\"540\" height=\"101.25\"/></clipPath><clipPath class=\"axesclip\" id=\"clip2212d6x\"><rect x=\"80\" y=\"0\" width=\"540\" height=\"450\"/></clipPath><clipPath class=\"axesclip\" id=\"clip2212d6y\"><rect x=\"0\" y=\"100\" width=\"700\" height=\"101.25\"/></clipPath><clipPath class=\"axesclip\" id=\"clip2212d6xy\"><rect x=\"80\" y=\"100\" width=\"540\" height=\"101.25\"/></clipPath><clipPath class=\"axesclip\" id=\"clip2212d6y2\"><rect x=\"0\" y=\"268.75\" width=\"700\" height=\"101.25\"/></clipPath><clipPath class=\"axesclip\" id=\"clip2212d6xy2\"><rect x=\"80\" y=\"268.75\" width=\"540\" height=\"101.25\"/></clipPath><clipPath class=\"axesclip\" id=\"clip2212d6x2\"><rect x=\"80\" y=\"0\" width=\"540\" height=\"450\"/></clipPath><clipPath class=\"axesclip\" id=\"clip2212d6x2y\"><rect x=\"80\" y=\"100\" width=\"540\" height=\"101.25\"/></clipPath><clipPath class=\"axesclip\" id=\"clip2212d6x2y2\"><rect x=\"80\" y=\"268.75\" width=\"540\" height=\"101.25\"/></clipPath></g><g class=\"gradients\"/></defs><g class=\"bglayer\"/><g class=\"layer-below\"><g class=\"imagelayer\"/><g class=\"shapelayer\"/></g><g class=\"cartesianlayer\"><g class=\"subplot xy\"><g class=\"layer-subplot\"><g class=\"shapelayer\"/><g class=\"imagelayer\"/></g><g class=\"gridlayer\"><g class=\"x\"/><g class=\"y\"><path class=\"ygrid crisp\" transform=\"translate(0,177.2)\" d=\"M80,0h540\" style=\"stroke: rgb(238, 238, 238); stroke-opacity: 1; stroke-width: 1px;\"/><path class=\"ygrid crisp\" transform=\"translate(0,153.16)\" d=\"M80,0h540\" style=\"stroke: rgb(238, 238, 238); stroke-opacity: 1; stroke-width: 1px;\"/><path class=\"ygrid crisp\" transform=\"translate(0,129.11)\" d=\"M80,0h540\" style=\"stroke: rgb(238, 238, 238); stroke-opacity: 1; stroke-width: 1px;\"/><path class=\"ygrid crisp\" transform=\"translate(0,105.06)\" d=\"M80,0h540\" style=\"stroke: rgb(238, 238, 238); stroke-opacity: 1; stroke-width: 1px;\"/></g></g><g class=\"zerolinelayer\"><path class=\"yzl zl crisp\" transform=\"translate(0,201.25)\" d=\"M80,0h540\" style=\"stroke: rgb(68, 68, 68); stroke-opacity: 1; stroke-width: 1px;\"/></g><path class=\"xlines-below\"/><path class=\"ylines-below\"/><g class=\"overlines-below\"/><g class=\"xaxislayer-below\"/><g class=\"yaxislayer-below\"/><g class=\"overaxes-below\"/><g class=\"plot\" transform=\"translate(80,100)\" clip-path=\"url('#clip2212d6xyplot')\"><g class=\"barlayer mlayer\"><g class=\"trace bars\" style=\"opacity: 1;\"><g class=\"points\"><g class=\"point\"><path d=\"M18,101.25V5.06H162V101.25Z\" style=\"vector-effect: non-scaling-stroke; opacity: 1; stroke-width: 0px; fill: rgb(75, 154, 199); fill-opacity: 1;\"/></g><g class=\"point\"><path d=\"M198,101.25V29.11H342V101.25Z\" style=\"vector-effect: non-scaling-stroke; opacity: 1; stroke-width: 0px; fill: rgb(75, 154, 199); fill-opacity: 1;\"/></g><g class=\"point\"><path d=\"M378,101.25V29.11H522V101.25Z\" style=\"vector-effect: non-scaling-stroke; opacity: 1; stroke-width: 0px; fill: rgb(75, 154, 199); fill-opacity: 1;\"/></g></g></g></g></g><g class=\"overplot\"/><path class=\"xlines-above crisp\" style=\"fill: none;\" d=\"M0,0\"/><path class=\"ylines-above crisp\" style=\"fill: none;\" d=\"M0,0\"/><g class=\"overlines-above\"/><g class=\"xaxislayer-above\"><g class=\"xtick\"><text text-anchor=\"middle\" x=\"0\" y=\"214.25\" transform=\"translate(170,0)\" style=\"font-family: 'Open Sans', verdana, arial, sans-serif; font-size: 12px; fill: rgb(68, 68, 68); fill-opacity: 1; white-space: pre;\">France</text></g><g class=\"xtick\"><text text-anchor=\"middle\" x=\"0\" y=\"214.25\" transform=\"translate(350,0)\" style=\"font-family: 'Open Sans', verdana, arial, sans-serif; font-size: 12px; fill: rgb(68, 68, 68); fill-opacity: 1; white-space: pre;\">Spain</text></g><g class=\"xtick\"><text text-anchor=\"middle\" x=\"0\" y=\"214.25\" transform=\"translate(530,0)\" style=\"font-family: 'Open Sans', verdana, arial, sans-serif; font-size: 12px; fill: rgb(68, 68, 68); fill-opacity: 1; white-space: pre;\">Germany</text></g></g><g class=\"yaxislayer-above\"><g class=\"ytick\"><text text-anchor=\"end\" x=\"79\" y=\"4.199999999999999\" transform=\"translate(0,201.25)\" style=\"font-family: 'Open Sans', verdana, arial, sans-serif; font-size: 12px; fill: rgb(68, 68, 68); fill-opacity: 1; white-space: pre;\">0</text></g><g class=\"ytick\"><text text-anchor=\"end\" x=\"79\" y=\"4.199999999999999\" transform=\"translate(0,177.2)\" style=\"font-family: 'Open Sans', verdana, arial, sans-serif; font-size: 12px; fill: rgb(68, 68, 68); fill-opacity: 1; white-space: pre;\">1</text></g><g class=\"ytick\"><text text-anchor=\"end\" x=\"79\" y=\"4.199999999999999\" transform=\"translate(0,153.16)\" style=\"font-family: 'Open Sans', verdana, arial, sans-serif; font-size: 12px; fill: rgb(68, 68, 68); fill-opacity: 1; white-space: pre;\">2</text></g><g class=\"ytick\"><text text-anchor=\"end\" x=\"79\" y=\"4.199999999999999\" transform=\"translate(0,129.11)\" style=\"font-family: 'Open Sans', verdana, arial, sans-serif; font-size: 12px; fill: rgb(68, 68, 68); fill-opacity: 1; white-space: pre;\">3</text></g><g class=\"ytick\"><text text-anchor=\"end\" x=\"79\" y=\"4.199999999999999\" transform=\"translate(0,105.06)\" style=\"font-family: 'Open Sans', verdana, arial, sans-serif; font-size: 12px; fill: rgb(68, 68, 68); fill-opacity: 1; white-space: pre;\">4</text></g></g><g class=\"overaxes-above\"/></g><g class=\"subplot x2y2\"><g class=\"layer-subplot\"><g class=\"shapelayer\"/><g class=\"imagelayer\"/></g><g class=\"gridlayer\"><g class=\"x2\"/><g class=\"y2\"><path class=\"y2grid crisp\" transform=\"translate(0,331.52)\" d=\"M80,0h540\" style=\"stroke: rgb(238, 238, 238); stroke-opacity: 1; stroke-width: 1px;\"/><path class=\"y2grid crisp\" transform=\"translate(0,293.05)\" d=\"M80,0h540\" style=\"stroke: rgb(238, 238, 238); stroke-opacity: 1; stroke-width: 1px;\"/></g></g><g class=\"zerolinelayer\"><path class=\"y2zl zl crisp\" transform=\"translate(0,370)\" d=\"M80,0h540\" style=\"stroke: rgb(68, 68, 68); stroke-opacity: 1; stroke-width: 1px;\"/></g><path class=\"xlines-below\"/><path class=\"ylines-below\"/><g class=\"overlines-below\"/><g class=\"xaxislayer-below\"/><g class=\"yaxislayer-below\"/><g class=\"overaxes-below\"/><g class=\"plot\" transform=\"translate(80,268.75)\" clip-path=\"url('#clip2212d6x2y2plot')\"><g class=\"barlayer mlayer\"><g class=\"trace bars\" style=\"opacity: 1;\"><g class=\"points\"><g class=\"point\"><path d=\"M27,101.25V5.06H243V101.25Z\" style=\"vector-effect: non-scaling-stroke; opacity: 1; stroke-width: 0px; fill: rgb(75, 232, 224); fill-opacity: 1;\"/></g><g class=\"point\"><path d=\"M297,101.25V5.06H513V101.25Z\" style=\"vector-effect: non-scaling-stroke; opacity: 1; stroke-width: 0px; fill: rgb(75, 232, 224); fill-opacity: 1;\"/></g></g></g></g></g><g class=\"overplot\"/><path class=\"xlines-above crisp\" style=\"fill: none;\" d=\"M0,0\"/><path class=\"ylines-above crisp\" style=\"fill: none;\" d=\"M0,0\"/><g class=\"overlines-above\"/><g class=\"xaxislayer-above\"><g class=\"x2tick\"><text text-anchor=\"middle\" x=\"0\" y=\"383\" transform=\"translate(215,0)\" style=\"font-family: 'Open Sans', verdana, arial, sans-serif; font-size: 12px; fill: rgb(68, 68, 68); fill-opacity: 1; white-space: pre;\">Yes</text></g><g class=\"x2tick\"><text text-anchor=\"middle\" x=\"0\" y=\"383\" transform=\"translate(485,0)\" style=\"font-family: 'Open Sans', verdana, arial, sans-serif; font-size: 12px; fill: rgb(68, 68, 68); fill-opacity: 1; white-space: pre;\">No</text></g></g><g class=\"yaxislayer-above\"><g class=\"y2tick\"><text text-anchor=\"end\" x=\"79\" y=\"4.199999999999999\" transform=\"translate(0,370)\" style=\"font-family: 'Open Sans', verdana, arial, sans-serif; font-size: 12px; fill: rgb(68, 68, 68); fill-opacity: 1; white-space: pre;\">0</text></g><g class=\"y2tick\"><text text-anchor=\"end\" x=\"79\" y=\"4.199999999999999\" transform=\"translate(0,331.52)\" style=\"font-family: 'Open Sans', verdana, arial, sans-serif; font-size: 12px; fill: rgb(68, 68, 68); fill-opacity: 1; white-space: pre;\">2</text></g><g class=\"y2tick\"><text text-anchor=\"end\" x=\"79\" y=\"4.199999999999999\" transform=\"translate(0,293.05)\" style=\"font-family: 'Open Sans', verdana, arial, sans-serif; font-size: 12px; fill: rgb(68, 68, 68); fill-opacity: 1; white-space: pre;\">4</text></g></g><g class=\"overaxes-above\"/></g></g><g class=\"polarlayer\"/><g class=\"ternarylayer\"/><g class=\"geolayer\"/><g class=\"funnelarealayer\"/><g class=\"pielayer\"/><g class=\"treemaplayer\"/><g class=\"sunburstlayer\"/><g class=\"glimages\"/><defs id=\"topdefs-2212d6\"><g class=\"clips\"/></defs><g class=\"layer-above\"><g class=\"imagelayer\"/><g class=\"shapelayer\"/></g><g class=\"infolayer\"><g class=\"g-gtitle\"><text class=\"gtitle\" x=\"350\" y=\"50\" text-anchor=\"middle\" dy=\"0em\" style=\"font-family: 'Open Sans', verdana, arial, sans-serif; font-size: 17px; fill: rgb(68, 68, 68); opacity: 1; font-weight: normal; white-space: pre;\">Barplot of qualitative variables</text></g><g class=\"g-xtitle\"/><g class=\"g-x2title\"/><g class=\"g-ytitle\"/><g class=\"g-y2title\"/><g class=\"annotation\" data-index=\"0\" style=\"opacity: 1;\"><g class=\"annotation-text-g\" transform=\"rotate(0,350,88.5)\"><g class=\"cursor-pointer\" transform=\"translate(316,77)\"><rect class=\"bg\" x=\"0.5\" y=\"0.5\" width=\"67\" height=\"22\" style=\"stroke-width: 1px; stroke: rgb(0, 0, 0); stroke-opacity: 0; fill: rgb(0, 0, 0); fill-opacity: 0;\"/><text class=\"annotation-text\" text-anchor=\"middle\" x=\"33.875\" y=\"18\" style=\"font-family: 'Open Sans', verdana, arial, sans-serif; font-size: 16px; fill: rgb(68, 68, 68); fill-opacity: 1; white-space: pre;\">Country</text></g></g></g><g class=\"annotation\" data-index=\"1\" style=\"opacity: 1;\"><g class=\"annotation-text-g\" transform=\"rotate(0,350,257.25)\"><g class=\"cursor-pointer\" transform=\"translate(307,246)\"><rect class=\"bg\" x=\"0.5\" y=\"0.5\" width=\"86\" height=\"22\" style=\"stroke-width: 1px; stroke: rgb(0, 0, 0); stroke-opacity: 0; fill: rgb(0, 0, 0); fill-opacity: 0;\"/><text class=\"annotation-text\" text-anchor=\"middle\" x=\"43.265625\" y=\"18\" style=\"font-family: 'Open Sans', verdana, arial, sans-serif; font-size: 16px; fill: rgb(68, 68, 68); fill-opacity: 1; white-space: pre;\">Purchased</text></g></g></g></g></svg>"
      ]
     },
     "metadata": {},
     "output_type": "display_data"
    }
   ],
   "source": [
    "# Univariate analysis\n",
    "from plotly.subplots import make_subplots\n",
    "\n",
    "# Barplot of each qualitative variable\n",
    "cat_features = ['Country', 'Purchased']\n",
    "fig2 = make_subplots(rows = len(cat_features), cols = 1, subplot_titles = cat_features)\n",
    "for i in range(len(cat_features)):\n",
    "    \n",
    "    x_coords = dataset[cat_features[i]].value_counts().index.tolist()\n",
    "    y_coords = dataset[cat_features[i]].value_counts().tolist()\n",
    "    \n",
    "    fig2.add_trace(\n",
    "        go.Bar(\n",
    "            x = x_coords,\n",
    "            y = y_coords),\n",
    "        row = i + 1,\n",
    "        col = 1)\n",
    "fig2.update_layout(\n",
    "        title = go.layout.Title(text = \"Barplot of qualitative variables\", x = 0.5), showlegend = False, \n",
    "            autosize=False, height=500)\n",
    "fig2.show()"
   ]
  },
  {
   "cell_type": "code",
   "execution_count": 6,
   "metadata": {
    "colab": {
     "base_uri": "https://localhost:8080/",
     "height": 325
    },
    "colab_type": "code",
    "id": "ikEBRh97pQod",
    "outputId": "675ce63c-3bc1-40e7-ad3b-b0ca9c8b726d"
   },
   "outputs": [
    {
     "data": {
      "image/svg+xml": [
       "<svg class=\"main-svg\" xmlns=\"http://www.w3.org/2000/svg\" xmlns:xlink=\"http://www.w3.org/1999/xlink\" width=\"700\" height=\"450\" style=\"\" viewBox=\"0 0 700 450\"><rect x=\"0\" y=\"0\" width=\"700\" height=\"450\" style=\"fill: rgb(255, 255, 255); fill-opacity: 1;\"/><defs id=\"defs-dc3792\"><g class=\"clips\"><clipPath id=\"clipdc3792xyplot\" class=\"plotclip\"><rect width=\"540\" height=\"270\"/></clipPath><clipPath class=\"axesclip\" id=\"clipdc3792x\"><rect x=\"80\" y=\"0\" width=\"540\" height=\"450\"/></clipPath><clipPath class=\"axesclip\" id=\"clipdc3792y\"><rect x=\"0\" y=\"100\" width=\"700\" height=\"270\"/></clipPath><clipPath class=\"axesclip\" id=\"clipdc3792xy\"><rect x=\"80\" y=\"100\" width=\"540\" height=\"270\"/></clipPath></g><g class=\"gradients\"/></defs><g class=\"bglayer\"/><g class=\"layer-below\"><g class=\"imagelayer\"/><g class=\"shapelayer\"/></g><g class=\"cartesianlayer\"><g class=\"subplot xy\"><g class=\"layer-subplot\"><g class=\"shapelayer\"/><g class=\"imagelayer\"/></g><g class=\"gridlayer\"><g class=\"x\"><path class=\"xgrid crisp\" transform=\"translate(215,0)\" d=\"M0,100v270\" style=\"stroke: rgb(0, 0, 0); stroke-opacity: 1; stroke-width: 1px;\"/><path class=\"xgrid crisp\" transform=\"translate(485,0)\" d=\"M0,100v270\" style=\"stroke: rgb(0, 0, 0); stroke-opacity: 1; stroke-width: 1px;\"/></g><g class=\"y\"><path class=\"ygrid crisp\" transform=\"translate(0,302.5)\" d=\"M80,0h540\" style=\"stroke: rgb(238, 238, 238); stroke-opacity: 1; stroke-width: 1px;\"/><path class=\"ygrid crisp\" transform=\"translate(0,167.5)\" d=\"M80,0h540\" style=\"stroke: rgb(238, 238, 238); stroke-opacity: 1; stroke-width: 1px;\"/></g></g><g class=\"zerolinelayer\"/><path class=\"xlines-below\"/><path class=\"ylines-below\"/><g class=\"overlines-below\"/><g class=\"xaxislayer-below\"/><g class=\"yaxislayer-below\"/><g class=\"overaxes-below\"/><g class=\"plot\" transform=\"translate(80,100)\" clip-path=\"url('#clipdc3792xyplot')\"><g class=\"heatmaplayer mlayer\"><g class=\"hm\"><image xmlns=\"http://www.w3.org/2000/svg\" preserveAspectRatio=\"none\" height=\"270\" width=\"540\" x=\"0\" y=\"0\" xlink:href=\"data:image/png;base64,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\" style=\"opacity: 1;\"/></g></g></g><g class=\"overplot\"/><path class=\"xlines-above crisp\" style=\"fill: none;\" d=\"M0,0\"/><path class=\"ylines-above crisp\" style=\"fill: none;\" d=\"M0,0\"/><g class=\"overlines-above\"/><g class=\"xaxislayer-above\"><g class=\"xtick\"><text text-anchor=\"middle\" x=\"0\" y=\"96.6\" transform=\"translate(215,0)\" style=\"font-family: 'Open Sans', verdana, arial, sans-serif; font-size: 12px; fill: rgb(68, 68, 68); fill-opacity: 1; white-space: pre;\">Age</text></g><g class=\"xtick\"><text text-anchor=\"middle\" x=\"0\" y=\"96.6\" transform=\"translate(485,0)\" style=\"font-family: 'Open Sans', verdana, arial, sans-serif; font-size: 12px; fill: rgb(68, 68, 68); fill-opacity: 1; white-space: pre;\">Salary</text></g></g><g class=\"yaxislayer-above\"><g class=\"ytick\"><text text-anchor=\"end\" x=\"79\" y=\"4.199999999999999\" transform=\"translate(0,302.5)\" style=\"font-family: 'Open Sans', verdana, arial, sans-serif; font-size: 12px; fill: rgb(68, 68, 68); fill-opacity: 1; white-space: pre;\">Age  </text></g><g class=\"ytick\"><text text-anchor=\"end\" x=\"79\" y=\"4.199999999999999\" transform=\"translate(0,167.5)\" style=\"font-family: 'Open Sans', verdana, arial, sans-serif; font-size: 12px; fill: rgb(68, 68, 68); fill-opacity: 1; white-space: pre;\">Salary  </text></g></g><g class=\"overaxes-above\"/></g></g><g class=\"polarlayer\"/><g class=\"ternarylayer\"/><g class=\"geolayer\"/><g class=\"funnelarealayer\"/><g class=\"pielayer\"/><g class=\"treemaplayer\"/><g class=\"sunburstlayer\"/><g class=\"glimages\"/><defs id=\"topdefs-dc3792\"><g class=\"clips\"/></defs><g class=\"layer-above\"><g class=\"imagelayer\"/><g class=\"shapelayer\"/></g><g class=\"infolayer\"><g class=\"g-gtitle\"/><g class=\"g-xtitle\"/><g class=\"g-ytitle\"/><g class=\"annotation\" data-index=\"0\" style=\"opacity: 1;\"><g class=\"annotation-text-g\" transform=\"rotate(0,215,302.5)\"><g class=\"cursor-pointer\" transform=\"translate(203,293)\"><rect class=\"bg\" x=\"0.5\" y=\"0.5\" width=\"23\" height=\"18\" style=\"stroke-width: 1px; stroke: rgb(0, 0, 0); stroke-opacity: 0; fill: rgb(0, 0, 0); fill-opacity: 0;\"/><text class=\"annotation-text\" text-anchor=\"middle\" x=\"11.8125\" y=\"14\" style=\"font-family: 'Open Sans', verdana, arial, sans-serif; font-size: 12px; fill: rgb(0, 0, 0); fill-opacity: 1; white-space: pre;\">1.0</text></g></g></g><g class=\"annotation\" data-index=\"1\" style=\"opacity: 1;\"><g class=\"annotation-text-g\" transform=\"rotate(0,485,302.5)\"><g class=\"cursor-pointer\" transform=\"translate(420,293)\"><rect class=\"bg\" x=\"0.5\" y=\"0.5\" width=\"129\" height=\"18\" style=\"stroke-width: 1px; stroke: rgb(0, 0, 0); stroke-opacity: 0; fill: rgb(0, 0, 0); fill-opacity: 0;\"/><text class=\"annotation-text\" text-anchor=\"middle\" x=\"65.21875\" y=\"14\" style=\"font-family: 'Open Sans', verdana, arial, sans-serif; font-size: 12px; fill: rgb(255, 255, 255); fill-opacity: 1; white-space: pre;\">0.981419423084227</text></g></g></g><g class=\"annotation\" data-index=\"2\" style=\"opacity: 1;\"><g class=\"annotation-text-g\" transform=\"rotate(0,215,167.5)\"><g class=\"cursor-pointer\" transform=\"translate(150,158)\"><rect class=\"bg\" x=\"0.5\" y=\"0.5\" width=\"129\" height=\"18\" style=\"stroke-width: 1px; stroke: rgb(0, 0, 0); stroke-opacity: 0; fill: rgb(0, 0, 0); fill-opacity: 0;\"/><text class=\"annotation-text\" text-anchor=\"middle\" x=\"65.21875\" y=\"14\" style=\"font-family: 'Open Sans', verdana, arial, sans-serif; font-size: 12px; fill: rgb(255, 255, 255); fill-opacity: 1; white-space: pre;\">0.981419423084227</text></g></g></g><g class=\"annotation\" data-index=\"3\" style=\"opacity: 1;\"><g class=\"annotation-text-g\" transform=\"rotate(0,485,167.5)\"><g class=\"cursor-pointer\" transform=\"translate(473,158)\"><rect class=\"bg\" x=\"0.5\" y=\"0.5\" width=\"23\" height=\"18\" style=\"stroke-width: 1px; stroke: rgb(0, 0, 0); stroke-opacity: 0; fill: rgb(0, 0, 0); fill-opacity: 0;\"/><text class=\"annotation-text\" text-anchor=\"middle\" x=\"11.8125\" y=\"14\" style=\"font-family: 'Open Sans', verdana, arial, sans-serif; font-size: 12px; fill: rgb(0, 0, 0); fill-opacity: 1; white-space: pre;\">1.0</text></g></g></g></g></svg>"
      ]
     },
     "metadata": {},
     "output_type": "display_data"
    }
   ],
   "source": [
    "# Correlation matrix\n",
    "corr_matrix = dataset.corr()\n",
    "\n",
    "import plotly.figure_factory as ff\n",
    "\n",
    "fig = ff.create_annotated_heatmap(corr_matrix.values,\n",
    "                                  x = corr_matrix.columns.values.tolist(),\n",
    "                                  y = corr_matrix.index.values.tolist())\n",
    "\n",
    "\n",
    "fig.show()"
   ]
  },
  {
   "cell_type": "markdown",
   "metadata": {},
   "source": [
    "There's a very strong correlation between the target and the Age variable ! This is a good news, it means that a linear model relating these two variables may be a good estimator of the salary 🙂\n",
    "\n",
    "Let's analyze pairwise scatterplots to investigate the interdependencies between the variables :"
   ]
  },
  {
   "cell_type": "code",
   "execution_count": 7,
   "metadata": {
    "colab": {
     "base_uri": "https://localhost:8080/",
     "height": 469
    },
    "colab_type": "code",
    "id": "HlFGJE4WoNom",
    "outputId": "dc442295-c610-4d31-a6d8-d7029f1bd56e"
   },
   "outputs": [
    {
     "data": {
      "image/svg+xml": [
       "<svg class=\"main-svg\" xmlns=\"http://www.w3.org/2000/svg\" xmlns:xlink=\"http://www.w3.org/1999/xlink\" width=\"700\" height=\"450\" style=\"\" viewBox=\"0 0 700 450\"><rect x=\"0\" y=\"0\" width=\"700\" height=\"450\" style=\"fill: rgb(255, 255, 255); fill-opacity: 1;\"/><defs id=\"defs-71f8f6\"><g class=\"clips\"><clipPath id=\"clip71f8f6xyplot\" class=\"plotclip\"><rect width=\"124.61538461538464\" height=\"71.53846153846156\"/></clipPath><clipPath id=\"clip71f8f6xy2plot\" class=\"plotclip\"><rect width=\"124.61538461538464\" height=\"71.53846153846156\"/></clipPath><clipPath id=\"clip71f8f6xy3plot\" class=\"plotclip\"><rect width=\"124.61538461538464\" height=\"71.53846153846155\"/></clipPath><clipPath id=\"clip71f8f6xy4plot\" class=\"plotclip\"><rect width=\"124.61538461538464\" height=\"71.53846153846155\"/></clipPath><clipPath id=\"clip71f8f6x2yplot\" class=\"plotclip\"><rect width=\"124.61538461538463\" height=\"71.53846153846156\"/></clipPath><clipPath id=\"clip71f8f6x2y2plot\" class=\"plotclip\"><rect width=\"124.61538461538463\" height=\"71.53846153846156\"/></clipPath><clipPath id=\"clip71f8f6x2y3plot\" class=\"plotclip\"><rect width=\"124.61538461538463\" height=\"71.53846153846155\"/></clipPath><clipPath id=\"clip71f8f6x2y4plot\" class=\"plotclip\"><rect width=\"124.61538461538463\" height=\"71.53846153846155\"/></clipPath><clipPath id=\"clip71f8f6x3yplot\" class=\"plotclip\"><rect width=\"124.61538461538466\" height=\"71.53846153846156\"/></clipPath><clipPath id=\"clip71f8f6x3y2plot\" class=\"plotclip\"><rect width=\"124.61538461538466\" height=\"71.53846153846156\"/></clipPath><clipPath id=\"clip71f8f6x3y3plot\" class=\"plotclip\"><rect width=\"124.61538461538466\" height=\"71.53846153846155\"/></clipPath><clipPath id=\"clip71f8f6x3y4plot\" class=\"plotclip\"><rect width=\"124.61538461538466\" height=\"71.53846153846155\"/></clipPath><clipPath id=\"clip71f8f6x4yplot\" class=\"plotclip\"><rect width=\"124.61538461538466\" height=\"71.53846153846156\"/></clipPath><clipPath id=\"clip71f8f6x4y2plot\" class=\"plotclip\"><rect width=\"124.61538461538466\" height=\"71.53846153846156\"/></clipPath><clipPath id=\"clip71f8f6x4y3plot\" class=\"plotclip\"><rect width=\"124.61538461538466\" height=\"71.53846153846155\"/></clipPath><clipPath id=\"clip71f8f6x4y4plot\" class=\"plotclip\"><rect width=\"124.61538461538466\" height=\"71.53846153846155\"/></clipPath><clipPath class=\"axesclip\" id=\"clip71f8f6x\"><rect x=\"80\" y=\"0\" width=\"124.61538461538464\" height=\"450\"/></clipPath><clipPath class=\"axesclip\" id=\"clip71f8f6y\"><rect x=\"0\" y=\"59.99999999999993\" width=\"700\" height=\"71.53846153846156\"/></clipPath><clipPath class=\"axesclip\" id=\"clip71f8f6xy\"><rect x=\"80\" y=\"59.99999999999993\" width=\"124.61538461538464\" height=\"71.53846153846156\"/></clipPath><clipPath class=\"axesclip\" id=\"clip71f8f6y2\"><rect x=\"0\" y=\"139.48717948717945\" width=\"700\" height=\"71.53846153846156\"/></clipPath><clipPath class=\"axesclip\" id=\"clip71f8f6xy2\"><rect x=\"80\" y=\"139.48717948717945\" width=\"124.61538461538464\" height=\"71.53846153846156\"/></clipPath><clipPath class=\"axesclip\" id=\"clip71f8f6y3\"><rect x=\"0\" y=\"218.97435897435895\" width=\"700\" height=\"71.53846153846155\"/></clipPath><clipPath class=\"axesclip\" id=\"clip71f8f6xy3\"><rect x=\"80\" y=\"218.97435897435895\" width=\"124.61538461538464\" height=\"71.53846153846155\"/></clipPath><clipPath class=\"axesclip\" id=\"clip71f8f6y4\"><rect x=\"0\" y=\"298.46153846153845\" width=\"700\" height=\"71.53846153846155\"/></clipPath><clipPath class=\"axesclip\" id=\"clip71f8f6xy4\"><rect x=\"80\" y=\"298.46153846153845\" width=\"124.61538461538464\" height=\"71.53846153846155\"/></clipPath><clipPath class=\"axesclip\" id=\"clip71f8f6x2\"><rect x=\"218.46153846153848\" y=\"0\" width=\"124.61538461538463\" height=\"450\"/></clipPath><clipPath class=\"axesclip\" id=\"clip71f8f6x2y\"><rect x=\"218.46153846153848\" y=\"59.99999999999993\" width=\"124.61538461538463\" height=\"71.53846153846156\"/></clipPath><clipPath class=\"axesclip\" id=\"clip71f8f6x2y2\"><rect x=\"218.46153846153848\" y=\"139.48717948717945\" width=\"124.61538461538463\" height=\"71.53846153846156\"/></clipPath><clipPath class=\"axesclip\" id=\"clip71f8f6x2y3\"><rect x=\"218.46153846153848\" y=\"218.97435897435895\" width=\"124.61538461538463\" height=\"71.53846153846155\"/></clipPath><clipPath class=\"axesclip\" id=\"clip71f8f6x2y4\"><rect x=\"218.46153846153848\" y=\"298.46153846153845\" width=\"124.61538461538463\" height=\"71.53846153846155\"/></clipPath><clipPath class=\"axesclip\" id=\"clip71f8f6x3\"><rect x=\"356.92307692307696\" y=\"0\" width=\"124.61538461538466\" height=\"450\"/></clipPath><clipPath class=\"axesclip\" id=\"clip71f8f6x3y\"><rect x=\"356.92307692307696\" y=\"59.99999999999993\" width=\"124.61538461538466\" height=\"71.53846153846156\"/></clipPath><clipPath class=\"axesclip\" id=\"clip71f8f6x3y2\"><rect x=\"356.92307692307696\" y=\"139.48717948717945\" width=\"124.61538461538466\" height=\"71.53846153846156\"/></clipPath><clipPath class=\"axesclip\" id=\"clip71f8f6x3y3\"><rect x=\"356.92307692307696\" y=\"218.97435897435895\" width=\"124.61538461538466\" height=\"71.53846153846155\"/></clipPath><clipPath class=\"axesclip\" id=\"clip71f8f6x3y4\"><rect x=\"356.92307692307696\" y=\"298.46153846153845\" width=\"124.61538461538466\" height=\"71.53846153846155\"/></clipPath><clipPath class=\"axesclip\" id=\"clip71f8f6x4\"><rect x=\"495.3846153846155\" y=\"0\" width=\"124.61538461538466\" height=\"450\"/></clipPath><clipPath class=\"axesclip\" id=\"clip71f8f6x4y\"><rect x=\"495.3846153846155\" y=\"59.99999999999993\" width=\"124.61538461538466\" height=\"71.53846153846156\"/></clipPath><clipPath class=\"axesclip\" id=\"clip71f8f6x4y2\"><rect x=\"495.3846153846155\" y=\"139.48717948717945\" width=\"124.61538461538466\" height=\"71.53846153846156\"/></clipPath><clipPath class=\"axesclip\" id=\"clip71f8f6x4y3\"><rect x=\"495.3846153846155\" y=\"218.97435897435895\" width=\"124.61538461538466\" height=\"71.53846153846155\"/></clipPath><clipPath class=\"axesclip\" id=\"clip71f8f6x4y4\"><rect x=\"495.3846153846155\" y=\"298.46153846153845\" width=\"124.61538461538466\" height=\"71.53846153846155\"/></clipPath></g><g class=\"gradients\"/></defs><g class=\"bglayer\"/><g class=\"layer-below\"><g class=\"imagelayer\"/><g class=\"shapelayer\"/></g><g class=\"cartesianlayer\"><g class=\"subplot xy\"><g class=\"layer-subplot\"><g class=\"shapelayer\"/><g class=\"imagelayer\"/></g><g class=\"gridlayer\"><g class=\"x\"><path class=\"xgrid crisp\" transform=\"translate(92.76,0)\" d=\"M0,59.99999999999993v71.53846153846156\" style=\"stroke: rgb(238, 238, 238); stroke-opacity: 1; stroke-width: 1px;\"/><path class=\"xgrid crisp\" transform=\"translate(142.31,0)\" d=\"M0,59.99999999999993v71.53846153846156\" style=\"stroke: rgb(238, 238, 238); stroke-opacity: 1; stroke-width: 1px;\"/><path class=\"xgrid crisp\" transform=\"translate(191.85,0)\" d=\"M0,59.99999999999993v71.53846153846156\" style=\"stroke: rgb(238, 238, 238); stroke-opacity: 1; stroke-width: 1px;\"/></g><g class=\"y\"><path class=\"ygrid crisp\" transform=\"translate(0,124.20999999999992)\" d=\"M80,0h124.61538461538464\" style=\"stroke: rgb(238, 238, 238); stroke-opacity: 1; stroke-width: 1px;\"/><path class=\"ygrid crisp\" transform=\"translate(0,95.76999999999992)\" d=\"M80,0h124.61538461538464\" style=\"stroke: rgb(238, 238, 238); stroke-opacity: 1; stroke-width: 1px;\"/><path class=\"ygrid crisp\" transform=\"translate(0,67.32999999999993)\" d=\"M80,0h124.61538461538464\" style=\"stroke: rgb(238, 238, 238); stroke-opacity: 1; stroke-width: 1px;\"/></g></g><g class=\"zerolinelayer\"/><path class=\"xlines-below\"/><path class=\"ylines-below\"/><g class=\"overlines-below\"/><g class=\"xaxislayer-below\"/><g class=\"yaxislayer-below\"/><g class=\"overaxes-below\"/><g class=\"plot\" transform=\"translate(80,59.99999999999993)\" clip-path=\"url('#clip71f8f6xyplot')\"/><g class=\"overplot\"/><path class=\"xlines-above crisp\" d=\"M0,0\" style=\"fill: none;\"/><path class=\"ylines-above crisp\" d=\"M0,0\" style=\"fill: none;\"/><g class=\"overlines-above\"/><g class=\"xaxislayer-above\"/><g class=\"yaxislayer-above\"><g class=\"ytick\"><text text-anchor=\"end\" x=\"79\" y=\"4.199999999999999\" transform=\"translate(0,124.20999999999992)\" style=\"font-family: 'Open Sans', verdana, arial, sans-serif; font-size: 12px; fill: rgb(68, 68, 68); fill-opacity: 1; white-space: pre;\">France</text></g><g class=\"ytick\"><text text-anchor=\"end\" x=\"79\" y=\"4.199999999999999\" transform=\"translate(0,95.76999999999992)\" style=\"font-family: 'Open Sans', verdana, arial, sans-serif; font-size: 12px; fill: rgb(68, 68, 68); fill-opacity: 1; white-space: pre;\">Spain</text></g><g class=\"ytick\"><text text-anchor=\"end\" x=\"79\" y=\"4.199999999999999\" transform=\"translate(0,67.32999999999993)\" style=\"font-family: 'Open Sans', verdana, arial, sans-serif; font-size: 12px; fill: rgb(68, 68, 68); fill-opacity: 1; white-space: pre;\">Germany</text></g></g><g class=\"overaxes-above\"/></g><g class=\"subplot xy2\"><g class=\"layer-subplot\"><g class=\"shapelayer\"/><g class=\"imagelayer\"/></g><g class=\"gridlayer\"><g class=\"x\"><path class=\"xgrid crisp\" transform=\"translate(92.76,0)\" d=\"M0,139.48717948717945v71.53846153846156\" style=\"stroke: rgb(238, 238, 238); stroke-opacity: 1; stroke-width: 1px;\"/><path class=\"xgrid crisp\" transform=\"translate(142.31,0)\" d=\"M0,139.48717948717945v71.53846153846156\" style=\"stroke: rgb(238, 238, 238); stroke-opacity: 1; stroke-width: 1px;\"/><path class=\"xgrid crisp\" transform=\"translate(191.85,0)\" d=\"M0,139.48717948717945v71.53846153846156\" style=\"stroke: rgb(238, 238, 238); stroke-opacity: 1; stroke-width: 1px;\"/></g><g class=\"y2\"><path class=\"y2grid crisp\" transform=\"translate(0,196.27717948717944)\" d=\"M80,0h124.61538461538464\" style=\"stroke: rgb(238, 238, 238); stroke-opacity: 1; stroke-width: 1px;\"/><path class=\"y2grid crisp\" transform=\"translate(0,171.54717948717945)\" d=\"M80,0h124.61538461538464\" style=\"stroke: rgb(238, 238, 238); stroke-opacity: 1; stroke-width: 1px;\"/><path class=\"y2grid crisp\" transform=\"translate(0,146.81717948717946)\" d=\"M80,0h124.61538461538464\" style=\"stroke: rgb(238, 238, 238); stroke-opacity: 1; stroke-width: 1px;\"/></g></g><g class=\"zerolinelayer\"/><path class=\"xlines-below\"/><path class=\"ylines-below\"/><g class=\"overlines-below\"/><g class=\"xaxislayer-below\"/><g class=\"yaxislayer-below\"/><g class=\"overaxes-below\"/><g class=\"plot\" transform=\"translate(80,139.48717948717945)\" clip-path=\"url('#clip71f8f6xy2plot')\"/><g class=\"overplot\"/><path class=\"xlines-above crisp\" d=\"M0,0\" style=\"fill: none;\"/><path class=\"ylines-above crisp\" d=\"M0,0\" style=\"fill: none;\"/><g class=\"overlines-above\"/><g class=\"xaxislayer-above\"/><g class=\"yaxislayer-above\"><g class=\"y2tick\"><text text-anchor=\"end\" x=\"79\" y=\"4.199999999999999\" transform=\"translate(0,196.27717948717944)\" style=\"font-family: 'Open Sans', verdana, arial, sans-serif; font-size: 12px; fill: rgb(68, 68, 68); fill-opacity: 1; white-space: pre;\">30</text></g><g class=\"y2tick\"><text text-anchor=\"end\" x=\"79\" y=\"4.199999999999999\" transform=\"translate(0,171.54717948717945)\" style=\"font-family: 'Open Sans', verdana, arial, sans-serif; font-size: 12px; fill: rgb(68, 68, 68); fill-opacity: 1; white-space: pre;\">40</text></g><g class=\"y2tick\"><text text-anchor=\"end\" x=\"79\" y=\"4.199999999999999\" transform=\"translate(0,146.81717948717946)\" style=\"font-family: 'Open Sans', verdana, arial, sans-serif; font-size: 12px; fill: rgb(68, 68, 68); fill-opacity: 1; white-space: pre;\">50</text></g></g><g class=\"overaxes-above\"/></g><g class=\"subplot xy3\"><g class=\"layer-subplot\"><g class=\"shapelayer\"/><g class=\"imagelayer\"/></g><g class=\"gridlayer\"><g class=\"x\"><path class=\"xgrid crisp\" transform=\"translate(92.76,0)\" d=\"M0,218.97435897435895v71.53846153846155\" style=\"stroke: rgb(238, 238, 238); stroke-opacity: 1; stroke-width: 1px;\"/><path class=\"xgrid crisp\" transform=\"translate(142.31,0)\" d=\"M0,218.97435897435895v71.53846153846155\" style=\"stroke: rgb(238, 238, 238); stroke-opacity: 1; stroke-width: 1px;\"/><path class=\"xgrid crisp\" transform=\"translate(191.85,0)\" d=\"M0,218.97435897435895v71.53846153846155\" style=\"stroke: rgb(238, 238, 238); stroke-opacity: 1; stroke-width: 1px;\"/></g><g class=\"y3\"><path class=\"y3grid crisp\" transform=\"translate(0,279.93435897435893)\" d=\"M80,0h124.61538461538464\" style=\"stroke: rgb(238, 238, 238); stroke-opacity: 1; stroke-width: 1px;\"/><path class=\"y3grid crisp\" transform=\"translate(0,263.68435897435893)\" d=\"M80,0h124.61538461538464\" style=\"stroke: rgb(238, 238, 238); stroke-opacity: 1; stroke-width: 1px;\"/><path class=\"y3grid crisp\" transform=\"translate(0,247.43435897435896)\" d=\"M80,0h124.61538461538464\" style=\"stroke: rgb(238, 238, 238); stroke-opacity: 1; stroke-width: 1px;\"/><path class=\"y3grid crisp\" transform=\"translate(0,231.17435897435894)\" d=\"M80,0h124.61538461538464\" style=\"stroke: rgb(238, 238, 238); stroke-opacity: 1; stroke-width: 1px;\"/></g></g><g class=\"zerolinelayer\"/><path class=\"xlines-below\"/><path class=\"ylines-below\"/><g class=\"overlines-below\"/><g class=\"xaxislayer-below\"/><g class=\"yaxislayer-below\"/><g class=\"overaxes-below\"/><g class=\"plot\" transform=\"translate(80,218.97435897435895)\" clip-path=\"url('#clip71f8f6xy3plot')\"/><g class=\"overplot\"/><path class=\"xlines-above crisp\" d=\"M0,0\" style=\"fill: none;\"/><path class=\"ylines-above crisp\" d=\"M0,0\" style=\"fill: none;\"/><g class=\"overlines-above\"/><g class=\"xaxislayer-above\"/><g class=\"yaxislayer-above\"><g class=\"y3tick\"><text text-anchor=\"end\" x=\"79\" y=\"4.199999999999999\" transform=\"translate(0,279.93435897435893)\" style=\"font-family: 'Open Sans', verdana, arial, sans-serif; font-size: 12px; fill: rgb(68, 68, 68); fill-opacity: 1; white-space: pre;\">50k</text></g><g class=\"y3tick\"><text text-anchor=\"end\" x=\"79\" y=\"4.199999999999999\" transform=\"translate(0,263.68435897435893)\" style=\"font-family: 'Open Sans', verdana, arial, sans-serif; font-size: 12px; fill: rgb(68, 68, 68); fill-opacity: 1; white-space: pre;\">60k</text></g><g class=\"y3tick\"><text text-anchor=\"end\" x=\"79\" y=\"4.199999999999999\" transform=\"translate(0,247.43435897435896)\" style=\"font-family: 'Open Sans', verdana, arial, sans-serif; font-size: 12px; fill: rgb(68, 68, 68); fill-opacity: 1; white-space: pre;\">70k</text></g><g class=\"y3tick\"><text text-anchor=\"end\" x=\"79\" y=\"4.199999999999999\" transform=\"translate(0,231.17435897435894)\" style=\"font-family: 'Open Sans', verdana, arial, sans-serif; font-size: 12px; fill: rgb(68, 68, 68); fill-opacity: 1; white-space: pre;\">80k</text></g></g><g class=\"overaxes-above\"/></g><g class=\"subplot xy4\"><g class=\"layer-subplot\"><g class=\"shapelayer\"/><g class=\"imagelayer\"/></g><g class=\"gridlayer\"><g class=\"x\"><path class=\"xgrid crisp\" transform=\"translate(92.76,0)\" d=\"M0,298.46153846153845v71.53846153846155\" style=\"stroke: rgb(238, 238, 238); stroke-opacity: 1; stroke-width: 1px;\"/><path class=\"xgrid crisp\" transform=\"translate(142.31,0)\" d=\"M0,298.46153846153845v71.53846153846155\" style=\"stroke: rgb(238, 238, 238); stroke-opacity: 1; stroke-width: 1px;\"/><path class=\"xgrid crisp\" transform=\"translate(191.85,0)\" d=\"M0,298.46153846153845v71.53846153846155\" style=\"stroke: rgb(238, 238, 238); stroke-opacity: 1; stroke-width: 1px;\"/></g><g class=\"y4\"><path class=\"y4grid crisp\" transform=\"translate(0,362.67153846153843)\" d=\"M80,0h124.61538461538464\" style=\"stroke: rgb(238, 238, 238); stroke-opacity: 1; stroke-width: 1px;\"/><path class=\"y4grid crisp\" transform=\"translate(0,305.79153846153844)\" d=\"M80,0h124.61538461538464\" style=\"stroke: rgb(238, 238, 238); stroke-opacity: 1; stroke-width: 1px;\"/></g></g><g class=\"zerolinelayer\"/><path class=\"xlines-below\"/><path class=\"ylines-below\"/><g class=\"overlines-below\"/><g class=\"xaxislayer-below\"/><g class=\"yaxislayer-below\"/><g class=\"overaxes-below\"/><g class=\"plot\" transform=\"translate(80,298.46153846153845)\" clip-path=\"url('#clip71f8f6xy4plot')\"/><g class=\"overplot\"/><path class=\"xlines-above crisp\" d=\"M0,0\" style=\"fill: none;\"/><path class=\"ylines-above crisp\" d=\"M0,0\" style=\"fill: none;\"/><g class=\"overlines-above\"/><g class=\"xaxislayer-above\"><g class=\"xtick\"><text text-anchor=\"middle\" x=\"0\" y=\"383\" transform=\"translate(92.76,0)\" style=\"font-family: 'Open Sans', verdana, arial, sans-serif; font-size: 12px; fill: rgb(68, 68, 68); fill-opacity: 1; white-space: pre;\">France</text></g><g class=\"xtick\"><text text-anchor=\"middle\" x=\"0\" y=\"383\" transform=\"translate(142.31,0)\" style=\"font-family: 'Open Sans', verdana, arial, sans-serif; font-size: 12px; fill: rgb(68, 68, 68); fill-opacity: 1; white-space: pre;\">Spain</text></g><g class=\"xtick\"><text text-anchor=\"middle\" x=\"0\" y=\"383\" transform=\"translate(191.85,0)\" style=\"font-family: 'Open Sans', verdana, arial, sans-serif; font-size: 12px; fill: rgb(68, 68, 68); fill-opacity: 1; white-space: pre;\">Germany</text></g></g><g class=\"yaxislayer-above\"><g class=\"y4tick\"><text text-anchor=\"end\" x=\"79\" y=\"4.199999999999999\" transform=\"translate(0,362.67153846153843)\" style=\"font-family: 'Open Sans', verdana, arial, sans-serif; font-size: 12px; fill: rgb(68, 68, 68); fill-opacity: 1; white-space: pre;\">No</text></g><g class=\"y4tick\"><text text-anchor=\"end\" x=\"79\" y=\"4.199999999999999\" transform=\"translate(0,305.79153846153844)\" style=\"font-family: 'Open Sans', verdana, arial, sans-serif; font-size: 12px; fill: rgb(68, 68, 68); fill-opacity: 1; white-space: pre;\">Yes</text></g></g><g class=\"overaxes-above\"/></g><g class=\"subplot x2y\"><g class=\"layer-subplot\"><g class=\"shapelayer\"/><g class=\"imagelayer\"/></g><g class=\"gridlayer\"><g class=\"x2\"><path class=\"x2grid crisp\" transform=\"translate(244.15153846153848,0)\" d=\"M0,59.99999999999993v71.53846153846156\" style=\"stroke: rgb(238, 238, 238); stroke-opacity: 1; stroke-width: 1px;\"/><path class=\"x2grid crisp\" transform=\"translate(287.2315384615385,0)\" d=\"M0,59.99999999999993v71.53846153846156\" style=\"stroke: rgb(238, 238, 238); stroke-opacity: 1; stroke-width: 1px;\"/><path class=\"x2grid crisp\" transform=\"translate(330.3115384615385,0)\" d=\"M0,59.99999999999993v71.53846153846156\" style=\"stroke: rgb(238, 238, 238); stroke-opacity: 1; stroke-width: 1px;\"/></g><g class=\"y\"><path class=\"ygrid crisp\" transform=\"translate(0,124.20999999999992)\" d=\"M218.46153846153848,0h124.61538461538463\" style=\"stroke: rgb(238, 238, 238); stroke-opacity: 1; stroke-width: 1px;\"/><path class=\"ygrid crisp\" transform=\"translate(0,95.76999999999992)\" d=\"M218.46153846153848,0h124.61538461538463\" style=\"stroke: rgb(238, 238, 238); stroke-opacity: 1; stroke-width: 1px;\"/><path class=\"ygrid crisp\" transform=\"translate(0,67.32999999999993)\" d=\"M218.46153846153848,0h124.61538461538463\" style=\"stroke: rgb(238, 238, 238); stroke-opacity: 1; stroke-width: 1px;\"/></g></g><g class=\"zerolinelayer\"/><path class=\"xlines-below\"/><path class=\"ylines-below\"/><g class=\"overlines-below\"/><g class=\"xaxislayer-below\"/><g class=\"yaxislayer-below\"/><g class=\"overaxes-below\"/><g class=\"plot\" transform=\"translate(218.46153846153848,59.99999999999993)\" clip-path=\"url('#clip71f8f6x2yplot')\"/><g class=\"overplot\"/><path class=\"xlines-above crisp\" d=\"M0,0\" style=\"fill: none;\"/><path class=\"ylines-above crisp\" d=\"M0,0\" style=\"fill: none;\"/><g class=\"overlines-above\"/><g class=\"xaxislayer-above\"/><g class=\"yaxislayer-above\"/><g class=\"overaxes-above\"/></g><g class=\"subplot x2y2\"><g class=\"layer-subplot\"><g class=\"shapelayer\"/><g class=\"imagelayer\"/></g><g class=\"gridlayer\"><g class=\"x2\"><path class=\"x2grid crisp\" transform=\"translate(244.15153846153848,0)\" d=\"M0,139.48717948717945v71.53846153846156\" style=\"stroke: rgb(238, 238, 238); stroke-opacity: 1; stroke-width: 1px;\"/><path class=\"x2grid crisp\" transform=\"translate(287.2315384615385,0)\" d=\"M0,139.48717948717945v71.53846153846156\" style=\"stroke: rgb(238, 238, 238); stroke-opacity: 1; stroke-width: 1px;\"/><path class=\"x2grid crisp\" transform=\"translate(330.3115384615385,0)\" d=\"M0,139.48717948717945v71.53846153846156\" style=\"stroke: rgb(238, 238, 238); stroke-opacity: 1; stroke-width: 1px;\"/></g><g class=\"y2\"><path class=\"y2grid crisp\" transform=\"translate(0,196.27717948717944)\" d=\"M218.46153846153848,0h124.61538461538463\" style=\"stroke: rgb(238, 238, 238); stroke-opacity: 1; stroke-width: 1px;\"/><path class=\"y2grid crisp\" transform=\"translate(0,171.54717948717945)\" d=\"M218.46153846153848,0h124.61538461538463\" style=\"stroke: rgb(238, 238, 238); stroke-opacity: 1; stroke-width: 1px;\"/><path class=\"y2grid crisp\" transform=\"translate(0,146.81717948717946)\" d=\"M218.46153846153848,0h124.61538461538463\" style=\"stroke: rgb(238, 238, 238); stroke-opacity: 1; stroke-width: 1px;\"/></g></g><g class=\"zerolinelayer\"/><path class=\"xlines-below\"/><path class=\"ylines-below\"/><g class=\"overlines-below\"/><g class=\"xaxislayer-below\"/><g class=\"yaxislayer-below\"/><g class=\"overaxes-below\"/><g class=\"plot\" transform=\"translate(218.46153846153848,139.48717948717945)\" clip-path=\"url('#clip71f8f6x2y2plot')\"/><g class=\"overplot\"/><path class=\"xlines-above crisp\" d=\"M0,0\" style=\"fill: none;\"/><path class=\"ylines-above crisp\" d=\"M0,0\" style=\"fill: none;\"/><g class=\"overlines-above\"/><g class=\"xaxislayer-above\"/><g class=\"yaxislayer-above\"/><g class=\"overaxes-above\"/></g><g class=\"subplot x2y3\"><g class=\"layer-subplot\"><g class=\"shapelayer\"/><g class=\"imagelayer\"/></g><g class=\"gridlayer\"><g class=\"x2\"><path class=\"x2grid crisp\" transform=\"translate(244.15153846153848,0)\" d=\"M0,218.97435897435895v71.53846153846155\" style=\"stroke: rgb(238, 238, 238); stroke-opacity: 1; stroke-width: 1px;\"/><path class=\"x2grid crisp\" transform=\"translate(287.2315384615385,0)\" d=\"M0,218.97435897435895v71.53846153846155\" style=\"stroke: rgb(238, 238, 238); stroke-opacity: 1; stroke-width: 1px;\"/><path class=\"x2grid crisp\" transform=\"translate(330.3115384615385,0)\" d=\"M0,218.97435897435895v71.53846153846155\" style=\"stroke: rgb(238, 238, 238); stroke-opacity: 1; stroke-width: 1px;\"/></g><g class=\"y3\"><path class=\"y3grid crisp\" transform=\"translate(0,279.93435897435893)\" d=\"M218.46153846153848,0h124.61538461538463\" style=\"stroke: rgb(238, 238, 238); stroke-opacity: 1; stroke-width: 1px;\"/><path class=\"y3grid crisp\" transform=\"translate(0,263.68435897435893)\" d=\"M218.46153846153848,0h124.61538461538463\" style=\"stroke: rgb(238, 238, 238); stroke-opacity: 1; stroke-width: 1px;\"/><path class=\"y3grid crisp\" transform=\"translate(0,247.43435897435896)\" d=\"M218.46153846153848,0h124.61538461538463\" style=\"stroke: rgb(238, 238, 238); stroke-opacity: 1; stroke-width: 1px;\"/><path class=\"y3grid crisp\" transform=\"translate(0,231.17435897435894)\" d=\"M218.46153846153848,0h124.61538461538463\" style=\"stroke: rgb(238, 238, 238); stroke-opacity: 1; stroke-width: 1px;\"/></g></g><g class=\"zerolinelayer\"/><path class=\"xlines-below\"/><path class=\"ylines-below\"/><g class=\"overlines-below\"/><g class=\"xaxislayer-below\"/><g class=\"yaxislayer-below\"/><g class=\"overaxes-below\"/><g class=\"plot\" transform=\"translate(218.46153846153848,218.97435897435895)\" clip-path=\"url('#clip71f8f6x2y3plot')\"/><g class=\"overplot\"/><path class=\"xlines-above crisp\" d=\"M0,0\" style=\"fill: none;\"/><path class=\"ylines-above crisp\" d=\"M0,0\" style=\"fill: none;\"/><g class=\"overlines-above\"/><g class=\"xaxislayer-above\"/><g class=\"yaxislayer-above\"/><g class=\"overaxes-above\"/></g><g class=\"subplot x2y4\"><g class=\"layer-subplot\"><g class=\"shapelayer\"/><g class=\"imagelayer\"/></g><g class=\"gridlayer\"><g class=\"x2\"><path class=\"x2grid crisp\" transform=\"translate(244.15153846153848,0)\" d=\"M0,298.46153846153845v71.53846153846155\" style=\"stroke: rgb(238, 238, 238); stroke-opacity: 1; stroke-width: 1px;\"/><path class=\"x2grid crisp\" transform=\"translate(287.2315384615385,0)\" d=\"M0,298.46153846153845v71.53846153846155\" style=\"stroke: rgb(238, 238, 238); stroke-opacity: 1; stroke-width: 1px;\"/><path class=\"x2grid crisp\" transform=\"translate(330.3115384615385,0)\" d=\"M0,298.46153846153845v71.53846153846155\" style=\"stroke: rgb(238, 238, 238); stroke-opacity: 1; stroke-width: 1px;\"/></g><g class=\"y4\"><path class=\"y4grid crisp\" transform=\"translate(0,362.67153846153843)\" d=\"M218.46153846153848,0h124.61538461538463\" style=\"stroke: rgb(238, 238, 238); stroke-opacity: 1; stroke-width: 1px;\"/><path class=\"y4grid crisp\" transform=\"translate(0,305.79153846153844)\" d=\"M218.46153846153848,0h124.61538461538463\" style=\"stroke: rgb(238, 238, 238); stroke-opacity: 1; stroke-width: 1px;\"/></g></g><g class=\"zerolinelayer\"/><path class=\"xlines-below\"/><path class=\"ylines-below\"/><g class=\"overlines-below\"/><g class=\"xaxislayer-below\"/><g class=\"yaxislayer-below\"/><g class=\"overaxes-below\"/><g class=\"plot\" transform=\"translate(218.46153846153848,298.46153846153845)\" clip-path=\"url('#clip71f8f6x2y4plot')\"/><g class=\"overplot\"/><path class=\"xlines-above crisp\" d=\"M0,0\" style=\"fill: none;\"/><path class=\"ylines-above crisp\" d=\"M0,0\" style=\"fill: none;\"/><g class=\"overlines-above\"/><g class=\"xaxislayer-above\"><g class=\"x2tick\"><text text-anchor=\"middle\" x=\"0\" y=\"383\" transform=\"translate(244.15153846153848,0)\" style=\"font-family: 'Open Sans', verdana, arial, sans-serif; font-size: 12px; fill: rgb(68, 68, 68); fill-opacity: 1; white-space: pre;\">30</text></g><g class=\"x2tick\"><text text-anchor=\"middle\" x=\"0\" y=\"383\" transform=\"translate(287.2315384615385,0)\" style=\"font-family: 'Open Sans', verdana, arial, sans-serif; font-size: 12px; fill: rgb(68, 68, 68); fill-opacity: 1; white-space: pre;\">40</text></g><g class=\"x2tick\"><text text-anchor=\"middle\" x=\"0\" y=\"383\" transform=\"translate(330.3115384615385,0)\" style=\"font-family: 'Open Sans', verdana, arial, sans-serif; font-size: 12px; fill: rgb(68, 68, 68); fill-opacity: 1; white-space: pre;\">50</text></g></g><g class=\"yaxislayer-above\"/><g class=\"overaxes-above\"/></g><g class=\"subplot x3y\"><g class=\"layer-subplot\"><g class=\"shapelayer\"/><g class=\"imagelayer\"/></g><g class=\"gridlayer\"><g class=\"x3\"><path class=\"x3grid crisp\" transform=\"translate(375.35307692307697,0)\" d=\"M0,59.99999999999993v71.53846153846156\" style=\"stroke: rgb(238, 238, 238); stroke-opacity: 1; stroke-width: 1px;\"/><path class=\"x3grid crisp\" transform=\"translate(403.66307692307697,0)\" d=\"M0,59.99999999999993v71.53846153846156\" style=\"stroke: rgb(238, 238, 238); stroke-opacity: 1; stroke-width: 1px;\"/><path class=\"x3grid crisp\" transform=\"translate(431.973076923077,0)\" d=\"M0,59.99999999999993v71.53846153846156\" style=\"stroke: rgb(238, 238, 238); stroke-opacity: 1; stroke-width: 1px;\"/><path class=\"x3grid crisp\" transform=\"translate(460.283076923077,0)\" d=\"M0,59.99999999999993v71.53846153846156\" style=\"stroke: rgb(238, 238, 238); stroke-opacity: 1; stroke-width: 1px;\"/></g><g class=\"y\"><path class=\"ygrid crisp\" transform=\"translate(0,124.20999999999992)\" d=\"M356.92307692307696,0h124.61538461538466\" style=\"stroke: rgb(238, 238, 238); stroke-opacity: 1; stroke-width: 1px;\"/><path class=\"ygrid crisp\" transform=\"translate(0,95.76999999999992)\" d=\"M356.92307692307696,0h124.61538461538466\" style=\"stroke: rgb(238, 238, 238); stroke-opacity: 1; stroke-width: 1px;\"/><path class=\"ygrid crisp\" transform=\"translate(0,67.32999999999993)\" d=\"M356.92307692307696,0h124.61538461538466\" style=\"stroke: rgb(238, 238, 238); stroke-opacity: 1; stroke-width: 1px;\"/></g></g><g class=\"zerolinelayer\"/><path class=\"xlines-below\"/><path class=\"ylines-below\"/><g class=\"overlines-below\"/><g class=\"xaxislayer-below\"/><g class=\"yaxislayer-below\"/><g class=\"overaxes-below\"/><g class=\"plot\" transform=\"translate(356.92307692307696,59.99999999999993)\" clip-path=\"url('#clip71f8f6x3yplot')\"/><g class=\"overplot\"/><path class=\"xlines-above crisp\" d=\"M0,0\" style=\"fill: none;\"/><path class=\"ylines-above crisp\" d=\"M0,0\" style=\"fill: none;\"/><g class=\"overlines-above\"/><g class=\"xaxislayer-above\"/><g class=\"yaxislayer-above\"/><g class=\"overaxes-above\"/></g><g class=\"subplot x3y2\"><g class=\"layer-subplot\"><g class=\"shapelayer\"/><g class=\"imagelayer\"/></g><g class=\"gridlayer\"><g class=\"x3\"><path class=\"x3grid crisp\" transform=\"translate(375.35307692307697,0)\" d=\"M0,139.48717948717945v71.53846153846156\" style=\"stroke: rgb(238, 238, 238); stroke-opacity: 1; stroke-width: 1px;\"/><path class=\"x3grid crisp\" transform=\"translate(403.66307692307697,0)\" d=\"M0,139.48717948717945v71.53846153846156\" style=\"stroke: rgb(238, 238, 238); stroke-opacity: 1; stroke-width: 1px;\"/><path class=\"x3grid crisp\" transform=\"translate(431.973076923077,0)\" d=\"M0,139.48717948717945v71.53846153846156\" style=\"stroke: rgb(238, 238, 238); stroke-opacity: 1; stroke-width: 1px;\"/><path class=\"x3grid crisp\" transform=\"translate(460.283076923077,0)\" d=\"M0,139.48717948717945v71.53846153846156\" style=\"stroke: rgb(238, 238, 238); stroke-opacity: 1; stroke-width: 1px;\"/></g><g class=\"y2\"><path class=\"y2grid crisp\" transform=\"translate(0,196.27717948717944)\" d=\"M356.92307692307696,0h124.61538461538466\" style=\"stroke: rgb(238, 238, 238); stroke-opacity: 1; stroke-width: 1px;\"/><path class=\"y2grid crisp\" transform=\"translate(0,171.54717948717945)\" d=\"M356.92307692307696,0h124.61538461538466\" style=\"stroke: rgb(238, 238, 238); stroke-opacity: 1; stroke-width: 1px;\"/><path class=\"y2grid crisp\" transform=\"translate(0,146.81717948717946)\" d=\"M356.92307692307696,0h124.61538461538466\" style=\"stroke: rgb(238, 238, 238); stroke-opacity: 1; stroke-width: 1px;\"/></g></g><g class=\"zerolinelayer\"/><path class=\"xlines-below\"/><path class=\"ylines-below\"/><g class=\"overlines-below\"/><g class=\"xaxislayer-below\"/><g class=\"yaxislayer-below\"/><g class=\"overaxes-below\"/><g class=\"plot\" transform=\"translate(356.92307692307696,139.48717948717945)\" clip-path=\"url('#clip71f8f6x3y2plot')\"/><g class=\"overplot\"/><path class=\"xlines-above crisp\" d=\"M0,0\" style=\"fill: none;\"/><path class=\"ylines-above crisp\" d=\"M0,0\" style=\"fill: none;\"/><g class=\"overlines-above\"/><g class=\"xaxislayer-above\"/><g class=\"yaxislayer-above\"/><g class=\"overaxes-above\"/></g><g class=\"subplot x3y3\"><g class=\"layer-subplot\"><g class=\"shapelayer\"/><g class=\"imagelayer\"/></g><g class=\"gridlayer\"><g class=\"x3\"><path class=\"x3grid crisp\" transform=\"translate(375.35307692307697,0)\" d=\"M0,218.97435897435895v71.53846153846155\" style=\"stroke: rgb(238, 238, 238); stroke-opacity: 1; stroke-width: 1px;\"/><path class=\"x3grid crisp\" transform=\"translate(403.66307692307697,0)\" d=\"M0,218.97435897435895v71.53846153846155\" style=\"stroke: rgb(238, 238, 238); stroke-opacity: 1; stroke-width: 1px;\"/><path class=\"x3grid crisp\" transform=\"translate(431.973076923077,0)\" d=\"M0,218.97435897435895v71.53846153846155\" style=\"stroke: rgb(238, 238, 238); stroke-opacity: 1; stroke-width: 1px;\"/><path class=\"x3grid crisp\" transform=\"translate(460.283076923077,0)\" d=\"M0,218.97435897435895v71.53846153846155\" style=\"stroke: rgb(238, 238, 238); stroke-opacity: 1; stroke-width: 1px;\"/></g><g class=\"y3\"><path class=\"y3grid crisp\" transform=\"translate(0,279.93435897435893)\" d=\"M356.92307692307696,0h124.61538461538466\" style=\"stroke: rgb(238, 238, 238); stroke-opacity: 1; stroke-width: 1px;\"/><path class=\"y3grid crisp\" transform=\"translate(0,263.68435897435893)\" d=\"M356.92307692307696,0h124.61538461538466\" style=\"stroke: rgb(238, 238, 238); stroke-opacity: 1; stroke-width: 1px;\"/><path class=\"y3grid crisp\" transform=\"translate(0,247.43435897435896)\" d=\"M356.92307692307696,0h124.61538461538466\" style=\"stroke: rgb(238, 238, 238); stroke-opacity: 1; stroke-width: 1px;\"/><path class=\"y3grid crisp\" transform=\"translate(0,231.17435897435894)\" d=\"M356.92307692307696,0h124.61538461538466\" style=\"stroke: rgb(238, 238, 238); stroke-opacity: 1; stroke-width: 1px;\"/></g></g><g class=\"zerolinelayer\"/><path class=\"xlines-below\"/><path class=\"ylines-below\"/><g class=\"overlines-below\"/><g class=\"xaxislayer-below\"/><g class=\"yaxislayer-below\"/><g class=\"overaxes-below\"/><g class=\"plot\" transform=\"translate(356.92307692307696,218.97435897435895)\" clip-path=\"url('#clip71f8f6x3y3plot')\"/><g class=\"overplot\"/><path class=\"xlines-above crisp\" d=\"M0,0\" style=\"fill: none;\"/><path class=\"ylines-above crisp\" d=\"M0,0\" style=\"fill: none;\"/><g class=\"overlines-above\"/><g class=\"xaxislayer-above\"/><g class=\"yaxislayer-above\"/><g class=\"overaxes-above\"/></g><g class=\"subplot x3y4\"><g class=\"layer-subplot\"><g class=\"shapelayer\"/><g class=\"imagelayer\"/></g><g class=\"gridlayer\"><g class=\"x3\"><path class=\"x3grid crisp\" transform=\"translate(375.35307692307697,0)\" d=\"M0,298.46153846153845v71.53846153846155\" style=\"stroke: rgb(238, 238, 238); stroke-opacity: 1; stroke-width: 1px;\"/><path class=\"x3grid crisp\" transform=\"translate(403.66307692307697,0)\" d=\"M0,298.46153846153845v71.53846153846155\" style=\"stroke: rgb(238, 238, 238); stroke-opacity: 1; stroke-width: 1px;\"/><path class=\"x3grid crisp\" transform=\"translate(431.973076923077,0)\" d=\"M0,298.46153846153845v71.53846153846155\" style=\"stroke: rgb(238, 238, 238); stroke-opacity: 1; stroke-width: 1px;\"/><path class=\"x3grid crisp\" transform=\"translate(460.283076923077,0)\" d=\"M0,298.46153846153845v71.53846153846155\" style=\"stroke: rgb(238, 238, 238); stroke-opacity: 1; stroke-width: 1px;\"/></g><g class=\"y4\"><path class=\"y4grid crisp\" transform=\"translate(0,362.67153846153843)\" d=\"M356.92307692307696,0h124.61538461538466\" style=\"stroke: rgb(238, 238, 238); stroke-opacity: 1; stroke-width: 1px;\"/><path class=\"y4grid crisp\" transform=\"translate(0,305.79153846153844)\" d=\"M356.92307692307696,0h124.61538461538466\" style=\"stroke: rgb(238, 238, 238); stroke-opacity: 1; stroke-width: 1px;\"/></g></g><g class=\"zerolinelayer\"/><path class=\"xlines-below\"/><path class=\"ylines-below\"/><g class=\"overlines-below\"/><g class=\"xaxislayer-below\"/><g class=\"yaxislayer-below\"/><g class=\"overaxes-below\"/><g class=\"plot\" transform=\"translate(356.92307692307696,298.46153846153845)\" clip-path=\"url('#clip71f8f6x3y4plot')\"/><g class=\"overplot\"/><path class=\"xlines-above crisp\" d=\"M0,0\" style=\"fill: none;\"/><path class=\"ylines-above crisp\" d=\"M0,0\" style=\"fill: none;\"/><g class=\"overlines-above\"/><g class=\"xaxislayer-above\"><g class=\"x3tick\"><text text-anchor=\"middle\" x=\"0\" y=\"383\" transform=\"translate(375.35307692307697,0)\" style=\"font-family: 'Open Sans', verdana, arial, sans-serif; font-size: 12px; fill: rgb(68, 68, 68); fill-opacity: 1; white-space: pre;\">50k</text></g><g class=\"x3tick\"><text text-anchor=\"middle\" x=\"0\" y=\"383\" transform=\"translate(403.66307692307697,0)\" style=\"font-family: 'Open Sans', verdana, arial, sans-serif; font-size: 12px; fill: rgb(68, 68, 68); fill-opacity: 1; white-space: pre;\">60k</text></g><g class=\"x3tick\"><text text-anchor=\"middle\" x=\"0\" y=\"383\" transform=\"translate(431.973076923077,0)\" style=\"font-family: 'Open Sans', verdana, arial, sans-serif; font-size: 12px; fill: rgb(68, 68, 68); fill-opacity: 1; white-space: pre;\">70k</text></g><g class=\"x3tick\"><text text-anchor=\"middle\" x=\"0\" y=\"383\" transform=\"translate(460.283076923077,0)\" style=\"font-family: 'Open Sans', verdana, arial, sans-serif; font-size: 12px; fill: rgb(68, 68, 68); fill-opacity: 1; white-space: pre;\">80k</text></g></g><g class=\"yaxislayer-above\"/><g class=\"overaxes-above\"/></g><g class=\"subplot x4y\"><g class=\"layer-subplot\"><g class=\"shapelayer\"/><g class=\"imagelayer\"/></g><g class=\"gridlayer\"><g class=\"x4\"><path class=\"x4grid crisp\" transform=\"translate(508.14461538461546,0)\" d=\"M0,59.99999999999993v71.53846153846156\" style=\"stroke: rgb(238, 238, 238); stroke-opacity: 1; stroke-width: 1px;\"/><path class=\"x4grid crisp\" transform=\"translate(607.2346153846155,0)\" d=\"M0,59.99999999999993v71.53846153846156\" style=\"stroke: rgb(238, 238, 238); stroke-opacity: 1; stroke-width: 1px;\"/></g><g class=\"y\"><path class=\"ygrid crisp\" transform=\"translate(0,124.20999999999992)\" d=\"M495.3846153846155,0h124.61538461538466\" style=\"stroke: rgb(238, 238, 238); stroke-opacity: 1; stroke-width: 1px;\"/><path class=\"ygrid crisp\" transform=\"translate(0,95.76999999999992)\" d=\"M495.3846153846155,0h124.61538461538466\" style=\"stroke: rgb(238, 238, 238); stroke-opacity: 1; stroke-width: 1px;\"/><path class=\"ygrid crisp\" transform=\"translate(0,67.32999999999993)\" d=\"M495.3846153846155,0h124.61538461538466\" style=\"stroke: rgb(238, 238, 238); stroke-opacity: 1; stroke-width: 1px;\"/></g></g><g class=\"zerolinelayer\"/><path class=\"xlines-below\"/><path class=\"ylines-below\"/><g class=\"overlines-below\"/><g class=\"xaxislayer-below\"/><g class=\"yaxislayer-below\"/><g class=\"overaxes-below\"/><g class=\"plot\" transform=\"translate(495.3846153846155,59.99999999999993)\" clip-path=\"url('#clip71f8f6x4yplot')\"/><g class=\"overplot\"/><path class=\"xlines-above crisp\" d=\"M0,0\" style=\"fill: none;\"/><path class=\"ylines-above crisp\" d=\"M0,0\" style=\"fill: none;\"/><g class=\"overlines-above\"/><g class=\"xaxislayer-above\"/><g class=\"yaxislayer-above\"/><g class=\"overaxes-above\"/></g><g class=\"subplot x4y2\"><g class=\"layer-subplot\"><g class=\"shapelayer\"/><g class=\"imagelayer\"/></g><g class=\"gridlayer\"><g class=\"x4\"><path class=\"x4grid crisp\" transform=\"translate(508.14461538461546,0)\" d=\"M0,139.48717948717945v71.53846153846156\" style=\"stroke: rgb(238, 238, 238); stroke-opacity: 1; stroke-width: 1px;\"/><path class=\"x4grid crisp\" transform=\"translate(607.2346153846155,0)\" d=\"M0,139.48717948717945v71.53846153846156\" style=\"stroke: rgb(238, 238, 238); stroke-opacity: 1; stroke-width: 1px;\"/></g><g class=\"y2\"><path class=\"y2grid crisp\" transform=\"translate(0,196.27717948717944)\" d=\"M495.3846153846155,0h124.61538461538466\" style=\"stroke: rgb(238, 238, 238); stroke-opacity: 1; stroke-width: 1px;\"/><path class=\"y2grid crisp\" transform=\"translate(0,171.54717948717945)\" d=\"M495.3846153846155,0h124.61538461538466\" style=\"stroke: rgb(238, 238, 238); stroke-opacity: 1; stroke-width: 1px;\"/><path class=\"y2grid crisp\" transform=\"translate(0,146.81717948717946)\" d=\"M495.3846153846155,0h124.61538461538466\" style=\"stroke: rgb(238, 238, 238); stroke-opacity: 1; stroke-width: 1px;\"/></g></g><g class=\"zerolinelayer\"/><path class=\"xlines-below\"/><path class=\"ylines-below\"/><g class=\"overlines-below\"/><g class=\"xaxislayer-below\"/><g class=\"yaxislayer-below\"/><g class=\"overaxes-below\"/><g class=\"plot\" transform=\"translate(495.3846153846155,139.48717948717945)\" clip-path=\"url('#clip71f8f6x4y2plot')\"/><g class=\"overplot\"/><path class=\"xlines-above crisp\" d=\"M0,0\" style=\"fill: none;\"/><path class=\"ylines-above crisp\" d=\"M0,0\" style=\"fill: none;\"/><g class=\"overlines-above\"/><g class=\"xaxislayer-above\"/><g class=\"yaxislayer-above\"/><g class=\"overaxes-above\"/></g><g class=\"subplot x4y3\"><g class=\"layer-subplot\"><g class=\"shapelayer\"/><g class=\"imagelayer\"/></g><g class=\"gridlayer\"><g class=\"x4\"><path class=\"x4grid crisp\" transform=\"translate(508.14461538461546,0)\" d=\"M0,218.97435897435895v71.53846153846155\" style=\"stroke: rgb(238, 238, 238); stroke-opacity: 1; stroke-width: 1px;\"/><path class=\"x4grid crisp\" transform=\"translate(607.2346153846155,0)\" d=\"M0,218.97435897435895v71.53846153846155\" style=\"stroke: rgb(238, 238, 238); stroke-opacity: 1; stroke-width: 1px;\"/></g><g class=\"y3\"><path class=\"y3grid crisp\" transform=\"translate(0,279.93435897435893)\" d=\"M495.3846153846155,0h124.61538461538466\" style=\"stroke: rgb(238, 238, 238); stroke-opacity: 1; stroke-width: 1px;\"/><path class=\"y3grid crisp\" transform=\"translate(0,263.68435897435893)\" d=\"M495.3846153846155,0h124.61538461538466\" style=\"stroke: rgb(238, 238, 238); stroke-opacity: 1; stroke-width: 1px;\"/><path class=\"y3grid crisp\" transform=\"translate(0,247.43435897435896)\" d=\"M495.3846153846155,0h124.61538461538466\" style=\"stroke: rgb(238, 238, 238); stroke-opacity: 1; stroke-width: 1px;\"/><path class=\"y3grid crisp\" transform=\"translate(0,231.17435897435894)\" d=\"M495.3846153846155,0h124.61538461538466\" style=\"stroke: rgb(238, 238, 238); stroke-opacity: 1; stroke-width: 1px;\"/></g></g><g class=\"zerolinelayer\"/><path class=\"xlines-below\"/><path class=\"ylines-below\"/><g class=\"overlines-below\"/><g class=\"xaxislayer-below\"/><g class=\"yaxislayer-below\"/><g class=\"overaxes-below\"/><g class=\"plot\" transform=\"translate(495.3846153846155,218.97435897435895)\" clip-path=\"url('#clip71f8f6x4y3plot')\"/><g class=\"overplot\"/><path class=\"xlines-above crisp\" d=\"M0,0\" style=\"fill: none;\"/><path class=\"ylines-above crisp\" d=\"M0,0\" style=\"fill: none;\"/><g class=\"overlines-above\"/><g class=\"xaxislayer-above\"/><g class=\"yaxislayer-above\"/><g class=\"overaxes-above\"/></g><g class=\"subplot x4y4\"><g class=\"layer-subplot\"><g class=\"shapelayer\"/><g class=\"imagelayer\"/></g><g class=\"gridlayer\"><g class=\"x4\"><path class=\"x4grid crisp\" transform=\"translate(508.14461538461546,0)\" d=\"M0,298.46153846153845v71.53846153846155\" style=\"stroke: rgb(238, 238, 238); stroke-opacity: 1; stroke-width: 1px;\"/><path class=\"x4grid crisp\" transform=\"translate(607.2346153846155,0)\" d=\"M0,298.46153846153845v71.53846153846155\" style=\"stroke: rgb(238, 238, 238); stroke-opacity: 1; stroke-width: 1px;\"/></g><g class=\"y4\"><path class=\"y4grid crisp\" transform=\"translate(0,362.67153846153843)\" d=\"M495.3846153846155,0h124.61538461538466\" style=\"stroke: rgb(238, 238, 238); stroke-opacity: 1; stroke-width: 1px;\"/><path class=\"y4grid crisp\" transform=\"translate(0,305.79153846153844)\" d=\"M495.3846153846155,0h124.61538461538466\" style=\"stroke: rgb(238, 238, 238); stroke-opacity: 1; stroke-width: 1px;\"/></g></g><g class=\"zerolinelayer\"/><path class=\"xlines-below\"/><path class=\"ylines-below\"/><g class=\"overlines-below\"/><g class=\"xaxislayer-below\"/><g class=\"yaxislayer-below\"/><g class=\"overaxes-below\"/><g class=\"plot\" transform=\"translate(495.3846153846155,298.46153846153845)\" clip-path=\"url('#clip71f8f6x4y4plot')\"/><g class=\"overplot\"/><path class=\"xlines-above crisp\" d=\"M0,0\" style=\"fill: none;\"/><path class=\"ylines-above crisp\" d=\"M0,0\" style=\"fill: none;\"/><g class=\"overlines-above\"/><g class=\"xaxislayer-above\"><g class=\"x4tick\"><text text-anchor=\"middle\" x=\"0\" y=\"383\" transform=\"translate(508.14461538461546,0)\" style=\"font-family: 'Open Sans', verdana, arial, sans-serif; font-size: 12px; fill: rgb(68, 68, 68); fill-opacity: 1; white-space: pre;\">No</text></g><g class=\"x4tick\"><text text-anchor=\"middle\" x=\"0\" y=\"383\" transform=\"translate(607.2346153846155,0)\" style=\"font-family: 'Open Sans', verdana, arial, sans-serif; font-size: 12px; fill: rgb(68, 68, 68); fill-opacity: 1; white-space: pre;\">Yes</text></g></g><g class=\"yaxislayer-above\"/><g class=\"overaxes-above\"/></g></g><g class=\"polarlayer\"/><g class=\"ternarylayer\"/><g class=\"geolayer\"/><g class=\"funnelarealayer\"/><g class=\"pielayer\"/><g class=\"treemaplayer\"/><g class=\"sunburstlayer\"/><g class=\"glimages\"><image xmlns=\"http://www.w3.org/2000/svg\" xlink:href=\"data:image/png;base64,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\" preserveAspectRatio=\"none\" x=\"0\" y=\"0\" width=\"700\" height=\"450\"/><image xmlns=\"http://www.w3.org/2000/svg\" xlink:href=\"data:image/png;base64,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\" preserveAspectRatio=\"none\" x=\"0\" y=\"0\" width=\"700\" height=\"450\"/></g><defs id=\"topdefs-71f8f6\"><g class=\"clips\"/></defs><g class=\"layer-above\"><g class=\"imagelayer\"/><g class=\"shapelayer\"/></g><g class=\"infolayer\"><g class=\"g-gtitle\"><text class=\"gtitle\" x=\"350\" y=\"30\" text-anchor=\"middle\" dy=\"0em\" style=\"font-family: 'Open Sans', verdana, arial, sans-serif; font-size: 17px; fill: rgb(68, 68, 68); opacity: 1; font-weight: normal; white-space: pre;\">Bivariate analysis</text></g><g class=\"g-xtitle\"><text class=\"xtitle\" x=\"142.30769230769232\" y=\"422\" text-anchor=\"middle\" style=\"font-family: 'Open Sans', verdana, arial, sans-serif; font-size: 14px; fill: rgb(68, 68, 68); opacity: 1; font-weight: normal; white-space: pre;\">Country</text></g><g class=\"g-x2title\"><text class=\"x2title\" x=\"280.7692307692308\" y=\"422\" text-anchor=\"middle\" style=\"font-family: 'Open Sans', verdana, arial, sans-serif; font-size: 14px; fill: rgb(68, 68, 68); opacity: 1; font-weight: normal; white-space: pre;\">Age</text></g><g class=\"g-x3title\"><text class=\"x3title\" x=\"419.2307692307693\" y=\"422\" text-anchor=\"middle\" style=\"font-family: 'Open Sans', verdana, arial, sans-serif; font-size: 14px; fill: rgb(68, 68, 68); opacity: 1; font-weight: normal; white-space: pre;\">Salary</text></g><g class=\"g-x4title\"><text class=\"x4title\" x=\"557.6923076923078\" y=\"422\" text-anchor=\"middle\" style=\"font-family: 'Open Sans', verdana, arial, sans-serif; font-size: 14px; fill: rgb(68, 68, 68); opacity: 1; font-weight: normal; white-space: pre;\">Purchased</text></g><g class=\"g-ytitle\" transform=\"translate(-23.16796875,0)\"><text class=\"ytitle\" transform=\"rotate(-90,42,95.76923076923072)\" x=\"42\" y=\"95.76923076923072\" text-anchor=\"middle\" style=\"font-family: 'Open Sans', verdana, arial, sans-serif; font-size: 14px; fill: rgb(68, 68, 68); opacity: 1; font-weight: normal; white-space: pre;\">Country</text></g><g class=\"g-y2title\"><text class=\"y2title\" transform=\"rotate(-90,42,175.25641025641022)\" x=\"42\" y=\"175.25641025641022\" text-anchor=\"middle\" style=\"font-family: 'Open Sans', verdana, arial, sans-serif; font-size: 14px; fill: rgb(68, 68, 68); opacity: 1; font-weight: normal; white-space: pre;\">Age</text></g><g class=\"g-y3title\"><text class=\"y3title\" transform=\"rotate(-90,42,254.74358974358972)\" x=\"42\" y=\"254.74358974358972\" text-anchor=\"middle\" style=\"font-family: 'Open Sans', verdana, arial, sans-serif; font-size: 14px; fill: rgb(68, 68, 68); opacity: 1; font-weight: normal; white-space: pre;\">Salary</text></g><g class=\"g-y4title\"><text class=\"y4title\" transform=\"rotate(-90,42,334.2307692307692)\" x=\"42\" y=\"334.2307692307692\" text-anchor=\"middle\" style=\"font-family: 'Open Sans', verdana, arial, sans-serif; font-size: 14px; fill: rgb(68, 68, 68); opacity: 1; font-weight: normal; white-space: pre;\">Purchased</text></g></g></svg>"
      ]
     },
     "metadata": {},
     "output_type": "display_data"
    }
   ],
   "source": [
    "# Visualize pairwise dependencies\n",
    "fig = px.scatter_matrix(dataset)\n",
    "fig.update_layout(\n",
    "        title = go.layout.Title(text = \"Bivariate analysis\", x = 0.5), showlegend = False, \n",
    "            autosize=False, height=800, width = 800)\n",
    "fig.show()"
   ]
  },
  {
   "cell_type": "markdown",
   "metadata": {},
   "source": [
    "## Baseline model : simple linear regression\n",
    "Let's try a first basic model : simple linear regression with only one feature. We choose the age because we just noticed that it is strongly correlated to the salary."
   ]
  },
  {
   "cell_type": "code",
   "execution_count": 8,
   "metadata": {
    "colab": {
     "base_uri": "https://localhost:8080/",
     "height": 319
    },
    "colab_type": "code",
    "id": "Zn2MYjTjrfBJ",
    "outputId": "720c974a-fdfd-4544-c188-229008b33351"
   },
   "outputs": [
    {
     "name": "stdout",
     "output_type": "stream",
     "text": [
      "Separating labels from features...\n",
      "...Done.\n",
      "\n",
      "Y : \n",
      "0    72000\n",
      "1    48000\n",
      "2    54000\n",
      "3    61000\n",
      "4    69000\n",
      "Name: Salary, dtype: int64\n",
      "\n",
      "X :\n",
      "    Age\n",
      "0  44.0\n",
      "1  27.0\n",
      "2  30.0\n",
      "3  38.0\n",
      "4  40.0\n"
     ]
    }
   ],
   "source": [
    "# Separate target variable Y from features X\n",
    "print(\"Separating labels from features...\")\n",
    "features_list = [\"Age\"]\n",
    "target_variable = \"Salary\"\n",
    "\n",
    "X = dataset.loc[:,features_list]\n",
    "Y = dataset.loc[:,target_variable]\n",
    "\n",
    "print(\"...Done.\")\n",
    "print()\n",
    "\n",
    "print('Y : ')\n",
    "print(Y.head())\n",
    "print()\n",
    "print('X :')\n",
    "print(X.head())"
   ]
  },
  {
   "cell_type": "code",
   "execution_count": 9,
   "metadata": {
    "colab": {
     "base_uri": "https://localhost:8080/",
     "height": 67
    },
    "colab_type": "code",
    "id": "Ra8LgBS5s83i",
    "outputId": "6dd938b3-ca4b-4ddb-c55e-f020aed4eca3"
   },
   "outputs": [
    {
     "name": "stdout",
     "output_type": "stream",
     "text": [
      "Dividing into train and test sets...\n",
      "...Done.\n",
      "\n"
     ]
    }
   ],
   "source": [
    "# Divide dataset Train set & Test set \n",
    "print(\"Dividing into train and test sets...\")\n",
    "X_train, X_test, Y_train, Y_test = train_test_split(X, Y, test_size=0.2, \n",
    "                                                    random_state=0)\n",
    "print(\"...Done.\")\n",
    "print()"
   ]
  },
  {
   "cell_type": "code",
   "execution_count": 10,
   "metadata": {
    "colab": {
     "base_uri": "https://localhost:8080/",
     "height": 218
    },
    "colab_type": "code",
    "id": "Mb27McgMuCcH",
    "outputId": "afa07b8f-4849-4da6-d277-03390a4b6090"
   },
   "outputs": [
    {
     "name": "stdout",
     "output_type": "stream",
     "text": [
      "Convert pandas DataFrames to numpy arrays...\n",
      "...Done\n",
      "[[40.]\n",
      " [37.]\n",
      " [27.]\n",
      " [nan]\n",
      " [48.]]\n",
      "[[30.]\n",
      " [50.]]\n",
      "\n",
      "[69000, 67000, 48000, 52000, 79000]\n",
      "[54000, 83000]\n"
     ]
    }
   ],
   "source": [
    "# Convert pandas DataFrames to numpy arrays before using scikit-learn\n",
    "print(\"Convert pandas DataFrames to numpy arrays...\")\n",
    "X_train = X_train.values\n",
    "X_test = X_test.values\n",
    "Y_train = Y_train.tolist()\n",
    "Y_test = Y_test.tolist()\n",
    "print(\"...Done\")\n",
    "\n",
    "print(X_train[0:5,:])\n",
    "print(X_test[0:2,:])\n",
    "print()\n",
    "print(Y_train[0:5])\n",
    "print(Y_test[0:2])"
   ]
  },
  {
   "cell_type": "markdown",
   "metadata": {
    "colab_type": "text",
    "id": "AORkIJc9vE4X"
   },
   "source": [
    "## Training pipeline"
   ]
  },
  {
   "cell_type": "code",
   "execution_count": 11,
   "metadata": {
    "colab": {
     "base_uri": "https://localhost:8080/",
     "height": 252
    },
    "colab_type": "code",
    "id": "YavdzxGEuxSW",
    "outputId": "9d403ccd-3d88-4fdf-ec97-6ae7a48aa29b"
   },
   "outputs": [
    {
     "name": "stdout",
     "output_type": "stream",
     "text": [
      "Imputing missing values...\n",
      "[[40.]\n",
      " [37.]\n",
      " [27.]\n",
      " [nan]\n",
      " [48.]]\n",
      "\n",
      "...Done!\n",
      "[[40.        ]\n",
      " [37.        ]\n",
      " [27.        ]\n",
      " [38.42857143]\n",
      " [48.        ]]\n",
      "\n"
     ]
    }
   ],
   "source": [
    "# Missing values\n",
    "print(\"Imputing missing values...\")\n",
    "print(X_train[0:5,:])\n",
    "print()\n",
    "imputer = SimpleImputer(strategy=\"mean\")\n",
    "X_train = imputer.fit_transform(X_train)\n",
    "print(\"...Done!\")\n",
    "print(X_train[0:5,:]) \n",
    "print() "
   ]
  },
  {
   "cell_type": "code",
   "execution_count": 12,
   "metadata": {
    "colab": {
     "base_uri": "https://localhost:8080/",
     "height": 235
    },
    "colab_type": "code",
    "id": "BZcA74djuw8r",
    "outputId": "1ae5b96d-caa5-4f3f-8262-72b26478504f"
   },
   "outputs": [
    {
     "name": "stdout",
     "output_type": "stream",
     "text": [
      "Standardizing numerical features...\n",
      "\n",
      "[[40.        ]\n",
      " [37.        ]\n",
      " [27.        ]\n",
      " [38.42857143]\n",
      " [48.        ]]\n",
      "...Done\n",
      "[[ 0.27063731]\n",
      " [-0.24603392]\n",
      " [-1.96827133]\n",
      " [ 0.        ]\n",
      " [ 1.64842723]]\n"
     ]
    }
   ],
   "source": [
    "# Standardizing numerical features\n",
    "print(\"Standardizing numerical features...\")\n",
    "print()\n",
    "print(X_train[0:5,:])\n",
    "\n",
    "# Normalization\n",
    "scaler = StandardScaler()\n",
    "\n",
    "X_train = scaler.fit_transform(X_train)\n",
    "print(\"...Done\")\n",
    "print(X_train[0:5,:])"
   ]
  },
  {
   "cell_type": "code",
   "execution_count": 13,
   "metadata": {
    "colab": {
     "base_uri": "https://localhost:8080/",
     "height": 50
    },
    "colab_type": "code",
    "id": "fKv5JHVozdpd",
    "outputId": "27248696-e55a-4cb2-d947-29893f42f42d"
   },
   "outputs": [
    {
     "name": "stdout",
     "output_type": "stream",
     "text": [
      "Train model...\n",
      "...Done.\n"
     ]
    }
   ],
   "source": [
    "# Train model\n",
    "print(\"Train model...\")\n",
    "regressor = LinearRegression()\n",
    "regressor.fit(X_train, Y_train)\n",
    "print(\"...Done.\")"
   ]
  },
  {
   "cell_type": "code",
   "execution_count": 14,
   "metadata": {
    "colab": {
     "base_uri": "https://localhost:8080/",
     "height": 101
    },
    "colab_type": "code",
    "id": "3SnwgbTP1nDt",
    "outputId": "69792eef-997d-42a3-8a7d-e07fa99b8735"
   },
   "outputs": [
    {
     "name": "stdout",
     "output_type": "stream",
     "text": [
      "Predictions on training set...\n",
      "...Done.\n",
      "[65559.7003632  61150.27239709 46452.17917676 63250.\n",
      " 77318.17493947 62620.08171913 71438.93765133 58210.65375303]\n",
      "\n"
     ]
    }
   ],
   "source": [
    "# Predictions on training set\n",
    "print(\"Predictions on training set...\")\n",
    "Y_train_pred = regressor.predict(X_train)\n",
    "print(\"...Done.\")\n",
    "print(Y_train_pred)\n",
    "print()"
   ]
  },
  {
   "cell_type": "markdown",
   "metadata": {
    "colab_type": "text",
    "id": "ZdqmX-ka2dln"
   },
   "source": [
    "# Test pipeline"
   ]
  },
  {
   "cell_type": "code",
   "execution_count": 15,
   "metadata": {
    "colab": {
     "base_uri": "https://localhost:8080/",
     "height": 151
    },
    "colab_type": "code",
    "id": "WQRPO_AJ19_l",
    "outputId": "c391960b-94f4-4d48-b3e1-a61267696965"
   },
   "outputs": [
    {
     "name": "stdout",
     "output_type": "stream",
     "text": [
      "Imputing missing values...\n",
      "[[30.]\n",
      " [50.]]\n",
      "\n",
      "...Done!\n",
      "[[30.]\n",
      " [50.]]\n",
      "\n"
     ]
    }
   ],
   "source": [
    "# Missing values\n",
    "print(\"Imputing missing values...\")\n",
    "print(X_test[0:5,:])\n",
    "print()\n",
    "\n",
    "X_test = imputer.transform(X_test)\n",
    "print(\"...Done!\")\n",
    "print(X_test[0:5,:]) \n",
    "print() "
   ]
  },
  {
   "cell_type": "code",
   "execution_count": 16,
   "metadata": {
    "colab": {
     "base_uri": "https://localhost:8080/",
     "height": 134
    },
    "colab_type": "code",
    "id": "9grI2yAj3qsb",
    "outputId": "ce89adf7-d5cc-411b-8f10-51e8ac62621c"
   },
   "outputs": [
    {
     "name": "stdout",
     "output_type": "stream",
     "text": [
      "Standardizing numerical features...\n",
      "\n",
      "[[30.]\n",
      " [50.]]\n",
      "...Done\n",
      "[[-1.4516001 ]\n",
      " [ 1.99287472]]\n"
     ]
    }
   ],
   "source": [
    "# Standardizing numerical features\n",
    "print(\"Standardizing numerical features...\")\n",
    "print()\n",
    "print(X_test[0:5,:])\n",
    "\n",
    "X_test = scaler.transform(X_test)\n",
    "print(\"...Done\")\n",
    "print(X_test[0:5,:])"
   ]
  },
  {
   "cell_type": "code",
   "execution_count": 17,
   "metadata": {
    "colab": {
     "base_uri": "https://localhost:8080/",
     "height": 84
    },
    "colab_type": "code",
    "id": "pheNrbku33Od",
    "outputId": "a0832e59-6238-41f2-dd57-745b7a7e82e9"
   },
   "outputs": [
    {
     "name": "stdout",
     "output_type": "stream",
     "text": [
      "Predictions on test set...\n",
      "...Done.\n",
      "[50861.60714286 80257.79358354]\n",
      "\n"
     ]
    }
   ],
   "source": [
    "# Predictions on test set\n",
    "print(\"Predictions on test set...\")\n",
    "Y_test_pred = regressor.predict(X_test)\n",
    "print(\"...Done.\")\n",
    "print(Y_test_pred)\n",
    "print()"
   ]
  },
  {
   "cell_type": "code",
   "execution_count": 18,
   "metadata": {
    "colab": {
     "base_uri": "https://localhost:8080/",
     "height": 50
    },
    "colab_type": "code",
    "id": "A2R6MyJ44DDA",
    "outputId": "3a333592-6b2a-40e6-8e2d-0a1c28f1a5bf"
   },
   "outputs": [
    {
     "name": "stdout",
     "output_type": "stream",
     "text": [
      "R2 score on training set :  0.7631622918222598\n",
      "R2 score on test set :  0.9586939221016253\n"
     ]
    }
   ],
   "source": [
    "# Print R^2 scores\n",
    "print(\"R2 score on training set : \", r2_score(Y_train, Y_train_pred))\n",
    "print(\"R2 score on test set : \", r2_score(Y_test, Y_test_pred))"
   ]
  },
  {
   "cell_type": "code",
   "execution_count": 19,
   "metadata": {},
   "outputs": [
    {
     "data": {
      "image/svg+xml": [
       "<svg class=\"main-svg\" xmlns=\"http://www.w3.org/2000/svg\" xmlns:xlink=\"http://www.w3.org/1999/xlink\" width=\"700\" height=\"450\" style=\"\" viewBox=\"0 0 700 450\"><rect x=\"0\" y=\"0\" width=\"700\" height=\"450\" style=\"fill: rgb(255, 255, 255); fill-opacity: 1;\"/><defs id=\"defs-02a0f9\"><g class=\"clips\"><clipPath id=\"clip02a0f9xyplot\" class=\"plotclip\"><rect width=\"453\" height=\"270\"/></clipPath><clipPath class=\"axesclip\" id=\"clip02a0f9x\"><rect x=\"80\" y=\"0\" width=\"453\" height=\"450\"/></clipPath><clipPath class=\"axesclip\" id=\"clip02a0f9y\"><rect x=\"0\" y=\"100\" width=\"700\" height=\"270\"/></clipPath><clipPath class=\"axesclip\" id=\"clip02a0f9xy\"><rect x=\"80\" y=\"100\" width=\"453\" height=\"270\"/></clipPath></g><g class=\"gradients\"/></defs><g class=\"bglayer\"/><g class=\"layer-below\"><g class=\"imagelayer\"/><g class=\"shapelayer\"/></g><g class=\"cartesianlayer\"><g class=\"subplot xy\"><g class=\"layer-subplot\"><g class=\"shapelayer\"/><g class=\"imagelayer\"/></g><g class=\"gridlayer\"><g class=\"x\"><path class=\"xgrid crisp\" transform=\"translate(102.89,0)\" d=\"M0,100v270\" style=\"stroke: rgb(238, 238, 238); stroke-opacity: 1; stroke-width: 1px;\"/><path class=\"xgrid crisp\" transform=\"translate(213.54,0)\" d=\"M0,100v270\" style=\"stroke: rgb(238, 238, 238); stroke-opacity: 1; stroke-width: 1px;\"/><path class=\"xgrid crisp\" transform=\"translate(434.85,0)\" d=\"M0,100v270\" style=\"stroke: rgb(238, 238, 238); stroke-opacity: 1; stroke-width: 1px;\"/></g><g class=\"y\"><path class=\"ygrid crisp\" transform=\"translate(0,363.26)\" d=\"M80,0h453\" style=\"stroke: rgb(238, 238, 238); stroke-opacity: 1; stroke-width: 1px;\"/><path class=\"ygrid crisp\" transform=\"translate(0,327.08000000000004)\" d=\"M80,0h453\" style=\"stroke: rgb(238, 238, 238); stroke-opacity: 1; stroke-width: 1px;\"/><path class=\"ygrid crisp\" transform=\"translate(0,290.9)\" d=\"M80,0h453\" style=\"stroke: rgb(238, 238, 238); stroke-opacity: 1; stroke-width: 1px;\"/><path class=\"ygrid crisp\" transform=\"translate(0,254.72)\" d=\"M80,0h453\" style=\"stroke: rgb(238, 238, 238); stroke-opacity: 1; stroke-width: 1px;\"/><path class=\"ygrid crisp\" transform=\"translate(0,218.55)\" d=\"M80,0h453\" style=\"stroke: rgb(238, 238, 238); stroke-opacity: 1; stroke-width: 1px;\"/><path class=\"ygrid crisp\" transform=\"translate(0,182.37)\" d=\"M80,0h453\" style=\"stroke: rgb(238, 238, 238); stroke-opacity: 1; stroke-width: 1px;\"/><path class=\"ygrid crisp\" transform=\"translate(0,146.19)\" d=\"M80,0h453\" style=\"stroke: rgb(238, 238, 238); stroke-opacity: 1; stroke-width: 1px;\"/><path class=\"ygrid crisp\" transform=\"translate(0,110.01)\" d=\"M80,0h453\" style=\"stroke: rgb(238, 238, 238); stroke-opacity: 1; stroke-width: 1px;\"/></g></g><g class=\"zerolinelayer\"><path class=\"xzl zl crisp\" transform=\"translate(324.2,0)\" d=\"M0,100v270\" style=\"stroke: rgb(68, 68, 68); stroke-opacity: 1; stroke-width: 1px;\"/></g><path class=\"xlines-below\"/><path class=\"ylines-below\"/><g class=\"overlines-below\"/><g class=\"xaxislayer-below\"/><g class=\"yaxislayer-below\"/><g class=\"overaxes-below\"/><g class=\"plot\" transform=\"translate(80,100)\" clip-path=\"url('#clip02a0f9xyplot')\"><g class=\"scatterlayer mlayer\"><g class=\"trace scatter tracec64d11\" style=\"stroke-miterlimit: 2; opacity: 1;\"><g class=\"fills\"/><g class=\"errorbars\"/><g class=\"lines\"/><g class=\"points\"><path class=\"point\" transform=\"translate(274.14,89.61)\" d=\"M3,0A3,3 0 1,1 0,-3A3,3 0 0,1 3,0Z\" style=\"opacity: 1; stroke-width: 0px; fill: rgb(75, 154, 199); fill-opacity: 1;\"/><path class=\"point\" transform=\"translate(216.97,104.08)\" d=\"M3,0A3,3 0 1,1 0,-3A3,3 0 0,1 3,0Z\" style=\"opacity: 1; stroke-width: 0px; fill: rgb(75, 154, 199); fill-opacity: 1;\"/><path class=\"point\" transform=\"translate(26.4,241.55)\" d=\"M3,0A3,3 0 1,1 0,-3A3,3 0 0,1 3,0Z\" style=\"opacity: 1; stroke-width: 0px; fill: rgb(75, 154, 199); fill-opacity: 1;\"/><path class=\"point\" transform=\"translate(244.2,212.61)\" d=\"M3,0A3,3 0 1,1 0,-3A3,3 0 0,1 3,0Z\" style=\"opacity: 1; stroke-width: 0px; fill: rgb(75, 154, 199); fill-opacity: 1;\"/><path class=\"point\" transform=\"translate(426.6,17.25)\" d=\"M3,0A3,3 0 1,1 0,-3A3,3 0 0,1 3,0Z\" style=\"opacity: 1; stroke-width: 0px; fill: rgb(75, 154, 199); fill-opacity: 1;\"/><path class=\"point\" transform=\"translate(236.03,147.49)\" d=\"M3,0A3,3 0 1,1 0,-3A3,3 0 0,1 3,0Z\" style=\"opacity: 1; stroke-width: 0px; fill: rgb(75, 154, 199); fill-opacity: 1;\"/><path class=\"point\" transform=\"translate(350.37,67.9)\" d=\"M3,0A3,3 0 1,1 0,-3A3,3 0 0,1 3,0Z\" style=\"opacity: 1; stroke-width: 0px; fill: rgb(75, 154, 199); fill-opacity: 1;\"/><path class=\"point\" transform=\"translate(178.86,169.2)\" d=\"M3,0A3,3 0 1,1 0,-3A3,3 0 0,1 3,0Z\" style=\"opacity: 1; stroke-width: 0px; fill: rgb(75, 154, 199); fill-opacity: 1;\"/></g><g class=\"text\"/></g><g class=\"trace scatter trace4025c1\" style=\"stroke-miterlimit: 2; opacity: 1;\"><g class=\"fills\"/><g class=\"errorbars\"/><g class=\"lines\"><path class=\"js-line\" d=\"M274.14,114.5L26.4,252.75L426.6,29.42L178.86,167.67\" style=\"vector-effect: non-scaling-stroke; fill: none; stroke: rgb(75, 232, 224); stroke-opacity: 1; stroke-width: 2px; opacity: 1;\"/></g><g class=\"points\"><path class=\"point\" transform=\"translate(274.14,114.5)\" d=\"M3,0A3,3 0 1,1 0,-3A3,3 0 0,1 3,0Z\" style=\"opacity: 1; stroke-width: 0px; fill: rgb(75, 232, 224); fill-opacity: 1;\"/><path class=\"point\" transform=\"translate(216.97,146.4)\" d=\"M3,0A3,3 0 1,1 0,-3A3,3 0 0,1 3,0Z\" style=\"opacity: 1; stroke-width: 0px; fill: rgb(75, 232, 224); fill-opacity: 1;\"/><path class=\"point\" transform=\"translate(26.4,252.75)\" d=\"M3,0A3,3 0 1,1 0,-3A3,3 0 0,1 3,0Z\" style=\"opacity: 1; stroke-width: 0px; fill: rgb(75, 232, 224); fill-opacity: 1;\"/><path class=\"point\" transform=\"translate(244.2,131.21)\" d=\"M3,0A3,3 0 1,1 0,-3A3,3 0 0,1 3,0Z\" style=\"opacity: 1; stroke-width: 0px; fill: rgb(75, 232, 224); fill-opacity: 1;\"/><path class=\"point\" transform=\"translate(426.6,29.42)\" d=\"M3,0A3,3 0 1,1 0,-3A3,3 0 0,1 3,0Z\" style=\"opacity: 1; stroke-width: 0px; fill: rgb(75, 232, 224); fill-opacity: 1;\"/><path class=\"point\" transform=\"translate(236.03,135.77)\" d=\"M3,0A3,3 0 1,1 0,-3A3,3 0 0,1 3,0Z\" style=\"opacity: 1; stroke-width: 0px; fill: rgb(75, 232, 224); fill-opacity: 1;\"/><path class=\"point\" transform=\"translate(350.37,71.96)\" d=\"M3,0A3,3 0 1,1 0,-3A3,3 0 0,1 3,0Z\" style=\"opacity: 1; stroke-width: 0px; fill: rgb(75, 232, 224); fill-opacity: 1;\"/><path class=\"point\" transform=\"translate(178.86,167.67)\" d=\"M3,0A3,3 0 1,1 0,-3A3,3 0 0,1 3,0Z\" style=\"opacity: 1; stroke-width: 0px; fill: rgb(75, 232, 224); fill-opacity: 1;\"/></g><g class=\"text\"/></g></g></g><g class=\"overplot\"/><path class=\"xlines-above crisp\" style=\"fill: none;\" d=\"M0,0\"/><path class=\"ylines-above crisp\" style=\"fill: none;\" d=\"M0,0\"/><g class=\"overlines-above\"/><g class=\"xaxislayer-above\"><g class=\"xtick\"><text text-anchor=\"middle\" x=\"0\" y=\"383\" transform=\"translate(102.89,0)\" style=\"font-family: 'Open Sans', verdana, arial, sans-serif; font-size: 12px; fill: rgb(68, 68, 68); fill-opacity: 1; white-space: pre;\">−2</text></g><g class=\"xtick\"><text text-anchor=\"middle\" x=\"0\" y=\"383\" transform=\"translate(213.54,0)\" style=\"font-family: 'Open Sans', verdana, arial, sans-serif; font-size: 12px; fill: rgb(68, 68, 68); fill-opacity: 1; white-space: pre;\">−1</text></g><g class=\"xtick\"><text text-anchor=\"middle\" x=\"0\" y=\"383\" transform=\"translate(324.2,0)\" style=\"font-family: 'Open Sans', verdana, arial, sans-serif; font-size: 12px; fill: rgb(68, 68, 68); fill-opacity: 1; white-space: pre;\">0</text></g><g class=\"xtick\"><text text-anchor=\"middle\" x=\"0\" y=\"383\" transform=\"translate(434.85,0)\" style=\"font-family: 'Open Sans', verdana, arial, sans-serif; font-size: 12px; fill: rgb(68, 68, 68); fill-opacity: 1; white-space: pre;\">1</text></g></g><g class=\"yaxislayer-above\"><g class=\"ytick\"><text text-anchor=\"end\" x=\"79\" y=\"4.199999999999999\" transform=\"translate(0,363.26)\" style=\"font-family: 'Open Sans', verdana, arial, sans-serif; font-size: 12px; fill: rgb(68, 68, 68); fill-opacity: 1; white-space: pre;\">45k</text></g><g class=\"ytick\"><text text-anchor=\"end\" x=\"79\" y=\"4.199999999999999\" transform=\"translate(0,327.08000000000004)\" style=\"font-family: 'Open Sans', verdana, arial, sans-serif; font-size: 12px; fill: rgb(68, 68, 68); fill-opacity: 1; white-space: pre;\">50k</text></g><g class=\"ytick\"><text text-anchor=\"end\" x=\"79\" y=\"4.199999999999999\" transform=\"translate(0,290.9)\" style=\"font-family: 'Open Sans', verdana, arial, sans-serif; font-size: 12px; fill: rgb(68, 68, 68); fill-opacity: 1; white-space: pre;\">55k</text></g><g class=\"ytick\"><text text-anchor=\"end\" x=\"79\" y=\"4.199999999999999\" transform=\"translate(0,254.72)\" style=\"font-family: 'Open Sans', verdana, arial, sans-serif; font-size: 12px; fill: rgb(68, 68, 68); fill-opacity: 1; white-space: pre;\">60k</text></g><g class=\"ytick\"><text text-anchor=\"end\" x=\"79\" y=\"4.199999999999999\" transform=\"translate(0,218.55)\" style=\"font-family: 'Open Sans', verdana, arial, sans-serif; font-size: 12px; fill: rgb(68, 68, 68); fill-opacity: 1; white-space: pre;\">65k</text></g><g class=\"ytick\"><text text-anchor=\"end\" x=\"79\" y=\"4.199999999999999\" transform=\"translate(0,182.37)\" style=\"font-family: 'Open Sans', verdana, arial, sans-serif; font-size: 12px; fill: rgb(68, 68, 68); fill-opacity: 1; white-space: pre;\">70k</text></g><g class=\"ytick\"><text text-anchor=\"end\" x=\"79\" y=\"4.199999999999999\" transform=\"translate(0,146.19)\" style=\"font-family: 'Open Sans', verdana, arial, sans-serif; font-size: 12px; fill: rgb(68, 68, 68); fill-opacity: 1; white-space: pre;\">75k</text></g><g class=\"ytick\"><text text-anchor=\"end\" x=\"79\" y=\"4.199999999999999\" transform=\"translate(0,110.01)\" style=\"font-family: 'Open Sans', verdana, arial, sans-serif; font-size: 12px; fill: rgb(68, 68, 68); fill-opacity: 1; white-space: pre;\">80k</text></g></g><g class=\"overaxes-above\"/></g></g><g class=\"polarlayer\"/><g class=\"ternarylayer\"/><g class=\"geolayer\"/><g class=\"funnelarealayer\"/><g class=\"pielayer\"/><g class=\"treemaplayer\"/><g class=\"sunburstlayer\"/><g class=\"glimages\"/><defs id=\"topdefs-02a0f9\"><g class=\"clips\"/><clipPath id=\"legend02a0f9\"><rect width=\"146\" height=\"29\" x=\"0\" y=\"0\"/></clipPath></defs><g class=\"layer-above\"><g class=\"imagelayer\"/><g class=\"shapelayer\"/></g><g class=\"infolayer\"><g class=\"legend\" pointer-events=\"all\" transform=\"translate(542.06,100)\"><rect class=\"bg\" shape-rendering=\"crispEdges\" style=\"stroke: rgb(68, 68, 68); stroke-opacity: 1; fill: rgb(255, 255, 255); fill-opacity: 1; stroke-width: 0px;\" width=\"146\" height=\"29\" x=\"0\" y=\"0\"/><g class=\"scrollbox\" transform=\"\" clip-path=\"url('#legend02a0f9')\"><g class=\"groups\"><g class=\"traces\" style=\"opacity: 1;\" transform=\"translate(0,14.5)\"><text class=\"legendtext\" text-anchor=\"start\" x=\"40\" y=\"4.680000000000001\" style=\"font-family: 'Open Sans', verdana, arial, sans-serif; font-size: 12px; fill: rgb(68, 68, 68); fill-opacity: 1; white-space: pre;\">linear regression</text><g class=\"layers\" style=\"opacity: 1;\"><g class=\"legendfill\"/><g class=\"legendlines\"><path class=\"js-line\" d=\"M5,0h30\" style=\"fill: none; stroke: rgb(75, 232, 224); stroke-opacity: 1; stroke-width: 2px;\"/></g><g class=\"legendsymbols\"><g class=\"legendpoints\"><path class=\"scatterpts\" transform=\"translate(20,0)\" d=\"M3,0A3,3 0 1,1 0,-3A3,3 0 0,1 3,0Z\" style=\"opacity: 1; stroke-width: 0px; fill: rgb(75, 232, 224); fill-opacity: 1;\"/></g></g></g><rect class=\"legendtoggle\" x=\"0\" y=\"-9.5\" width=\"140.578125\" height=\"19\" style=\"fill: rgb(0, 0, 0); fill-opacity: 0;\"/></g></g></g><rect class=\"scrollbar\" rx=\"20\" ry=\"3\" width=\"0\" height=\"0\" style=\"fill: rgb(128, 139, 164); fill-opacity: 1;\" x=\"0\" y=\"0\"/></g><g class=\"g-gtitle\"><text class=\"gtitle\" x=\"350\" y=\"50\" text-anchor=\"middle\" dy=\"0em\" style=\"font-family: 'Open Sans', verdana, arial, sans-serif; font-size: 17px; fill: rgb(68, 68, 68); opacity: 1; font-weight: normal; white-space: pre;\">training set</text></g><g class=\"g-xtitle\"><text class=\"xtitle\" x=\"306.5\" y=\"422\" text-anchor=\"middle\" style=\"font-family: 'Open Sans', verdana, arial, sans-serif; font-size: 14px; fill: rgb(68, 68, 68); opacity: 1; font-weight: normal; white-space: pre;\">x</text></g><g class=\"g-ytitle\"><text class=\"ytitle\" transform=\"rotate(-90,42,235)\" x=\"42\" y=\"235\" text-anchor=\"middle\" style=\"font-family: 'Open Sans', verdana, arial, sans-serif; font-size: 14px; fill: rgb(68, 68, 68); opacity: 1; font-weight: normal; white-space: pre;\">y</text></g></g></svg>"
      ]
     },
     "metadata": {},
     "output_type": "display_data"
    },
    {
     "data": {
      "image/svg+xml": [
       "<svg class=\"main-svg\" xmlns=\"http://www.w3.org/2000/svg\" xmlns:xlink=\"http://www.w3.org/1999/xlink\" width=\"700\" height=\"450\" style=\"\" viewBox=\"0 0 700 450\"><rect x=\"0\" y=\"0\" width=\"700\" height=\"450\" style=\"fill: rgb(255, 255, 255); fill-opacity: 1;\"/><defs id=\"defs-00c969\"><g class=\"clips\"><clipPath id=\"clip00c969xyplot\" class=\"plotclip\"><rect width=\"453\" height=\"270\"/></clipPath><clipPath class=\"axesclip\" id=\"clip00c969x\"><rect x=\"80\" y=\"0\" width=\"453\" height=\"450\"/></clipPath><clipPath class=\"axesclip\" id=\"clip00c969y\"><rect x=\"0\" y=\"100\" width=\"700\" height=\"270\"/></clipPath><clipPath class=\"axesclip\" id=\"clip00c969xy\"><rect x=\"80\" y=\"100\" width=\"453\" height=\"270\"/></clipPath></g><g class=\"gradients\"/></defs><g class=\"bglayer\"/><g class=\"layer-below\"><g class=\"imagelayer\"/><g class=\"shapelayer\"/></g><g class=\"cartesianlayer\"><g class=\"subplot xy\"><g class=\"layer-subplot\"><g class=\"shapelayer\"/><g class=\"imagelayer\"/></g><g class=\"gridlayer\"><g class=\"x\"><path class=\"xgrid crisp\" transform=\"translate(158.87,0)\" d=\"M0,100v270\" style=\"stroke: rgb(238, 238, 238); stroke-opacity: 1; stroke-width: 1px;\"/><path class=\"xgrid crisp\" transform=\"translate(391.24,0)\" d=\"M0,100v270\" style=\"stroke: rgb(238, 238, 238); stroke-opacity: 1; stroke-width: 1px;\"/><path class=\"xgrid crisp\" transform=\"translate(507.43,0)\" d=\"M0,100v270\" style=\"stroke: rgb(238, 238, 238); stroke-opacity: 1; stroke-width: 1px;\"/></g><g class=\"y\"><path class=\"ygrid crisp\" transform=\"translate(0,359.06)\" d=\"M80,0h453\" style=\"stroke: rgb(238, 238, 238); stroke-opacity: 1; stroke-width: 1px;\"/><path class=\"ygrid crisp\" transform=\"translate(0,322.43)\" d=\"M80,0h453\" style=\"stroke: rgb(238, 238, 238); stroke-opacity: 1; stroke-width: 1px;\"/><path class=\"ygrid crisp\" transform=\"translate(0,285.78999999999996)\" d=\"M80,0h453\" style=\"stroke: rgb(238, 238, 238); stroke-opacity: 1; stroke-width: 1px;\"/><path class=\"ygrid crisp\" transform=\"translate(0,249.15)\" d=\"M80,0h453\" style=\"stroke: rgb(238, 238, 238); stroke-opacity: 1; stroke-width: 1px;\"/><path class=\"ygrid crisp\" transform=\"translate(0,212.51)\" d=\"M80,0h453\" style=\"stroke: rgb(238, 238, 238); stroke-opacity: 1; stroke-width: 1px;\"/><path class=\"ygrid crisp\" transform=\"translate(0,175.87)\" d=\"M80,0h453\" style=\"stroke: rgb(238, 238, 238); stroke-opacity: 1; stroke-width: 1px;\"/><path class=\"ygrid crisp\" transform=\"translate(0,139.23)\" d=\"M80,0h453\" style=\"stroke: rgb(238, 238, 238); stroke-opacity: 1; stroke-width: 1px;\"/><path class=\"ygrid crisp\" transform=\"translate(0,102.59)\" d=\"M80,0h453\" style=\"stroke: rgb(238, 238, 238); stroke-opacity: 1; stroke-width: 1px;\"/></g></g><g class=\"zerolinelayer\"><path class=\"xzl zl crisp\" transform=\"translate(275.06,0)\" d=\"M0,100v270\" style=\"stroke: rgb(68, 68, 68); stroke-opacity: 1; stroke-width: 1px;\"/></g><path class=\"xlines-below\"/><path class=\"ylines-below\"/><g class=\"overlines-below\"/><g class=\"xaxislayer-below\"/><g class=\"yaxislayer-below\"/><g class=\"overaxes-below\"/><g class=\"plot\" transform=\"translate(80,100)\" clip-path=\"url('#clip00c969xyplot')\"><g class=\"scatterlayer mlayer\"><g class=\"trace scatter trace81b104\" style=\"stroke-miterlimit: 2; opacity: 1;\"><g class=\"fills\"/><g class=\"errorbars\"/><g class=\"lines\"/><g class=\"points\"><path class=\"point\" transform=\"translate(26.4,229.75)\" d=\"M3,0A3,3 0 1,1 0,-3A3,3 0 0,1 3,0Z\" style=\"opacity: 1; stroke-width: 0px; fill: rgb(75, 154, 199); fill-opacity: 1;\"/><path class=\"point\" transform=\"translate(426.6,17.25)\" d=\"M3,0A3,3 0 1,1 0,-3A3,3 0 0,1 3,0Z\" style=\"opacity: 1; stroke-width: 0px; fill: rgb(75, 154, 199); fill-opacity: 1;\"/></g><g class=\"text\"/></g><g class=\"trace scatter trace100b37\" style=\"stroke-miterlimit: 2; opacity: 1;\"><g class=\"fills\"/><g class=\"errorbars\"/><g class=\"lines\"><path class=\"js-line\" d=\"M26.4,252.75L426.6,37.34\" style=\"vector-effect: non-scaling-stroke; fill: none; stroke: rgb(75, 232, 224); stroke-opacity: 1; stroke-width: 2px; opacity: 1;\"/></g><g class=\"points\"><path class=\"point\" transform=\"translate(26.4,252.75)\" d=\"M3,0A3,3 0 1,1 0,-3A3,3 0 0,1 3,0Z\" style=\"opacity: 1; stroke-width: 0px; fill: rgb(75, 232, 224); fill-opacity: 1;\"/><path class=\"point\" transform=\"translate(426.6,37.34)\" d=\"M3,0A3,3 0 1,1 0,-3A3,3 0 0,1 3,0Z\" style=\"opacity: 1; stroke-width: 0px; fill: rgb(75, 232, 224); fill-opacity: 1;\"/></g><g class=\"text\"/></g></g></g><g class=\"overplot\"/><path class=\"xlines-above crisp\" d=\"M0,0\" style=\"fill: none;\"/><path class=\"ylines-above crisp\" d=\"M0,0\" style=\"fill: none;\"/><g class=\"overlines-above\"/><g class=\"xaxislayer-above\"><g class=\"xtick\"><text text-anchor=\"middle\" x=\"0\" y=\"383\" transform=\"translate(158.87,0)\" style=\"font-family: 'Open Sans', verdana, arial, sans-serif; font-size: 12px; fill: rgb(68, 68, 68); fill-opacity: 1; white-space: pre;\">−1</text></g><g class=\"xtick\"><text text-anchor=\"middle\" x=\"0\" y=\"383\" transform=\"translate(275.06,0)\" style=\"font-family: 'Open Sans', verdana, arial, sans-serif; font-size: 12px; fill: rgb(68, 68, 68); fill-opacity: 1; white-space: pre;\">0</text></g><g class=\"xtick\"><text text-anchor=\"middle\" x=\"0\" y=\"383\" transform=\"translate(391.24,0)\" style=\"font-family: 'Open Sans', verdana, arial, sans-serif; font-size: 12px; fill: rgb(68, 68, 68); fill-opacity: 1; white-space: pre;\">1</text></g><g class=\"xtick\"><text text-anchor=\"middle\" x=\"0\" y=\"383\" transform=\"translate(507.43,0)\" style=\"font-family: 'Open Sans', verdana, arial, sans-serif; font-size: 12px; fill: rgb(68, 68, 68); fill-opacity: 1; white-space: pre;\">2</text></g></g><g class=\"yaxislayer-above\"><g class=\"ytick\"><text text-anchor=\"end\" x=\"79\" y=\"4.199999999999999\" transform=\"translate(0,359.06)\" style=\"font-family: 'Open Sans', verdana, arial, sans-serif; font-size: 12px; fill: rgb(68, 68, 68); fill-opacity: 1; white-space: pre;\">50k</text></g><g class=\"ytick\"><text text-anchor=\"end\" x=\"79\" y=\"4.199999999999999\" transform=\"translate(0,322.43)\" style=\"font-family: 'Open Sans', verdana, arial, sans-serif; font-size: 12px; fill: rgb(68, 68, 68); fill-opacity: 1; white-space: pre;\">55k</text></g><g class=\"ytick\"><text text-anchor=\"end\" x=\"79\" y=\"4.199999999999999\" transform=\"translate(0,285.78999999999996)\" style=\"font-family: 'Open Sans', verdana, arial, sans-serif; font-size: 12px; fill: rgb(68, 68, 68); fill-opacity: 1; white-space: pre;\">60k</text></g><g class=\"ytick\"><text text-anchor=\"end\" x=\"79\" y=\"4.199999999999999\" transform=\"translate(0,249.15)\" style=\"font-family: 'Open Sans', verdana, arial, sans-serif; font-size: 12px; fill: rgb(68, 68, 68); fill-opacity: 1; white-space: pre;\">65k</text></g><g class=\"ytick\"><text text-anchor=\"end\" x=\"79\" y=\"4.199999999999999\" transform=\"translate(0,212.51)\" style=\"font-family: 'Open Sans', verdana, arial, sans-serif; font-size: 12px; fill: rgb(68, 68, 68); fill-opacity: 1; white-space: pre;\">70k</text></g><g class=\"ytick\"><text text-anchor=\"end\" x=\"79\" y=\"4.199999999999999\" transform=\"translate(0,175.87)\" style=\"font-family: 'Open Sans', verdana, arial, sans-serif; font-size: 12px; fill: rgb(68, 68, 68); fill-opacity: 1; white-space: pre;\">75k</text></g><g class=\"ytick\"><text text-anchor=\"end\" x=\"79\" y=\"4.199999999999999\" transform=\"translate(0,139.23)\" style=\"font-family: 'Open Sans', verdana, arial, sans-serif; font-size: 12px; fill: rgb(68, 68, 68); fill-opacity: 1; white-space: pre;\">80k</text></g><g class=\"ytick\"><text text-anchor=\"end\" x=\"79\" y=\"4.199999999999999\" transform=\"translate(0,102.59)\" style=\"font-family: 'Open Sans', verdana, arial, sans-serif; font-size: 12px; fill: rgb(68, 68, 68); fill-opacity: 1; white-space: pre;\">85k</text></g></g><g class=\"overaxes-above\"/></g></g><g class=\"polarlayer\"/><g class=\"ternarylayer\"/><g class=\"geolayer\"/><g class=\"funnelarealayer\"/><g class=\"pielayer\"/><g class=\"treemaplayer\"/><g class=\"sunburstlayer\"/><g class=\"glimages\"/><defs id=\"topdefs-00c969\"><g class=\"clips\"/><clipPath id=\"legend00c969\"><rect width=\"146\" height=\"29\" x=\"0\" y=\"0\"/></clipPath></defs><g class=\"layer-above\"><g class=\"imagelayer\"/><g class=\"shapelayer\"/></g><g class=\"infolayer\"><g class=\"legend\" pointer-events=\"all\" transform=\"translate(542.06,100)\"><rect class=\"bg\" shape-rendering=\"crispEdges\" width=\"146\" height=\"29\" x=\"0\" y=\"0\" style=\"stroke: rgb(68, 68, 68); stroke-opacity: 1; fill: rgb(255, 255, 255); fill-opacity: 1; stroke-width: 0px;\"/><g class=\"scrollbox\" transform=\"\" clip-path=\"url('#legend00c969')\"><g class=\"groups\"><g class=\"traces\" transform=\"translate(0,14.5)\" style=\"opacity: 1;\"><text class=\"legendtext\" text-anchor=\"start\" x=\"40\" y=\"4.680000000000001\" style=\"font-family: 'Open Sans', verdana, arial, sans-serif; font-size: 12px; fill: rgb(68, 68, 68); fill-opacity: 1; white-space: pre;\">linear regression</text><g class=\"layers\" style=\"opacity: 1;\"><g class=\"legendfill\"/><g class=\"legendlines\"><path class=\"js-line\" d=\"M5,0h30\" style=\"fill: none; stroke: rgb(75, 232, 224); stroke-opacity: 1; stroke-width: 2px;\"/></g><g class=\"legendsymbols\"><g class=\"legendpoints\"><path class=\"scatterpts\" transform=\"translate(20,0)\" d=\"M3,0A3,3 0 1,1 0,-3A3,3 0 0,1 3,0Z\" style=\"opacity: 1; stroke-width: 0px; fill: rgb(75, 232, 224); fill-opacity: 1;\"/></g></g></g><rect class=\"legendtoggle\" x=\"0\" y=\"-9.5\" width=\"140.578125\" height=\"19\" style=\"fill: rgb(0, 0, 0); fill-opacity: 0;\"/></g></g></g><rect class=\"scrollbar\" rx=\"20\" ry=\"3\" width=\"0\" height=\"0\" x=\"0\" y=\"0\" style=\"fill: rgb(128, 139, 164); fill-opacity: 1;\"/></g><g class=\"g-gtitle\"><text class=\"gtitle\" x=\"350\" y=\"50\" text-anchor=\"middle\" dy=\"0em\" style=\"font-family: 'Open Sans', verdana, arial, sans-serif; font-size: 17px; fill: rgb(68, 68, 68); opacity: 1; font-weight: normal; white-space: pre;\">test set</text></g><g class=\"g-xtitle\"><text class=\"xtitle\" x=\"306.5\" y=\"422\" text-anchor=\"middle\" style=\"font-family: 'Open Sans', verdana, arial, sans-serif; font-size: 14px; fill: rgb(68, 68, 68); opacity: 1; font-weight: normal; white-space: pre;\">x</text></g><g class=\"g-ytitle\"><text class=\"ytitle\" transform=\"rotate(-90,42,235)\" x=\"42\" y=\"235\" text-anchor=\"middle\" style=\"font-family: 'Open Sans', verdana, arial, sans-serif; font-size: 14px; fill: rgb(68, 68, 68); opacity: 1; font-weight: normal; white-space: pre;\">y</text></g></g></svg>"
      ]
     },
     "metadata": {},
     "output_type": "display_data"
    }
   ],
   "source": [
    "# Visualize the model\n",
    "# Visualize predictions on training Set\n",
    "fig = px.scatter(x = X_train.flatten().tolist(), y = Y_train, title = \"training set\")\n",
    "fig.add_trace(go.Scatter(x = X_train.flatten().tolist(), y = Y_train_pred, name = \"linear regression\"))\n",
    "fig.show()\n",
    "\n",
    "# Visualize predictions on test Set\n",
    "fig = px.scatter(x = X_test.flatten().tolist(), y = Y_test, title = \"test set\")\n",
    "fig.add_trace(go.Scatter(x = X_test.flatten().tolist(), y = Y_test_pred, name = \"linear regression\"))\n",
    "fig.show()"
   ]
  },
  {
   "cell_type": "markdown",
   "metadata": {},
   "source": [
    "In the above example all assumptions needed to train a simple linear regression model are verified.\n",
    "\n",
    "* There seems to be a linear relation between $Y$ and the feature $X$\n",
    "* The deviation between the prediction and the actual values of $Y$, i.e. the residuals, seem to be comparable accross the values of $Y$ (this is Homoscedaticity).\n",
    "* There does not seem to be any autocorrelation going on with the residuals, they seem to be randomly distributed accross all values of $Y$\n",
    "\n",
    "In addition to that, our model seems to be a good predictor based on our training samples."
   ]
  },
  {
   "cell_type": "markdown",
   "metadata": {},
   "source": [
    "## Multivariate linear regression\n",
    "Let's train a multivariate model by adding the categorical features : Country and Purchased."
   ]
  },
  {
   "cell_type": "code",
   "execution_count": 20,
   "metadata": {
    "colab": {
     "base_uri": "https://localhost:8080/",
     "height": 319
    },
    "colab_type": "code",
    "id": "Zn2MYjTjrfBJ",
    "outputId": "720c974a-fdfd-4544-c188-229008b33351"
   },
   "outputs": [
    {
     "name": "stdout",
     "output_type": "stream",
     "text": [
      "Separating labels from features...\n",
      "...Done.\n",
      "\n",
      "Y : \n",
      "0    72000\n",
      "1    48000\n",
      "2    54000\n",
      "3    61000\n",
      "4    69000\n",
      "Name: Salary, dtype: int64\n",
      "\n",
      "X :\n",
      "   Country   Age Purchased\n",
      "0   France  44.0        No\n",
      "1    Spain  27.0       Yes\n",
      "2  Germany  30.0        No\n",
      "3    Spain  38.0        No\n",
      "4  Germany  40.0       Yes\n"
     ]
    }
   ],
   "source": [
    "# Separate target variable Y from features X\n",
    "print(\"Separating labels from features...\")\n",
    "features_list = [\"Country\", \"Age\", \"Purchased\"]\n",
    "target_variable = \"Salary\"\n",
    "\n",
    "X = dataset.loc[:,features_list]\n",
    "Y = dataset.loc[:,target_variable]\n",
    "\n",
    "print(\"...Done.\")\n",
    "print()\n",
    "\n",
    "print('Y : ')\n",
    "print(Y.head())\n",
    "print()\n",
    "print('X :')\n",
    "print(X.head())"
   ]
  },
  {
   "cell_type": "code",
   "execution_count": 21,
   "metadata": {
    "colab": {
     "base_uri": "https://localhost:8080/",
     "height": 50
    },
    "colab_type": "code",
    "id": "uebQu3V9spss",
    "outputId": "310aa2e2-a9d2-4f84-e9fa-56fb24b3f756"
   },
   "outputs": [
    {
     "name": "stdout",
     "output_type": "stream",
     "text": [
      "Found numeric features  ['Age']  at positions  [1]\n",
      "Found categorical features  ['Country', 'Purchased']  at positions  [0, 2]\n"
     ]
    }
   ],
   "source": [
    "# Automatically detect positions of numeric/categorical features\n",
    "idx = 0\n",
    "numeric_features = []\n",
    "numeric_indices = []\n",
    "categorical_features = []\n",
    "categorical_indices = []\n",
    "for i,t in X.dtypes.iteritems():\n",
    "    if ('float' in str(t)) or ('int' in str(t)) :\n",
    "        numeric_features.append(i)\n",
    "        numeric_indices.append(idx)\n",
    "    else :\n",
    "        categorical_features.append(i)\n",
    "        categorical_indices.append(idx)\n",
    "\n",
    "    idx = idx + 1\n",
    "\n",
    "print('Found numeric features ', numeric_features,' at positions ', numeric_indices)\n",
    "print('Found categorical features ', categorical_features,' at positions ', categorical_indices)"
   ]
  },
  {
   "cell_type": "code",
   "execution_count": 22,
   "metadata": {
    "colab": {
     "base_uri": "https://localhost:8080/",
     "height": 67
    },
    "colab_type": "code",
    "id": "Ra8LgBS5s83i",
    "outputId": "6dd938b3-ca4b-4ddb-c55e-f020aed4eca3"
   },
   "outputs": [
    {
     "name": "stdout",
     "output_type": "stream",
     "text": [
      "Dividing into train and test sets...\n",
      "...Done.\n",
      "\n"
     ]
    }
   ],
   "source": [
    "# Divide dataset Train set & Test set \n",
    "print(\"Dividing into train and test sets...\")\n",
    "X_train, X_test, Y_train, Y_test = train_test_split(X, Y, test_size=0.2, \n",
    "                                                    random_state=0)\n",
    "print(\"...Done.\")\n",
    "print()"
   ]
  },
  {
   "cell_type": "code",
   "execution_count": 23,
   "metadata": {
    "colab": {
     "base_uri": "https://localhost:8080/",
     "height": 218
    },
    "colab_type": "code",
    "id": "Mb27McgMuCcH",
    "outputId": "afa07b8f-4849-4da6-d277-03390a4b6090"
   },
   "outputs": [
    {
     "name": "stdout",
     "output_type": "stream",
     "text": [
      "Convert pandas DataFrames to numpy arrays...\n",
      "...Done\n",
      "[['Germany' 40.0 'Yes']\n",
      " ['France' 37.0 'Yes']\n",
      " ['Spain' 27.0 'Yes']\n",
      " ['Spain' nan 'No']\n",
      " ['France' 48.0 'Yes']]\n",
      "[['Germany' 30.0 'No']\n",
      " ['Germany' 50.0 'No']]\n",
      "\n",
      "[69000, 67000, 48000, 52000, 79000]\n",
      "[54000, 83000]\n"
     ]
    }
   ],
   "source": [
    "# Convert pandas DataFrames to numpy arrays before using scikit-learn\n",
    "print(\"Convert pandas DataFrames to numpy arrays...\")\n",
    "X_train = X_train.values\n",
    "X_test = X_test.values\n",
    "Y_train = Y_train.tolist()\n",
    "Y_test = Y_test.tolist()\n",
    "print(\"...Done\")\n",
    "\n",
    "print(X_train[0:5,:])\n",
    "print(X_test[0:2,:])\n",
    "print()\n",
    "print(Y_train[0:5])\n",
    "print(Y_test[0:2])"
   ]
  },
  {
   "cell_type": "markdown",
   "metadata": {
    "colab_type": "text",
    "id": "AORkIJc9vE4X"
   },
   "source": [
    "## Training pipeline"
   ]
  },
  {
   "cell_type": "code",
   "execution_count": 24,
   "metadata": {
    "colab": {
     "base_uri": "https://localhost:8080/",
     "height": 252
    },
    "colab_type": "code",
    "id": "YavdzxGEuxSW",
    "outputId": "9d403ccd-3d88-4fdf-ec97-6ae7a48aa29b"
   },
   "outputs": [
    {
     "name": "stdout",
     "output_type": "stream",
     "text": [
      "Imputing missing values...\n",
      "[['Germany' 40.0 'Yes']\n",
      " ['France' 37.0 'Yes']\n",
      " ['Spain' 27.0 'Yes']\n",
      " ['Spain' nan 'No']\n",
      " ['France' 48.0 'Yes']]\n",
      "\n",
      "...Fini!\n",
      "[['Germany' 40.0 'Yes']\n",
      " ['France' 37.0 'Yes']\n",
      " ['Spain' 27.0 'Yes']\n",
      " ['Spain' 38.42857142857143 'No']\n",
      " ['France' 48.0 'Yes']]\n",
      "\n"
     ]
    }
   ],
   "source": [
    "# Missing values\n",
    "print(\"Imputing missing values...\")\n",
    "print(X_train[0:5,:])\n",
    "print()\n",
    "imputer = SimpleImputer(strategy=\"mean\")\n",
    "X_train[:,numeric_indices] = imputer.fit_transform(X_train[:,numeric_indices])\n",
    "print(\"...Fini!\")\n",
    "print(X_train[0:5,:]) \n",
    "print() "
   ]
  },
  {
   "cell_type": "code",
   "execution_count": 25,
   "metadata": {
    "colab": {
     "base_uri": "https://localhost:8080/",
     "height": 235
    },
    "colab_type": "code",
    "id": "BZcA74djuw8r",
    "outputId": "1ae5b96d-caa5-4f3f-8262-72b26478504f"
   },
   "outputs": [
    {
     "name": "stdout",
     "output_type": "stream",
     "text": [
      "Encoding categorical features and standardizing numerical features...\n",
      "\n",
      "[['Germany' 40.0 'Yes']\n",
      " ['France' 37.0 'Yes']\n",
      " ['Spain' 27.0 'Yes']\n",
      " ['Spain' 38.42857142857143 'No']\n",
      " ['France' 48.0 'Yes']]\n",
      "...Done\n",
      "[[ 1.          0.          1.          0.27063731]\n",
      " [ 0.          0.          1.         -0.24603392]\n",
      " [ 0.          1.          1.         -1.96827133]\n",
      " [ 0.          1.          0.          0.        ]\n",
      " [ 0.          0.          1.          1.64842723]]\n"
     ]
    }
   ],
   "source": [
    "# Encoding categorical features and standardizing numerical features\n",
    "print(\"Encoding categorical features and standardizing numerical features...\")\n",
    "print()\n",
    "print(X_train[0:5,:])\n",
    "\n",
    "# Normalization\n",
    "numeric_transformer = StandardScaler()\n",
    "\n",
    "# OHE / dummyfication\n",
    "categorical_transformer = OneHotEncoder(drop='first')\n",
    "\n",
    "featureencoder = ColumnTransformer(\n",
    "    transformers=[\n",
    "        ('cat', categorical_transformer, categorical_indices),    \n",
    "        ('num', numeric_transformer, numeric_indices)\n",
    "        ]\n",
    "    )\n",
    "\n",
    "X_train = featureencoder.fit_transform(X_train)\n",
    "print(\"...Done\")\n",
    "print(X_train[0:5,:])"
   ]
  },
  {
   "cell_type": "code",
   "execution_count": 26,
   "metadata": {
    "colab": {
     "base_uri": "https://localhost:8080/",
     "height": 50
    },
    "colab_type": "code",
    "id": "fKv5JHVozdpd",
    "outputId": "27248696-e55a-4cb2-d947-29893f42f42d"
   },
   "outputs": [
    {
     "name": "stdout",
     "output_type": "stream",
     "text": [
      "Train model...\n",
      "...Done.\n"
     ]
    }
   ],
   "source": [
    "# Train model\n",
    "print(\"Train model...\")\n",
    "regressor = LinearRegression()\n",
    "regressor.fit(X_train, Y_train)\n",
    "print(\"...Done.\")"
   ]
  },
  {
   "cell_type": "code",
   "execution_count": 27,
   "metadata": {
    "colab": {
     "base_uri": "https://localhost:8080/",
     "height": 101
    },
    "colab_type": "code",
    "id": "3SnwgbTP1nDt",
    "outputId": "69792eef-997d-42a3-8a7d-e07fa99b8735"
   },
   "outputs": [
    {
     "name": "stdout",
     "output_type": "stream",
     "text": [
      "Predictions on training set...\n",
      "...Done.\n",
      "[69000.         64690.01772977 46297.16942234 57628.38617903\n",
      " 78907.85675999 57074.44439863 70297.16942234 62104.95608791]\n",
      "\n"
     ]
    }
   ],
   "source": [
    "# Predictions on training set\n",
    "print(\"Predictions on training set...\")\n",
    "Y_train_pred = regressor.predict(X_train)\n",
    "print(\"...Done.\")\n",
    "print(Y_train_pred)\n",
    "print()"
   ]
  },
  {
   "cell_type": "markdown",
   "metadata": {
    "colab_type": "text",
    "id": "ZdqmX-ka2dln"
   },
   "source": [
    "# Test pipeline"
   ]
  },
  {
   "cell_type": "code",
   "execution_count": 28,
   "metadata": {
    "colab": {
     "base_uri": "https://localhost:8080/",
     "height": 151
    },
    "colab_type": "code",
    "id": "WQRPO_AJ19_l",
    "outputId": "c391960b-94f4-4d48-b3e1-a61267696965"
   },
   "outputs": [
    {
     "name": "stdout",
     "output_type": "stream",
     "text": [
      "Imputing missing values...\n",
      "[['Germany' 30.0 'No']\n",
      " ['Germany' 50.0 'No']]\n",
      "\n",
      "...Done!\n",
      "[['Germany' 30.0 'No']\n",
      " ['Germany' 50.0 'No']]\n",
      "\n"
     ]
    }
   ],
   "source": [
    "# Missing values\n",
    "print(\"Imputing missing values...\")\n",
    "print(X_test[0:5,:])\n",
    "print()\n",
    "\n",
    "X_test[:,numeric_indices] = imputer.transform(X_test[:,numeric_indices])\n",
    "print(\"...Done!\")\n",
    "print(X_test[0:5,:]) \n",
    "print() "
   ]
  },
  {
   "cell_type": "code",
   "execution_count": 29,
   "metadata": {
    "colab": {
     "base_uri": "https://localhost:8080/",
     "height": 134
    },
    "colab_type": "code",
    "id": "9grI2yAj3qsb",
    "outputId": "ce89adf7-d5cc-411b-8f10-51e8ac62621c"
   },
   "outputs": [
    {
     "name": "stdout",
     "output_type": "stream",
     "text": [
      "Encoding categorical features and standardizing numerical features...\n",
      "\n",
      "[['Germany' 30.0 'No']\n",
      " ['Germany' 50.0 'No']]\n",
      "...Done\n",
      "[[ 1.          0.          0.         -1.4516001 ]\n",
      " [ 1.          0.          0.          1.99287472]]\n"
     ]
    }
   ],
   "source": [
    "# Encoding categorical features and standardizing numerical features\n",
    "print(\"Encoding categorical features and standardizing numerical features...\")\n",
    "print()\n",
    "print(X_test[0:5,:])\n",
    "\n",
    "X_test = featureencoder.transform(X_test)\n",
    "print(\"...Done\")\n",
    "print(X_test[0:5,:])"
   ]
  },
  {
   "cell_type": "code",
   "execution_count": 30,
   "metadata": {
    "colab": {
     "base_uri": "https://localhost:8080/",
     "height": 84
    },
    "colab_type": "code",
    "id": "pheNrbku33Od",
    "outputId": "a0832e59-6238-41f2-dd57-745b7a7e82e9"
   },
   "outputs": [
    {
     "name": "stdout",
     "output_type": "stream",
     "text": [
      "Predictions on test set...\n",
      "...Done.\n",
      "[52634.12773677 78484.74415536]\n",
      "\n"
     ]
    }
   ],
   "source": [
    "# Predictions on test set\n",
    "print(\"Predictions on test set...\")\n",
    "Y_test_pred = regressor.predict(X_test)\n",
    "print(\"...Done.\")\n",
    "print(Y_test_pred)\n",
    "print()"
   ]
  },
  {
   "cell_type": "code",
   "execution_count": 31,
   "metadata": {
    "colab": {
     "base_uri": "https://localhost:8080/",
     "height": 50
    },
    "colab_type": "code",
    "id": "A2R6MyJ44DDA",
    "outputId": "3a333592-6b2a-40e6-8e2d-0a1c28f1a5bf"
   },
   "outputs": [
    {
     "name": "stdout",
     "output_type": "stream",
     "text": [
      "R2 score on training set :  0.9016592604305448\n",
      "R2 score on test set :  0.9470793284613951\n"
     ]
    }
   ],
   "source": [
    "# Print R^2 scores\n",
    "print(\"R2 score on training set : \", r2_score(Y_train, Y_train_pred))\n",
    "print(\"R2 score on test set : \", r2_score(Y_test, Y_test_pred))"
   ]
  }
 ],
 "metadata": {
  "colab": {
   "name": "Linear_regression.ipynb",
   "provenance": []
  },
  "kernelspec": {
   "display_name": "Python 3",
   "language": "python",
   "name": "python3"
  },
  "language_info": {
   "codemirror_mode": {
    "name": "ipython",
    "version": 3
   },
   "file_extension": ".py",
   "mimetype": "text/x-python",
   "name": "python",
   "nbconvert_exporter": "python",
   "pygments_lexer": "ipython3",
   "version": "3.8.5"
  }
 },
 "nbformat": 4,
 "nbformat_minor": 4
}
