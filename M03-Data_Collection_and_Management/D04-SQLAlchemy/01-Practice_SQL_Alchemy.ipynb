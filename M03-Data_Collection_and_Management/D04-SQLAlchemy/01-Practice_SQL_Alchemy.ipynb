{
 "cells": [
  {
   "cell_type": "markdown",
   "metadata": {},
   "source": [
    "# Exercise: practice SQLAlchemy 🧪\n",
    "\n",
    "Let's configure our first RDS instance on AWS and then use SQLAlchemy to write into our remote database and make some SQL queries!\n",
    "\n",
    "1. Follow the instructions/videos from yesterday (M03-D03/04-Amazon-RDS.ipynb) to create your own RDS instance on AWS \n",
    "2. Download <a href=\"https://www.pgadmin.org/download/\" target=\"_blank\">PGAdmin</a> and configure it to access your remote database\n",
    "\n",
    "If you get stuck at some step, don't hesitate to ask for help to your classmates, your teacher or your TA 🤗."
   ]
  },
  {
   "cell_type": "markdown",
   "metadata": {},
   "source": [
    "**Before continuing, please execute the cell below, this will install a package that is required to access your remote database from this notebook:**"
   ]
  },
  {
   "cell_type": "code",
   "execution_count": 28,
   "metadata": {
    "tags": []
   },
   "outputs": [],
   "source": [
    "# !pip install psycopg2-binary\n",
    "# ! pip install python-dotenv"
   ]
  },
  {
   "cell_type": "markdown",
   "metadata": {},
   "source": [
    "3. Create an sqlalchemy engine that is connected to your AWS RDS instance"
   ]
  },
  {
   "cell_type": "code",
   "execution_count": 33,
   "metadata": {},
   "outputs": [
    {
     "name": "stdout",
     "output_type": "stream",
     "text": [
      "The dotenv extension is already loaded. To reload it, use:\n",
      "  %reload_ext dotenv\n"
     ]
    }
   ],
   "source": [
    "# Import sqlalchemy\n",
    "from sqlalchemy import create_engine, text\n",
    "\n",
    "from dotenv import load_dotenv\n",
    "import os\n",
    "\n",
    "load_dotenv()\n",
    "%load_ext dotenv\n",
    "%dotenv\n",
    "\n",
    "DBUSERNAME = os.getenv('DBUSERNAME')\n",
    "DBPASSWORD = os.getenv('DBPASSWORD')\n",
    "DBHOSTNAME = os.getenv('DBHOSTNAME')\n",
    "DBDBNAME = os.getenv('DBNAME')\n",
    "\n",
    "\n",
    "# Create engine will create a connection between a SQLlite DB and python\n",
    "# engine = create_engine(\"sqlite:///:memory:\", echo=True)\n",
    "# engine = create_engine(f\"mysql+pymysql://{DBUSER}:{DBPASS}@{DBHOST}:{PORT}/{DBNAME}\", echo=True)\n",
    "# engine = create_engine(f\"postgresql+psycopg2://{USERNAME}:{PASSWORD}@{HOSTNAME}/{DBNAME}\", echo=True)\n",
    "engine = create_engine(f\"postgresql+psycopg2://{DBUSERNAME}:{DBPASSWORD}@{DBHOSTNAME}/{DBDBNAME}\", echo=True)"
   ]
  },
  {
   "cell_type": "code",
   "execution_count": 35,
   "metadata": {},
   "outputs": [],
   "source": [
    "# Let's instanciate a declarative base to be able to use our python class\n",
    "from sqlalchemy.ext.declarative import declarative_base\n",
    "Base = declarative_base()\n",
    "\n",
    "# Let's define our table using a class\n",
    "from sqlalchemy import Column, Integer, String\n",
    "\n",
    "class User(Base):\n",
    "    __tablename__ = \"customers\"\n",
    "\n",
    "    # Each parameter corresponds to a column in our DB table\n",
    "    id = Column(Integer, primary_key=True)\n",
    "    name = Column(String)\n",
    "    country = Column(String)\n",
    "    job = Column(String)\n",
    "    age = Column(Integer)\n",
    "\n",
    "    def __repr__(self):\n",
    "        return \"<User(name='{}', country='{}', job='{}', age='{}')>\".format(self.name, self.country, self.job, self.age)"
   ]
  },
  {
   "cell_type": "markdown",
   "metadata": {},
   "source": [
    "4. Create a new table named `customers` in your remote database and insert the following data :\n",
    "\n",
    "| id | name       | country        | job        | age |\n",
    "|----|------------|----------------|------------|-----|\n",
    "| 1  | Sauerkraut | Germany        | engineer   | 37  |\n",
    "| 2  | Jones      | United Kingdom | journalist | 52  |\n",
    "| 3  | Dupont     | France         | dancer     | 25  |\n",
    "\n",
    "Optionnal: Use PGAdmin to check that the table has been created without any mistake"
   ]
  },
  {
   "cell_type": "code",
   "execution_count": 36,
   "metadata": {},
   "outputs": [
    {
     "name": "stdout",
     "output_type": "stream",
     "text": [
      "2022-04-04 14:57:14,549 INFO sqlalchemy.engine.Engine select version()\n",
      "2022-04-04 14:57:14,550 INFO sqlalchemy.engine.Engine [raw sql] {}\n",
      "2022-04-04 14:57:14,719 INFO sqlalchemy.engine.Engine select current_schema()\n",
      "2022-04-04 14:57:14,720 INFO sqlalchemy.engine.Engine [raw sql] {}\n",
      "2022-04-04 14:57:14,888 INFO sqlalchemy.engine.Engine show standard_conforming_strings\n",
      "2022-04-04 14:57:14,889 INFO sqlalchemy.engine.Engine [raw sql] {}\n",
      "2022-04-04 14:57:15,057 INFO sqlalchemy.engine.Engine BEGIN (implicit)\n",
      "2022-04-04 14:57:15,059 INFO sqlalchemy.engine.Engine select relname from pg_class c join pg_namespace n on n.oid=c.relnamespace where pg_catalog.pg_table_is_visible(c.oid) and relname=%(name)s\n",
      "2022-04-04 14:57:15,060 INFO sqlalchemy.engine.Engine [generated in 0.00092s] {'name': 'customers'}\n",
      "2022-04-04 14:57:15,228 INFO sqlalchemy.engine.Engine COMMIT\n"
     ]
    }
   ],
   "source": [
    "Base.metadata.create_all(engine)"
   ]
  },
  {
   "cell_type": "code",
   "execution_count": null,
   "metadata": {},
   "outputs": [
    {
     "name": "stdout",
     "output_type": "stream",
     "text": [
      "<User(name='Berenger Queune', country='France', job='Data Engineer', age='68')>\n",
      "name: Berenger Queune\n",
      "nickname: Data Engineer\n",
      "2022-04-04 14:33:55,343 INFO sqlalchemy.engine.Engine BEGIN (implicit)\n",
      "2022-04-04 14:33:55,347 INFO sqlalchemy.engine.Engine INSERT INTO customers (id, name, country, job, age) VALUES (?, ?, ?, ?, ?)\n",
      "2022-04-04 14:33:55,349 INFO sqlalchemy.engine.Engine [generated in 0.00137s] ((1, 'Berenger Queune', 'France', 'Data Engineer', 68), (2, 'Hajime No Ippo', 'Japon', 'Boxeur', 20))\n",
      "2022-04-04 14:33:55,350 INFO sqlalchemy.engine.Engine COMMIT\n"
     ]
    }
   ],
   "source": [
    "# Create instances of User\n",
    "\n",
    "# Create a new instance of User will allow us to insert a new record later on\n",
    "ed_user = User(id=1, name='Berenger Queune', country='France', job='Data Engineer', age=68)\n",
    "\n",
    "# Access Full row \n",
    "print(ed_user)\n",
    "\n",
    "# Access ed_user name \n",
    "name = ed_user.name\n",
    "print(\"name: {}\".format(name))\n",
    "\n",
    "# Access ed_user nickname\n",
    "nickname = ed_user.job \n",
    "print(\"nickname: {}\".format(nickname))\n",
    "\n",
    "# Initialize a sessionmaker \n",
    "from sqlalchemy.orm import sessionmaker\n",
    "\n",
    "Session = sessionmaker(bind=engine)\n",
    "\n",
    "# Instanciate Session \n",
    "\n",
    "session = Session()\n",
    "\n",
    "# Add values to db \n",
    "\n",
    "al_user = User(id=2, name='Hajime No Ippo', country='Japon', job='Boxeur', age=20)\n",
    "\n",
    "session.add(ed_user)\n",
    "session.add(al_user)\n",
    "# Commit the results \n",
    "\n",
    "session.commit()"
   ]
  },
  {
   "cell_type": "code",
   "execution_count": null,
   "metadata": {},
   "outputs": [
    {
     "name": "stdout",
     "output_type": "stream",
     "text": [
      "2022-04-04 14:33:55,434 INFO sqlalchemy.engine.Engine BEGIN (implicit)\n",
      "2022-04-04 14:33:55,436 INFO sqlalchemy.engine.Engine SELECT customers.id AS customers_id, customers.name AS customers_name, customers.country AS customers_country, customers.job AS customers_job, customers.age AS customers_age \n",
      "FROM customers\n",
      "2022-04-04 14:33:55,437 INFO sqlalchemy.engine.Engine [generated in 0.00094s] ()\n"
     ]
    },
    {
     "data": {
      "text/plain": [
       "[<User(name='Berenger Queune', country='France', job='Data Engineer', age='68')>,\n",
       " <User(name='Hajime No Ippo', country='Japon', job='Boxeur', age='20')>]"
      ]
     },
     "execution_count": 28,
     "metadata": {},
     "output_type": "execute_result"
    }
   ],
   "source": [
    "# Query our table users\n",
    "user = session.query(User)\n",
    "\n",
    "# Output all the results \n",
    "user.all()"
   ]
  },
  {
   "cell_type": "markdown",
   "metadata": {},
   "source": [
    "5. Execute the cell below to download the famous iris dataset:"
   ]
  },
  {
   "cell_type": "code",
   "execution_count": null,
   "metadata": {},
   "outputs": [],
   "source": []
  },
  {
   "cell_type": "markdown",
   "metadata": {},
   "source": [
    "6. Create a table in your remote database containing the information of the dataset:"
   ]
  },
  {
   "cell_type": "code",
   "execution_count": null,
   "metadata": {},
   "outputs": [],
   "source": []
  },
  {
   "cell_type": "markdown",
   "metadata": {},
   "source": [
    "### Now let's make some SQL requests !\n",
    "\n",
    "To answer the following questions, don't hesitate to refer to <a href=\"https://www.sqltutorial.org/sql-cheat-sheet/\" target=\"_blank\">this cheatsheet</a>. 😉\n",
    "\n",
    "7. What are the different species present in this dataset?"
   ]
  },
  {
   "cell_type": "code",
   "execution_count": null,
   "metadata": {},
   "outputs": [],
   "source": []
  },
  {
   "cell_type": "markdown",
   "metadata": {},
   "source": [
    "8. What is the average sepal length among all species?"
   ]
  },
  {
   "cell_type": "code",
   "execution_count": null,
   "metadata": {},
   "outputs": [],
   "source": []
  },
  {
   "cell_type": "markdown",
   "metadata": {},
   "source": [
    "9. What is the average sepal length for each species?"
   ]
  },
  {
   "cell_type": "code",
   "execution_count": null,
   "metadata": {},
   "outputs": [],
   "source": []
  },
  {
   "cell_type": "markdown",
   "metadata": {},
   "source": [
    "10. How many samples of 'virginica' have sepal length < 6?"
   ]
  },
  {
   "cell_type": "code",
   "execution_count": null,
   "metadata": {},
   "outputs": [],
   "source": []
  },
  {
   "cell_type": "markdown",
   "metadata": {},
   "source": [
    "11. For each species, count the number of samples having sepal length < 6:"
   ]
  },
  {
   "cell_type": "code",
   "execution_count": null,
   "metadata": {},
   "outputs": [],
   "source": []
  }
 ],
 "metadata": {
  "kernelspec": {
   "display_name": "Python 3",
   "language": "python",
   "name": "python3"
  },
  "language_info": {
   "codemirror_mode": {
    "name": "ipython",
    "version": 3
   },
   "file_extension": ".py",
   "mimetype": "text/x-python",
   "name": "python",
   "nbconvert_exporter": "python",
   "pygments_lexer": "ipython3",
   "version": "3.8.12"
  }
 },
 "nbformat": 4,
 "nbformat_minor": 4
}
