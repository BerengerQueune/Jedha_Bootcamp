{
 "cells": [
  {
   "cell_type": "markdown",
   "metadata": {},
   "source": [
    "# Exercise: practice SQLAlchemy 🧪\n",
    "\n",
    "Let's configure our first RDS instance on AWS and then use SQLAlchemy to write into our remote database and make some SQL queries!\n",
    "\n",
    "1. Follow the instructions/videos from yesterday (M03-D03/04-Amazon-RDS.ipynb) to create your own RDS instance on AWS \n",
    "2. Download <a href=\"https://www.pgadmin.org/download/\" target=\"_blank\">PGAdmin</a> and configure it to access your remote database\n",
    "\n",
    "If you get stuck at some step, don't hesitate to ask for help to your classmates, your teacher or your TA 🤗."
   ]
  },
  {
   "cell_type": "markdown",
   "metadata": {},
   "source": [
    "**Before continuing, please execute the cell below, this will install a package that is required to access your remote database from this notebook:**"
   ]
  },
  {
   "cell_type": "code",
   "execution_count": 1,
   "metadata": {
    "tags": []
   },
   "outputs": [],
   "source": [
    "# ! pip install psycopg2-binary\n",
    "# ! pip install python-dotenv"
   ]
  },
  {
   "cell_type": "markdown",
   "metadata": {},
   "source": [
    "3. Create an sqlalchemy engine that is connected to your AWS RDS instance"
   ]
  },
  {
   "cell_type": "code",
   "execution_count": 2,
   "metadata": {},
   "outputs": [],
   "source": [
    "# Import sqlalchemy\n",
    "from sqlalchemy import create_engine, text\n",
    "import pandas as pd\n",
    "import plotly.express as px\n",
    "\n",
    "from dotenv import load_dotenv\n",
    "import os\n",
    "\n",
    "load_dotenv()\n",
    "%load_ext dotenv\n",
    "%dotenv\n",
    "\n",
    "DBUSERNAME = os.getenv('DBUSERNAME')\n",
    "DBPASSWORD = os.getenv('DBPASSWORD')\n",
    "DBHOSTNAME = os.getenv('DBHOSTNAME')\n",
    "DBDBNAME = os.getenv('DBNAME')\n",
    "\n",
    "\n",
    "# Create engine will create a connection between a SQLlite DB and python\n",
    "# engine = create_engine(\"sqlite:///:memory:\", echo=True)\n",
    "# engine = create_engine(f\"mysql+pymysql://{DBUSER}:{DBPASS}@{DBHOST}:{PORT}/{DBNAME}\", echo=True)\n",
    "# engine = create_engine(f\"postgresql+psycopg2://{USERNAME}:{PASSWORD}@{HOSTNAME}/{DBNAME}\", echo=True)\n",
    "engine = create_engine(f\"postgresql+psycopg2://{DBUSERNAME}:{DBPASSWORD}@{DBHOSTNAME}/{DBDBNAME}\", echo=True)"
   ]
  },
  {
   "cell_type": "code",
   "execution_count": 3,
   "metadata": {},
   "outputs": [],
   "source": [
    "# Let's instanciate a declarative base to be able to use our python class\n",
    "from sqlalchemy.ext.declarative import declarative_base\n",
    "Base = declarative_base()\n",
    "\n",
    "# Let's define our table using a class\n",
    "from sqlalchemy import Column, Integer, String\n",
    "\n",
    "class User(Base):\n",
    "    __tablename__ = \"customers\"\n",
    "\n",
    "    # Each parameter corresponds to a column in our DB table\n",
    "    id = Column(Integer, primary_key=True)\n",
    "    name = Column(String)\n",
    "    country = Column(String)\n",
    "    job = Column(String)\n",
    "    age = Column(Integer)\n",
    "\n",
    "    def __repr__(self):\n",
    "        return \"<User(name='{}', country='{}', job='{}', age='{}')>\".format(self.name, self.country, self.job, self.age)"
   ]
  },
  {
   "cell_type": "markdown",
   "metadata": {},
   "source": [
    "4. Create a new table named `customers` in your remote database and insert the following data :\n",
    "\n",
    "| id | name       | country        | job        | age |\n",
    "|----|------------|----------------|------------|-----|\n",
    "| 1  | Sauerkraut | Germany        | engineer   | 37  |\n",
    "| 2  | Jones      | United Kingdom | journalist | 52  |\n",
    "| 3  | Dupont     | France         | dancer     | 25  |\n",
    "\n",
    "Optionnal: Use PGAdmin to check that the table has been created without any mistake"
   ]
  },
  {
   "cell_type": "code",
   "execution_count": 4,
   "metadata": {},
   "outputs": [
    {
     "name": "stdout",
     "output_type": "stream",
     "text": [
      "2022-04-04 15:28:04,992 INFO sqlalchemy.engine.Engine select version()\n",
      "2022-04-04 15:28:04,993 INFO sqlalchemy.engine.Engine [raw sql] {}\n",
      "2022-04-04 15:28:05,169 INFO sqlalchemy.engine.Engine select current_schema()\n",
      "2022-04-04 15:28:05,170 INFO sqlalchemy.engine.Engine [raw sql] {}\n",
      "2022-04-04 15:28:05,345 INFO sqlalchemy.engine.Engine show standard_conforming_strings\n",
      "2022-04-04 15:28:05,346 INFO sqlalchemy.engine.Engine [raw sql] {}\n",
      "2022-04-04 15:28:05,523 INFO sqlalchemy.engine.Engine BEGIN (implicit)\n",
      "2022-04-04 15:28:05,525 INFO sqlalchemy.engine.Engine select relname from pg_class c join pg_namespace n on n.oid=c.relnamespace where pg_catalog.pg_table_is_visible(c.oid) and relname=%(name)s\n",
      "2022-04-04 15:28:05,526 INFO sqlalchemy.engine.Engine [generated in 0.00116s] {'name': 'customers'}\n",
      "2022-04-04 15:28:05,702 INFO sqlalchemy.engine.Engine COMMIT\n"
     ]
    }
   ],
   "source": [
    "Base.metadata.create_all(engine)"
   ]
  },
  {
   "cell_type": "code",
   "execution_count": null,
   "metadata": {},
   "outputs": [],
   "source": [
    "# Create instances of User\n",
    "\n",
    "# Create a new instance of User will allow us to insert a new record later on\n",
    "ed_user = User(id=1, name='Berenger Queune', country='France', job='Data Engineer', age=68)\n",
    "\n",
    "# Access Full row \n",
    "print(ed_user)\n",
    "\n",
    "# Access ed_user name \n",
    "name = ed_user.name\n",
    "print(\"name: {}\".format(name))\n",
    "\n",
    "# Access ed_user nickname\n",
    "nickname = ed_user.job \n",
    "print(\"nickname: {}\".format(nickname))\n",
    "\n",
    "# Initialize a sessionmaker \n",
    "from sqlalchemy.orm import sessionmaker\n",
    "\n",
    "Session = sessionmaker(bind=engine)\n",
    "\n",
    "# Instanciate Session \n",
    "\n",
    "session = Session()\n",
    "\n",
    "# Add values to db \n",
    "\n",
    "al_user = User(id=2, name='Hajime No Ippo', country='Japon', job='Boxeur', age=20)\n",
    "\n",
    "session.add(ed_user)\n",
    "session.add(al_user)\n",
    "# Commit the results \n",
    "\n",
    "session.commit()"
   ]
  },
  {
   "cell_type": "code",
   "execution_count": 7,
   "metadata": {},
   "outputs": [
    {
     "name": "stdout",
     "output_type": "stream",
     "text": [
      "2022-04-04 15:30:52,541 INFO sqlalchemy.engine.Engine BEGIN (implicit)\n",
      "2022-04-04 15:30:52,544 INFO sqlalchemy.engine.Engine SELECT customers.id AS customers_id, customers.name AS customers_name, customers.country AS customers_country, customers.job AS customers_job, customers.age AS customers_age \n",
      "FROM customers\n",
      "2022-04-04 15:30:52,545 INFO sqlalchemy.engine.Engine [generated in 0.00118s] {}\n"
     ]
    },
    {
     "data": {
      "text/plain": [
       "[<User(name='Berenger Queune', country='France', job='Data Engineer', age='68')>,\n",
       " <User(name='Hajime No Ippo', country='Japon', job='Boxeur', age='20')>]"
      ]
     },
     "execution_count": 7,
     "metadata": {},
     "output_type": "execute_result"
    }
   ],
   "source": [
    "session = Session()\n",
    "\n",
    "\n",
    "# Query our table users\n",
    "user = session.query(User)\n",
    "\n",
    "# Output all the results \n",
    "user.all()"
   ]
  },
  {
   "cell_type": "markdown",
   "metadata": {},
   "source": [
    "5. Execute the cell below to download the famous iris dataset:"
   ]
  },
  {
   "cell_type": "code",
   "execution_count": 19,
   "metadata": {},
   "outputs": [
    {
     "data": {
      "text/html": [
       "<div>\n",
       "<style scoped>\n",
       "    .dataframe tbody tr th:only-of-type {\n",
       "        vertical-align: middle;\n",
       "    }\n",
       "\n",
       "    .dataframe tbody tr th {\n",
       "        vertical-align: top;\n",
       "    }\n",
       "\n",
       "    .dataframe thead th {\n",
       "        text-align: right;\n",
       "    }\n",
       "</style>\n",
       "<table border=\"1\" class=\"dataframe\">\n",
       "  <thead>\n",
       "    <tr style=\"text-align: right;\">\n",
       "      <th></th>\n",
       "      <th>sepal_length</th>\n",
       "      <th>sepal_width</th>\n",
       "      <th>petal_length</th>\n",
       "      <th>petal_width</th>\n",
       "      <th>species</th>\n",
       "      <th>species_id</th>\n",
       "    </tr>\n",
       "  </thead>\n",
       "  <tbody>\n",
       "    <tr>\n",
       "      <th>0</th>\n",
       "      <td>5.1</td>\n",
       "      <td>3.5</td>\n",
       "      <td>1.4</td>\n",
       "      <td>0.2</td>\n",
       "      <td>setosa</td>\n",
       "      <td>1</td>\n",
       "    </tr>\n",
       "    <tr>\n",
       "      <th>1</th>\n",
       "      <td>4.9</td>\n",
       "      <td>3.0</td>\n",
       "      <td>1.4</td>\n",
       "      <td>0.2</td>\n",
       "      <td>setosa</td>\n",
       "      <td>1</td>\n",
       "    </tr>\n",
       "    <tr>\n",
       "      <th>2</th>\n",
       "      <td>4.7</td>\n",
       "      <td>3.2</td>\n",
       "      <td>1.3</td>\n",
       "      <td>0.2</td>\n",
       "      <td>setosa</td>\n",
       "      <td>1</td>\n",
       "    </tr>\n",
       "    <tr>\n",
       "      <th>3</th>\n",
       "      <td>4.6</td>\n",
       "      <td>3.1</td>\n",
       "      <td>1.5</td>\n",
       "      <td>0.2</td>\n",
       "      <td>setosa</td>\n",
       "      <td>1</td>\n",
       "    </tr>\n",
       "    <tr>\n",
       "      <th>4</th>\n",
       "      <td>5.0</td>\n",
       "      <td>3.6</td>\n",
       "      <td>1.4</td>\n",
       "      <td>0.2</td>\n",
       "      <td>setosa</td>\n",
       "      <td>1</td>\n",
       "    </tr>\n",
       "  </tbody>\n",
       "</table>\n",
       "</div>"
      ],
      "text/plain": [
       "   sepal_length  sepal_width  petal_length  petal_width species  species_id\n",
       "0           5.1          3.5           1.4          0.2  setosa           1\n",
       "1           4.9          3.0           1.4          0.2  setosa           1\n",
       "2           4.7          3.2           1.3          0.2  setosa           1\n",
       "3           4.6          3.1           1.5          0.2  setosa           1\n",
       "4           5.0          3.6           1.4          0.2  setosa           1"
      ]
     },
     "execution_count": 19,
     "metadata": {},
     "output_type": "execute_result"
    }
   ],
   "source": [
    "data = px.data.iris()\n",
    "data.head()"
   ]
  },
  {
   "cell_type": "markdown",
   "metadata": {},
   "source": [
    "6. Create a table in your remote database containing the information of the dataset:"
   ]
  },
  {
   "cell_type": "code",
   "execution_count": null,
   "metadata": {},
   "outputs": [],
   "source": [
    "data.to_sql(\n",
    "    \"iris\",\n",
    "    engine\n",
    ")"
   ]
  },
  {
   "cell_type": "markdown",
   "metadata": {},
   "source": [
    "### Now let's make some SQL requests !\n",
    "\n",
    "To answer the following questions, don't hesitate to refer to <a href=\"https://www.sqltutorial.org/sql-cheat-sheet/\" target=\"_blank\">this cheatsheet</a>. 😉\n",
    "\n",
    "7. What are the different species present in this dataset?"
   ]
  },
  {
   "cell_type": "code",
   "execution_count": 21,
   "metadata": {},
   "outputs": [
    {
     "name": "stdout",
     "output_type": "stream",
     "text": [
      "2022-04-04 15:42:59,990 INFO sqlalchemy.engine.Engine select relname from pg_class c join pg_namespace n on n.oid=c.relnamespace where pg_catalog.pg_table_is_visible(c.oid) and relname=%(name)s\n",
      "2022-04-04 15:42:59,991 INFO sqlalchemy.engine.Engine [cached since 894.5s ago] {'name': 'SELECT DISTINCT species FROM iris'}\n",
      "2022-04-04 15:43:00,255 INFO sqlalchemy.engine.Engine SELECT DISTINCT species FROM iris\n",
      "2022-04-04 15:43:00,255 INFO sqlalchemy.engine.Engine [cached since 40.71s ago] {}\n"
     ]
    },
    {
     "data": {
      "text/html": [
       "<div>\n",
       "<style scoped>\n",
       "    .dataframe tbody tr th:only-of-type {\n",
       "        vertical-align: middle;\n",
       "    }\n",
       "\n",
       "    .dataframe tbody tr th {\n",
       "        vertical-align: top;\n",
       "    }\n",
       "\n",
       "    .dataframe thead th {\n",
       "        text-align: right;\n",
       "    }\n",
       "</style>\n",
       "<table border=\"1\" class=\"dataframe\">\n",
       "  <thead>\n",
       "    <tr style=\"text-align: right;\">\n",
       "      <th></th>\n",
       "      <th>species</th>\n",
       "    </tr>\n",
       "  </thead>\n",
       "  <tbody>\n",
       "    <tr>\n",
       "      <th>0</th>\n",
       "      <td>setosa</td>\n",
       "    </tr>\n",
       "    <tr>\n",
       "      <th>1</th>\n",
       "      <td>virginica</td>\n",
       "    </tr>\n",
       "    <tr>\n",
       "      <th>2</th>\n",
       "      <td>versicolor</td>\n",
       "    </tr>\n",
       "  </tbody>\n",
       "</table>\n",
       "</div>"
      ],
      "text/plain": [
       "      species\n",
       "0      setosa\n",
       "1   virginica\n",
       "2  versicolor"
      ]
     },
     "execution_count": 21,
     "metadata": {},
     "output_type": "execute_result"
    }
   ],
   "source": [
    "species = text(\"SELECT DISTINCT species \"\n",
    "             \"FROM iris\")\n",
    "\n",
    "pd.read_sql(species, engine)"
   ]
  },
  {
   "cell_type": "markdown",
   "metadata": {},
   "source": [
    "8. What is the average sepal length among all species?"
   ]
  },
  {
   "cell_type": "code",
   "execution_count": 22,
   "metadata": {},
   "outputs": [
    {
     "name": "stdout",
     "output_type": "stream",
     "text": [
      "2022-04-04 15:44:45,439 INFO sqlalchemy.engine.Engine select relname from pg_class c join pg_namespace n on n.oid=c.relnamespace where pg_catalog.pg_table_is_visible(c.oid) and relname=%(name)s\n",
      "2022-04-04 15:44:45,441 INFO sqlalchemy.engine.Engine [cached since 999.9s ago] {'name': 'SELECT AVG(sepal_length) FROM iris'}\n",
      "2022-04-04 15:44:45,707 INFO sqlalchemy.engine.Engine SELECT AVG(sepal_length) FROM iris\n",
      "2022-04-04 15:44:45,707 INFO sqlalchemy.engine.Engine [generated in 0.00086s] {}\n"
     ]
    },
    {
     "data": {
      "text/html": [
       "<div>\n",
       "<style scoped>\n",
       "    .dataframe tbody tr th:only-of-type {\n",
       "        vertical-align: middle;\n",
       "    }\n",
       "\n",
       "    .dataframe tbody tr th {\n",
       "        vertical-align: top;\n",
       "    }\n",
       "\n",
       "    .dataframe thead th {\n",
       "        text-align: right;\n",
       "    }\n",
       "</style>\n",
       "<table border=\"1\" class=\"dataframe\">\n",
       "  <thead>\n",
       "    <tr style=\"text-align: right;\">\n",
       "      <th></th>\n",
       "      <th>avg</th>\n",
       "    </tr>\n",
       "  </thead>\n",
       "  <tbody>\n",
       "    <tr>\n",
       "      <th>0</th>\n",
       "      <td>5.843333</td>\n",
       "    </tr>\n",
       "  </tbody>\n",
       "</table>\n",
       "</div>"
      ],
      "text/plain": [
       "        avg\n",
       "0  5.843333"
      ]
     },
     "execution_count": 22,
     "metadata": {},
     "output_type": "execute_result"
    }
   ],
   "source": [
    "length = text(\"SELECT AVG(sepal_length) \"\n",
    "             \"FROM iris\")\n",
    "\n",
    "pd.read_sql(length, engine)"
   ]
  },
  {
   "cell_type": "markdown",
   "metadata": {},
   "source": [
    "9. What is the average sepal length for each species?"
   ]
  },
  {
   "cell_type": "code",
   "execution_count": 23,
   "metadata": {},
   "outputs": [
    {
     "name": "stdout",
     "output_type": "stream",
     "text": [
      "2022-04-04 15:48:34,800 INFO sqlalchemy.engine.Engine select relname from pg_class c join pg_namespace n on n.oid=c.relnamespace where pg_catalog.pg_table_is_visible(c.oid) and relname=%(name)s\n",
      "2022-04-04 15:48:34,802 INFO sqlalchemy.engine.Engine [cached since 1229s ago] {'name': 'SELECT species, AVG(sepal_length) FROM iris GROUP BY species'}\n",
      "2022-04-04 15:48:35,068 INFO sqlalchemy.engine.Engine SELECT species, AVG(sepal_length) FROM iris GROUP BY species\n",
      "2022-04-04 15:48:35,068 INFO sqlalchemy.engine.Engine [generated in 0.00070s] {}\n"
     ]
    },
    {
     "data": {
      "text/html": [
       "<div>\n",
       "<style scoped>\n",
       "    .dataframe tbody tr th:only-of-type {\n",
       "        vertical-align: middle;\n",
       "    }\n",
       "\n",
       "    .dataframe tbody tr th {\n",
       "        vertical-align: top;\n",
       "    }\n",
       "\n",
       "    .dataframe thead th {\n",
       "        text-align: right;\n",
       "    }\n",
       "</style>\n",
       "<table border=\"1\" class=\"dataframe\">\n",
       "  <thead>\n",
       "    <tr style=\"text-align: right;\">\n",
       "      <th></th>\n",
       "      <th>species</th>\n",
       "      <th>avg</th>\n",
       "    </tr>\n",
       "  </thead>\n",
       "  <tbody>\n",
       "    <tr>\n",
       "      <th>0</th>\n",
       "      <td>setosa</td>\n",
       "      <td>5.006</td>\n",
       "    </tr>\n",
       "    <tr>\n",
       "      <th>1</th>\n",
       "      <td>virginica</td>\n",
       "      <td>6.588</td>\n",
       "    </tr>\n",
       "    <tr>\n",
       "      <th>2</th>\n",
       "      <td>versicolor</td>\n",
       "      <td>5.936</td>\n",
       "    </tr>\n",
       "  </tbody>\n",
       "</table>\n",
       "</div>"
      ],
      "text/plain": [
       "      species    avg\n",
       "0      setosa  5.006\n",
       "1   virginica  6.588\n",
       "2  versicolor  5.936"
      ]
     },
     "execution_count": 23,
     "metadata": {},
     "output_type": "execute_result"
    }
   ],
   "source": [
    "average_by_species = text(\"SELECT species, AVG(sepal_length) \"\n",
    "             \"FROM iris \"\n",
    "             \"GROUP BY species\")\n",
    "\n",
    "pd.read_sql(average_by_species, engine)"
   ]
  },
  {
   "cell_type": "markdown",
   "metadata": {},
   "source": [
    "10. How many samples of 'virginica' have sepal length < 6?"
   ]
  },
  {
   "cell_type": "code",
   "execution_count": 24,
   "metadata": {},
   "outputs": [
    {
     "name": "stdout",
     "output_type": "stream",
     "text": [
      "2022-04-04 15:49:16,080 INFO sqlalchemy.engine.Engine select relname from pg_class c join pg_namespace n on n.oid=c.relnamespace where pg_catalog.pg_table_is_visible(c.oid) and relname=%(name)s\n",
      "2022-04-04 15:49:16,082 INFO sqlalchemy.engine.Engine [cached since 1271s ago] {'name': \"SELECT COUNT(*) FROM iris WHERE species = 'virginica' AND sepal_length < 6\"}\n",
      "2022-04-04 15:49:16,346 INFO sqlalchemy.engine.Engine SELECT COUNT(*) FROM iris WHERE species = 'virginica' AND sepal_length < 6\n",
      "2022-04-04 15:49:16,346 INFO sqlalchemy.engine.Engine [generated in 0.00080s] {}\n"
     ]
    },
    {
     "data": {
      "text/html": [
       "<div>\n",
       "<style scoped>\n",
       "    .dataframe tbody tr th:only-of-type {\n",
       "        vertical-align: middle;\n",
       "    }\n",
       "\n",
       "    .dataframe tbody tr th {\n",
       "        vertical-align: top;\n",
       "    }\n",
       "\n",
       "    .dataframe thead th {\n",
       "        text-align: right;\n",
       "    }\n",
       "</style>\n",
       "<table border=\"1\" class=\"dataframe\">\n",
       "  <thead>\n",
       "    <tr style=\"text-align: right;\">\n",
       "      <th></th>\n",
       "      <th>count</th>\n",
       "    </tr>\n",
       "  </thead>\n",
       "  <tbody>\n",
       "    <tr>\n",
       "      <th>0</th>\n",
       "      <td>7</td>\n",
       "    </tr>\n",
       "  </tbody>\n",
       "</table>\n",
       "</div>"
      ],
      "text/plain": [
       "   count\n",
       "0      7"
      ]
     },
     "execution_count": 24,
     "metadata": {},
     "output_type": "execute_result"
    }
   ],
   "source": [
    "virginica_6 = text(\"SELECT COUNT(*) \"\n",
    "             \"FROM iris \"\n",
    "             \"WHERE species = 'virginica' \"\n",
    "             \"AND sepal_length < 6\")\n",
    "\n",
    "pd.read_sql(virginica_6, engine)"
   ]
  },
  {
   "cell_type": "markdown",
   "metadata": {},
   "source": [
    "11. For each species, count the number of samples having sepal length < 6:"
   ]
  },
  {
   "cell_type": "code",
   "execution_count": 29,
   "metadata": {},
   "outputs": [
    {
     "name": "stdout",
     "output_type": "stream",
     "text": [
      "2022-04-04 15:51:34,338 INFO sqlalchemy.engine.Engine select relname from pg_class c join pg_namespace n on n.oid=c.relnamespace where pg_catalog.pg_table_is_visible(c.oid) and relname=%(name)s\n",
      "2022-04-04 15:51:34,339 INFO sqlalchemy.engine.Engine [cached since 1409s ago] {'name': 'SELECT species, COUNT(*) FROM iris WHERE sepal_length < 6 GROUP BY species'}\n",
      "2022-04-04 15:51:34,602 INFO sqlalchemy.engine.Engine SELECT species, COUNT(*) FROM iris WHERE sepal_length < 6 GROUP BY species\n",
      "2022-04-04 15:51:34,603 INFO sqlalchemy.engine.Engine [generated in 0.00076s] {}\n"
     ]
    },
    {
     "data": {
      "text/html": [
       "<div>\n",
       "<style scoped>\n",
       "    .dataframe tbody tr th:only-of-type {\n",
       "        vertical-align: middle;\n",
       "    }\n",
       "\n",
       "    .dataframe tbody tr th {\n",
       "        vertical-align: top;\n",
       "    }\n",
       "\n",
       "    .dataframe thead th {\n",
       "        text-align: right;\n",
       "    }\n",
       "</style>\n",
       "<table border=\"1\" class=\"dataframe\">\n",
       "  <thead>\n",
       "    <tr style=\"text-align: right;\">\n",
       "      <th></th>\n",
       "      <th>species</th>\n",
       "      <th>count</th>\n",
       "    </tr>\n",
       "  </thead>\n",
       "  <tbody>\n",
       "    <tr>\n",
       "      <th>0</th>\n",
       "      <td>setosa</td>\n",
       "      <td>50</td>\n",
       "    </tr>\n",
       "    <tr>\n",
       "      <th>1</th>\n",
       "      <td>virginica</td>\n",
       "      <td>7</td>\n",
       "    </tr>\n",
       "    <tr>\n",
       "      <th>2</th>\n",
       "      <td>versicolor</td>\n",
       "      <td>26</td>\n",
       "    </tr>\n",
       "  </tbody>\n",
       "</table>\n",
       "</div>"
      ],
      "text/plain": [
       "      species  count\n",
       "0      setosa     50\n",
       "1   virginica      7\n",
       "2  versicolor     26"
      ]
     },
     "execution_count": 29,
     "metadata": {},
     "output_type": "execute_result"
    }
   ],
   "source": [
    "all_species_6 = text(\"SELECT species, COUNT(*) \"\n",
    "             \"FROM iris \"\n",
    "             \"WHERE sepal_length < 6 \"\n",
    "             \"GROUP BY species\")\n",
    "\n",
    "pd.read_sql(all_species_6, engine)"
   ]
  },
  {
   "cell_type": "code",
   "execution_count": 31,
   "metadata": {},
   "outputs": [
    {
     "name": "stdout",
     "output_type": "stream",
     "text": [
      "2022-04-04 15:57:19,490 INFO sqlalchemy.engine.Engine SELECT country FROM customers\n",
      "2022-04-04 15:57:19,491 INFO sqlalchemy.engine.Engine [generated in 0.00077s] {}\n"
     ]
    },
    {
     "data": {
      "text/plain": [
       "[('France',), ('Japon',)]"
      ]
     },
     "execution_count": 31,
     "metadata": {},
     "output_type": "execute_result"
    }
   ],
   "source": [
    "# test of stmt engine connection\n",
    "\n",
    "conn = engine.connect()\n",
    "\n",
    "stmt = text(\"SELECT country FROM customers\")\n",
    "result = conn.execute(stmt)\n",
    "result.fetchall()"
   ]
  }
 ],
 "metadata": {
  "kernelspec": {
   "display_name": "Python 3",
   "language": "python",
   "name": "python3"
  },
  "language_info": {
   "codemirror_mode": {
    "name": "ipython",
    "version": 3
   },
   "file_extension": ".py",
   "mimetype": "text/x-python",
   "name": "python",
   "nbconvert_exporter": "python",
   "pygments_lexer": "ipython3",
   "version": "3.8.12"
  }
 },
 "nbformat": 4,
 "nbformat_minor": 4
}
