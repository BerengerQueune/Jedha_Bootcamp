{
 "cells": [
  {
   "cell_type": "markdown",
   "metadata": {
    "colab_type": "text",
    "id": "XiHhKZq7RW_F"
   },
   "source": [
    "# Introduction to Boto3\n",
    "\n",
    "## What you will learn in this course 🧐🧐\n",
    "\n",
    "As we are starting to cover a lot of different AWS services, you need to have a programmatic access to them instead of always using the Graphical User Interface (GUI). That is what Boto3 is all about. In this course, we will cover: \n",
    "\n",
    "* Use Boto3 to access any AWS service \n",
    "* Incorporate your AWS credentials to access your AWS account\n",
    "\n",
    "## What is Boto3? 🤔🤔\n",
    "\n",
    "Boto3 is AWS SDK. It will allow you to programmatically access to your AWS account and services. This is especially useful when you need to build a web app or to create ETL processes. \n",
    "\n",
    "> 🙋 **What the heck is an SDK ?!** 🙋<br/>\n",
    "> SDK stands for \"Software Development Kit\". This is basically a kit that provide a set of tools, librairies and documentation to help you utilize someone's service.\n"
   ]
  },
  {
   "cell_type": "code",
   "execution_count": null,
   "metadata": {},
   "outputs": [],
   "source": [
    "# Install boto3 using pip \n",
    "## Add '!' only if you install directly from a Jupyter Notebook\n",
    "!pip install Boto3"
   ]
  },
  {
   "cell_type": "markdown",
   "metadata": {
    "colab_type": "text",
    "id": "sdM5HH6iRmot"
   },
   "source": [
    "## Boto3 Basic commands 🧭🧭\n",
    "\n",
    "You will use Boto3 quite a lot throughout the whole program. You'll see that this SDK is fairly simple to use. However, Boto3 lets you use **ANY** service you need in AWS. Therefore, we'll definitely not going to cover all services that Boto3 allows you to use. Rather, we'll teach how to use basics of Boto3 and teach you how to check the documentation.\n",
    "\n",
    "### Documentation \n",
    "\n",
    "Your best friend when you use Boto3 is **documentation** 📜! Therefore, here is the link for <a href=\"https://boto3.amazonaws.com/v1/documentation/api/latest/guide/quickstart.html\" target=\"_blank\">Boto3 documentation</a>.\n",
    "\n",
    "This will show you how to install Boto3 on your computer but also will give you a quickstart tutorial on how to use it.  \n",
    "\n",
    "There are two main things you need to know about the documentation:\n",
    "\n",
    "- <a href=\"https://boto3.amazonaws.com/v1/documentation/api/latest/guide/quickstart.html\" target=\"_blank\">Quickstart</a>: it's going to make you up & running on Boto3.\n",
    "- <a href=\"https://boto3.amazonaws.com/v1/documentation/api/latest/reference/services/index.html\" target=\"_blank\">Available Services</a>: it's going to list you all the different AWS services that you can access to using Boto3. Once you chose the service you want to use then you can check all available functions that you can use.\n",
    "\n",
    "### Select a resource\n",
    "\n",
    "The first thing you need to do when you are using Boto3 is to set up a session and use a given resource. You can set up a session using `boto3.Session()`."
   ]
  },
  {
   "cell_type": "code",
   "execution_count": 1,
   "metadata": {
    "colab": {},
    "colab_type": "code",
    "id": "QZWIDDE4aej-"
   },
   "outputs": [],
   "source": [
    "import boto3\n",
    "\n",
    "session = boto3.Session()"
   ]
  },
  {
   "cell_type": "markdown",
   "metadata": {
    "colab_type": "text",
    "id": "LttdRtjNa7UH"
   },
   "source": [
    "You need to specify your own access key id & secret access key that you downloaded when you created your IAM user. If you forgot or lost your credentials. You can always do the following: "
   ]
  },
  {
   "cell_type": "markdown",
   "metadata": {},
   "source": [
    "!(https://www.youtube.com/watch?v=O7ofzpnbKN8)"
   ]
  },
  {
   "cell_type": "markdown",
   "metadata": {
    "colab_type": "text",
    "id": "148mkgfNc4bU"
   },
   "source": [
    "Now that you specify your session with the right credentials, you can set-up a resource. Let's take S3 for example: "
   ]
  },
  {
   "cell_type": "code",
   "execution_count": 2,
   "metadata": {
    "colab": {},
    "colab_type": "code",
    "id": "huEr8KK3dAzU"
   },
   "outputs": [],
   "source": [
    "s3 = session.resource(\"s3\")"
   ]
  },
  {
   "cell_type": "markdown",
   "metadata": {
    "colab_type": "text",
    "id": "WAU84b26dTOs"
   },
   "source": [
    "Now you can use all the actions available that boto3 will let you do:"
   ]
  },
  {
   "cell_type": "code",
   "execution_count": 7,
   "metadata": {
    "colab": {
     "base_uri": "https://localhost:8080/",
     "height": 34
    },
    "colab_type": "code",
    "executionInfo": {
     "elapsed": 2098,
     "status": "ok",
     "timestamp": 1576093171756,
     "user": {
      "displayName": "Antoine Krajnc",
      "photoUrl": "https://lh3.googleusercontent.com/a-/AAuE7mC4XzNDVGvURzl4T5duDbMr6bUdhkYkDul_37G0OA=s64",
      "userId": "08465960390418158788"
     },
     "user_tz": -60
    },
    "id": "RzMxOPZEdcNr",
    "outputId": "e9a15a02-7d14-4cf6-b6bc-ffaac348e161"
   },
   "outputs": [],
   "source": [
    "bucket = s3.create_bucket(Bucket=\"bucket-from-notebook-jedha-191798789\", CreateBucketConfiguration={'LocationConstraint': 'eu-west-3'})"
   ]
  },
  {
   "cell_type": "markdown",
   "metadata": {
    "colab_type": "text",
    "id": "qntxQ734eXbP"
   },
   "source": [
    "If you'd like to know more about this function 👉 check <a href=\"https://boto3.amazonaws.com/v1/documentation/api/latest/reference/services/s3.html#S3.ServiceResource.create_bucket\" target=\"_blank\">create_bucket</a>."
   ]
  },
  {
   "cell_type": "markdown",
   "metadata": {},
   "source": [
    "Here is an example of how to dump a dataframe to `.csv` file in your bucket:"
   ]
  },
  {
   "cell_type": "code",
   "execution_count": 8,
   "metadata": {},
   "outputs": [
    {
     "data": {
      "text/html": [
       "<div>\n",
       "<style scoped>\n",
       "    .dataframe tbody tr th:only-of-type {\n",
       "        vertical-align: middle;\n",
       "    }\n",
       "\n",
       "    .dataframe tbody tr th {\n",
       "        vertical-align: top;\n",
       "    }\n",
       "\n",
       "    .dataframe thead th {\n",
       "        text-align: right;\n",
       "    }\n",
       "</style>\n",
       "<table border=\"1\" class=\"dataframe\">\n",
       "  <thead>\n",
       "    <tr style=\"text-align: right;\">\n",
       "      <th></th>\n",
       "      <th>col1</th>\n",
       "      <th>col2</th>\n",
       "    </tr>\n",
       "  </thead>\n",
       "  <tbody>\n",
       "    <tr>\n",
       "      <th>0</th>\n",
       "      <td>1</td>\n",
       "      <td>a1</td>\n",
       "    </tr>\n",
       "    <tr>\n",
       "      <th>1</th>\n",
       "      <td>2</td>\n",
       "      <td>a2</td>\n",
       "    </tr>\n",
       "    <tr>\n",
       "      <th>2</th>\n",
       "      <td>3</td>\n",
       "      <td>a3</td>\n",
       "    </tr>\n",
       "    <tr>\n",
       "      <th>3</th>\n",
       "      <td>4</td>\n",
       "      <td>a4</td>\n",
       "    </tr>\n",
       "  </tbody>\n",
       "</table>\n",
       "</div>"
      ],
      "text/plain": [
       "   col1 col2\n",
       "0     1   a1\n",
       "1     2   a2\n",
       "2     3   a3\n",
       "3     4   a4"
      ]
     },
     "execution_count": 8,
     "metadata": {},
     "output_type": "execute_result"
    }
   ],
   "source": [
    "import pandas as pd\n",
    "data = pd.DataFrame({'col1': [1,2,3,4], 'col2': ['a1','a2','a3','a4']})\n",
    "data.head()"
   ]
  },
  {
   "cell_type": "code",
   "execution_count": 9,
   "metadata": {},
   "outputs": [],
   "source": [
    "csv = data.to_csv()"
   ]
  },
  {
   "cell_type": "code",
   "execution_count": 10,
   "metadata": {},
   "outputs": [],
   "source": [
    "put_object = bucket.put_object(Key=\"test.csv\", Body=csv)"
   ]
  },
  {
   "cell_type": "markdown",
   "metadata": {
    "colab_type": "text",
    "id": "UcFbmVDdZhOT"
   },
   "source": [
    "### Client VS Resource 💻"
   ]
  },
  {
   "cell_type": "markdown",
   "metadata": {
    "colab_type": "text",
    "id": "WuWZirGleoqY"
   },
   "source": [
    "Quite often in the documentation, you will see `s3 = session.client(\"s3\")` instead of `s3 = session.resource(\"s3\")` \n",
    "\n",
    "This happens because there is a slight difference between the two functions. Here is the explanation in a nutshell: \n",
    "\n",
    "- **Resource** : High Level API that is easier to use but will not cover 100% of what you can do with Boto3.\n",
    "- **Client** : Low-level API that will cover 100% of what you can do with Boto3, however, harder to use.\n",
    "\n",
    "If you'd like to know more, definitely check-out this <a href=\"https://stackoverflow.com/questions/42809096/difference-in-boto3-between-resource-client-and-session\" target=\"_blank\">awesome answer on StackOverflow</a>."
   ]
  },
  {
   "cell_type": "markdown",
   "metadata": {
    "colab_type": "text",
    "id": "be0pLmjaf6M_"
   },
   "source": [
    "## Resources 📚\n",
    "\n",
    "- <a href=\"https://boto3.amazonaws.com/v1/documentation/api/latest/guide/quickstart.html\" target=\"_blank\">Boto3 Documentation</a>\n",
    "- <a href=\"https://stackoverflow.com/questions/42809096/difference-in-boto3-between-resource-client-and-session\" target=\"_blank\">Difference in boto3 between resource, client, and session</a>\n",
    "* <a href=\"https://nordicapis.com/what-is-the-difference-between-an-api-and-an-sdk/\" target=\"_blank\">What is the difference between SDK & API</a>"
   ]
  }
 ],
 "metadata": {
  "colab": {
   "collapsed_sections": [],
   "name": "4. Introduction to Boto3.ipynb",
   "provenance": []
  },
  "kernelspec": {
   "display_name": "Python 3",
   "language": "python",
   "name": "python3"
  },
  "language_info": {
   "codemirror_mode": {
    "name": "ipython",
    "version": 3
   },
   "file_extension": ".py",
   "mimetype": "text/x-python",
   "name": "python",
   "nbconvert_exporter": "python",
   "pygments_lexer": "ipython3",
   "version": "3.8.12"
  }
 },
 "nbformat": 4,
 "nbformat_minor": 4
}
