{
 "cells": [
  {
   "cell_type": "markdown",
   "metadata": {
    "colab_type": "text",
    "id": "ZwEXvTBHQpTz"
   },
   "source": [
    "# Understanding unemployment in France \n",
    "\n",
    "Have you ever wondered where the numbers came from when politicians or the media talk about unemployment ? Being a subject of interest in Western countries, let's try to understand what is happening in terms of unemployment in France. For this, we have retrieved data from [data.gouv](https://www.insee.fr/fr/statistiques/3555153#consulter). \n",
    "They represent unemployment data in France in 2017.\n",
    "\n"
   ]
  },
  {
   "cell_type": "markdown",
   "metadata": {
    "colab_type": "text",
    "id": "0Y97GFc4QzSX"
   },
   "source": [
    "## Description of the dataset \n",
    "\n",
    "Have a look at the description of the dataset [here](https://www.insee.fr/fr/statistiques/3555153#documentation)"
   ]
  },
  {
   "cell_type": "markdown",
   "metadata": {
    "colab_type": "text",
    "id": "s77X1TKKcW3s"
   },
   "source": [
    "* Import useful libraries\n",
    "  * pandas \n",
    "  * numpy\n",
    "  * matplotlib "
   ]
  },
  {
   "cell_type": "code",
   "execution_count": 1,
   "metadata": {
    "colab": {},
    "colab_type": "code",
    "id": "waDEF5_2U9bD"
   },
   "outputs": [],
   "source": [
    "import matplotlib.pyplot as plt\n",
    "import pandas as pd\n",
    "import numpy as np"
   ]
  },
  {
   "cell_type": "markdown",
   "metadata": {},
   "source": [
    "### Load the data from fdeec17.csv"
   ]
  },
  {
   "cell_type": "code",
   "execution_count": 2,
   "metadata": {},
   "outputs": [],
   "source": [
    "dataset = pd.read_csv('fdeec17.csv')"
   ]
  },
  {
   "cell_type": "markdown",
   "metadata": {
    "colab_type": "text",
    "id": "DhqXJDXCY49a"
   },
   "source": [
    "* By doing a [pie-chart](https://matplotlib.org/3.1.1/api/_as_gen/matplotlib.pyplot.pie.html), show the share of unemployed, inactive and employed persons in France (from the variable ACTEU). Make sure the following information is displayed : \n",
    "\n",
    "  * The percentage of each category \n",
    "  * A legend "
   ]
  },
  {
   "cell_type": "code",
   "execution_count": 3,
   "metadata": {},
   "outputs": [
    {
     "data": {
      "text/html": [
       "<div>\n",
       "<style scoped>\n",
       "    .dataframe tbody tr th:only-of-type {\n",
       "        vertical-align: middle;\n",
       "    }\n",
       "\n",
       "    .dataframe tbody tr th {\n",
       "        vertical-align: top;\n",
       "    }\n",
       "\n",
       "    .dataframe thead th {\n",
       "        text-align: right;\n",
       "    }\n",
       "</style>\n",
       "<table border=\"1\" class=\"dataframe\">\n",
       "  <thead>\n",
       "    <tr style=\"text-align: right;\">\n",
       "      <th></th>\n",
       "      <th>Unnamed: 0</th>\n",
       "      <th>ANNEE</th>\n",
       "      <th>TRIM</th>\n",
       "      <th>CATAU2010R</th>\n",
       "      <th>METRODOM</th>\n",
       "      <th>TYPMEN7</th>\n",
       "      <th>AGE3</th>\n",
       "      <th>AGE5</th>\n",
       "      <th>COURED</th>\n",
       "      <th>ENFRED</th>\n",
       "      <th>...</th>\n",
       "      <th>DIP11</th>\n",
       "      <th>CSTOTPRM</th>\n",
       "      <th>IDENTM</th>\n",
       "      <th>EXTRIAN</th>\n",
       "      <th>EMPNBH</th>\n",
       "      <th>HREC</th>\n",
       "      <th>HHCE</th>\n",
       "      <th>HPLUSA</th>\n",
       "      <th>JOURTR</th>\n",
       "      <th>NBTOTE</th>\n",
       "    </tr>\n",
       "  </thead>\n",
       "  <tbody>\n",
       "    <tr>\n",
       "      <th>0</th>\n",
       "      <td>0</td>\n",
       "      <td>2017</td>\n",
       "      <td>1</td>\n",
       "      <td>1</td>\n",
       "      <td>1</td>\n",
       "      <td>2</td>\n",
       "      <td>50</td>\n",
       "      <td>50</td>\n",
       "      <td>2</td>\n",
       "      <td>1</td>\n",
       "      <td>...</td>\n",
       "      <td>30.0</td>\n",
       "      <td>52.0</td>\n",
       "      <td>1</td>\n",
       "      <td>263.388752</td>\n",
       "      <td>37.0</td>\n",
       "      <td>NaN</td>\n",
       "      <td>37.0</td>\n",
       "      <td>NaN</td>\n",
       "      <td>5.0</td>\n",
       "      <td>NaN</td>\n",
       "    </tr>\n",
       "    <tr>\n",
       "      <th>1</th>\n",
       "      <td>1</td>\n",
       "      <td>2017</td>\n",
       "      <td>1</td>\n",
       "      <td>1</td>\n",
       "      <td>1</td>\n",
       "      <td>2</td>\n",
       "      <td>15</td>\n",
       "      <td>15</td>\n",
       "      <td>2</td>\n",
       "      <td>2</td>\n",
       "      <td>...</td>\n",
       "      <td>42.0</td>\n",
       "      <td>52.0</td>\n",
       "      <td>1</td>\n",
       "      <td>263.388752</td>\n",
       "      <td>32.0</td>\n",
       "      <td>NaN</td>\n",
       "      <td>32.0</td>\n",
       "      <td>NaN</td>\n",
       "      <td>4.0</td>\n",
       "      <td>NaN</td>\n",
       "    </tr>\n",
       "    <tr>\n",
       "      <th>2</th>\n",
       "      <td>2</td>\n",
       "      <td>2017</td>\n",
       "      <td>1</td>\n",
       "      <td>1</td>\n",
       "      <td>1</td>\n",
       "      <td>2</td>\n",
       "      <td>15</td>\n",
       "      <td>15</td>\n",
       "      <td>2</td>\n",
       "      <td>2</td>\n",
       "      <td>...</td>\n",
       "      <td>31.0</td>\n",
       "      <td>52.0</td>\n",
       "      <td>1</td>\n",
       "      <td>263.388752</td>\n",
       "      <td>38.0</td>\n",
       "      <td>NaN</td>\n",
       "      <td>38.0</td>\n",
       "      <td>NaN</td>\n",
       "      <td>5.0</td>\n",
       "      <td>NaN</td>\n",
       "    </tr>\n",
       "    <tr>\n",
       "      <th>3</th>\n",
       "      <td>3</td>\n",
       "      <td>2017</td>\n",
       "      <td>3</td>\n",
       "      <td>1</td>\n",
       "      <td>1</td>\n",
       "      <td>2</td>\n",
       "      <td>50</td>\n",
       "      <td>50</td>\n",
       "      <td>2</td>\n",
       "      <td>1</td>\n",
       "      <td>...</td>\n",
       "      <td>30.0</td>\n",
       "      <td>52.0</td>\n",
       "      <td>2</td>\n",
       "      <td>176.893923</td>\n",
       "      <td>37.0</td>\n",
       "      <td>NaN</td>\n",
       "      <td>37.0</td>\n",
       "      <td>NaN</td>\n",
       "      <td>5.0</td>\n",
       "      <td>NaN</td>\n",
       "    </tr>\n",
       "    <tr>\n",
       "      <th>4</th>\n",
       "      <td>4</td>\n",
       "      <td>2017</td>\n",
       "      <td>3</td>\n",
       "      <td>1</td>\n",
       "      <td>1</td>\n",
       "      <td>2</td>\n",
       "      <td>15</td>\n",
       "      <td>15</td>\n",
       "      <td>2</td>\n",
       "      <td>2</td>\n",
       "      <td>...</td>\n",
       "      <td>42.0</td>\n",
       "      <td>52.0</td>\n",
       "      <td>2</td>\n",
       "      <td>176.893923</td>\n",
       "      <td>40.0</td>\n",
       "      <td>NaN</td>\n",
       "      <td>32.0</td>\n",
       "      <td>NaN</td>\n",
       "      <td>4.0</td>\n",
       "      <td>NaN</td>\n",
       "    </tr>\n",
       "  </tbody>\n",
       "</table>\n",
       "<p>5 rows × 126 columns</p>\n",
       "</div>"
      ],
      "text/plain": [
       "   Unnamed: 0  ANNEE  TRIM  CATAU2010R  METRODOM  TYPMEN7  AGE3  AGE5  COURED  \\\n",
       "0           0   2017     1           1         1        2    50    50       2   \n",
       "1           1   2017     1           1         1        2    15    15       2   \n",
       "2           2   2017     1           1         1        2    15    15       2   \n",
       "3           3   2017     3           1         1        2    50    50       2   \n",
       "4           4   2017     3           1         1        2    15    15       2   \n",
       "\n",
       "   ENFRED  ...  DIP11  CSTOTPRM  IDENTM     EXTRIAN  EMPNBH  HREC  HHCE  \\\n",
       "0       1  ...   30.0      52.0       1  263.388752    37.0   NaN  37.0   \n",
       "1       2  ...   42.0      52.0       1  263.388752    32.0   NaN  32.0   \n",
       "2       2  ...   31.0      52.0       1  263.388752    38.0   NaN  38.0   \n",
       "3       1  ...   30.0      52.0       2  176.893923    37.0   NaN  37.0   \n",
       "4       2  ...   42.0      52.0       2  176.893923    40.0   NaN  32.0   \n",
       "\n",
       "   HPLUSA  JOURTR  NBTOTE  \n",
       "0     NaN     5.0     NaN  \n",
       "1     NaN     4.0     NaN  \n",
       "2     NaN     5.0     NaN  \n",
       "3     NaN     5.0     NaN  \n",
       "4     NaN     4.0     NaN  \n",
       "\n",
       "[5 rows x 126 columns]"
      ]
     },
     "execution_count": 3,
     "metadata": {},
     "output_type": "execute_result"
    }
   ],
   "source": [
    "dataset.head()"
   ]
  },
  {
   "cell_type": "code",
   "execution_count": 4,
   "metadata": {
    "colab": {
     "base_uri": "https://localhost:8080/",
     "height": 34
    },
    "colab_type": "code",
    "id": "b8yj11mxM_Nf",
    "outputId": "b4565567-f00c-4fcb-c04f-41904d86ade3"
   },
   "outputs": [
    {
     "data": {
      "text/plain": [
       "array([ 1.,  3.,  2., nan])"
      ]
     },
     "execution_count": 4,
     "metadata": {},
     "output_type": "execute_result"
    }
   ],
   "source": [
    "dataset['ACTEU'].unique()"
   ]
  },
  {
   "cell_type": "code",
   "execution_count": 5,
   "metadata": {
    "colab": {},
    "colab_type": "code",
    "id": "4h1KGsteaRRO"
   },
   "outputs": [],
   "source": [
    "chomeurs = dataset['ACTEU'].apply(lambda x: \n",
    "                               \"Actif Occupé\" if x==1 \n",
    "                               else \"Chômeur\" if x == 2\n",
    "                               else \"Inactif\" if x==3 \n",
    "                               else \"NAN\")"
   ]
  },
  {
   "cell_type": "code",
   "execution_count": 6,
   "metadata": {
    "colab": {
     "base_uri": "https://localhost:8080/",
     "height": 102
    },
    "colab_type": "code",
    "id": "tZVEocaXZwVu",
    "outputId": "99c5222a-7831-4cc1-ccdd-ffd46d7dcae1"
   },
   "outputs": [
    {
     "data": {
      "text/plain": [
       "Inactif         207520\n",
       "Actif Occupé    198054\n",
       "Chômeur          21864\n",
       "NAN               1204\n",
       "Name: ACTEU, dtype: int64"
      ]
     },
     "execution_count": 6,
     "metadata": {},
     "output_type": "execute_result"
    }
   ],
   "source": [
    "pie_chart_data = chomeurs.value_counts()\n",
    "pie_chart_data"
   ]
  },
  {
   "cell_type": "code",
   "execution_count": 7,
   "metadata": {
    "colab": {},
    "colab_type": "code",
    "id": "6wqRy7AddQVe"
   },
   "outputs": [],
   "source": [
    "explode = (0.2,0.2,0.5,0.1)"
   ]
  },
  {
   "cell_type": "code",
   "execution_count": 8,
   "metadata": {
    "colab": {
     "base_uri": "https://localhost:8080/",
     "height": 358
    },
    "colab_type": "code",
    "id": "IQYfutZAY3nA",
    "outputId": "a49b6d8b-e693-4490-8a2f-238189535e92"
   },
   "outputs": [
    {
     "data": {
      "image/png": "[encoded data removed]",
      "text/plain": [
       "<Figure size 432x288 with 1 Axes>"
      ]
     },
     "metadata": {},
     "output_type": "display_data"
    }
   ],
   "source": [
    "plt.figure()\n",
    "plt.pie(pie_chart_data.values, labels=pie_chart_data.index,  \n",
    "       autopct='%1.1f%%',\n",
    "       shadow=True, \n",
    "       startangle=90,\n",
    "       explode=explode,\n",
    "       radius=1.5\n",
    "       )\n",
    "plt.legend(bbox_to_anchor=(1.1, 1.05))\n",
    "plt.show()\n"
   ]
  },
  {
   "cell_type": "markdown",
   "metadata": {
    "colab_type": "text",
    "id": "WymEmd73g2Wi"
   },
   "source": [
    "---> The unemployment figure seems low and, if we look at the explanation of the *inactive*, it seems to include a lot of people (students, people not looking for work, etc.)."
   ]
  },
  {
   "cell_type": "markdown",
   "metadata": {
    "colab_type": "text",
    "id": "mX9t8VnQhCu0"
   },
   "source": [
    "* Make the same graph on the variable ACTEU6 which is more precise on the type of actives."
   ]
  },
  {
   "cell_type": "code",
   "execution_count": 9,
   "metadata": {
    "colab": {},
    "colab_type": "code",
    "id": "2GvU42xLbQT0"
   },
   "outputs": [],
   "source": [
    "chomeurs = dataset['ACTEU6'].apply(lambda x: \n",
    "                                \n",
    "                                \"Actif Occupé\" if x == 1 \n",
    "                                else \"Chômeur PSERE\" if x == 3 \n",
    "                                else \"Autre Chômeur BIT\" if x==4 \n",
    "                                else \"Etudiant, élève, stagiaire en formation\" if x == 5\n",
    "                                else \"Autres inactifs (dont retraité)\" if x == 6\n",
    "                                else \"NAN\"\n",
    "                               \n",
    "                               )\n",
    "\n",
    "pie_chart_data = chomeurs.value_counts()"
   ]
  },
  {
   "cell_type": "code",
   "execution_count": 10,
   "metadata": {
    "colab": {
     "base_uri": "https://localhost:8080/",
     "height": 138
    },
    "colab_type": "code",
    "id": "2ndmQN-zjSzW",
    "outputId": "e1aa5363-e983-48d2-c672-53e4118569c5"
   },
   "outputs": [
    {
     "data": {
      "text/plain": [
       "Actif Occupé                               198054\n",
       "Autres inactifs (dont retraité)            172921\n",
       "Etudiant, élève, stagiaire en formation     34599\n",
       "Chômeur PSERE                               20854\n",
       "NAN                                          1204\n",
       "Autre Chômeur BIT                            1010\n",
       "Name: ACTEU6, dtype: int64"
      ]
     },
     "execution_count": 10,
     "metadata": {},
     "output_type": "execute_result"
    }
   ],
   "source": [
    "pie_chart_data"
   ]
  },
  {
   "cell_type": "code",
   "execution_count": 11,
   "metadata": {
    "colab": {
     "base_uri": "https://localhost:8080/",
     "height": 528
    },
    "colab_type": "code",
    "id": "lmFkR5EBh3gU",
    "outputId": "5522b3fb-a82b-4b63-cc20-fc6bb1e495fb"
   },
   "outputs": [
    {
     "data": {
      "image/png": "[encoded data removed]",
      "text/plain": [
       "<Figure size 720x360 with 1 Axes>"
      ]
     },
     "metadata": {},
     "output_type": "display_data"
    }
   ],
   "source": [
    "plt.figure(figsize = (10,5))\n",
    "plt.pie(\n",
    "    pie_chart_data, \n",
    "    autopct = '%1.1f%%',\n",
    "    shadow = True, \n",
    "    startangle = 90,\n",
    "    explode = (0.1, 0.1,0.3,0.6,0.8, 1.3),\n",
    "    radius = 1.5 \n",
    "       )\n",
    "\n",
    "plt.legend(pie_chart_data.index, bbox_to_anchor=(1.1, 1.05))\n",
    "plt.show()\n"
   ]
  },
  {
   "cell_type": "markdown",
   "metadata": {
    "colab_type": "text",
    "id": "EZOe0bmqm8bq"
   },
   "source": [
    "* By ploting a [stacked bar chart](https://pythonmatplotlibtips.blogspot.com/2018/11/normalized-stacked-barplot-number-percentage-python-matplotlib.html), compare :\n",
    "\n",
    "  * The ratio *chômeurs* / *Actifs occupés* \n",
    "  * The ratio *chômeurs* / *Actifs occupés + Inactifs*"
   ]
  },
  {
   "cell_type": "code",
   "execution_count": 12,
   "metadata": {
    "colab": {
     "base_uri": "https://localhost:8080/",
     "height": 102
    },
    "colab_type": "code",
    "id": "mfFcPreepD0Z",
    "outputId": "477d6b48-44cc-475e-c447-fbaf1bbed495"
   },
   "outputs": [
    {
     "data": {
      "text/plain": [
       "Inactif         207520\n",
       "Actif Occupé    198054\n",
       "Chômeur          21864\n",
       "NAN               1204\n",
       "Name: ACTEU, dtype: int64"
      ]
     },
     "execution_count": 12,
     "metadata": {},
     "output_type": "execute_result"
    }
   ],
   "source": [
    "# On recréé les données dont on a besoin \n",
    "chomeurs = dataset['ACTEU'].apply(lambda x: \n",
    "                               \"Actif Occupé\" if x==1 \n",
    "                               else \"Chômeur\" if x == 2\n",
    "                               else \"Inactif\" if x==3 \n",
    "                               else \"NAN\")\n",
    "\n",
    "chart_data = chomeurs.value_counts()\n",
    "chart_data"
   ]
  },
  {
   "cell_type": "code",
   "execution_count": 13,
   "metadata": {
    "colab": {
     "base_uri": "https://localhost:8080/",
     "height": 51
    },
    "colab_type": "code",
    "id": "acS4ybNVpP69",
    "outputId": "f5263aa5-5117-4c15-b3ce-ff6af6d7386e"
   },
   "outputs": [
    {
     "name": "stdout",
     "output_type": "stream",
     "text": [
      "Rapports de chômeurs\n",
      " [0.11039413493289708, 0.05390878113488537]\n"
     ]
    }
   ],
   "source": [
    "chom_actif = chart_data[2] / chart_data[1]\n",
    "chom_actif_inactif = chart_data[2] / (chart_data[1] + chart_data[0])\n",
    "\n",
    "data = [chom_actif, chom_actif_inactif]\n",
    "print(\"Rapports de chômeurs\\n {}\".format(data))"
   ]
  },
  {
   "cell_type": "code",
   "execution_count": 14,
   "metadata": {
    "colab": {
     "base_uri": "https://localhost:8080/",
     "height": 51
    },
    "colab_type": "code",
    "id": "vzJkrRXKuSFE",
    "outputId": "a5bcd9e4-2458-44b7-b6e4-567804e48783"
   },
   "outputs": [
    {
     "name": "stdout",
     "output_type": "stream",
     "text": [
      "Rapports d'actifs\n",
      " [0.88960587 0.94609122]\n"
     ]
    }
   ],
   "source": [
    "data_actifs = np.array([1,1]) - data\n",
    "print(\"Rapports d'actifs\\n {}\".format(data_actifs))"
   ]
  },
  {
   "cell_type": "code",
   "execution_count": 15,
   "metadata": {
    "colab": {
     "base_uri": "https://localhost:8080/",
     "height": 34
    },
    "colab_type": "code",
    "id": "QEuOlrL-rP-3",
    "outputId": "49b914ee-c26f-4cb0-c980-2a33d7b0101f"
   },
   "outputs": [
    {
     "data": {
      "text/plain": [
       "['Chômeurs / Actifs Occupés', 'Chômeurs / Actifs + Inactifs']"
      ]
     },
     "execution_count": 15,
     "metadata": {},
     "output_type": "execute_result"
    }
   ],
   "source": [
    "legend = [\"Chômeurs / Actifs Occupés\", \"Chômeurs / Actifs + Inactifs\"]\n",
    "legend"
   ]
  },
  {
   "cell_type": "code",
   "execution_count": 16,
   "metadata": {
    "colab": {},
    "colab_type": "code",
    "id": "0DSV0px9fpwo"
   },
   "outputs": [
    {
     "name": "stdout",
     "output_type": "stream",
     "text": [
      "\u001b[1;31mSignature:\u001b[0m \u001b[0mplt\u001b[0m\u001b[1;33m.\u001b[0m\u001b[0mtext\u001b[0m\u001b[1;33m(\u001b[0m\u001b[0mx\u001b[0m\u001b[1;33m,\u001b[0m \u001b[0my\u001b[0m\u001b[1;33m,\u001b[0m \u001b[0ms\u001b[0m\u001b[1;33m,\u001b[0m \u001b[0mfontdict\u001b[0m\u001b[1;33m=\u001b[0m\u001b[1;32mNone\u001b[0m\u001b[1;33m,\u001b[0m \u001b[1;33m**\u001b[0m\u001b[0mkwargs\u001b[0m\u001b[1;33m)\u001b[0m\u001b[1;33m\u001b[0m\u001b[1;33m\u001b[0m\u001b[0m\n",
      "\u001b[1;31mDocstring:\u001b[0m\n",
      "Add text to the Axes.\n",
      "\n",
      "Add the text *s* to the Axes at location *x*, *y* in data coordinates.\n",
      "\n",
      "Parameters\n",
      "----------\n",
      "x, y : float\n",
      "    The position to place the text. By default, this is in data\n",
      "    coordinates. The coordinate system can be changed using the\n",
      "    *transform* parameter.\n",
      "\n",
      "s : str\n",
      "    The text.\n",
      "\n",
      "fontdict : dict, default: None\n",
      "    A dictionary to override the default text properties. If fontdict\n",
      "    is None, the defaults are determined by `.rcParams`.\n",
      "\n",
      "Returns\n",
      "-------\n",
      "`.Text`\n",
      "    The created `.Text` instance.\n",
      "\n",
      "Other Parameters\n",
      "----------------\n",
      "**kwargs : `~matplotlib.text.Text` properties.\n",
      "    Other miscellaneous text parameters.\n",
      "\n",
      "    Properties:\n",
      "    agg_filter: a filter function, which takes a (m, n, 3) float array and a dpi value, and returns a (m, n, 3) array\n",
      "    alpha: scalar or None\n",
      "    animated: bool\n",
      "    backgroundcolor: color\n",
      "    bbox: dict with properties for `.patches.FancyBboxPatch`\n",
      "    clip_box: `.Bbox`\n",
      "    clip_on: bool\n",
      "    clip_path: Patch or (Path, Transform) or None\n",
      "    color or c: color\n",
      "    contains: unknown\n",
      "    figure: `.Figure`\n",
      "    fontfamily or family: {FONTNAME, 'serif', 'sans-serif', 'cursive', 'fantasy', 'monospace'}\n",
      "    fontproperties or font or font_properties: `.font_manager.FontProperties` or `str` or `pathlib.Path`\n",
      "    fontsize or size: float or {'xx-small', 'x-small', 'small', 'medium', 'large', 'x-large', 'xx-large'}\n",
      "    fontstretch or stretch: {a numeric value in range 0-1000, 'ultra-condensed', 'extra-condensed', 'condensed', 'semi-condensed', 'normal', 'semi-expanded', 'expanded', 'extra-expanded', 'ultra-expanded'}\n",
      "    fontstyle or style: {'normal', 'italic', 'oblique'}\n",
      "    fontvariant or variant: {'normal', 'small-caps'}\n",
      "    fontweight or weight: {a numeric value in range 0-1000, 'ultralight', 'light', 'normal', 'regular', 'book', 'medium', 'roman', 'semibold', 'demibold', 'demi', 'bold', 'heavy', 'extra bold', 'black'}\n",
      "    gid: str\n",
      "    horizontalalignment or ha: {'center', 'right', 'left'}\n",
      "    in_layout: bool\n",
      "    label: object\n",
      "    linespacing: float (multiple of font size)\n",
      "    math_fontfamily: str\n",
      "    multialignment or ma: {'left', 'right', 'center'}\n",
      "    path_effects: `.AbstractPathEffect`\n",
      "    picker: None or bool or float or callable\n",
      "    position: (float, float)\n",
      "    rasterized: bool\n",
      "    rotation: float or {'vertical', 'horizontal'}\n",
      "    rotation_mode: {None, 'default', 'anchor'}\n",
      "    sketch_params: (scale: float, length: float, randomness: float)\n",
      "    snap: bool or None\n",
      "    text: object\n",
      "    transform: `.Transform`\n",
      "    transform_rotates_text: bool\n",
      "    url: str\n",
      "    usetex: bool or None\n",
      "    verticalalignment or va: {'center', 'top', 'bottom', 'baseline', 'center_baseline'}\n",
      "    visible: bool\n",
      "    wrap: bool\n",
      "    x: float\n",
      "    y: float\n",
      "    zorder: float\n",
      "\n",
      "Examples\n",
      "--------\n",
      "Individual keyword arguments can be used to override any given\n",
      "parameter::\n",
      "\n",
      "    >>> text(x, y, s, fontsize=12)\n",
      "\n",
      "The default transform specifies that text is in data coords,\n",
      "alternatively, you can specify text in axis coords ((0, 0) is\n",
      "lower-left and (1, 1) is upper-right).  The example below places\n",
      "text in the center of the Axes::\n",
      "\n",
      "    >>> text(0.5, 0.5, 'matplotlib', horizontalalignment='center',\n",
      "    ...      verticalalignment='center', transform=ax.transAxes)\n",
      "\n",
      "You can put a rectangular box around the text instance (e.g., to\n",
      "set a background color) by using the keyword *bbox*.  *bbox* is\n",
      "a dictionary of `~matplotlib.patches.Rectangle`\n",
      "properties.  For example::\n",
      "\n",
      "    >>> text(x, y, s, bbox=dict(facecolor='red', alpha=0.5))\n",
      "\u001b[1;31mFile:\u001b[0m      c:\\users\\berenger\\anaconda3\\lib\\site-packages\\matplotlib\\pyplot.py\n",
      "\u001b[1;31mType:\u001b[0m      function\n"
     ]
    }
   ],
   "source": [
    "plt.text?"
   ]
  },
  {
   "cell_type": "code",
   "execution_count": 17,
   "metadata": {
    "colab": {
     "base_uri": "https://localhost:8080/",
     "height": 282
    },
    "colab_type": "code",
    "id": "HUs4NJTyh7Vo",
    "outputId": "7161b3c1-4845-4a50-b0ad-f23117f73a30"
   },
   "outputs": [
    {
     "data": {
      "image/png": "[encoded data removed]",
      "text/plain": [
       "<Figure size 432x288 with 1 Axes>"
      ]
     },
     "metadata": {
      "needs_background": "light"
     },
     "output_type": "display_data"
    }
   ],
   "source": [
    "# Create two bar charts who will be surperposed\n",
    "## Don't forget to use two ax.bar()\n",
    "## To create legends, we can use ax1.text()\n",
    "## To create a title, we can yse ax1.set_title()\n",
    "\n",
    "plt.figure()\n",
    "\n",
    "plt.bar(legend, \n",
    "         data,\n",
    "        label=\"Chômeurs\")\n",
    "\n",
    "plt.bar(legend,\n",
    "        data_actifs, \n",
    "        bottom=data,\n",
    "        label=\"Non-Chômeurs\")\n",
    "\n",
    "plt.text(legend[0], 0.6, np.round(data_actifs[0],2), ha = \"center\", va = \"center\")\n",
    "plt.text(legend[0], 0.05, np.round(data[0],2), ha = \"center\", va = \"center\")\n",
    "\n",
    "plt.text(legend[1], 0.6, np.round(data_actifs[1],2), ha = \"center\", va = \"center\")\n",
    "plt.text(legend[1], 0.025, np.round(data[1],2), ha = \"center\", va = \"center\")\n",
    "\n",
    "plt.legend()\n",
    "plt.title(\"Répartition des chômeurs par rapport à la population active & la population totale\")\n",
    "\n",
    "plt.show()\n"
   ]
  },
  {
   "cell_type": "markdown",
   "metadata": {
    "colab_type": "text",
    "id": "rjhLdoc9v6PM"
   },
   "source": [
    "It seems that we were 11% unemployed among the active (working) population in France in 2017 according to the ILO."
   ]
  },
  {
   "cell_type": "markdown",
   "metadata": {
    "colab_type": "text",
    "id": "imCCe_2byFzg"
   },
   "source": [
    "* By creating a [*bar chart*](https://matplotlib.org/3.1.1/api/_as_gen/matplotlib.pyplot.bar.html) again, this time look at the distribution of unemployment seniority. The name of the variable is ANCCHOM"
   ]
  },
  {
   "cell_type": "code",
   "execution_count": 18,
   "metadata": {
    "colab": {
     "base_uri": "https://localhost:8080/",
     "height": 190
    },
    "colab_type": "code",
    "id": "LRVh9ARMojIJ",
    "outputId": "1e7a6382-c427-487b-8c72-99d489b8c46a"
   },
   "outputs": [
    {
     "data": {
      "text/plain": [
       "NAN                                 406904\n",
       "3 ans ou plus                         3906\n",
       "De 6 mois à moins d'un an             3648\n",
       "De 1 an à moins d'un an et demi       3398\n",
       "De 1 mois à moins de 3 mois           3270\n",
       "De 3 mois à moins de 6 mois           3193\n",
       "De 2 ans à moins de 3 ans             2289\n",
       "De 1 an et demi à moins de 2 ans      1132\n",
       "Moins d'un mois                        902\n",
       "Name: ANCCHOM, dtype: int64"
      ]
     },
     "execution_count": 18,
     "metadata": {},
     "output_type": "execute_result"
    }
   ],
   "source": [
    "duree_chomage = dataset['ANCCHOM'].apply(lambda x: \n",
    "                                       \"Moins d'un mois\" if x==1 \n",
    "                                       else \"De 1 mois à moins de 3 mois\" if x == 2\n",
    "                                       else \"De 3 mois à moins de 6 mois\" if x == 3\n",
    "                                       else \"De 3 mois à moins de 6 mois\" if x == 3\n",
    "                                       else \"De 6 mois à moins d'un an\" if x == 4\n",
    "                                       else \"De 1 an à moins d'un an et demi\" if x == 5\n",
    "                                       else \"De 1 an et demi à moins de 2 ans\" if x == 6\n",
    "                                       else \"De 2 ans à moins de 3 ans\" if x == 7\n",
    "                                       else \"3 ans ou plus\" if x == 8\n",
    "                                       else \"NAN\")\n",
    "\n",
    "chart_data = duree_chomage.value_counts()\n",
    "chart_data"
   ]
  },
  {
   "cell_type": "code",
   "execution_count": 19,
   "metadata": {
    "colab": {
     "base_uri": "https://localhost:8080/",
     "height": 360
    },
    "colab_type": "code",
    "id": "VBK072x20tcu",
    "outputId": "2838b787-df17-4d01-d33f-0fbbc8ee7e97"
   },
   "outputs": [
    {
     "data": {
      "text/plain": [
       "<BarContainer object of 8 artists>"
      ]
     },
     "execution_count": 19,
     "metadata": {},
     "output_type": "execute_result"
    },
    {
     "data": {
      "image/png": "[encoded data removed]",
      "text/plain": [
       "<Figure size 1800x360 with 1 Axes>"
      ]
     },
     "metadata": {
      "needs_background": "light"
     },
     "output_type": "display_data"
    }
   ],
   "source": [
    "plt.figure(figsize=(25,5))\n",
    "plt.bar(chart_data.index[1:], chart_data.values[1:])"
   ]
  },
  {
   "cell_type": "markdown",
   "metadata": {
    "colab_type": "text",
    "id": "SOZ0dz4k2tMY"
   },
   "source": [
    "* The distribution doesn't look good on the bar chart, try doing it again on a piechart. "
   ]
  },
  {
   "cell_type": "code",
   "execution_count": 20,
   "metadata": {
    "colab": {
     "base_uri": "https://localhost:8080/",
     "height": 443
    },
    "colab_type": "code",
    "id": "MA-ApYQu1CK5",
    "outputId": "2dc50791-9d17-4bd1-db33-833e77bcaf67"
   },
   "outputs": [
    {
     "data": {
      "image/png": "[encoded data removed]",
      "text/plain": [
       "<Figure size 720x360 with 1 Axes>"
      ]
     },
     "metadata": {},
     "output_type": "display_data"
    }
   ],
   "source": [
    "plt.figure(figsize=(10,5))\n",
    "plt.pie(chart_data[1:], \n",
    "       autopct='%1.1f%%',\n",
    "       shadow=True, \n",
    "       startangle=90,\n",
    "       radius=1.5\n",
    "       )\n",
    "plt.legend(chart_data.index[1:], bbox_to_anchor=(1.1, 1.05))\n",
    "plt.show()\n"
   ]
  },
  {
   "cell_type": "markdown",
   "metadata": {
    "colab_type": "text",
    "id": "8LIfy88y5cnO"
   },
   "source": [
    "* It would be interesting to see the distribution of people registered with Pôle Emploi or an employment agency among these unemployed people. Look at this distribution thanks to the CONTACT column \n",
    "  * Directly remove the NaN from your chart"
   ]
  },
  {
   "cell_type": "code",
   "execution_count": 21,
   "metadata": {
    "colab": {
     "base_uri": "https://localhost:8080/",
     "height": 86
    },
    "colab_type": "code",
    "id": "Xviz1js24gOu",
    "outputId": "b99b648a-29c7-4736-9028-8b42febfec15"
   },
   "outputs": [
    {
     "data": {
      "text/plain": [
       "NAN    399514\n",
       "Non     15984\n",
       "Oui     13144\n",
       "Name: CONTACT, dtype: int64"
      ]
     },
     "execution_count": 21,
     "metadata": {},
     "output_type": "execute_result"
    }
   ],
   "source": [
    "contact = dataset['CONTACT'].apply(lambda x: \n",
    "                                       \"Oui\" if x == 1 \n",
    "                                       else \"Non\" if x == 2\n",
    "                                       else \"NAN\")\n",
    "\n",
    "chart_data = contact.value_counts()\n",
    "chart_data"
   ]
  },
  {
   "cell_type": "code",
   "execution_count": 22,
   "metadata": {
    "colab": {
     "base_uri": "https://localhost:8080/",
     "height": 281
    },
    "colab_type": "code",
    "id": "QfwY4DH26QCV",
    "outputId": "633d42a3-67d6-44dc-b47f-0f0abb4b066d"
   },
   "outputs": [
    {
     "data": {
      "image/png": "[encoded data removed]",
      "text/plain": [
       "<Figure size 432x288 with 1 Axes>"
      ]
     },
     "metadata": {
      "needs_background": "light"
     },
     "output_type": "display_data"
    }
   ],
   "source": [
    "plt.bar(chart_data[1:].index, chart_data[1:].values)\n",
    "plt.title(\"Inscription dans un organisme de placement\")\n",
    "plt.show()"
   ]
  },
  {
   "cell_type": "markdown",
   "metadata": {
    "colab_type": "text",
    "id": "SizUWI_f7pgw"
   },
   "source": [
    "* Regardons ce qui pousse les français à changer d'emploi, grâce à la colonne CREACCP, crééz un bar chart horizontale qui va permettre de connaitre les principales raisons de changement d'emploi des français. "
   ]
  },
  {
   "cell_type": "code",
   "execution_count": 23,
   "metadata": {
    "colab": {
     "base_uri": "https://localhost:8080/",
     "height": 255
    },
    "colab_type": "code",
    "id": "XtoXCk5r6jcD",
    "outputId": "a39a4abf-7b69-4632-941d-f2c40be50c11"
   },
   "outputs": [
    {
     "data": {
      "text/plain": [
       "Doit ou veut déménager                                                                   216\n",
       "Veut s'installer à son compte                                                            354\n",
       "Désire diminuer son temps de transport                                                   598\n",
       "Désire un travail avec un rythme horaire plus adapté ou plus modulable                  1102\n",
       "Trouve l'ambiance de travail mauvaise, les relations de travail conflictuelles          1223\n",
       "Veut changer de métier ou de secteur                                                    1392\n",
       "Veut travailler plus d'heures                                                           1404\n",
       "Risque de perdre ou va perdre son emploi actuel (y compris fin de contrats courts)      1582\n",
       "Désire des conditions de travail moins pénibles ou plus adaptées à sa santé             1820\n",
       "Veut un emploi plus stable (CDI)                                                        2462\n",
       "Désire un emploi plus intéressant                                                       2779\n",
       "Désire augmenter ses revenus                                                            6775\n",
       "NAN                                                                                   406935\n",
       "Name: CREACCP, dtype: int64"
      ]
     },
     "execution_count": 23,
     "metadata": {},
     "output_type": "execute_result"
    }
   ],
   "source": [
    "creaccp = dataset['CREACCP'].apply(lambda x: \n",
    "                                \n",
    "                                \"Risque de perdre ou va perdre son emploi actuel (y compris fin de contrats courts)\" if x == 1 \n",
    "                                else \"Désire un emploi plus intéressant\" if x == 2\n",
    "                                else \"Veut un emploi plus stable (CDI)\" if x == 3\n",
    "                                else \"Veut travailler plus d'heures\" if x == 4\n",
    "                                else \"Désire un travail avec un rythme horaire plus adapté ou plus modulable\" if x == 5\n",
    "                                else \"Désire des conditions de travail moins pénibles ou plus adaptées à sa santé\" if x == 6\n",
    "                                else \"Désire augmenter ses revenus\" if x == 7\n",
    "                                else \"Désire diminuer son temps de transport\" if x == 8\n",
    "                                else \"Doit ou veut déménager\" if x == 9\n",
    "                                else \"Veut s'installer à son compte\" if x == 10\n",
    "                                else \"Veut changer de métier ou de secteur\" if x == 11\n",
    "                                else \"Trouve l'ambiance de travail mauvaise, les relations de travail conflictuelles\" if x == 12\n",
    "                                else \"NAN\")\n",
    "\n",
    "chart_data = creaccp.value_counts(ascending=True)\n",
    "chart_data"
   ]
  },
  {
   "cell_type": "code",
   "execution_count": 24,
   "metadata": {
    "colab": {
     "base_uri": "https://localhost:8080/",
     "height": 34
    },
    "colab_type": "code",
    "id": "lC71A0zC890B",
    "outputId": "56e48a6f-2a23-404d-ab00-4af2aff8c30c"
   },
   "outputs": [
    {
     "name": "stdout",
     "output_type": "stream",
     "text": [
      "21707\n"
     ]
    }
   ],
   "source": [
    "s = np.sum(chart_data.values[:-1])\n",
    "print(s)"
   ]
  },
  {
   "cell_type": "code",
   "execution_count": 25,
   "metadata": {
    "colab": {
     "base_uri": "https://localhost:8080/",
     "height": 34
    },
    "colab_type": "code",
    "id": "fMlBDKUr-m-W",
    "outputId": "c6f1ebe3-f650-4113-b20a-d329d8cb158f"
   },
   "outputs": [
    {
     "data": {
      "text/plain": [
       "[1.0, 1.63, 2.75, 5.08, 5.63, 6.41, 6.47, 7.29, 8.38, 11.34, 12.8, 31.21]"
      ]
     },
     "execution_count": 25,
     "metadata": {},
     "output_type": "execute_result"
    }
   ],
   "source": [
    "repartition = [np.round(element/s*100,2) for element in chart_data.values[:-1]]\n",
    "repartition"
   ]
  },
  {
   "cell_type": "code",
   "execution_count": 26,
   "metadata": {
    "colab": {
     "base_uri": "https://localhost:8080/",
     "height": 316
    },
    "colab_type": "code",
    "id": "I3j4qraB-9GU",
    "outputId": "e51e3129-3726-4e7f-f61a-6dc986b80156"
   },
   "outputs": [
    {
     "data": {
      "image/png": "[encoded data removed]",
      "text/plain": [
       "<Figure size 432x288 with 1 Axes>"
      ]
     },
     "metadata": {
      "needs_background": "light"
     },
     "output_type": "display_data"
    }
   ],
   "source": [
    "plt.title(\"classement des raisons pour lesquelles les français veulent changer de job\")\n",
    "plt.barh(chart_data.index[:-1], repartition)\n",
    "plt.xlabel(\"Répartition en Pourcentage\")\n",
    "\n",
    "\n",
    "for i in range(len(repartition)):\n",
    "    plt.text(repartition[i], chart_data.index[:-1][i],'{}%'.format(repartition[i]))\n",
    "    \n",
    "plt.show()"
   ]
  },
  {
   "cell_type": "markdown",
   "metadata": {
    "colab_type": "text",
    "id": "u7eu0Y2XDnAF"
   },
   "source": [
    "* Let's end this exercise by looking at the distribution of desired hours for those looking for part-time work. To do this, use the HREC column. \n",
    "\n",
    "  * First try to simply create a histogram without the density function. \n",
    "  * To create the density function, you will need to use the following formula: \n",
    "      ```y = ((1 / (np.sqrt(2 * np.pi) * sigma)) * np.exp(-0.5 * (1 / sigma * (bins - mu))**2))```\n",
    "     \n",
    "     where *mu* is the mean of the distribution and *sigma* is the standard deviation.  You can help yourself with this tutorial [histogram with Density](https://matplotlib.org/3.1.1/gallery/statistics/histogram_features.html)"
   ]
  },
  {
   "cell_type": "code",
   "execution_count": 27,
   "metadata": {
    "colab": {},
    "colab_type": "code",
    "id": "JSHIceUQEqme"
   },
   "outputs": [],
   "source": [
    "num_bins=len(dataset['HREC'].value_counts())"
   ]
  },
  {
   "cell_type": "code",
   "execution_count": 28,
   "metadata": {
    "colab": {},
    "colab_type": "code",
    "id": "K2nnd1ZCjdwT"
   },
   "outputs": [
    {
     "name": "stdout",
     "output_type": "stream",
     "text": [
      "\u001b[1;31mSignature:\u001b[0m\n",
      "\u001b[0mplt\u001b[0m\u001b[1;33m.\u001b[0m\u001b[0mhist\u001b[0m\u001b[1;33m(\u001b[0m\u001b[1;33m\n",
      "\u001b[0m    \u001b[0mx\u001b[0m\u001b[1;33m,\u001b[0m\u001b[1;33m\n",
      "\u001b[0m    \u001b[0mbins\u001b[0m\u001b[1;33m=\u001b[0m\u001b[1;32mNone\u001b[0m\u001b[1;33m,\u001b[0m\u001b[1;33m\n",
      "\u001b[0m    \u001b[0mrange\u001b[0m\u001b[1;33m=\u001b[0m\u001b[1;32mNone\u001b[0m\u001b[1;33m,\u001b[0m\u001b[1;33m\n",
      "\u001b[0m    \u001b[0mdensity\u001b[0m\u001b[1;33m=\u001b[0m\u001b[1;32mFalse\u001b[0m\u001b[1;33m,\u001b[0m\u001b[1;33m\n",
      "\u001b[0m    \u001b[0mweights\u001b[0m\u001b[1;33m=\u001b[0m\u001b[1;32mNone\u001b[0m\u001b[1;33m,\u001b[0m\u001b[1;33m\n",
      "\u001b[0m    \u001b[0mcumulative\u001b[0m\u001b[1;33m=\u001b[0m\u001b[1;32mFalse\u001b[0m\u001b[1;33m,\u001b[0m\u001b[1;33m\n",
      "\u001b[0m    \u001b[0mbottom\u001b[0m\u001b[1;33m=\u001b[0m\u001b[1;32mNone\u001b[0m\u001b[1;33m,\u001b[0m\u001b[1;33m\n",
      "\u001b[0m    \u001b[0mhisttype\u001b[0m\u001b[1;33m=\u001b[0m\u001b[1;34m'bar'\u001b[0m\u001b[1;33m,\u001b[0m\u001b[1;33m\n",
      "\u001b[0m    \u001b[0malign\u001b[0m\u001b[1;33m=\u001b[0m\u001b[1;34m'mid'\u001b[0m\u001b[1;33m,\u001b[0m\u001b[1;33m\n",
      "\u001b[0m    \u001b[0morientation\u001b[0m\u001b[1;33m=\u001b[0m\u001b[1;34m'vertical'\u001b[0m\u001b[1;33m,\u001b[0m\u001b[1;33m\n",
      "\u001b[0m    \u001b[0mrwidth\u001b[0m\u001b[1;33m=\u001b[0m\u001b[1;32mNone\u001b[0m\u001b[1;33m,\u001b[0m\u001b[1;33m\n",
      "\u001b[0m    \u001b[0mlog\u001b[0m\u001b[1;33m=\u001b[0m\u001b[1;32mFalse\u001b[0m\u001b[1;33m,\u001b[0m\u001b[1;33m\n",
      "\u001b[0m    \u001b[0mcolor\u001b[0m\u001b[1;33m=\u001b[0m\u001b[1;32mNone\u001b[0m\u001b[1;33m,\u001b[0m\u001b[1;33m\n",
      "\u001b[0m    \u001b[0mlabel\u001b[0m\u001b[1;33m=\u001b[0m\u001b[1;32mNone\u001b[0m\u001b[1;33m,\u001b[0m\u001b[1;33m\n",
      "\u001b[0m    \u001b[0mstacked\u001b[0m\u001b[1;33m=\u001b[0m\u001b[1;32mFalse\u001b[0m\u001b[1;33m,\u001b[0m\u001b[1;33m\n",
      "\u001b[0m    \u001b[1;33m*\u001b[0m\u001b[1;33m,\u001b[0m\u001b[1;33m\n",
      "\u001b[0m    \u001b[0mdata\u001b[0m\u001b[1;33m=\u001b[0m\u001b[1;32mNone\u001b[0m\u001b[1;33m,\u001b[0m\u001b[1;33m\n",
      "\u001b[0m    \u001b[1;33m**\u001b[0m\u001b[0mkwargs\u001b[0m\u001b[1;33m,\u001b[0m\u001b[1;33m\n",
      "\u001b[0m\u001b[1;33m)\u001b[0m\u001b[1;33m\u001b[0m\u001b[1;33m\u001b[0m\u001b[0m\n",
      "\u001b[1;31mDocstring:\u001b[0m\n",
      "Plot a histogram.\n",
      "\n",
      "Compute and draw the histogram of *x*.  The return value is a tuple\n",
      "(*n*, *bins*, *patches*) or ([*n0*, *n1*, ...], *bins*, [*patches0*,\n",
      "*patches1*, ...]) if the input contains multiple data.  See the\n",
      "documentation of the *weights* parameter to draw a histogram of\n",
      "already-binned data.\n",
      "\n",
      "Multiple data can be provided via *x* as a list of datasets\n",
      "of potentially different length ([*x0*, *x1*, ...]), or as\n",
      "a 2D ndarray in which each column is a dataset.  Note that\n",
      "the ndarray form is transposed relative to the list form.\n",
      "\n",
      "Masked arrays are not supported.\n",
      "\n",
      "The *bins*, *range*, *weights*, and *density* parameters behave as in\n",
      "`numpy.histogram`.\n",
      "\n",
      "Parameters\n",
      "----------\n",
      "x : (n,) array or sequence of (n,) arrays\n",
      "    Input values, this takes either a single array or a sequence of\n",
      "    arrays which are not required to be of the same length.\n",
      "\n",
      "bins : int or sequence or str, default: :rc:`hist.bins`\n",
      "    If *bins* is an integer, it defines the number of equal-width bins\n",
      "    in the range.\n",
      "\n",
      "    If *bins* is a sequence, it defines the bin edges, including the\n",
      "    left edge of the first bin and the right edge of the last bin;\n",
      "    in this case, bins may be unequally spaced.  All but the last\n",
      "    (righthand-most) bin is half-open.  In other words, if *bins* is::\n",
      "\n",
      "        [1, 2, 3, 4]\n",
      "\n",
      "    then the first bin is ``[1, 2)`` (including 1, but excluding 2) and\n",
      "    the second ``[2, 3)``.  The last bin, however, is ``[3, 4]``, which\n",
      "    *includes* 4.\n",
      "\n",
      "    If *bins* is a string, it is one of the binning strategies\n",
      "    supported by `numpy.histogram_bin_edges`: 'auto', 'fd', 'doane',\n",
      "    'scott', 'stone', 'rice', 'sturges', or 'sqrt'.\n",
      "\n",
      "range : tuple or None, default: None\n",
      "    The lower and upper range of the bins. Lower and upper outliers\n",
      "    are ignored. If not provided, *range* is ``(x.min(), x.max())``.\n",
      "    Range has no effect if *bins* is a sequence.\n",
      "\n",
      "    If *bins* is a sequence or *range* is specified, autoscaling\n",
      "    is based on the specified bin range instead of the\n",
      "    range of x.\n",
      "\n",
      "density : bool, default: False\n",
      "    If ``True``, draw and return a probability density: each bin\n",
      "    will display the bin's raw count divided by the total number of\n",
      "    counts *and the bin width*\n",
      "    (``density = counts / (sum(counts) * np.diff(bins))``),\n",
      "    so that the area under the histogram integrates to 1\n",
      "    (``np.sum(density * np.diff(bins)) == 1``).\n",
      "\n",
      "    If *stacked* is also ``True``, the sum of the histograms is\n",
      "    normalized to 1.\n",
      "\n",
      "weights : (n,) array-like or None, default: None\n",
      "    An array of weights, of the same shape as *x*.  Each value in\n",
      "    *x* only contributes its associated weight towards the bin count\n",
      "    (instead of 1).  If *density* is ``True``, the weights are\n",
      "    normalized, so that the integral of the density over the range\n",
      "    remains 1.\n",
      "\n",
      "    This parameter can be used to draw a histogram of data that has\n",
      "    already been binned, e.g. using `numpy.histogram` (by treating each\n",
      "    bin as a single point with a weight equal to its count) ::\n",
      "\n",
      "        counts, bins = np.histogram(data)\n",
      "        plt.hist(bins[:-1], bins, weights=counts)\n",
      "\n",
      "    (or you may alternatively use `~.bar()`).\n",
      "\n",
      "cumulative : bool or -1, default: False\n",
      "    If ``True``, then a histogram is computed where each bin gives the\n",
      "    counts in that bin plus all bins for smaller values. The last bin\n",
      "    gives the total number of datapoints.\n",
      "\n",
      "    If *density* is also ``True`` then the histogram is normalized such\n",
      "    that the last bin equals 1.\n",
      "\n",
      "    If *cumulative* is a number less than 0 (e.g., -1), the direction\n",
      "    of accumulation is reversed.  In this case, if *density* is also\n",
      "    ``True``, then the histogram is normalized such that the first bin\n",
      "    equals 1.\n",
      "\n",
      "bottom : array-like, scalar, or None, default: None\n",
      "    Location of the bottom of each bin, ie. bins are drawn from\n",
      "    ``bottom`` to ``bottom + hist(x, bins)`` If a scalar, the bottom\n",
      "    of each bin is shifted by the same amount. If an array, each bin\n",
      "    is shifted independently and the length of bottom must match the\n",
      "    number of bins. If None, defaults to 0.\n",
      "\n",
      "histtype : {'bar', 'barstacked', 'step', 'stepfilled'}, default: 'bar'\n",
      "    The type of histogram to draw.\n",
      "\n",
      "    - 'bar' is a traditional bar-type histogram.  If multiple data\n",
      "      are given the bars are arranged side by side.\n",
      "    - 'barstacked' is a bar-type histogram where multiple\n",
      "      data are stacked on top of each other.\n",
      "    - 'step' generates a lineplot that is by default unfilled.\n",
      "    - 'stepfilled' generates a lineplot that is by default filled.\n",
      "\n",
      "align : {'left', 'mid', 'right'}, default: 'mid'\n",
      "    The horizontal alignment of the histogram bars.\n",
      "\n",
      "    - 'left': bars are centered on the left bin edges.\n",
      "    - 'mid': bars are centered between the bin edges.\n",
      "    - 'right': bars are centered on the right bin edges.\n",
      "\n",
      "orientation : {'vertical', 'horizontal'}, default: 'vertical'\n",
      "    If 'horizontal', `~.Axes.barh` will be used for bar-type histograms\n",
      "    and the *bottom* kwarg will be the left edges.\n",
      "\n",
      "rwidth : float or None, default: None\n",
      "    The relative width of the bars as a fraction of the bin width.  If\n",
      "    ``None``, automatically compute the width.\n",
      "\n",
      "    Ignored if *histtype* is 'step' or 'stepfilled'.\n",
      "\n",
      "log : bool, default: False\n",
      "    If ``True``, the histogram axis will be set to a log scale.\n",
      "\n",
      "color : color or array-like of colors or None, default: None\n",
      "    Color or sequence of colors, one per dataset.  Default (``None``)\n",
      "    uses the standard line color sequence.\n",
      "\n",
      "label : str or None, default: None\n",
      "    String, or sequence of strings to match multiple datasets.  Bar\n",
      "    charts yield multiple patches per dataset, but only the first gets\n",
      "    the label, so that `~.Axes.legend` will work as expected.\n",
      "\n",
      "stacked : bool, default: False\n",
      "    If ``True``, multiple data are stacked on top of each other If\n",
      "    ``False`` multiple data are arranged side by side if histtype is\n",
      "    'bar' or on top of each other if histtype is 'step'\n",
      "\n",
      "Returns\n",
      "-------\n",
      "n : array or list of arrays\n",
      "    The values of the histogram bins. See *density* and *weights* for a\n",
      "    description of the possible semantics.  If input *x* is an array,\n",
      "    then this is an array of length *nbins*. If input is a sequence of\n",
      "    arrays ``[data1, data2, ...]``, then this is a list of arrays with\n",
      "    the values of the histograms for each of the arrays in the same\n",
      "    order.  The dtype of the array *n* (or of its element arrays) will\n",
      "    always be float even if no weighting or normalization is used.\n",
      "\n",
      "bins : array\n",
      "    The edges of the bins. Length nbins + 1 (nbins left edges and right\n",
      "    edge of last bin).  Always a single array even when multiple data\n",
      "    sets are passed in.\n",
      "\n",
      "patches : `.BarContainer` or list of a single `.Polygon` or list of such objects\n",
      "    Container of individual artists used to create the histogram\n",
      "    or list of such containers if there are multiple input datasets.\n",
      "\n",
      "Other Parameters\n",
      "----------------\n",
      "**kwargs\n",
      "    `~matplotlib.patches.Patch` properties\n",
      "\n",
      "See Also\n",
      "--------\n",
      "hist2d : 2D histograms\n",
      "\n",
      "Notes\n",
      "-----\n",
      "For large numbers of bins (>1000), 'step' and 'stepfilled' can be\n",
      "significantly faster than 'bar' and 'barstacked'.\n",
      "\n",
      ".. note::\n",
      "    In addition to the above described arguments, this function can take\n",
      "    a *data* keyword argument. If such a *data* argument is given,\n",
      "    the following arguments can also be string ``s``, which is\n",
      "    interpreted as ``data[s]`` (unless this raises an exception):\n",
      "    *x*, *weights*.\n",
      "\n",
      "    Objects passed as **data** must support item access (``data[s]``) and\n",
      "    membership test (``s in data``).\n",
      "\u001b[1;31mFile:\u001b[0m      c:\\users\\berenger\\anaconda3\\lib\\site-packages\\matplotlib\\pyplot.py\n",
      "\u001b[1;31mType:\u001b[0m      function\n"
     ]
    }
   ],
   "source": [
    "plt.hist?"
   ]
  },
  {
   "cell_type": "code",
   "execution_count": 29,
   "metadata": {
    "colab": {
     "base_uri": "https://localhost:8080/",
     "height": 403
    },
    "colab_type": "code",
    "id": "mRKUaJVZFoUU",
    "outputId": "adb79403-c002-419d-eaa7-811ed0c30a9c"
   },
   "outputs": [
    {
     "data": {
      "image/png": "[encoded data removed]",
      "text/plain": [
       "<Figure size 432x288 with 1 Axes>"
      ]
     },
     "metadata": {
      "needs_background": "light"
     },
     "output_type": "display_data"
    }
   ],
   "source": [
    "mu = dataset['HREC'].mean()  # mean of distribution\n",
    "sigma = dataset['HREC'].std()  # standard deviation of distribution\n",
    "\n",
    "plt.figure()\n",
    "\n",
    "# the histogram of the data\n",
    "n, bins, patches = plt.hist(dataset['HREC'], 20, density=True)\n",
    "\n",
    "# Formule pour la densité\n",
    "y = ((1 / (np.sqrt(2 * np.pi) * sigma)) *\n",
    "     np.exp(-0.5 * (1 / sigma * (bins - mu))**2))\n",
    "\n",
    "plt.plot(bins, y, '--')\n",
    "plt.xlabel('Smarts')\n",
    "plt.ylabel('Probability density')\n",
    "plt.title(r'Histogram : $\\mu={}$, $\\sigma={}$'.format(np.round(mu,2), np.round(sigma,2)))\n",
    "plt.show()"
   ]
  }
 ],
 "metadata": {
  "colab": {
   "collapsed_sections": [],
   "name": "Comprendre le chômage en France -  ANS.ipynb",
   "provenance": []
  },
  "kernelspec": {
   "display_name": "Python 3",
   "language": "python",
   "name": "python3"
  },
  "language_info": {
   "codemirror_mode": {
    "name": "ipython",
    "version": 3
   },
   "file_extension": ".py",
   "mimetype": "text/x-python",
   "name": "python",
   "nbconvert_exporter": "python",
   "pygments_lexer": "ipython3",
   "version": "3.8.12"
  }
 },
 "nbformat": 4,
 "nbformat_minor": 4
}
