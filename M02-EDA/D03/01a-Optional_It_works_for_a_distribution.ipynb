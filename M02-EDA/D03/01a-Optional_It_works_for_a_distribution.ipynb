{
 "cells": [
  {
   "cell_type": "markdown",
   "metadata": {
    "colab_type": "text",
    "id": "nn7xjEIrUmM0"
   },
   "source": [
    "# Mathematics Reviews - Linear Algebra & Probability\n",
    "\n",
    "## Probability distributions and Central Limit Theorem\n",
    "\n",
    "\n",
    "### Exercice : _It works for a distribution?_"
   ]
  },
  {
   "cell_type": "markdown",
   "metadata": {
    "colab_type": "text",
    "id": "jr7R-B_-UrYg"
   },
   "source": [
    "1. Import numpy, seaborn, pandas, and matplotlib.pyplot"
   ]
  },
  {
   "cell_type": "code",
   "execution_count": 14,
   "metadata": {
    "colab": {},
    "colab_type": "code",
    "id": "uWsOyJnuUbH_"
   },
   "outputs": [],
   "source": [
    "import seaborn as sns\n",
    "import matplotlib.pyplot as plt\n",
    "import pandas as pd\n",
    "import numpy as np\n",
    "import warnings\n",
    "warnings.simplefilter(action='ignore', category=FutureWarning)"
   ]
  },
  {
   "cell_type": "markdown",
   "metadata": {
    "colab_type": "text",
    "id": "-8UnwJ5SUyzy"
   },
   "source": [
    "2. Find a numpy function to draw random numbers that follow an exponential probability distribution"
   ]
  },
  {
   "cell_type": "markdown",
   "metadata": {
    "colab_type": "text",
    "id": "a6rjzM9eU9mW"
   },
   "source": [
    "3. Use this method to draw 5000 numbers"
   ]
  },
  {
   "cell_type": "code",
   "execution_count": 15,
   "metadata": {
    "colab": {
     "base_uri": "https://localhost:8080/",
     "height": 51
    },
    "colab_type": "code",
    "id": "IfEAMWGaU1--",
    "outputId": "8aa2dbdf-8895-42a1-c08a-6a0ce5b1974a"
   },
   "outputs": [
    {
     "data": {
      "text/plain": [
       "array([0.90362735, 0.18816967, 0.13977578, 5.79265908, 0.34698543,\n",
       "       0.71246385, 1.02770925, 2.56071139, 0.8378201 , 0.44255973])"
      ]
     },
     "execution_count": 15,
     "metadata": {},
     "output_type": "execute_result"
    }
   ],
   "source": [
    "data = np.random.exponential(size=5000)\n",
    "data[:10]"
   ]
  },
  {
   "cell_type": "markdown",
   "metadata": {
    "colab_type": "text",
    "id": "4LOjP0BZVD1i"
   },
   "source": [
    "4. Visualize the distribution of the 5000 random numbers"
   ]
  },
  {
   "cell_type": "code",
   "execution_count": 16,
   "metadata": {
    "colab": {
     "base_uri": "https://localhost:8080/",
     "height": 282
    },
    "colab_type": "code",
    "id": "nBNooG7RU-hx",
    "outputId": "211d131c-fe8a-494f-e5b1-9d1ab0f76959"
   },
   "outputs": [
    {
     "data": {
      "text/plain": [
       "<seaborn.axisgrid.FacetGrid at 0x1eaec7b90d0>"
      ]
     },
     "execution_count": 16,
     "metadata": {},
     "output_type": "execute_result"
    },
    {
     "data": {
      "image/png": "[encoded data removed]",
      "text/plain": [
       "<Figure size 360x360 with 1 Axes>"
      ]
     },
     "metadata": {
      "needs_background": "light"
     },
     "output_type": "display_data"
    }
   ],
   "source": [
    "sns.displot(data)"
   ]
  },
  {
   "cell_type": "markdown",
   "metadata": {
    "colab_type": "text",
    "id": "nNKTywl0VHjX"
   },
   "source": [
    "5. Find a numpy function that separates a numpy array into \n",
    "several numpy arrays"
   ]
  },
  {
   "cell_type": "code",
   "execution_count": 17,
   "metadata": {},
   "outputs": [
    {
     "name": "stdout",
     "output_type": "stream",
     "text": [
      "\u001b[1;31mSignature:\u001b[0m \u001b[0mnp\u001b[0m\u001b[1;33m.\u001b[0m\u001b[0marray_split\u001b[0m\u001b[1;33m(\u001b[0m\u001b[0mary\u001b[0m\u001b[1;33m,\u001b[0m \u001b[0mindices_or_sections\u001b[0m\u001b[1;33m,\u001b[0m \u001b[0maxis\u001b[0m\u001b[1;33m=\u001b[0m\u001b[1;36m0\u001b[0m\u001b[1;33m)\u001b[0m\u001b[1;33m\u001b[0m\u001b[1;33m\u001b[0m\u001b[0m\n",
      "\u001b[1;31mDocstring:\u001b[0m\n",
      "Split an array into multiple sub-arrays.\n",
      "\n",
      "Please refer to the ``split`` documentation.  The only difference\n",
      "between these functions is that ``array_split`` allows\n",
      "`indices_or_sections` to be an integer that does *not* equally\n",
      "divide the axis. For an array of length l that should be split\n",
      "into n sections, it returns l % n sub-arrays of size l//n + 1\n",
      "and the rest of size l//n.\n",
      "\n",
      "See Also\n",
      "--------\n",
      "split : Split array into multiple sub-arrays of equal size.\n",
      "\n",
      "Examples\n",
      "--------\n",
      ">>> x = np.arange(8.0)\n",
      ">>> np.array_split(x, 3)\n",
      "[array([0.,  1.,  2.]), array([3.,  4.,  5.]), array([6.,  7.])]\n",
      "\n",
      ">>> x = np.arange(9)\n",
      ">>> np.array_split(x, 4)\n",
      "[array([0, 1, 2]), array([3, 4]), array([5, 6]), array([7, 8])]\n",
      "\u001b[1;31mFile:\u001b[0m      c:\\users\\berenger\\anaconda3\\lib\\site-packages\\numpy\\lib\\shape_base.py\n",
      "\u001b[1;31mType:\u001b[0m      function\n"
     ]
    }
   ],
   "source": [
    "np.array_split?"
   ]
  },
  {
   "cell_type": "markdown",
   "metadata": {
    "colab_type": "text",
    "id": "bhqowDgxVLNz"
   },
   "source": [
    "6. Split your sample into 1000 samples (then, each sample contains 5 random numbers)"
   ]
  },
  {
   "cell_type": "code",
   "execution_count": 18,
   "metadata": {
    "colab": {
     "base_uri": "https://localhost:8080/",
     "height": 102
    },
    "colab_type": "code",
    "id": "78HqVaulVJdU",
    "outputId": "24d09502-3af6-42c2-c956-9496833d82c7"
   },
   "outputs": [
    {
     "data": {
      "text/plain": [
       "[array([0.90362735, 0.18816967, 0.13977578, 5.79265908, 0.34698543]),\n",
       " array([0.71246385, 1.02770925, 2.56071139, 0.8378201 , 0.44255973]),\n",
       " array([0.98179618, 1.5830214 , 0.56236587, 0.20933725, 1.92283545]),\n",
       " array([0.02761079, 0.42239919, 0.05157776, 0.63764345, 1.22726137]),\n",
       " array([0.12053767, 0.47425194, 0.53887678, 0.04104264, 1.10001192])]"
      ]
     },
     "execution_count": 18,
     "metadata": {},
     "output_type": "execute_result"
    }
   ],
   "source": [
    "data_split = np.array_split(data, 1000)\n",
    "data_split[0:5]"
   ]
  },
  {
   "cell_type": "markdown",
   "metadata": {
    "colab_type": "text",
    "id": "JR0O_zJdVOv4"
   },
   "source": [
    "7. Generate a list that contains the 1000 averages of your 1000 samples"
   ]
  },
  {
   "cell_type": "code",
   "execution_count": 19,
   "metadata": {
    "colab": {},
    "colab_type": "code",
    "id": "ULXefZ_nVNW-"
   },
   "outputs": [
    {
     "name": "stdout",
     "output_type": "stream",
     "text": [
      "[1.4742434606571424, 1.1162528647278973, 1.051871230034332, 0.47329851202771334, 0.4549441900860455]\n",
      "[1.47424346 1.11625286 1.05187123 0.47329851 0.45494419]\n"
     ]
    }
   ],
   "source": [
    "mean_split = [np.mean(a) for a in data_split]\n",
    "print(mean_split[0:5])\n",
    "mean_split = np.mean(data_split, axis=1)\n",
    "print(mean_split[0:5])"
   ]
  },
  {
   "cell_type": "markdown",
   "metadata": {
    "colab_type": "text",
    "id": "mwNRYgTAVSW9"
   },
   "source": [
    "8. Visualize the distribution of your sample of 1000 averages"
   ]
  },
  {
   "cell_type": "code",
   "execution_count": 20,
   "metadata": {
    "colab": {
     "base_uri": "https://localhost:8080/",
     "height": 282
    },
    "colab_type": "code",
    "id": "WTdr7_1WVQ8E",
    "outputId": "a7eb2b5d-3a33-4cac-dc79-0301168c6969"
   },
   "outputs": [
    {
     "data": {
      "text/plain": [
       "<AxesSubplot:ylabel='Density'>"
      ]
     },
     "execution_count": 20,
     "metadata": {},
     "output_type": "execute_result"
    },
    {
     "data": {
      "image/png": "[encoded data removed]",
      "text/plain": [
       "<Figure size 432x288 with 1 Axes>"
      ]
     },
     "metadata": {
      "needs_background": "light"
     },
     "output_type": "display_data"
    }
   ],
   "source": [
    "sns.distplot(mean_split)"
   ]
  },
  {
   "cell_type": "markdown",
   "metadata": {
    "colab_type": "text",
    "id": "ojandwl0VWjX"
   },
   "source": [
    "9. Now calculate the mean and standard deviation of this distribution using numpy's functions"
   ]
  },
  {
   "cell_type": "code",
   "execution_count": 21,
   "metadata": {
    "colab": {},
    "colab_type": "code",
    "id": "OhCJp90zVTss"
   },
   "outputs": [],
   "source": [
    "mu = np.mean(mean_split)\n",
    "std = np.std(mean_split)"
   ]
  },
  {
   "cell_type": "markdown",
   "metadata": {
    "colab_type": "text",
    "id": "8dQJvT7ZVbTt"
   },
   "source": [
    "10. Find a numpy function that allows to draw random numbers from a normal distribution"
   ]
  },
  {
   "cell_type": "code",
   "execution_count": 22,
   "metadata": {},
   "outputs": [
    {
     "name": "stdout",
     "output_type": "stream",
     "text": [
      "\u001b[1;31mDocstring:\u001b[0m\n",
      "normal(loc=0.0, scale=1.0, size=None)\n",
      "\n",
      "Draw random samples from a normal (Gaussian) distribution.\n",
      "\n",
      "The probability density function of the normal distribution, first\n",
      "derived by De Moivre and 200 years later by both Gauss and Laplace\n",
      "independently [2]_, is often called the bell curve because of\n",
      "its characteristic shape (see the example below).\n",
      "\n",
      "The normal distributions occurs often in nature.  For example, it\n",
      "describes the commonly occurring distribution of samples influenced\n",
      "by a large number of tiny, random disturbances, each with its own\n",
      "unique distribution [2]_.\n",
      "\n",
      ".. note::\n",
      "    New code should use the ``normal`` method of a ``default_rng()``\n",
      "    instance instead; please see the :ref:`random-quick-start`.\n",
      "\n",
      "Parameters\n",
      "----------\n",
      "loc : float or array_like of floats\n",
      "    Mean (\"centre\") of the distribution.\n",
      "scale : float or array_like of floats\n",
      "    Standard deviation (spread or \"width\") of the distribution. Must be\n",
      "    non-negative.\n",
      "size : int or tuple of ints, optional\n",
      "    Output shape.  If the given shape is, e.g., ``(m, n, k)``, then\n",
      "    ``m * n * k`` samples are drawn.  If size is ``None`` (default),\n",
      "    a single value is returned if ``loc`` and ``scale`` are both scalars.\n",
      "    Otherwise, ``np.broadcast(loc, scale).size`` samples are drawn.\n",
      "\n",
      "Returns\n",
      "-------\n",
      "out : ndarray or scalar\n",
      "    Drawn samples from the parameterized normal distribution.\n",
      "\n",
      "See Also\n",
      "--------\n",
      "scipy.stats.norm : probability density function, distribution or\n",
      "    cumulative density function, etc.\n",
      "Generator.normal: which should be used for new code.\n",
      "\n",
      "Notes\n",
      "-----\n",
      "The probability density for the Gaussian distribution is\n",
      "\n",
      ".. math:: p(x) = \\frac{1}{\\sqrt{ 2 \\pi \\sigma^2 }}\n",
      "                 e^{ - \\frac{ (x - \\mu)^2 } {2 \\sigma^2} },\n",
      "\n",
      "where :math:`\\mu` is the mean and :math:`\\sigma` the standard\n",
      "deviation. The square of the standard deviation, :math:`\\sigma^2`,\n",
      "is called the variance.\n",
      "\n",
      "The function has its peak at the mean, and its \"spread\" increases with\n",
      "the standard deviation (the function reaches 0.607 times its maximum at\n",
      ":math:`x + \\sigma` and :math:`x - \\sigma` [2]_).  This implies that\n",
      "normal is more likely to return samples lying close to the mean, rather\n",
      "than those far away.\n",
      "\n",
      "References\n",
      "----------\n",
      ".. [1] Wikipedia, \"Normal distribution\",\n",
      "       https://en.wikipedia.org/wiki/Normal_distribution\n",
      ".. [2] P. R. Peebles Jr., \"Central Limit Theorem\" in \"Probability,\n",
      "       Random Variables and Random Signal Principles\", 4th ed., 2001,\n",
      "       pp. 51, 51, 125.\n",
      "\n",
      "Examples\n",
      "--------\n",
      "Draw samples from the distribution:\n",
      "\n",
      ">>> mu, sigma = 0, 0.1 # mean and standard deviation\n",
      ">>> s = np.random.normal(mu, sigma, 1000)\n",
      "\n",
      "Verify the mean and the variance:\n",
      "\n",
      ">>> abs(mu - np.mean(s))\n",
      "0.0  # may vary\n",
      "\n",
      ">>> abs(sigma - np.std(s, ddof=1))\n",
      "0.1  # may vary\n",
      "\n",
      "Display the histogram of the samples, along with\n",
      "the probability density function:\n",
      "\n",
      ">>> import matplotlib.pyplot as plt\n",
      ">>> count, bins, ignored = plt.hist(s, 30, density=True)\n",
      ">>> plt.plot(bins, 1/(sigma * np.sqrt(2 * np.pi)) *\n",
      "...                np.exp( - (bins - mu)**2 / (2 * sigma**2) ),\n",
      "...          linewidth=2, color='r')\n",
      ">>> plt.show()\n",
      "\n",
      "Two-by-four array of samples from N(3, 6.25):\n",
      "\n",
      ">>> np.random.normal(3, 2.5, size=(2, 4))\n",
      "array([[-4.49401501,  4.00950034, -1.81814867,  7.29718677],   # random\n",
      "       [ 0.39924804,  4.68456316,  4.99394529,  4.84057254]])  # random\n",
      "\u001b[1;31mType:\u001b[0m      builtin_function_or_method\n"
     ]
    }
   ],
   "source": [
    "np.random.normal?"
   ]
  },
  {
   "cell_type": "markdown",
   "metadata": {
    "colab_type": "text",
    "id": "TUJt5XrAVdzU"
   },
   "source": [
    "11. Generate an array of 1000 simulations from a normal distribution with \n",
    "parameters correspond to the mean and standard deviation of the previous distribution"
   ]
  },
  {
   "cell_type": "code",
   "execution_count": 23,
   "metadata": {
    "colab": {
     "base_uri": "https://localhost:8080/",
     "height": 34
    },
    "colab_type": "code",
    "id": "jkMkL5quVZr7",
    "outputId": "59b26025-d375-4032-a3a7-d7adbd217224"
   },
   "outputs": [
    {
     "data": {
      "text/plain": [
       "array([1.23481054, 0.54914326, 1.16597584, 1.15670922, 0.90915989])"
      ]
     },
     "execution_count": 23,
     "metadata": {},
     "output_type": "execute_result"
    }
   ],
   "source": [
    "norm = np.random.normal(mu, std, 1000)\n",
    "norm[0:5]"
   ]
  },
  {
   "cell_type": "markdown",
   "metadata": {
    "colab_type": "text",
    "id": "GE7znt15VgN9"
   },
   "source": [
    "12. Visualize in the same graph the distribution of your sample \n",
    "of means as well as the distribution of your normal distribution simulations."
   ]
  },
  {
   "cell_type": "code",
   "execution_count": 32,
   "metadata": {
    "colab": {
     "base_uri": "https://localhost:8080/",
     "height": 265
    },
    "colab_type": "code",
    "id": "-0zcoigYVe20",
    "outputId": "b761d437-2e42-49f4-a21f-dedae598b9a6"
   },
   "outputs": [
    {
     "data": {
      "image/png": "[encoded data removed]",
      "text/plain": [
       "<Figure size 432x288 with 1 Axes>"
      ]
     },
     "metadata": {
      "needs_background": "light"
     },
     "output_type": "display_data"
    }
   ],
   "source": [
    "sns.distplot(mean_split)\n",
    "sns.distplot(norm,hist=False)\n",
    "plt.show()"
   ]
  },
  {
   "cell_type": "markdown",
   "metadata": {
    "colab_type": "text",
    "id": "Um1AdbTrVoxZ"
   },
   "source": [
    "13. What do you see?"
   ]
  },
  {
   "cell_type": "markdown",
   "metadata": {},
   "source": [
    "--> Both laws are quite differents"
   ]
  },
  {
   "cell_type": "markdown",
   "metadata": {
    "colab_type": "text",
    "id": "uprXnYAkVsq5"
   },
   "source": [
    "14. Gradually increase the number of simulations from the law \n",
    "exponential in order to obtain larger samples and repeat the \n",
    "past operations"
   ]
  },
  {
   "cell_type": "code",
   "execution_count": 25,
   "metadata": {
    "colab": {
     "base_uri": "https://localhost:8080/",
     "height": 521
    },
    "colab_type": "code",
    "id": "YyZqoAjvVh1A",
    "outputId": "60773904-e321-4f81-f442-669960c75d28"
   },
   "outputs": [
    {
     "data": {
      "image/png": "[encoded data removed]",
      "text/plain": [
       "<Figure size 432x288 with 1 Axes>"
      ]
     },
     "metadata": {
      "needs_background": "light"
     },
     "output_type": "display_data"
    },
    {
     "data": {
      "image/png": "[encoded data removed]",
      "text/plain": [
       "<Figure size 432x288 with 1 Axes>"
      ]
     },
     "metadata": {
      "needs_background": "light"
     },
     "output_type": "display_data"
    }
   ],
   "source": [
    "data = np.random.exponential(size = 10000)\n",
    "data_split = np.array_split(data,1000)\n",
    "mean_split = [np.mean(a) for a in data_split]\n",
    "mu = np.mean(mean_split)\n",
    "std = np.std(mean_split)\n",
    "norm = np.random.normal(mu,std,1000)\n",
    "\n",
    "sns.distplot(mean_split)\n",
    "sns.distplot(norm,hist=False)\n",
    "plt.show()\n",
    "\n",
    "data = np.random.exponential(size = 1000000)\n",
    "data_split = np.array_split(data,1000)\n",
    "mean_split = [np.mean(a) for a in data_split]\n",
    "mu = np.mean(mean_split)\n",
    "std = np.std(mean_split)\n",
    "norm = np.random.normal(mu,std,1000)\n",
    "\n",
    "sns.distplot(mean_split)\n",
    "sns.distplot(norm,hist=False)\n",
    "plt.show()\n"
   ]
  },
  {
   "cell_type": "markdown",
   "metadata": {
    "colab_type": "text",
    "id": "GuK8amXfVxSz"
   },
   "source": [
    "15. Do you see any changes in the distribution of means?"
   ]
  },
  {
   "cell_type": "markdown",
   "metadata": {},
   "source": [
    "--->  When we increase the size of the samples on which we compute the averages, the distribution of the averages becomes much more similar to a normal distribution"
   ]
  },
  {
   "cell_type": "markdown",
   "metadata": {
    "colab_type": "text",
    "id": "ixNVLfjmV08Z"
   },
   "source": [
    "16. Does it remind you of a theorem seen in class?"
   ]
  },
  {
   "cell_type": "markdown",
   "metadata": {},
   "source": [
    "---> It's the central limit theorem"
   ]
  }
 ],
 "metadata": {
  "colab": {
   "collapsed_sections": [],
   "name": "Ca marche pour une loi ? - Exercice SOLUTION.ipynb",
   "provenance": []
  },
  "kernelspec": {
   "display_name": "Python 3",
   "language": "python",
   "name": "python3"
  },
  "language_info": {
   "codemirror_mode": {
    "name": "ipython",
    "version": 3
   },
   "file_extension": ".py",
   "mimetype": "text/x-python",
   "name": "python",
   "nbconvert_exporter": "python",
   "pygments_lexer": "ipython3",
   "version": "3.8.12"
  }
 },
 "nbformat": 4,
 "nbformat_minor": 4
}
